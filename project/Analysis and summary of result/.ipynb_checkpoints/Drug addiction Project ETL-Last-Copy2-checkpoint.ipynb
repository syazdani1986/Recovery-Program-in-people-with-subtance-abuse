{
 "cells": [
  {
   "cell_type": "code",
   "execution_count": 123,
   "metadata": {},
   "outputs": [],
   "source": [
    "import pandas as pd\n",
    "import numpy as np\n",
    "import os"
   ]
  },
  {
   "cell_type": "code",
   "execution_count": 124,
   "metadata": {},
   "outputs": [],
   "source": [
    "os.chdir(\"C:\\\\Users\\shafagh\\OneDrive - Falling Colors Technology\\onboarding\\Falling colors project\\data and instruction\")\n"
   ]
  },
  {
   "cell_type": "code",
   "execution_count": 125,
   "metadata": {},
   "outputs": [
    {
     "data": {
      "text/plain": [
       "'C:\\\\Users\\\\shafagh\\\\OneDrive - Falling Colors Technology\\\\onboarding\\\\Falling colors project\\\\data and instruction'"
      ]
     },
     "execution_count": 125,
     "metadata": {},
     "output_type": "execute_result"
    }
   ],
   "source": [
    "os.getcwd()"
   ]
  },
  {
   "cell_type": "code",
   "execution_count": 126,
   "metadata": {},
   "outputs": [],
   "source": [
    "df_ClientData = pd.read_excel (r'C:\\Users\\shafagh\\OneDrive - Falling Colors Technology\\onboarding\\Falling colors project\\data and instruction\\Practical_ClientData.xlsx')\n",
    "df_ServiceData = pd.read_excel (r'C:\\Users\\shafagh\\OneDrive - Falling Colors Technology\\onboarding\\Falling colors project\\data and instruction\\Practical_ServiceData.xlsx')\n",
    "df_SurveyData = pd.read_excel (r'C:\\Users\\shafagh\\OneDrive - Falling Colors Technology\\onboarding\\Falling colors project\\data and instruction\\Practical_SurveyData.xlsx')"
   ]
  },
  {
   "cell_type": "code",
   "execution_count": null,
   "metadata": {},
   "outputs": [],
   "source": []
  },
  {
   "cell_type": "code",
   "execution_count": 127,
   "metadata": {},
   "outputs": [
    {
     "name": "stdout",
     "output_type": "stream",
     "text": [
      "<class 'pandas.core.frame.DataFrame'>\n",
      "RangeIndex: 31647 entries, 0 to 31646\n",
      "Data columns (total 21 columns):\n",
      " #   Column                         Non-Null Count  Dtype         \n",
      "---  ------                         --------------  -----         \n",
      " 0   Unnamed: 0                     31647 non-null  int64         \n",
      " 1   ClientId                       31647 non-null  object        \n",
      " 2   SurveyDate                     31647 non-null  datetime64[ns]\n",
      " 3   SurveyNumber                   31647 non-null  int64         \n",
      " 4   InterviewIntake                31647 non-null  object        \n",
      " 5   DOB                            31647 non-null  datetime64[ns]\n",
      " 6   Gender                         31644 non-null  object        \n",
      " 7   Ethnicity                      31499 non-null  object        \n",
      " 8   Ethnorace                      22445 non-null  object        \n",
      " 9   Veteran                        10031 non-null  object        \n",
      " 10  C1LivingSituationId            31647 non-null  object        \n",
      " 11  D2EducationLevelId             31647 non-null  object        \n",
      " 12  D3EmploymentSituationId        31647 non-null  object        \n",
      " 13  B1aAlcohol                     31647 non-null  object        \n",
      " 14  B1cIllegalDrugs                31647 non-null  object        \n",
      " 15  C2AddictionStressProblemId     31647 non-null  object        \n",
      " 16  C4AddictionEmotionalProblemId  31647 non-null  object        \n",
      " 17  E1TimesArrested                31647 non-null  object        \n",
      " 18  E4CommitedCrime                31647 non-null  object        \n",
      " 19  F5aDepression                  31647 non-null  object        \n",
      " 20  F5bAnxiety                     31647 non-null  object        \n",
      "dtypes: datetime64[ns](2), int64(2), object(17)\n",
      "memory usage: 5.1+ MB\n"
     ]
    }
   ],
   "source": [
    "df_SurveyData.info()"
   ]
  },
  {
   "cell_type": "markdown",
   "metadata": {},
   "source": [
    "# Checking for Missing Values"
   ]
  },
  {
   "cell_type": "code",
   "execution_count": 128,
   "metadata": {
    "scrolled": true
   },
   "outputs": [
    {
     "data": {
      "text/plain": [
       "True"
      ]
     },
     "execution_count": 128,
     "metadata": {},
     "output_type": "execute_result"
    }
   ],
   "source": [
    "df_ClientData.isnull().values.any()"
   ]
  },
  {
   "cell_type": "code",
   "execution_count": 129,
   "metadata": {},
   "outputs": [
    {
     "data": {
      "text/plain": [
       "Unnamed: 0       0\n",
       "ClientId         0\n",
       "City          6888\n",
       "State         6879\n",
       "Zip           6882\n",
       "dtype: int64"
      ]
     },
     "execution_count": 129,
     "metadata": {},
     "output_type": "execute_result"
    }
   ],
   "source": [
    "df_ClientData.isnull().sum()"
   ]
  },
  {
   "cell_type": "code",
   "execution_count": 130,
   "metadata": {},
   "outputs": [
    {
     "data": {
      "text/plain": [
       "False"
      ]
     },
     "execution_count": 130,
     "metadata": {},
     "output_type": "execute_result"
    }
   ],
   "source": [
    "df_ServiceData.isnull().values.any()"
   ]
  },
  {
   "cell_type": "code",
   "execution_count": 131,
   "metadata": {},
   "outputs": [
    {
     "data": {
      "text/plain": [
       "True"
      ]
     },
     "execution_count": 131,
     "metadata": {},
     "output_type": "execute_result"
    }
   ],
   "source": [
    "df_SurveyData.isnull().values.any()"
   ]
  },
  {
   "cell_type": "markdown",
   "metadata": {},
   "source": [
    "### Checking Missing values in target variables"
   ]
  },
  {
   "cell_type": "code",
   "execution_count": 132,
   "metadata": {},
   "outputs": [
    {
     "name": "stdout",
     "output_type": "stream",
     "text": [
      "12         12032\n",
      "13          3913\n",
      "14          3678\n",
      "11          3138\n",
      "10          1950\n",
      "16          1615\n",
      "9           1499\n",
      "15          1045\n",
      "8            792\n",
      "18           542\n",
      "6            393\n",
      "17           241\n",
      "7            229\n",
      "-7           159\n",
      "Missing      145\n",
      "-8           103\n",
      "5             59\n",
      "0             39\n",
      "4             34\n",
      "3             23\n",
      "2             12\n",
      "1              6\n",
      "Name: D2EducationLevelId, dtype: int64\n",
      "0          23818\n",
      "1           1605\n",
      "2           1211\n",
      "3            641\n",
      "5            604\n",
      "4            501\n",
      "30           479\n",
      "10           428\n",
      "15           404\n",
      "20           364\n",
      "7            233\n",
      "8            209\n",
      "6            186\n",
      "25           151\n",
      "12           114\n",
      "Missing      103\n",
      "14            82\n",
      "-7            78\n",
      "21            65\n",
      "-8            49\n",
      "28            46\n",
      "16            35\n",
      "9             27\n",
      "18            26\n",
      "23            26\n",
      "27            24\n",
      "13            20\n",
      "22            20\n",
      "24            20\n",
      "11            19\n",
      "19            16\n",
      "26            16\n",
      "17            14\n",
      "29            13\n",
      "Name: B1aAlcohol, dtype: int64\n",
      "0          29586\n",
      "1           1738\n",
      "Missing      145\n",
      "-7            68\n",
      "2             57\n",
      "-8            24\n",
      "3             17\n",
      "30             4\n",
      "9              2\n",
      "34             1\n",
      "14             1\n",
      "10             1\n",
      "7              1\n",
      "6              1\n",
      "4              1\n",
      "Name: E1TimesArrested, dtype: int64\n",
      "3          9545\n",
      "1          8089\n",
      "2          5459\n",
      "4          3761\n",
      "7          3143\n",
      "0           947\n",
      "6           300\n",
      "Missing     145\n",
      "5           134\n",
      "-7           75\n",
      "-8           49\n",
      "Name: D3EmploymentSituationId, dtype: int64\n",
      "0          26483\n",
      "1           1187\n",
      "30           846\n",
      "2            418\n",
      "15           315\n",
      "3            262\n",
      "5            262\n",
      "10           259\n",
      "20           233\n",
      "4            183\n",
      "Missing      145\n",
      "7            129\n",
      "25           112\n",
      "14            92\n",
      "-7            91\n",
      "6             86\n",
      "8             84\n",
      "-8            56\n",
      "21            52\n",
      "12            36\n",
      "16            36\n",
      "28            33\n",
      "23            27\n",
      "22            26\n",
      "29            19\n",
      "27            19\n",
      "18            18\n",
      "9             17\n",
      "26            16\n",
      "17            14\n",
      "24            12\n",
      "11            10\n",
      "19             9\n",
      "31             9\n",
      "40             9\n",
      "13             8\n",
      "60             7\n",
      "35             5\n",
      "32             4\n",
      "50             2\n",
      "45             2\n",
      "42             1\n",
      "400            1\n",
      "135            1\n",
      "130            1\n",
      "120            1\n",
      "90             1\n",
      "70             1\n",
      "85             1\n",
      "37             1\n",
      "34             1\n",
      "63             1\n",
      "61             1\n",
      "48             1\n",
      "46             1\n",
      "Name: E4CommitedCrime, dtype: int64\n",
      "0          20042\n",
      "30          2713\n",
      "15          1372\n",
      "10          1123\n",
      "5            936\n",
      "2            915\n",
      "20           729\n",
      "3            587\n",
      "1            496\n",
      "7            486\n",
      "4            467\n",
      "25           306\n",
      "14           256\n",
      "-8           221\n",
      "Missing      145\n",
      "8            134\n",
      "6            133\n",
      "12           110\n",
      "-7            96\n",
      "21            70\n",
      "28            54\n",
      "18            34\n",
      "9             28\n",
      "29            26\n",
      "16            23\n",
      "17            22\n",
      "22            21\n",
      "13            20\n",
      "23            18\n",
      "24            17\n",
      "11            16\n",
      "27            16\n",
      "26            11\n",
      "19             4\n",
      "Name: F5aDepression, dtype: int64\n",
      "0          17935\n",
      "30          4459\n",
      "15          1500\n",
      "10          1201\n",
      "5            953\n",
      "2            920\n",
      "20           840\n",
      "3            535\n",
      "1            510\n",
      "4            506\n",
      "7            487\n",
      "25           320\n",
      "-8           257\n",
      "14           224\n",
      "Missing      145\n",
      "8            135\n",
      "6            134\n",
      "12           121\n",
      "-7            96\n",
      "21            69\n",
      "28            44\n",
      "9             34\n",
      "16            31\n",
      "18            28\n",
      "29            28\n",
      "13            21\n",
      "17            20\n",
      "27            20\n",
      "23            17\n",
      "22            15\n",
      "11            14\n",
      "24            12\n",
      "26            11\n",
      "19             5\n",
      "Name: F5bAnxiety, dtype: int64\n",
      "5          21630\n",
      "1           4158\n",
      "2           2220\n",
      "4           1921\n",
      "3           1439\n",
      "Missing      129\n",
      "-7            83\n",
      "-8            67\n",
      "Name: C2AddictionStressProblemId, dtype: int64\n",
      "41         17109\n",
      "42          9438\n",
      "3           1353\n",
      "1           1141\n",
      "45           851\n",
      "43           533\n",
      "2            494\n",
      "44           436\n",
      "Missing      150\n",
      "-7            62\n",
      "46            53\n",
      "-8            27\n",
      "Name: C1LivingSituationId, dtype: int64\n",
      "0          26472\n",
      "30           943\n",
      "1            743\n",
      "2            448\n",
      "15           375\n",
      "5            307\n",
      "3            305\n",
      "10           286\n",
      "20           259\n",
      "4            189\n",
      "7            157\n",
      "-7           153\n",
      "25           132\n",
      "-8           131\n",
      "Missing      103\n",
      "14            97\n",
      "8             85\n",
      "6             82\n",
      "21            59\n",
      "12            48\n",
      "28            44\n",
      "16            34\n",
      "29            27\n",
      "23            26\n",
      "27            21\n",
      "22            19\n",
      "18            17\n",
      "9             16\n",
      "26            14\n",
      "24            14\n",
      "17            13\n",
      "19            10\n",
      "11             9\n",
      "13             9\n",
      "Name: B1cIllegalDrugs, dtype: int64\n"
     ]
    }
   ],
   "source": [
    "target_columns = ['D2EducationLevelId','B1aAlcohol','E1TimesArrested','D3EmploymentSituationId','E4CommitedCrime','F5aDepression','F5bAnxiety','C2AddictionStressProblemId', 'C1LivingSituationId','B1cIllegalDrugs']\n",
    "df_SurveyData[target_columns] = df_SurveyData[target_columns].fillna('missing')\n",
    "for target in target_columns:\n",
    "    print(df_SurveyData[target].value_counts())"
   ]
  },
  {
   "cell_type": "markdown",
   "metadata": {},
   "source": [
    "> The number of missing/NA columns are very small. At this point we remove them. But, in a rigorous study we might need to impute them since we might be having response bias."
   ]
  },
  {
   "cell_type": "code",
   "execution_count": 133,
   "metadata": {},
   "outputs": [],
   "source": [
    "# replacing non-applicables in Target variables\n",
    "not_applicables = [-1,-7, -8, -9, 'Missing']\n",
    "df_SurveyData.where((~df_SurveyData['E1TimesArrested'].isin(not_applicables)) &\n",
    "                    (~df_SurveyData['D2EducationLevelId'].isin(not_applicables)) &\n",
    "                    (~df_SurveyData['E4CommitedCrime'].isin(not_applicables))&\n",
    "                    (~df_SurveyData['F5aDepression'].isin(not_applicables))&\n",
    "                    (~df_SurveyData['F5bAnxiety'].isin(not_applicables))&\n",
    "                    (~df_SurveyData['C2AddictionStressProblemId'].isin(not_applicables))&\n",
    "                    (~df_SurveyData['C1LivingSituationId'].isin(not_applicables)) &\n",
    "                    (~df_SurveyData['B1cIllegalDrugs'].isin(not_applicables))&\n",
    "                   (~df_SurveyData['B1aAlcohol'].isin(not_applicables)) &\n",
    "                   (~df_SurveyData['D3EmploymentSituationId'].isin(not_applicables)),\n",
    "                   inplace=True)"
   ]
  },
  {
   "cell_type": "code",
   "execution_count": 134,
   "metadata": {},
   "outputs": [
    {
     "name": "stdout",
     "output_type": "stream",
     "text": [
      "12    11735\n",
      "13     3813\n",
      "14     3550\n",
      "11     3073\n",
      "10     1911\n",
      "16     1553\n",
      "9      1464\n",
      "15     1013\n",
      "8       774\n",
      "18      502\n",
      "6       388\n",
      "17      229\n",
      "7       223\n",
      "5        57\n",
      "4        31\n",
      "0        30\n",
      "3        23\n",
      "2        12\n",
      "1         6\n",
      "Name: D2EducationLevelId, dtype: int64\n",
      "0     23151\n",
      "1      1532\n",
      "2      1151\n",
      "3       610\n",
      "5       583\n",
      "4       477\n",
      "30      442\n",
      "10      409\n",
      "15      384\n",
      "20      338\n",
      "7       223\n",
      "8       199\n",
      "6       182\n",
      "25      149\n",
      "12      108\n",
      "14       77\n",
      "21       63\n",
      "28       44\n",
      "16       33\n",
      "23       26\n",
      "9        25\n",
      "18       25\n",
      "27       23\n",
      "24       20\n",
      "22       19\n",
      "13       19\n",
      "11       18\n",
      "26       16\n",
      "19       16\n",
      "17       14\n",
      "29       11\n",
      "Name: B1aAlcohol, dtype: int64\n",
      "0     28654\n",
      "1      1653\n",
      "2        52\n",
      "3        17\n",
      "30        4\n",
      "9         2\n",
      "34        1\n",
      "14        1\n",
      "10        1\n",
      "7         1\n",
      "6         1\n",
      "Name: E1TimesArrested, dtype: int64\n",
      "3    9235\n",
      "1    7911\n",
      "2    5297\n",
      "4    3590\n",
      "7    3025\n",
      "0     918\n",
      "6     283\n",
      "5     128\n",
      "Name: D3EmploymentSituationId, dtype: int64\n",
      "0      25719\n",
      "1       1138\n",
      "30       799\n",
      "2        401\n",
      "15       309\n",
      "10       255\n",
      "5        251\n",
      "3        247\n",
      "20       225\n",
      "4        175\n",
      "7        126\n",
      "25       109\n",
      "14        90\n",
      "6         82\n",
      "8         81\n",
      "21        49\n",
      "28        32\n",
      "12        32\n",
      "16        31\n",
      "22        25\n",
      "23        25\n",
      "29        18\n",
      "27        17\n",
      "9         17\n",
      "18        17\n",
      "26        15\n",
      "17        13\n",
      "24        12\n",
      "19         9\n",
      "31         9\n",
      "11         9\n",
      "40         9\n",
      "13         8\n",
      "60         7\n",
      "35         5\n",
      "32         3\n",
      "45         2\n",
      "50         2\n",
      "120        1\n",
      "90         1\n",
      "63         1\n",
      "130        1\n",
      "70         1\n",
      "85         1\n",
      "46         1\n",
      "61         1\n",
      "135        1\n",
      "48         1\n",
      "34         1\n",
      "37         1\n",
      "42         1\n",
      "400        1\n",
      "Name: E4CommitedCrime, dtype: int64\n",
      "0     19610\n",
      "30     2615\n",
      "15     1323\n",
      "10     1094\n",
      "5       912\n",
      "2       887\n",
      "20      713\n",
      "3       570\n",
      "1       482\n",
      "7       471\n",
      "4       449\n",
      "25      291\n",
      "14      241\n",
      "8       130\n",
      "6       128\n",
      "12      104\n",
      "21       68\n",
      "28       52\n",
      "18       32\n",
      "9        26\n",
      "29       26\n",
      "16       22\n",
      "17       22\n",
      "22       21\n",
      "13       20\n",
      "23       17\n",
      "27       16\n",
      "24       16\n",
      "11       15\n",
      "26       11\n",
      "19        3\n",
      "Name: F5aDepression, dtype: int64\n",
      "0     17623\n",
      "30     4306\n",
      "15     1457\n",
      "10     1162\n",
      "5       916\n",
      "2       889\n",
      "20      823\n",
      "3       519\n",
      "1       488\n",
      "4       487\n",
      "7       467\n",
      "25      309\n",
      "14      213\n",
      "8       129\n",
      "6       129\n",
      "12      118\n",
      "21       67\n",
      "28       44\n",
      "9        31\n",
      "16       30\n",
      "18       26\n",
      "29       25\n",
      "13       21\n",
      "27       18\n",
      "17       18\n",
      "23       16\n",
      "22       15\n",
      "11       14\n",
      "24       11\n",
      "26       11\n",
      "19        5\n",
      "Name: F5bAnxiety, dtype: int64\n",
      "5    21118\n",
      "1     3946\n",
      "2     2118\n",
      "4     1835\n",
      "3     1370\n",
      "Name: C2AddictionStressProblemId, dtype: int64\n",
      "41    16513\n",
      "42     9147\n",
      "3      1326\n",
      "1      1124\n",
      "45      829\n",
      "43      524\n",
      "2       458\n",
      "44      413\n",
      "46       53\n",
      "Name: C1LivingSituationId, dtype: int64\n",
      "0     25760\n",
      "30      907\n",
      "1       713\n",
      "2       437\n",
      "15      370\n",
      "5       294\n",
      "3       289\n",
      "10      281\n",
      "20      251\n",
      "4       186\n",
      "7       153\n",
      "25      129\n",
      "14       96\n",
      "8        83\n",
      "6        78\n",
      "21       56\n",
      "12       44\n",
      "28       42\n",
      "16       30\n",
      "29       26\n",
      "23       24\n",
      "27       19\n",
      "22       19\n",
      "18       17\n",
      "9        16\n",
      "26       14\n",
      "24       13\n",
      "17       12\n",
      "19       10\n",
      "13        9\n",
      "11        9\n",
      "Name: B1cIllegalDrugs, dtype: int64\n"
     ]
    }
   ],
   "source": [
    "target_columns = ['D2EducationLevelId','B1aAlcohol','E1TimesArrested','D3EmploymentSituationId','E4CommitedCrime','F5aDepression','F5bAnxiety','C2AddictionStressProblemId', 'C1LivingSituationId','B1cIllegalDrugs']\n",
    "for target in target_columns:\n",
    "    print(df_SurveyData[target].value_counts())"
   ]
  },
  {
   "cell_type": "code",
   "execution_count": 135,
   "metadata": {},
   "outputs": [
    {
     "data": {
      "text/plain": [
       "0     28654\n",
       "1      1653\n",
       "2        52\n",
       "3        17\n",
       "30        4\n",
       "9         2\n",
       "34        1\n",
       "14        1\n",
       "10        1\n",
       "7         1\n",
       "6         1\n",
       "Name: E1TimesArrested, dtype: int64"
      ]
     },
     "execution_count": 135,
     "metadata": {},
     "output_type": "execute_result"
    }
   ],
   "source": [
    "df_SurveyData['E1TimesArrested'].value_counts()"
   ]
  },
  {
   "cell_type": "markdown",
   "metadata": {},
   "source": [
    "### Checking missing values in independant variables"
   ]
  },
  {
   "cell_type": "code",
   "execution_count": 136,
   "metadata": {
    "scrolled": true
   },
   "outputs": [
    {
     "data": {
      "text/plain": [
       "Unnamed: 0                        1260\n",
       "ClientId                          1260\n",
       "SurveyDate                        1260\n",
       "SurveyNumber                      1260\n",
       "InterviewIntake                   1260\n",
       "DOB                               1260\n",
       "Gender                            1261\n",
       "Ethnicity                         1397\n",
       "Ethnorace                        10091\n",
       "Veteran                          21852\n",
       "C1LivingSituationId               1260\n",
       "D2EducationLevelId                1260\n",
       "D3EmploymentSituationId           1260\n",
       "B1aAlcohol                        1260\n",
       "B1cIllegalDrugs                   1260\n",
       "C2AddictionStressProblemId        1260\n",
       "C4AddictionEmotionalProblemId     1260\n",
       "E1TimesArrested                   1260\n",
       "E4CommitedCrime                   1260\n",
       "F5aDepression                     1260\n",
       "F5bAnxiety                        1260\n",
       "dtype: int64"
      ]
     },
     "execution_count": 136,
     "metadata": {},
     "output_type": "execute_result"
    }
   ],
   "source": [
    "df_SurveyData.isnull().sum()"
   ]
  },
  {
   "cell_type": "code",
   "execution_count": 137,
   "metadata": {
    "scrolled": true
   },
   "outputs": [],
   "source": [
    "eth = df_SurveyData[['Veteran','B1cIllegalDrugs']].copy()\n",
    "eth['Veteran_missing'] = eth['Veteran'].isnull()\n",
    "eth['B1cIllegalDrugs'] = eth['B1cIllegalDrugs'].astype(float)\n"
   ]
  },
  {
   "cell_type": "code",
   "execution_count": 138,
   "metadata": {},
   "outputs": [
    {
     "data": {
      "text/plain": [
       "0         True\n",
       "1         True\n",
       "2         True\n",
       "3         True\n",
       "4         True\n",
       "         ...  \n",
       "31642    False\n",
       "31643    False\n",
       "31644    False\n",
       "31645    False\n",
       "31646    False\n",
       "Name: Veteran_missing, Length: 31647, dtype: bool"
      ]
     },
     "execution_count": 138,
     "metadata": {},
     "output_type": "execute_result"
    }
   ],
   "source": [
    "eth['Veteran_missing'] "
   ]
  },
  {
   "cell_type": "code",
   "execution_count": 139,
   "metadata": {},
   "outputs": [
    {
     "data": {
      "text/html": [
       "<div>\n",
       "<style scoped>\n",
       "    .dataframe tbody tr th:only-of-type {\n",
       "        vertical-align: middle;\n",
       "    }\n",
       "\n",
       "    .dataframe tbody tr th {\n",
       "        vertical-align: top;\n",
       "    }\n",
       "\n",
       "    .dataframe thead th {\n",
       "        text-align: right;\n",
       "    }\n",
       "</style>\n",
       "<table border=\"1\" class=\"dataframe\">\n",
       "  <thead>\n",
       "    <tr style=\"text-align: right;\">\n",
       "      <th></th>\n",
       "      <th>mean</th>\n",
       "      <th>count</th>\n",
       "      <th>sem</th>\n",
       "    </tr>\n",
       "    <tr>\n",
       "      <th>Veteran_missing</th>\n",
       "      <th></th>\n",
       "      <th></th>\n",
       "      <th></th>\n",
       "    </tr>\n",
       "  </thead>\n",
       "  <tbody>\n",
       "    <tr>\n",
       "      <th>False</th>\n",
       "      <td>1.988668</td>\n",
       "      <td>9795</td>\n",
       "      <td>0.064463</td>\n",
       "    </tr>\n",
       "    <tr>\n",
       "      <th>True</th>\n",
       "      <td>1.936869</td>\n",
       "      <td>20592</td>\n",
       "      <td>0.043614</td>\n",
       "    </tr>\n",
       "  </tbody>\n",
       "</table>\n",
       "</div>"
      ],
      "text/plain": [
       "                     mean  count       sem\n",
       "Veteran_missing                           \n",
       "False            1.988668   9795  0.064463\n",
       "True             1.936869  20592  0.043614"
      ]
     },
     "execution_count": 139,
     "metadata": {},
     "output_type": "execute_result"
    }
   ],
   "source": [
    "eth.groupby('Veteran_missing').B1cIllegalDrugs.agg(['mean','count','sem'])"
   ]
  },
  {
   "cell_type": "markdown",
   "metadata": {},
   "source": [
    "It seems missing values on veterans have some different charactereistics at least on one target variable of interest (though ttest might results in p>0.05 as the standard error is too big). We will keep it as an 'unknown' catergoy as it might help with our model later on and there is no explicit reason to drop these missing values as they are around 60% of total number of rows."
   ]
  },
  {
   "cell_type": "code",
   "execution_count": 140,
   "metadata": {},
   "outputs": [],
   "source": [
    "df_SurveyData['Veteran']= df_SurveyData['Veteran'].fillna('unknwon')"
   ]
  },
  {
   "cell_type": "code",
   "execution_count": 141,
   "metadata": {},
   "outputs": [
    {
     "data": {
      "text/html": [
       "<div>\n",
       "<style scoped>\n",
       "    .dataframe tbody tr th:only-of-type {\n",
       "        vertical-align: middle;\n",
       "    }\n",
       "\n",
       "    .dataframe tbody tr th {\n",
       "        vertical-align: top;\n",
       "    }\n",
       "\n",
       "    .dataframe thead th {\n",
       "        text-align: right;\n",
       "    }\n",
       "</style>\n",
       "<table border=\"1\" class=\"dataframe\">\n",
       "  <thead>\n",
       "    <tr style=\"text-align: right;\">\n",
       "      <th></th>\n",
       "      <th>mean</th>\n",
       "      <th>count</th>\n",
       "      <th>sem</th>\n",
       "    </tr>\n",
       "    <tr>\n",
       "      <th>Ethnorace_missing</th>\n",
       "      <th></th>\n",
       "      <th></th>\n",
       "      <th></th>\n",
       "    </tr>\n",
       "  </thead>\n",
       "  <tbody>\n",
       "    <tr>\n",
       "      <th>False</th>\n",
       "      <td>1.915662</td>\n",
       "      <td>21556</td>\n",
       "      <td>0.042399</td>\n",
       "    </tr>\n",
       "    <tr>\n",
       "      <th>True</th>\n",
       "      <td>2.046088</td>\n",
       "      <td>8831</td>\n",
       "      <td>0.068869</td>\n",
       "    </tr>\n",
       "  </tbody>\n",
       "</table>\n",
       "</div>"
      ],
      "text/plain": [
       "                       mean  count       sem\n",
       "Ethnorace_missing                           \n",
       "False              1.915662  21556  0.042399\n",
       "True               2.046088   8831  0.068869"
      ]
     },
     "execution_count": 141,
     "metadata": {},
     "output_type": "execute_result"
    }
   ],
   "source": [
    "eth = df_SurveyData[['Ethnorace','B1cIllegalDrugs']].copy()\n",
    "eth['Ethnorace_missing'] = eth['Ethnorace'].isnull()\n",
    "eth['B1cIllegalDrugs'] = eth['B1cIllegalDrugs'].astype(float)\n",
    "eth.groupby('Ethnorace_missing').B1cIllegalDrugs.agg(['mean','count','sem'])"
   ]
  },
  {
   "cell_type": "markdown",
   "metadata": {},
   "source": [
    "Similarly we will keep this column missing values. But we will drop the rest of the columns missing value since their size is too small."
   ]
  },
  {
   "cell_type": "code",
   "execution_count": 142,
   "metadata": {},
   "outputs": [],
   "source": [
    "df_SurveyData['Ethnorace']= df_SurveyData['Ethnorace'].fillna('unknwon')"
   ]
  },
  {
   "cell_type": "code",
   "execution_count": 143,
   "metadata": {},
   "outputs": [
    {
     "data": {
      "text/plain": [
       "True"
      ]
     },
     "execution_count": 143,
     "metadata": {},
     "output_type": "execute_result"
    }
   ],
   "source": [
    "df_SurveyData.isnull().values.any()"
   ]
  },
  {
   "cell_type": "code",
   "execution_count": 144,
   "metadata": {},
   "outputs": [
    {
     "data": {
      "text/plain": [
       "Unnamed: 0                       1260\n",
       "ClientId                         1260\n",
       "SurveyDate                       1260\n",
       "SurveyNumber                     1260\n",
       "InterviewIntake                  1260\n",
       "DOB                              1260\n",
       "Gender                           1261\n",
       "Ethnicity                        1397\n",
       "Ethnorace                           0\n",
       "Veteran                             0\n",
       "C1LivingSituationId              1260\n",
       "D2EducationLevelId               1260\n",
       "D3EmploymentSituationId          1260\n",
       "B1aAlcohol                       1260\n",
       "B1cIllegalDrugs                  1260\n",
       "C2AddictionStressProblemId       1260\n",
       "C4AddictionEmotionalProblemId    1260\n",
       "E1TimesArrested                  1260\n",
       "E4CommitedCrime                  1260\n",
       "F5aDepression                    1260\n",
       "F5bAnxiety                       1260\n",
       "dtype: int64"
      ]
     },
     "execution_count": 144,
     "metadata": {},
     "output_type": "execute_result"
    }
   ],
   "source": [
    "df_SurveyData.isnull().sum()"
   ]
  },
  {
   "cell_type": "code",
   "execution_count": null,
   "metadata": {},
   "outputs": [],
   "source": []
  },
  {
   "cell_type": "markdown",
   "metadata": {},
   "source": [
    "# Making client demographic dataset \n",
    "### first I removed the non-demographic column in Surveydata and then merge the new dataframe with client data\n"
   ]
  },
  {
   "cell_type": "markdown",
   "metadata": {},
   "source": [
    "### Removing the duplicate row in Surveydata and then removing the non-demographic column"
   ]
  },
  {
   "cell_type": "code",
   "execution_count": 145,
   "metadata": {},
   "outputs": [],
   "source": [
    "df=df_SurveyData.drop(['SurveyDate','SurveyNumber','InterviewIntake','C1LivingSituationId', 'D3EmploymentSituationId', 'D3EmploymentSituationId','B1aAlcohol','B1cIllegalDrugs','C2AddictionStressProblemId','C4AddictionEmotionalProblemId','E1TimesArrested','E4CommitedCrime','F5aDepression','F5bAnxiety'], axis=1)"
   ]
  },
  {
   "cell_type": "code",
   "execution_count": 146,
   "metadata": {},
   "outputs": [],
   "source": [
    "df= df.drop_duplicates(subset=['ClientId'], keep='last')\n"
   ]
  },
  {
   "cell_type": "code",
   "execution_count": 147,
   "metadata": {},
   "outputs": [
    {
     "data": {
      "text/html": [
       "<div>\n",
       "<style scoped>\n",
       "    .dataframe tbody tr th:only-of-type {\n",
       "        vertical-align: middle;\n",
       "    }\n",
       "\n",
       "    .dataframe tbody tr th {\n",
       "        vertical-align: top;\n",
       "    }\n",
       "\n",
       "    .dataframe thead th {\n",
       "        text-align: right;\n",
       "    }\n",
       "</style>\n",
       "<table border=\"1\" class=\"dataframe\">\n",
       "  <thead>\n",
       "    <tr style=\"text-align: right;\">\n",
       "      <th></th>\n",
       "      <th>Unnamed: 0</th>\n",
       "      <th>ClientId</th>\n",
       "      <th>DOB</th>\n",
       "      <th>Gender</th>\n",
       "      <th>Ethnicity</th>\n",
       "      <th>Ethnorace</th>\n",
       "      <th>Veteran</th>\n",
       "      <th>D2EducationLevelId</th>\n",
       "    </tr>\n",
       "  </thead>\n",
       "  <tbody>\n",
       "    <tr>\n",
       "      <th>1</th>\n",
       "      <td>13.0</td>\n",
       "      <td>37640</td>\n",
       "      <td>1992-01-14</td>\n",
       "      <td>Female</td>\n",
       "      <td>Hispanic or Latino</td>\n",
       "      <td>Hispanic</td>\n",
       "      <td>unknwon</td>\n",
       "      <td>12</td>\n",
       "    </tr>\n",
       "    <tr>\n",
       "      <th>3</th>\n",
       "      <td>17.0</td>\n",
       "      <td>37648</td>\n",
       "      <td>1984-12-15</td>\n",
       "      <td>Female</td>\n",
       "      <td>Not Hispanic or Latino</td>\n",
       "      <td>White</td>\n",
       "      <td>unknwon</td>\n",
       "      <td>10</td>\n",
       "    </tr>\n",
       "    <tr>\n",
       "      <th>5</th>\n",
       "      <td>19.0</td>\n",
       "      <td>37657</td>\n",
       "      <td>1970-01-14</td>\n",
       "      <td>Female</td>\n",
       "      <td>Not Hispanic or Latino</td>\n",
       "      <td>White</td>\n",
       "      <td>unknwon</td>\n",
       "      <td>12</td>\n",
       "    </tr>\n",
       "    <tr>\n",
       "      <th>9</th>\n",
       "      <td>29.0</td>\n",
       "      <td>37690</td>\n",
       "      <td>1992-07-15</td>\n",
       "      <td>Male</td>\n",
       "      <td>Hispanic or Latino</td>\n",
       "      <td>unknwon</td>\n",
       "      <td>unknwon</td>\n",
       "      <td>12</td>\n",
       "    </tr>\n",
       "    <tr>\n",
       "      <th>11</th>\n",
       "      <td>31.0</td>\n",
       "      <td>37692</td>\n",
       "      <td>1958-08-14</td>\n",
       "      <td>Female</td>\n",
       "      <td>Hispanic or Latino</td>\n",
       "      <td>unknwon</td>\n",
       "      <td>unknwon</td>\n",
       "      <td>11</td>\n",
       "    </tr>\n",
       "  </tbody>\n",
       "</table>\n",
       "</div>"
      ],
      "text/plain": [
       "    Unnamed: 0 ClientId        DOB  Gender               Ethnicity Ethnorace  \\\n",
       "1         13.0    37640 1992-01-14  Female      Hispanic or Latino  Hispanic   \n",
       "3         17.0    37648 1984-12-15  Female  Not Hispanic or Latino     White   \n",
       "5         19.0    37657 1970-01-14  Female  Not Hispanic or Latino     White   \n",
       "9         29.0    37690 1992-07-15    Male      Hispanic or Latino   unknwon   \n",
       "11        31.0    37692 1958-08-14  Female      Hispanic or Latino   unknwon   \n",
       "\n",
       "    Veteran D2EducationLevelId  \n",
       "1   unknwon                 12  \n",
       "3   unknwon                 10  \n",
       "5   unknwon                 12  \n",
       "9   unknwon                 12  \n",
       "11  unknwon                 11  "
      ]
     },
     "execution_count": 147,
     "metadata": {},
     "output_type": "execute_result"
    }
   ],
   "source": [
    "df.head()"
   ]
  },
  {
   "cell_type": "code",
   "execution_count": 148,
   "metadata": {},
   "outputs": [
    {
     "data": {
      "text/plain": [
       "11198"
      ]
     },
     "execution_count": 148,
     "metadata": {},
     "output_type": "execute_result"
    }
   ],
   "source": [
    "len(df['ClientId'])"
   ]
  },
  {
   "cell_type": "code",
   "execution_count": 149,
   "metadata": {},
   "outputs": [
    {
     "data": {
      "text/plain": [
       "47337"
      ]
     },
     "execution_count": 149,
     "metadata": {},
     "output_type": "execute_result"
    }
   ],
   "source": [
    "len(df_ClientData)"
   ]
  },
  {
   "cell_type": "markdown",
   "metadata": {},
   "source": [
    "### Merging Surveydata & Client data"
   ]
  },
  {
   "cell_type": "code",
   "execution_count": 150,
   "metadata": {},
   "outputs": [],
   "source": [
    "ClientDemographic_Data = pd.merge(df, df_ClientData, on=\"ClientId\",how='left')\n"
   ]
  },
  {
   "cell_type": "code",
   "execution_count": 151,
   "metadata": {},
   "outputs": [
    {
     "data": {
      "text/html": [
       "<div>\n",
       "<style scoped>\n",
       "    .dataframe tbody tr th:only-of-type {\n",
       "        vertical-align: middle;\n",
       "    }\n",
       "\n",
       "    .dataframe tbody tr th {\n",
       "        vertical-align: top;\n",
       "    }\n",
       "\n",
       "    .dataframe thead th {\n",
       "        text-align: right;\n",
       "    }\n",
       "</style>\n",
       "<table border=\"1\" class=\"dataframe\">\n",
       "  <thead>\n",
       "    <tr style=\"text-align: right;\">\n",
       "      <th></th>\n",
       "      <th>Unnamed: 0_x</th>\n",
       "      <th>ClientId</th>\n",
       "      <th>DOB</th>\n",
       "      <th>Gender</th>\n",
       "      <th>Ethnicity</th>\n",
       "      <th>Ethnorace</th>\n",
       "      <th>Veteran</th>\n",
       "      <th>D2EducationLevelId</th>\n",
       "      <th>Unnamed: 0_y</th>\n",
       "      <th>City</th>\n",
       "      <th>State</th>\n",
       "      <th>Zip</th>\n",
       "    </tr>\n",
       "  </thead>\n",
       "  <tbody>\n",
       "    <tr>\n",
       "      <th>0</th>\n",
       "      <td>13.0</td>\n",
       "      <td>37640</td>\n",
       "      <td>1992-01-14</td>\n",
       "      <td>Female</td>\n",
       "      <td>Hispanic or Latino</td>\n",
       "      <td>Hispanic</td>\n",
       "      <td>unknwon</td>\n",
       "      <td>12</td>\n",
       "      <td>15.0</td>\n",
       "      <td>Bloomfield</td>\n",
       "      <td>NM</td>\n",
       "      <td>87413</td>\n",
       "    </tr>\n",
       "    <tr>\n",
       "      <th>1</th>\n",
       "      <td>17.0</td>\n",
       "      <td>37648</td>\n",
       "      <td>1984-12-15</td>\n",
       "      <td>Female</td>\n",
       "      <td>Not Hispanic or Latino</td>\n",
       "      <td>White</td>\n",
       "      <td>unknwon</td>\n",
       "      <td>10</td>\n",
       "      <td>18.0</td>\n",
       "      <td>Aztec</td>\n",
       "      <td>NM</td>\n",
       "      <td>87410</td>\n",
       "    </tr>\n",
       "    <tr>\n",
       "      <th>2</th>\n",
       "      <td>19.0</td>\n",
       "      <td>37657</td>\n",
       "      <td>1970-01-14</td>\n",
       "      <td>Female</td>\n",
       "      <td>Not Hispanic or Latino</td>\n",
       "      <td>White</td>\n",
       "      <td>unknwon</td>\n",
       "      <td>12</td>\n",
       "      <td>20.0</td>\n",
       "      <td>Alamogordo</td>\n",
       "      <td>NM</td>\n",
       "      <td>88310</td>\n",
       "    </tr>\n",
       "    <tr>\n",
       "      <th>3</th>\n",
       "      <td>29.0</td>\n",
       "      <td>37690</td>\n",
       "      <td>1992-07-15</td>\n",
       "      <td>Male</td>\n",
       "      <td>Hispanic or Latino</td>\n",
       "      <td>unknwon</td>\n",
       "      <td>unknwon</td>\n",
       "      <td>12</td>\n",
       "      <td>27.0</td>\n",
       "      <td>Albuquerque</td>\n",
       "      <td>NM</td>\n",
       "      <td>87151</td>\n",
       "    </tr>\n",
       "    <tr>\n",
       "      <th>4</th>\n",
       "      <td>31.0</td>\n",
       "      <td>37692</td>\n",
       "      <td>1958-08-14</td>\n",
       "      <td>Female</td>\n",
       "      <td>Hispanic or Latino</td>\n",
       "      <td>unknwon</td>\n",
       "      <td>unknwon</td>\n",
       "      <td>11</td>\n",
       "      <td>29.0</td>\n",
       "      <td>Alamogordo</td>\n",
       "      <td>NM</td>\n",
       "      <td>88310</td>\n",
       "    </tr>\n",
       "  </tbody>\n",
       "</table>\n",
       "</div>"
      ],
      "text/plain": [
       "   Unnamed: 0_x ClientId        DOB  Gender               Ethnicity Ethnorace  \\\n",
       "0          13.0    37640 1992-01-14  Female      Hispanic or Latino  Hispanic   \n",
       "1          17.0    37648 1984-12-15  Female  Not Hispanic or Latino     White   \n",
       "2          19.0    37657 1970-01-14  Female  Not Hispanic or Latino     White   \n",
       "3          29.0    37690 1992-07-15    Male      Hispanic or Latino   unknwon   \n",
       "4          31.0    37692 1958-08-14  Female      Hispanic or Latino   unknwon   \n",
       "\n",
       "   Veteran D2EducationLevelId  Unnamed: 0_y         City State    Zip  \n",
       "0  unknwon                 12          15.0   Bloomfield    NM  87413  \n",
       "1  unknwon                 10          18.0        Aztec    NM  87410  \n",
       "2  unknwon                 12          20.0   Alamogordo    NM  88310  \n",
       "3  unknwon                 12          27.0  Albuquerque    NM  87151  \n",
       "4  unknwon                 11          29.0   Alamogordo    NM  88310  "
      ]
     },
     "execution_count": 151,
     "metadata": {},
     "output_type": "execute_result"
    }
   ],
   "source": [
    "ClientDemographic_Data.head()"
   ]
  },
  {
   "cell_type": "code",
   "execution_count": 152,
   "metadata": {},
   "outputs": [
    {
     "data": {
      "text/plain": [
       "11198"
      ]
     },
     "execution_count": 152,
     "metadata": {},
     "output_type": "execute_result"
    }
   ],
   "source": [
    "len(ClientDemographic_Data['ClientId'])"
   ]
  },
  {
   "cell_type": "markdown",
   "metadata": {},
   "source": [
    "# Cleaning Service dataset"
   ]
  },
  {
   "cell_type": "code",
   "execution_count": 153,
   "metadata": {
    "scrolled": true
   },
   "outputs": [
    {
     "data": {
      "text/html": [
       "<div>\n",
       "<style scoped>\n",
       "    .dataframe tbody tr th:only-of-type {\n",
       "        vertical-align: middle;\n",
       "    }\n",
       "\n",
       "    .dataframe tbody tr th {\n",
       "        vertical-align: top;\n",
       "    }\n",
       "\n",
       "    .dataframe thead th {\n",
       "        text-align: right;\n",
       "    }\n",
       "</style>\n",
       "<table border=\"1\" class=\"dataframe\">\n",
       "  <thead>\n",
       "    <tr style=\"text-align: right;\">\n",
       "      <th></th>\n",
       "      <th>Unnamed: 0</th>\n",
       "      <th>ClientID</th>\n",
       "      <th>ProviderId</th>\n",
       "      <th>ServiceDt</th>\n",
       "      <th>ServiceAmt</th>\n",
       "      <th>Service</th>\n",
       "      <th>ServiceDesc</th>\n",
       "    </tr>\n",
       "  </thead>\n",
       "  <tbody>\n",
       "    <tr>\n",
       "      <th>0</th>\n",
       "      <td>1</td>\n",
       "      <td>38825</td>\n",
       "      <td>011P00000000000</td>\n",
       "      <td>2013-04-08</td>\n",
       "      <td>60.0</td>\n",
       "      <td>Massage</td>\n",
       "      <td>Massage, Shiatsu, Acupressure, Rolfing, Felden...</td>\n",
       "    </tr>\n",
       "    <tr>\n",
       "      <th>1</th>\n",
       "      <td>4</td>\n",
       "      <td>39852</td>\n",
       "      <td>017P00000000000</td>\n",
       "      <td>2013-06-11</td>\n",
       "      <td>3.0</td>\n",
       "      <td>Bus Pass Fee</td>\n",
       "      <td>Bus Pass - Fee</td>\n",
       "    </tr>\n",
       "    <tr>\n",
       "      <th>2</th>\n",
       "      <td>5</td>\n",
       "      <td>39852</td>\n",
       "      <td>017P00000000000</td>\n",
       "      <td>2013-06-11</td>\n",
       "      <td>10.0</td>\n",
       "      <td>Transportation - Bus pass</td>\n",
       "      <td>Providing means for individual to be transferr...</td>\n",
       "    </tr>\n",
       "    <tr>\n",
       "      <th>3</th>\n",
       "      <td>8</td>\n",
       "      <td>39852</td>\n",
       "      <td>017P00000000000</td>\n",
       "      <td>2013-06-14</td>\n",
       "      <td>60.0</td>\n",
       "      <td>Acupuncture</td>\n",
       "      <td>Acupuncture</td>\n",
       "    </tr>\n",
       "    <tr>\n",
       "      <th>4</th>\n",
       "      <td>10</td>\n",
       "      <td>39852</td>\n",
       "      <td>017P00000000000</td>\n",
       "      <td>2013-06-18</td>\n",
       "      <td>60.0</td>\n",
       "      <td>Acupuncture</td>\n",
       "      <td>Acupuncture</td>\n",
       "    </tr>\n",
       "  </tbody>\n",
       "</table>\n",
       "</div>"
      ],
      "text/plain": [
       "   Unnamed: 0 ClientID       ProviderId  ServiceDt  ServiceAmt  \\\n",
       "0           1    38825  011P00000000000 2013-04-08        60.0   \n",
       "1           4    39852  017P00000000000 2013-06-11         3.0   \n",
       "2           5    39852  017P00000000000 2013-06-11        10.0   \n",
       "3           8    39852  017P00000000000 2013-06-14        60.0   \n",
       "4          10    39852  017P00000000000 2013-06-18        60.0   \n",
       "\n",
       "                     Service  \\\n",
       "0                    Massage   \n",
       "1               Bus Pass Fee   \n",
       "2  Transportation - Bus pass   \n",
       "3                Acupuncture   \n",
       "4                Acupuncture   \n",
       "\n",
       "                                         ServiceDesc  \n",
       "0  Massage, Shiatsu, Acupressure, Rolfing, Felden...  \n",
       "1                                     Bus Pass - Fee  \n",
       "2  Providing means for individual to be transferr...  \n",
       "3                                        Acupuncture  \n",
       "4                                        Acupuncture  "
      ]
     },
     "execution_count": 153,
     "metadata": {},
     "output_type": "execute_result"
    }
   ],
   "source": [
    "df_ServiceData.head()"
   ]
  },
  {
   "cell_type": "code",
   "execution_count": 154,
   "metadata": {
    "scrolled": true
   },
   "outputs": [
    {
     "data": {
      "text/html": [
       "<div>\n",
       "<style scoped>\n",
       "    .dataframe tbody tr th:only-of-type {\n",
       "        vertical-align: middle;\n",
       "    }\n",
       "\n",
       "    .dataframe tbody tr th {\n",
       "        vertical-align: top;\n",
       "    }\n",
       "\n",
       "    .dataframe thead th {\n",
       "        text-align: right;\n",
       "    }\n",
       "</style>\n",
       "<table border=\"1\" class=\"dataframe\">\n",
       "  <thead>\n",
       "    <tr style=\"text-align: right;\">\n",
       "      <th></th>\n",
       "      <th>Unnamed: 0</th>\n",
       "      <th>ClientID</th>\n",
       "      <th>ServiceAmt</th>\n",
       "      <th>Service</th>\n",
       "      <th>ServiceNum</th>\n",
       "    </tr>\n",
       "  </thead>\n",
       "  <tbody>\n",
       "    <tr>\n",
       "      <th>0</th>\n",
       "      <td>1</td>\n",
       "      <td>38825</td>\n",
       "      <td>60.0</td>\n",
       "      <td>Massage</td>\n",
       "      <td>1</td>\n",
       "    </tr>\n",
       "    <tr>\n",
       "      <th>1</th>\n",
       "      <td>4</td>\n",
       "      <td>39852</td>\n",
       "      <td>3.0</td>\n",
       "      <td>Bus Pass Fee</td>\n",
       "      <td>1</td>\n",
       "    </tr>\n",
       "    <tr>\n",
       "      <th>2</th>\n",
       "      <td>5</td>\n",
       "      <td>39852</td>\n",
       "      <td>10.0</td>\n",
       "      <td>Transportation - Bus pass</td>\n",
       "      <td>1</td>\n",
       "    </tr>\n",
       "    <tr>\n",
       "      <th>3</th>\n",
       "      <td>8</td>\n",
       "      <td>39852</td>\n",
       "      <td>60.0</td>\n",
       "      <td>Acupuncture</td>\n",
       "      <td>1</td>\n",
       "    </tr>\n",
       "    <tr>\n",
       "      <th>4</th>\n",
       "      <td>10</td>\n",
       "      <td>39852</td>\n",
       "      <td>60.0</td>\n",
       "      <td>Acupuncture</td>\n",
       "      <td>1</td>\n",
       "    </tr>\n",
       "  </tbody>\n",
       "</table>\n",
       "</div>"
      ],
      "text/plain": [
       "   Unnamed: 0 ClientID  ServiceAmt                    Service  ServiceNum\n",
       "0           1    38825        60.0                    Massage           1\n",
       "1           4    39852         3.0               Bus Pass Fee           1\n",
       "2           5    39852        10.0  Transportation - Bus pass           1\n",
       "3           8    39852        60.0                Acupuncture           1\n",
       "4          10    39852        60.0                Acupuncture           1"
      ]
     },
     "execution_count": 154,
     "metadata": {},
     "output_type": "execute_result"
    }
   ],
   "source": [
    "newdf_ServiceData=df_ServiceData.drop(['ProviderId','ServiceDt','ServiceDesc'], axis=1)\n",
    "newdf_ServiceData = newdf_ServiceData.assign(ServiceNum=1)\n",
    "\n",
    "newdf_ServiceData.head()"
   ]
  },
  {
   "cell_type": "markdown",
   "metadata": {},
   "source": [
    "### Two new column, was created based on value of ServiceAmt, ServiceNum\n",
    "### Column ServiceAmt sum is the sum of Service Amount and the column ServiceNum Total is the total number of service"
   ]
  },
  {
   "cell_type": "code",
   "execution_count": 155,
   "metadata": {},
   "outputs": [],
   "source": [
    "newdf_ServiceData=newdf_ServiceData.groupby('ClientID').agg({'ServiceAmt': 'sum', 'ServiceNum':'count'}).reset_index().rename(columns={'ServiceAmt':'ServiceAmt sum', 'ServiceNum': 'ServiceNum Total'})"
   ]
  },
  {
   "cell_type": "code",
   "execution_count": 156,
   "metadata": {},
   "outputs": [
    {
     "data": {
      "text/plain": [
       "10987"
      ]
     },
     "execution_count": 156,
     "metadata": {},
     "output_type": "execute_result"
    }
   ],
   "source": [
    "len(newdf_ServiceData)"
   ]
  },
  {
   "cell_type": "code",
   "execution_count": 157,
   "metadata": {},
   "outputs": [
    {
     "data": {
      "text/html": [
       "<div>\n",
       "<style scoped>\n",
       "    .dataframe tbody tr th:only-of-type {\n",
       "        vertical-align: middle;\n",
       "    }\n",
       "\n",
       "    .dataframe tbody tr th {\n",
       "        vertical-align: top;\n",
       "    }\n",
       "\n",
       "    .dataframe thead th {\n",
       "        text-align: right;\n",
       "    }\n",
       "</style>\n",
       "<table border=\"1\" class=\"dataframe\">\n",
       "  <thead>\n",
       "    <tr style=\"text-align: right;\">\n",
       "      <th></th>\n",
       "      <th>ClientID</th>\n",
       "      <th>ServiceAmt sum</th>\n",
       "      <th>ServiceNum Total</th>\n",
       "    </tr>\n",
       "  </thead>\n",
       "  <tbody>\n",
       "    <tr>\n",
       "      <th>4818</th>\n",
       "      <td>12000000030161</td>\n",
       "      <td>3475.0</td>\n",
       "      <td>55</td>\n",
       "    </tr>\n",
       "    <tr>\n",
       "      <th>8955</th>\n",
       "      <td>23000000038072</td>\n",
       "      <td>2996.0</td>\n",
       "      <td>47</td>\n",
       "    </tr>\n",
       "    <tr>\n",
       "      <th>5031</th>\n",
       "      <td>12000000032072</td>\n",
       "      <td>2938.0</td>\n",
       "      <td>58</td>\n",
       "    </tr>\n",
       "    <tr>\n",
       "      <th>1302</th>\n",
       "      <td>3000000033079</td>\n",
       "      <td>2904.0</td>\n",
       "      <td>53</td>\n",
       "    </tr>\n",
       "    <tr>\n",
       "      <th>8999</th>\n",
       "      <td>23000000039608</td>\n",
       "      <td>2894.0</td>\n",
       "      <td>47</td>\n",
       "    </tr>\n",
       "  </tbody>\n",
       "</table>\n",
       "</div>"
      ],
      "text/plain": [
       "            ClientID  ServiceAmt sum  ServiceNum Total\n",
       "4818  12000000030161          3475.0                55\n",
       "8955  23000000038072          2996.0                47\n",
       "5031  12000000032072          2938.0                58\n",
       "1302   3000000033079          2904.0                53\n",
       "8999  23000000039608          2894.0                47"
      ]
     },
     "execution_count": 157,
     "metadata": {},
     "output_type": "execute_result"
    }
   ],
   "source": [
    "newdf_ServiceData.sort_values('ServiceAmt sum',ascending=False).head()"
   ]
  },
  {
   "cell_type": "code",
   "execution_count": 158,
   "metadata": {},
   "outputs": [],
   "source": [
    "newdf_ServiceData = newdf_ServiceData.rename(columns={\"ClientID\": \"ClientId\"})\n"
   ]
  },
  {
   "cell_type": "code",
   "execution_count": 159,
   "metadata": {},
   "outputs": [
    {
     "data": {
      "text/html": [
       "<div>\n",
       "<style scoped>\n",
       "    .dataframe tbody tr th:only-of-type {\n",
       "        vertical-align: middle;\n",
       "    }\n",
       "\n",
       "    .dataframe tbody tr th {\n",
       "        vertical-align: top;\n",
       "    }\n",
       "\n",
       "    .dataframe thead th {\n",
       "        text-align: right;\n",
       "    }\n",
       "</style>\n",
       "<table border=\"1\" class=\"dataframe\">\n",
       "  <thead>\n",
       "    <tr style=\"text-align: right;\">\n",
       "      <th></th>\n",
       "      <th>ClientId</th>\n",
       "      <th>ServiceAmt sum</th>\n",
       "      <th>ServiceNum Total</th>\n",
       "    </tr>\n",
       "  </thead>\n",
       "  <tbody>\n",
       "    <tr>\n",
       "      <th>0</th>\n",
       "      <td>37914</td>\n",
       "      <td>1857.0</td>\n",
       "      <td>38</td>\n",
       "    </tr>\n",
       "    <tr>\n",
       "      <th>1</th>\n",
       "      <td>38022</td>\n",
       "      <td>830.0</td>\n",
       "      <td>15</td>\n",
       "    </tr>\n",
       "    <tr>\n",
       "      <th>2</th>\n",
       "      <td>38047</td>\n",
       "      <td>430.0</td>\n",
       "      <td>8</td>\n",
       "    </tr>\n",
       "    <tr>\n",
       "      <th>3</th>\n",
       "      <td>38063</td>\n",
       "      <td>850.0</td>\n",
       "      <td>21</td>\n",
       "    </tr>\n",
       "    <tr>\n",
       "      <th>4</th>\n",
       "      <td>38410</td>\n",
       "      <td>1870.0</td>\n",
       "      <td>41</td>\n",
       "    </tr>\n",
       "  </tbody>\n",
       "</table>\n",
       "</div>"
      ],
      "text/plain": [
       "  ClientId  ServiceAmt sum  ServiceNum Total\n",
       "0    37914          1857.0                38\n",
       "1    38022           830.0                15\n",
       "2    38047           430.0                 8\n",
       "3    38063           850.0                21\n",
       "4    38410          1870.0                41"
      ]
     },
     "execution_count": 159,
     "metadata": {},
     "output_type": "execute_result"
    }
   ],
   "source": [
    "newdf_ServiceData.head()"
   ]
  },
  {
   "cell_type": "code",
   "execution_count": 160,
   "metadata": {},
   "outputs": [],
   "source": [
    "AlL_ClientData = pd.merge(ClientDemographic_Data, newdf_ServiceData, on=\"ClientId\",how='left')\n"
   ]
  },
  {
   "cell_type": "code",
   "execution_count": 161,
   "metadata": {},
   "outputs": [
    {
     "data": {
      "text/html": [
       "<div>\n",
       "<style scoped>\n",
       "    .dataframe tbody tr th:only-of-type {\n",
       "        vertical-align: middle;\n",
       "    }\n",
       "\n",
       "    .dataframe tbody tr th {\n",
       "        vertical-align: top;\n",
       "    }\n",
       "\n",
       "    .dataframe thead th {\n",
       "        text-align: right;\n",
       "    }\n",
       "</style>\n",
       "<table border=\"1\" class=\"dataframe\">\n",
       "  <thead>\n",
       "    <tr style=\"text-align: right;\">\n",
       "      <th></th>\n",
       "      <th>Unnamed: 0_x</th>\n",
       "      <th>ClientId</th>\n",
       "      <th>DOB</th>\n",
       "      <th>Gender</th>\n",
       "      <th>Ethnicity</th>\n",
       "      <th>Ethnorace</th>\n",
       "      <th>Veteran</th>\n",
       "      <th>D2EducationLevelId</th>\n",
       "      <th>Unnamed: 0_y</th>\n",
       "      <th>City</th>\n",
       "      <th>State</th>\n",
       "      <th>Zip</th>\n",
       "      <th>ServiceAmt sum</th>\n",
       "      <th>ServiceNum Total</th>\n",
       "    </tr>\n",
       "  </thead>\n",
       "  <tbody>\n",
       "    <tr>\n",
       "      <th>0</th>\n",
       "      <td>13.0</td>\n",
       "      <td>37640</td>\n",
       "      <td>1992-01-14</td>\n",
       "      <td>Female</td>\n",
       "      <td>Hispanic or Latino</td>\n",
       "      <td>Hispanic</td>\n",
       "      <td>unknwon</td>\n",
       "      <td>12</td>\n",
       "      <td>15.0</td>\n",
       "      <td>Bloomfield</td>\n",
       "      <td>NM</td>\n",
       "      <td>87413</td>\n",
       "      <td>NaN</td>\n",
       "      <td>NaN</td>\n",
       "    </tr>\n",
       "    <tr>\n",
       "      <th>1</th>\n",
       "      <td>17.0</td>\n",
       "      <td>37648</td>\n",
       "      <td>1984-12-15</td>\n",
       "      <td>Female</td>\n",
       "      <td>Not Hispanic or Latino</td>\n",
       "      <td>White</td>\n",
       "      <td>unknwon</td>\n",
       "      <td>10</td>\n",
       "      <td>18.0</td>\n",
       "      <td>Aztec</td>\n",
       "      <td>NM</td>\n",
       "      <td>87410</td>\n",
       "      <td>NaN</td>\n",
       "      <td>NaN</td>\n",
       "    </tr>\n",
       "    <tr>\n",
       "      <th>2</th>\n",
       "      <td>19.0</td>\n",
       "      <td>37657</td>\n",
       "      <td>1970-01-14</td>\n",
       "      <td>Female</td>\n",
       "      <td>Not Hispanic or Latino</td>\n",
       "      <td>White</td>\n",
       "      <td>unknwon</td>\n",
       "      <td>12</td>\n",
       "      <td>20.0</td>\n",
       "      <td>Alamogordo</td>\n",
       "      <td>NM</td>\n",
       "      <td>88310</td>\n",
       "      <td>NaN</td>\n",
       "      <td>NaN</td>\n",
       "    </tr>\n",
       "    <tr>\n",
       "      <th>3</th>\n",
       "      <td>29.0</td>\n",
       "      <td>37690</td>\n",
       "      <td>1992-07-15</td>\n",
       "      <td>Male</td>\n",
       "      <td>Hispanic or Latino</td>\n",
       "      <td>unknwon</td>\n",
       "      <td>unknwon</td>\n",
       "      <td>12</td>\n",
       "      <td>27.0</td>\n",
       "      <td>Albuquerque</td>\n",
       "      <td>NM</td>\n",
       "      <td>87151</td>\n",
       "      <td>NaN</td>\n",
       "      <td>NaN</td>\n",
       "    </tr>\n",
       "    <tr>\n",
       "      <th>4</th>\n",
       "      <td>31.0</td>\n",
       "      <td>37692</td>\n",
       "      <td>1958-08-14</td>\n",
       "      <td>Female</td>\n",
       "      <td>Hispanic or Latino</td>\n",
       "      <td>unknwon</td>\n",
       "      <td>unknwon</td>\n",
       "      <td>11</td>\n",
       "      <td>29.0</td>\n",
       "      <td>Alamogordo</td>\n",
       "      <td>NM</td>\n",
       "      <td>88310</td>\n",
       "      <td>NaN</td>\n",
       "      <td>NaN</td>\n",
       "    </tr>\n",
       "  </tbody>\n",
       "</table>\n",
       "</div>"
      ],
      "text/plain": [
       "   Unnamed: 0_x ClientId        DOB  Gender               Ethnicity Ethnorace  \\\n",
       "0          13.0    37640 1992-01-14  Female      Hispanic or Latino  Hispanic   \n",
       "1          17.0    37648 1984-12-15  Female  Not Hispanic or Latino     White   \n",
       "2          19.0    37657 1970-01-14  Female  Not Hispanic or Latino     White   \n",
       "3          29.0    37690 1992-07-15    Male      Hispanic or Latino   unknwon   \n",
       "4          31.0    37692 1958-08-14  Female      Hispanic or Latino   unknwon   \n",
       "\n",
       "   Veteran D2EducationLevelId  Unnamed: 0_y         City State    Zip  \\\n",
       "0  unknwon                 12          15.0   Bloomfield    NM  87413   \n",
       "1  unknwon                 10          18.0        Aztec    NM  87410   \n",
       "2  unknwon                 12          20.0   Alamogordo    NM  88310   \n",
       "3  unknwon                 12          27.0  Albuquerque    NM  87151   \n",
       "4  unknwon                 11          29.0   Alamogordo    NM  88310   \n",
       "\n",
       "   ServiceAmt sum  ServiceNum Total  \n",
       "0             NaN               NaN  \n",
       "1             NaN               NaN  \n",
       "2             NaN               NaN  \n",
       "3             NaN               NaN  \n",
       "4             NaN               NaN  "
      ]
     },
     "execution_count": 161,
     "metadata": {},
     "output_type": "execute_result"
    }
   ],
   "source": [
    "AlL_ClientData.head()"
   ]
  },
  {
   "cell_type": "code",
   "execution_count": 162,
   "metadata": {},
   "outputs": [
    {
     "data": {
      "text/plain": [
       "11198"
      ]
     },
     "execution_count": 162,
     "metadata": {},
     "output_type": "execute_result"
    }
   ],
   "source": [
    "len(AlL_ClientData)"
   ]
  },
  {
   "cell_type": "markdown",
   "metadata": {},
   "source": [
    "# # Export Data for further analysis"
   ]
  },
  {
   "cell_type": "code",
   "execution_count": null,
   "metadata": {},
   "outputs": [],
   "source": []
  },
  {
   "cell_type": "code",
   "execution_count": null,
   "metadata": {},
   "outputs": [],
   "source": []
  },
  {
   "cell_type": "markdown",
   "metadata": {},
   "source": [
    "### Creating age group"
   ]
  },
  {
   "cell_type": "code",
   "execution_count": 163,
   "metadata": {
    "scrolled": false
   },
   "outputs": [
    {
     "data": {
      "text/plain": [
       "count                   11197\n",
       "unique                    654\n",
       "top       1984-11-14 00:00:00\n",
       "freq                       51\n",
       "first     1920-07-15 00:00:00\n",
       "last      1999-12-15 00:00:00\n",
       "Name: DOB, dtype: object"
      ]
     },
     "execution_count": 163,
     "metadata": {},
     "output_type": "execute_result"
    }
   ],
   "source": [
    "AlL_ClientData['DOB'].describe()"
   ]
  },
  {
   "cell_type": "code",
   "execution_count": 164,
   "metadata": {},
   "outputs": [],
   "source": [
    "from datetime import date\n",
    "AlL_ClientData['Date'] = pd.to_datetime(AlL_ClientData.DOB)\n"
   ]
  },
  {
   "cell_type": "code",
   "execution_count": 165,
   "metadata": {},
   "outputs": [],
   "source": [
    "  \n",
    "def calculateAge(birthDate): \n",
    "    today = date.today() \n",
    "    age = today.year - birthDate.year - ((today.month, today.day) < (birthDate.month, birthDate.day)) \n",
    "    return age "
   ]
  },
  {
   "cell_type": "code",
   "execution_count": 166,
   "metadata": {},
   "outputs": [],
   "source": [
    "AlL_ClientData['age']= AlL_ClientData['Date'].apply(lambda x: calculateAge(x))\n"
   ]
  },
  {
   "cell_type": "code",
   "execution_count": null,
   "metadata": {},
   "outputs": [],
   "source": []
  },
  {
   "cell_type": "code",
   "execution_count": 167,
   "metadata": {},
   "outputs": [],
   "source": [
    "\n",
    "bins= [0,30,60,100]\n",
    "labels = ['Young','Middle_aged','Old']\n",
    "AlL_ClientData['AgeGroup'] = pd.cut(AlL_ClientData['age'], bins=bins, labels=labels, right=False)\n"
   ]
  },
  {
   "cell_type": "code",
   "execution_count": 168,
   "metadata": {},
   "outputs": [],
   "source": [
    "AlL_ClientData =  AlL_ClientData.drop(['DOB','Date'], axis=1)\n"
   ]
  },
  {
   "cell_type": "code",
   "execution_count": 169,
   "metadata": {},
   "outputs": [],
   "source": [
    "AlL_ClientData['D2EducationLevelId'] = AlL_ClientData['D2EducationLevelId'].astype(float)\n"
   ]
  },
  {
   "cell_type": "code",
   "execution_count": 170,
   "metadata": {
    "scrolled": true
   },
   "outputs": [
    {
     "data": {
      "text/html": [
       "<div>\n",
       "<style scoped>\n",
       "    .dataframe tbody tr th:only-of-type {\n",
       "        vertical-align: middle;\n",
       "    }\n",
       "\n",
       "    .dataframe tbody tr th {\n",
       "        vertical-align: top;\n",
       "    }\n",
       "\n",
       "    .dataframe thead th {\n",
       "        text-align: right;\n",
       "    }\n",
       "</style>\n",
       "<table border=\"1\" class=\"dataframe\">\n",
       "  <thead>\n",
       "    <tr style=\"text-align: right;\">\n",
       "      <th></th>\n",
       "      <th>Unnamed: 0_x</th>\n",
       "      <th>ClientId</th>\n",
       "      <th>Gender</th>\n",
       "      <th>Ethnicity</th>\n",
       "      <th>Ethnorace</th>\n",
       "      <th>Veteran</th>\n",
       "      <th>D2EducationLevelId</th>\n",
       "      <th>Unnamed: 0_y</th>\n",
       "      <th>City</th>\n",
       "      <th>State</th>\n",
       "      <th>Zip</th>\n",
       "      <th>ServiceAmt sum</th>\n",
       "      <th>ServiceNum Total</th>\n",
       "      <th>age</th>\n",
       "      <th>AgeGroup</th>\n",
       "    </tr>\n",
       "  </thead>\n",
       "  <tbody>\n",
       "    <tr>\n",
       "      <th>0</th>\n",
       "      <td>13.0</td>\n",
       "      <td>37640</td>\n",
       "      <td>Female</td>\n",
       "      <td>Hispanic or Latino</td>\n",
       "      <td>Hispanic</td>\n",
       "      <td>unknwon</td>\n",
       "      <td>12.0</td>\n",
       "      <td>15.0</td>\n",
       "      <td>Bloomfield</td>\n",
       "      <td>NM</td>\n",
       "      <td>87413</td>\n",
       "      <td>NaN</td>\n",
       "      <td>NaN</td>\n",
       "      <td>28.0</td>\n",
       "      <td>Young</td>\n",
       "    </tr>\n",
       "    <tr>\n",
       "      <th>1</th>\n",
       "      <td>17.0</td>\n",
       "      <td>37648</td>\n",
       "      <td>Female</td>\n",
       "      <td>Not Hispanic or Latino</td>\n",
       "      <td>White</td>\n",
       "      <td>unknwon</td>\n",
       "      <td>10.0</td>\n",
       "      <td>18.0</td>\n",
       "      <td>Aztec</td>\n",
       "      <td>NM</td>\n",
       "      <td>87410</td>\n",
       "      <td>NaN</td>\n",
       "      <td>NaN</td>\n",
       "      <td>35.0</td>\n",
       "      <td>Middle_aged</td>\n",
       "    </tr>\n",
       "    <tr>\n",
       "      <th>2</th>\n",
       "      <td>19.0</td>\n",
       "      <td>37657</td>\n",
       "      <td>Female</td>\n",
       "      <td>Not Hispanic or Latino</td>\n",
       "      <td>White</td>\n",
       "      <td>unknwon</td>\n",
       "      <td>12.0</td>\n",
       "      <td>20.0</td>\n",
       "      <td>Alamogordo</td>\n",
       "      <td>NM</td>\n",
       "      <td>88310</td>\n",
       "      <td>NaN</td>\n",
       "      <td>NaN</td>\n",
       "      <td>50.0</td>\n",
       "      <td>Middle_aged</td>\n",
       "    </tr>\n",
       "    <tr>\n",
       "      <th>3</th>\n",
       "      <td>29.0</td>\n",
       "      <td>37690</td>\n",
       "      <td>Male</td>\n",
       "      <td>Hispanic or Latino</td>\n",
       "      <td>unknwon</td>\n",
       "      <td>unknwon</td>\n",
       "      <td>12.0</td>\n",
       "      <td>27.0</td>\n",
       "      <td>Albuquerque</td>\n",
       "      <td>NM</td>\n",
       "      <td>87151</td>\n",
       "      <td>NaN</td>\n",
       "      <td>NaN</td>\n",
       "      <td>28.0</td>\n",
       "      <td>Young</td>\n",
       "    </tr>\n",
       "    <tr>\n",
       "      <th>4</th>\n",
       "      <td>31.0</td>\n",
       "      <td>37692</td>\n",
       "      <td>Female</td>\n",
       "      <td>Hispanic or Latino</td>\n",
       "      <td>unknwon</td>\n",
       "      <td>unknwon</td>\n",
       "      <td>11.0</td>\n",
       "      <td>29.0</td>\n",
       "      <td>Alamogordo</td>\n",
       "      <td>NM</td>\n",
       "      <td>88310</td>\n",
       "      <td>NaN</td>\n",
       "      <td>NaN</td>\n",
       "      <td>62.0</td>\n",
       "      <td>Old</td>\n",
       "    </tr>\n",
       "  </tbody>\n",
       "</table>\n",
       "</div>"
      ],
      "text/plain": [
       "   Unnamed: 0_x ClientId  Gender               Ethnicity Ethnorace  Veteran  \\\n",
       "0          13.0    37640  Female      Hispanic or Latino  Hispanic  unknwon   \n",
       "1          17.0    37648  Female  Not Hispanic or Latino     White  unknwon   \n",
       "2          19.0    37657  Female  Not Hispanic or Latino     White  unknwon   \n",
       "3          29.0    37690    Male      Hispanic or Latino   unknwon  unknwon   \n",
       "4          31.0    37692  Female      Hispanic or Latino   unknwon  unknwon   \n",
       "\n",
       "   D2EducationLevelId  Unnamed: 0_y         City State    Zip  ServiceAmt sum  \\\n",
       "0                12.0          15.0   Bloomfield    NM  87413             NaN   \n",
       "1                10.0          18.0        Aztec    NM  87410             NaN   \n",
       "2                12.0          20.0   Alamogordo    NM  88310             NaN   \n",
       "3                12.0          27.0  Albuquerque    NM  87151             NaN   \n",
       "4                11.0          29.0   Alamogordo    NM  88310             NaN   \n",
       "\n",
       "   ServiceNum Total   age     AgeGroup  \n",
       "0               NaN  28.0        Young  \n",
       "1               NaN  35.0  Middle_aged  \n",
       "2               NaN  50.0  Middle_aged  \n",
       "3               NaN  28.0        Young  \n",
       "4               NaN  62.0          Old  "
      ]
     },
     "execution_count": 170,
     "metadata": {},
     "output_type": "execute_result"
    }
   ],
   "source": [
    "AlL_ClientData.head()"
   ]
  },
  {
   "cell_type": "code",
   "execution_count": null,
   "metadata": {},
   "outputs": [],
   "source": []
  },
  {
   "cell_type": "markdown",
   "metadata": {},
   "source": [
    "# Data Visualization\n"
   ]
  },
  {
   "cell_type": "code",
   "execution_count": 171,
   "metadata": {},
   "outputs": [],
   "source": [
    "import seaborn as sns\n",
    "import matplotlib.pyplot as plt\n",
    " "
   ]
  },
  {
   "cell_type": "code",
   "execution_count": null,
   "metadata": {},
   "outputs": [],
   "source": []
  },
  {
   "cell_type": "code",
   "execution_count": 172,
   "metadata": {},
   "outputs": [
    {
     "data": {
      "text/plain": [
       "<seaborn.axisgrid.FacetGrid at 0x1cecf06c1c0>"
      ]
     },
     "execution_count": 172,
     "metadata": {},
     "output_type": "execute_result"
    },
    {
     "data": {
      "image/png": "[encoded data removed]",
      "text/plain": [
       "<Figure size 508.35x432 with 1 Axes>"
      ]
     },
     "metadata": {},
     "output_type": "display_data"
    }
   ],
   "source": [
    "sns.set(style=\"whitegrid\")\n",
    "\n",
    "g = sns.catplot(x=\"AgeGroup\", y=\"ServiceAmt sum\", hue=\"Gender\", data=AlL_ClientData,\n",
    "                height=6, kind=\"bar\", palette=\"muted\")\n",
    "g.despine(left=True)\n",
    "g.set_ylabels(\"Total Service Amount (min)\")\n",
    "g.set_xlabels(\"Age Group\")\n"
   ]
  },
  {
   "cell_type": "code",
   "execution_count": null,
   "metadata": {},
   "outputs": [],
   "source": []
  },
  {
   "cell_type": "code",
   "execution_count": 173,
   "metadata": {},
   "outputs": [
    {
     "data": {
      "text/plain": [
       "<seaborn.axisgrid.FacetGrid at 0x1cecf420850>"
      ]
     },
     "execution_count": 173,
     "metadata": {},
     "output_type": "execute_result"
    },
    {
     "data": {
      "image/png": "[encoded data removed]",
      "text/plain": [
       "<Figure size 508.35x432 with 1 Axes>"
      ]
     },
     "metadata": {},
     "output_type": "display_data"
    }
   ],
   "source": [
    "sns.set(style=\"whitegrid\")\n",
    "\n",
    "g = sns.catplot(x=\"AgeGroup\", y=\"ServiceNum Total\", hue=\"Gender\", data=AlL_ClientData,\n",
    "                height=6, kind=\"bar\", palette=\"muted\")\n",
    "g.despine(left=True)\n",
    "g.set_ylabels(\"Total Service Number\")\n",
    "g.set_xlabels(\"Age Group\")"
   ]
  },
  {
   "cell_type": "code",
   "execution_count": null,
   "metadata": {},
   "outputs": [],
   "source": []
  },
  {
   "cell_type": "code",
   "execution_count": 174,
   "metadata": {
    "scrolled": true
   },
   "outputs": [
    {
     "data": {
      "text/plain": [
       "<seaborn.axisgrid.FacetGrid at 0x1cecf06c400>"
      ]
     },
     "execution_count": 174,
     "metadata": {},
     "output_type": "execute_result"
    },
    {
     "data": {
      "image/png": "[encoded data removed]",
      "text/plain": [
       "<Figure size 534.85x432 with 1 Axes>"
      ]
     },
     "metadata": {},
     "output_type": "display_data"
    }
   ],
   "source": [
    "sns.set(style=\"whitegrid\")\n",
    "\n",
    "g = sns.catplot(x=\"Veteran\", y=\"ServiceAmt sum\", hue=\"AgeGroup\", data=AlL_ClientData,\n",
    "                height=6, kind=\"bar\", palette=\"muted\")\n",
    "g.despine(left=True)\n",
    "g.set_ylabels(\"Total Service Amount (min)\")\n",
    "g.set_xlabels(\"Veteran\")"
   ]
  },
  {
   "cell_type": "code",
   "execution_count": 175,
   "metadata": {},
   "outputs": [
    {
     "data": {
      "text/plain": [
       "<seaborn.axisgrid.FacetGrid at 0x1cecd60f730>"
      ]
     },
     "execution_count": 175,
     "metadata": {},
     "output_type": "execute_result"
    },
    {
     "data": {
      "image/png": "[encoded data removed]",
      "text/plain": [
       "<Figure size 1372.35x432 with 1 Axes>"
      ]
     },
     "metadata": {},
     "output_type": "display_data"
    }
   ],
   "source": [
    "sns.set(style=\"whitegrid\")\n",
    "\n",
    "g = sns.catplot(x=\"Ethnorace\", y=\"ServiceAmt sum\", hue=\"Gender\", data=AlL_ClientData,\n",
    "                height=6, aspect=3, kind=\"bar\", palette=\"muted\")\n",
    "g.despine(left=True)\n",
    "g.set_ylabels(\"Total Service Amount (min)\")\n",
    "g.set_xlabels(\"Ethnorace\")"
   ]
  },
  {
   "cell_type": "code",
   "execution_count": 176,
   "metadata": {},
   "outputs": [],
   "source": [
    "SurveyData_plotData = df_SurveyData.drop(['DOB','ClientId','SurveyDate','SurveyNumber','InterviewIntake','Gender','Ethnicity','Ethnorace','Veteran'], axis=1)\n"
   ]
  },
  {
   "cell_type": "code",
   "execution_count": 177,
   "metadata": {
    "scrolled": true
   },
   "outputs": [
    {
     "data": {
      "text/html": [
       "<div>\n",
       "<style scoped>\n",
       "    .dataframe tbody tr th:only-of-type {\n",
       "        vertical-align: middle;\n",
       "    }\n",
       "\n",
       "    .dataframe tbody tr th {\n",
       "        vertical-align: top;\n",
       "    }\n",
       "\n",
       "    .dataframe thead th {\n",
       "        text-align: right;\n",
       "    }\n",
       "</style>\n",
       "<table border=\"1\" class=\"dataframe\">\n",
       "  <thead>\n",
       "    <tr style=\"text-align: right;\">\n",
       "      <th></th>\n",
       "      <th>Unnamed: 0</th>\n",
       "      <th>C1LivingSituationId</th>\n",
       "      <th>D2EducationLevelId</th>\n",
       "      <th>D3EmploymentSituationId</th>\n",
       "      <th>B1aAlcohol</th>\n",
       "      <th>B1cIllegalDrugs</th>\n",
       "      <th>C2AddictionStressProblemId</th>\n",
       "      <th>C4AddictionEmotionalProblemId</th>\n",
       "      <th>E1TimesArrested</th>\n",
       "      <th>E4CommitedCrime</th>\n",
       "      <th>F5aDepression</th>\n",
       "      <th>F5bAnxiety</th>\n",
       "    </tr>\n",
       "  </thead>\n",
       "  <tbody>\n",
       "    <tr>\n",
       "      <th>0</th>\n",
       "      <td>12.0</td>\n",
       "      <td>41</td>\n",
       "      <td>12</td>\n",
       "      <td>3</td>\n",
       "      <td>0</td>\n",
       "      <td>0</td>\n",
       "      <td>5</td>\n",
       "      <td>5</td>\n",
       "      <td>0</td>\n",
       "      <td>0</td>\n",
       "      <td>5</td>\n",
       "      <td>5</td>\n",
       "    </tr>\n",
       "    <tr>\n",
       "      <th>1</th>\n",
       "      <td>13.0</td>\n",
       "      <td>3</td>\n",
       "      <td>12</td>\n",
       "      <td>7</td>\n",
       "      <td>0</td>\n",
       "      <td>0</td>\n",
       "      <td>5</td>\n",
       "      <td>5</td>\n",
       "      <td>1</td>\n",
       "      <td>1</td>\n",
       "      <td>30</td>\n",
       "      <td>1</td>\n",
       "    </tr>\n",
       "    <tr>\n",
       "      <th>2</th>\n",
       "      <td>16.0</td>\n",
       "      <td>41</td>\n",
       "      <td>10</td>\n",
       "      <td>3</td>\n",
       "      <td>0</td>\n",
       "      <td>0</td>\n",
       "      <td>5</td>\n",
       "      <td>5</td>\n",
       "      <td>0</td>\n",
       "      <td>0</td>\n",
       "      <td>0</td>\n",
       "      <td>0</td>\n",
       "    </tr>\n",
       "    <tr>\n",
       "      <th>3</th>\n",
       "      <td>17.0</td>\n",
       "      <td>41</td>\n",
       "      <td>10</td>\n",
       "      <td>7</td>\n",
       "      <td>29</td>\n",
       "      <td>1</td>\n",
       "      <td>4</td>\n",
       "      <td>4</td>\n",
       "      <td>0</td>\n",
       "      <td>1</td>\n",
       "      <td>30</td>\n",
       "      <td>30</td>\n",
       "    </tr>\n",
       "    <tr>\n",
       "      <th>4</th>\n",
       "      <td>NaN</td>\n",
       "      <td>NaN</td>\n",
       "      <td>NaN</td>\n",
       "      <td>NaN</td>\n",
       "      <td>NaN</td>\n",
       "      <td>NaN</td>\n",
       "      <td>NaN</td>\n",
       "      <td>NaN</td>\n",
       "      <td>NaN</td>\n",
       "      <td>NaN</td>\n",
       "      <td>NaN</td>\n",
       "      <td>NaN</td>\n",
       "    </tr>\n",
       "  </tbody>\n",
       "</table>\n",
       "</div>"
      ],
      "text/plain": [
       "   Unnamed: 0 C1LivingSituationId D2EducationLevelId D3EmploymentSituationId  \\\n",
       "0        12.0                  41                 12                       3   \n",
       "1        13.0                   3                 12                       7   \n",
       "2        16.0                  41                 10                       3   \n",
       "3        17.0                  41                 10                       7   \n",
       "4         NaN                 NaN                NaN                     NaN   \n",
       "\n",
       "  B1aAlcohol B1cIllegalDrugs C2AddictionStressProblemId  \\\n",
       "0          0               0                          5   \n",
       "1          0               0                          5   \n",
       "2          0               0                          5   \n",
       "3         29               1                          4   \n",
       "4        NaN             NaN                        NaN   \n",
       "\n",
       "  C4AddictionEmotionalProblemId E1TimesArrested E4CommitedCrime F5aDepression  \\\n",
       "0                             5               0               0             5   \n",
       "1                             5               1               1            30   \n",
       "2                             5               0               0             0   \n",
       "3                             4               0               1            30   \n",
       "4                           NaN             NaN             NaN           NaN   \n",
       "\n",
       "  F5bAnxiety  \n",
       "0          5  \n",
       "1          1  \n",
       "2          0  \n",
       "3         30  \n",
       "4        NaN  "
      ]
     },
     "execution_count": 177,
     "metadata": {},
     "output_type": "execute_result"
    }
   ],
   "source": [
    "SurveyData_plotData.head()"
   ]
  },
  {
   "cell_type": "code",
   "execution_count": 178,
   "metadata": {},
   "outputs": [],
   "source": [
    "SurveyData_plotData = SurveyData_plotData.astype(float) \n"
   ]
  },
  {
   "cell_type": "code",
   "execution_count": 179,
   "metadata": {},
   "outputs": [],
   "source": [
    "SurveyData_plotData = SurveyData_plotData.dropna()"
   ]
  },
  {
   "cell_type": "code",
   "execution_count": 180,
   "metadata": {},
   "outputs": [
    {
     "data": {
      "text/plain": [
       "<seaborn.axisgrid.PairGrid at 0x1ced0cc0cd0>"
      ]
     },
     "execution_count": 180,
     "metadata": {},
     "output_type": "execute_result"
    },
    {
     "data": {
      "image/png": "[encoded data removed]",
      "text/plain": [
       "<Figure size 540x540 with 12 Axes>"
      ]
     },
     "metadata": {},
     "output_type": "display_data"
    }
   ],
   "source": [
    "sns.set(style=\"ticks\", color_codes=True)\n",
    "sns.pairplot(SurveyData_plotData,vars=[\"B1cIllegalDrugs\", \"D3EmploymentSituationId\",'E4CommitedCrime'])"
   ]
  },
  {
   "cell_type": "code",
   "execution_count": null,
   "metadata": {
    "scrolled": true
   },
   "outputs": [],
   "source": []
  },
  {
   "cell_type": "code",
   "execution_count": 181,
   "metadata": {
    "scrolled": true
   },
   "outputs": [
    {
     "data": {
      "text/plain": [
       "array([[<matplotlib.axes._subplots.AxesSubplot object at 0x000001CED0861040>,\n",
       "        <matplotlib.axes._subplots.AxesSubplot object at 0x000001CED9D954C0>],\n",
       "       [<matplotlib.axes._subplots.AxesSubplot object at 0x000001CEDAFBCFA0>,\n",
       "        <matplotlib.axes._subplots.AxesSubplot object at 0x000001CED0E91DC0>],\n",
       "       [<matplotlib.axes._subplots.AxesSubplot object at 0x000001CEDAF5B190>,\n",
       "        <matplotlib.axes._subplots.AxesSubplot object at 0x000001CEDA261C70>]],\n",
       "      dtype=object)"
      ]
     },
     "execution_count": 181,
     "metadata": {},
     "output_type": "execute_result"
    },
    {
     "data": {
      "image/png": "[encoded data removed]",
      "text/plain": [
       "<Figure size 1008x1008 with 6 Axes>"
      ]
     },
     "metadata": {},
     "output_type": "display_data"
    }
   ],
   "source": [
    "AlL_ClientData.hist(figsize = (14,14))\n"
   ]
  },
  {
   "cell_type": "code",
   "execution_count": 182,
   "metadata": {},
   "outputs": [
    {
     "data": {
      "text/plain": [
       "<Figure size 1440x1152 with 0 Axes>"
      ]
     },
     "execution_count": 182,
     "metadata": {},
     "output_type": "execute_result"
    },
    {
     "data": {
      "text/plain": [
       "<Figure size 1440x1152 with 0 Axes>"
      ]
     },
     "metadata": {},
     "output_type": "display_data"
    }
   ],
   "source": [
    "sns.set(style=\"ticks\", color_codes=True)\n",
    "plt.figure(figsize=(20,16))\n"
   ]
  },
  {
   "cell_type": "code",
   "execution_count": 183,
   "metadata": {},
   "outputs": [
    {
     "data": {
      "image/png": "[encoded data removed]",
      "text/plain": [
       "<Figure size 1296x432 with 1 Axes>"
      ]
     },
     "metadata": {},
     "output_type": "display_data"
    }
   ],
   "source": [
    "sns.catplot(x=\"Ethnorace\", y=\"D2EducationLevelId\", kind=\"box\",data=AlL_ClientData,height=6, aspect=3);\n"
   ]
  },
  {
   "cell_type": "code",
   "execution_count": null,
   "metadata": {},
   "outputs": [],
   "source": []
  },
  {
   "cell_type": "markdown",
   "metadata": {},
   "source": [
    "## Export Data for ML modling "
   ]
  },
  {
   "cell_type": "code",
   "execution_count": null,
   "metadata": {},
   "outputs": [],
   "source": []
  },
  {
   "cell_type": "markdown",
   "metadata": {},
   "source": [
    "### Converting numerical data in Edu column to Categories"
   ]
  },
  {
   "cell_type": "markdown",
   "metadata": {},
   "source": [
    " Edu = {0: \"Never attended\", 1: \"1st Grade\", 2: \"2nd Grade\", 3: \"3rd Grade\", 4: \"4th Grade\", 5: \"5th Grade\", 6: \"6th Grade\", 7: \"7th Grade\", 8: \"8th Grade\", \n",
    "9: \"9th Grade\", 10: \"10th Grade\", 11: \"11th Grade\", 12: \"12th Grade/High School Diploma/Equivalent\", 13: \"College or University / 1st Year Completed\", \n",
    "14: \"College or University / 2nd year completed (AA,AS)\", 15: \"College or University / 3rd Year completed\", 16: \"Bachelor's Degree (BA, BS) Or Higher\", \n",
    "17: \"Voc Tech Program after high school no diploma\", 18: \"Voc Tech Diploma after high school”}\n"
   ]
  },
  {
   "cell_type": "code",
   "execution_count": 184,
   "metadata": {},
   "outputs": [],
   "source": [
    "cleanup_nums2 = {\"D2EducationLevelId\":     {0: \"< High School Education\", 1: \"< High School Education\", 2: \"< High School Education\", \n",
    "                                            3: \"< High School Education\",4: \"< High School Education\", 5: \"< High School Education\", \n",
    "                                            6: \"< High School Education\", 7: \"< High School Education\", 8: \"< High School Education\", \n",
    "                                            9: \"< High School Education\",10: \"High school or Diploma Education\", 11: \"High school or Diploma Education\",\n",
    "                                            12: \"High school or Diploma Education\" ,17: \"High school or Diploma Education\", 18: \"High school or Diploma Education\", \n",
    "                                            13: \"College or University Education\", 14: \"College or University Education\", 15: \"College or University Education\", \n",
    "                                            16: \"Bachelor's Degree Or Higher\"}}\n",
    "\n",
    "AlL_ClientData.replace(cleanup_nums2, inplace=True)"
   ]
  },
  {
   "cell_type": "code",
   "execution_count": 185,
   "metadata": {},
   "outputs": [
    {
     "data": {
      "text/html": [
       "<div>\n",
       "<style scoped>\n",
       "    .dataframe tbody tr th:only-of-type {\n",
       "        vertical-align: middle;\n",
       "    }\n",
       "\n",
       "    .dataframe tbody tr th {\n",
       "        vertical-align: top;\n",
       "    }\n",
       "\n",
       "    .dataframe thead th {\n",
       "        text-align: right;\n",
       "    }\n",
       "</style>\n",
       "<table border=\"1\" class=\"dataframe\">\n",
       "  <thead>\n",
       "    <tr style=\"text-align: right;\">\n",
       "      <th></th>\n",
       "      <th>Unnamed: 0_x</th>\n",
       "      <th>ClientId</th>\n",
       "      <th>Gender</th>\n",
       "      <th>Ethnicity</th>\n",
       "      <th>Ethnorace</th>\n",
       "      <th>Veteran</th>\n",
       "      <th>D2EducationLevelId</th>\n",
       "      <th>Unnamed: 0_y</th>\n",
       "      <th>City</th>\n",
       "      <th>State</th>\n",
       "      <th>Zip</th>\n",
       "      <th>ServiceAmt sum</th>\n",
       "      <th>ServiceNum Total</th>\n",
       "      <th>age</th>\n",
       "      <th>AgeGroup</th>\n",
       "    </tr>\n",
       "  </thead>\n",
       "  <tbody>\n",
       "    <tr>\n",
       "      <th>0</th>\n",
       "      <td>13.0</td>\n",
       "      <td>37640</td>\n",
       "      <td>Female</td>\n",
       "      <td>Hispanic or Latino</td>\n",
       "      <td>Hispanic</td>\n",
       "      <td>unknwon</td>\n",
       "      <td>High school or Diploma Education</td>\n",
       "      <td>15.0</td>\n",
       "      <td>Bloomfield</td>\n",
       "      <td>NM</td>\n",
       "      <td>87413</td>\n",
       "      <td>NaN</td>\n",
       "      <td>NaN</td>\n",
       "      <td>28.0</td>\n",
       "      <td>Young</td>\n",
       "    </tr>\n",
       "    <tr>\n",
       "      <th>1</th>\n",
       "      <td>17.0</td>\n",
       "      <td>37648</td>\n",
       "      <td>Female</td>\n",
       "      <td>Not Hispanic or Latino</td>\n",
       "      <td>White</td>\n",
       "      <td>unknwon</td>\n",
       "      <td>High school or Diploma Education</td>\n",
       "      <td>18.0</td>\n",
       "      <td>Aztec</td>\n",
       "      <td>NM</td>\n",
       "      <td>87410</td>\n",
       "      <td>NaN</td>\n",
       "      <td>NaN</td>\n",
       "      <td>35.0</td>\n",
       "      <td>Middle_aged</td>\n",
       "    </tr>\n",
       "    <tr>\n",
       "      <th>2</th>\n",
       "      <td>19.0</td>\n",
       "      <td>37657</td>\n",
       "      <td>Female</td>\n",
       "      <td>Not Hispanic or Latino</td>\n",
       "      <td>White</td>\n",
       "      <td>unknwon</td>\n",
       "      <td>High school or Diploma Education</td>\n",
       "      <td>20.0</td>\n",
       "      <td>Alamogordo</td>\n",
       "      <td>NM</td>\n",
       "      <td>88310</td>\n",
       "      <td>NaN</td>\n",
       "      <td>NaN</td>\n",
       "      <td>50.0</td>\n",
       "      <td>Middle_aged</td>\n",
       "    </tr>\n",
       "    <tr>\n",
       "      <th>3</th>\n",
       "      <td>29.0</td>\n",
       "      <td>37690</td>\n",
       "      <td>Male</td>\n",
       "      <td>Hispanic or Latino</td>\n",
       "      <td>unknwon</td>\n",
       "      <td>unknwon</td>\n",
       "      <td>High school or Diploma Education</td>\n",
       "      <td>27.0</td>\n",
       "      <td>Albuquerque</td>\n",
       "      <td>NM</td>\n",
       "      <td>87151</td>\n",
       "      <td>NaN</td>\n",
       "      <td>NaN</td>\n",
       "      <td>28.0</td>\n",
       "      <td>Young</td>\n",
       "    </tr>\n",
       "    <tr>\n",
       "      <th>4</th>\n",
       "      <td>31.0</td>\n",
       "      <td>37692</td>\n",
       "      <td>Female</td>\n",
       "      <td>Hispanic or Latino</td>\n",
       "      <td>unknwon</td>\n",
       "      <td>unknwon</td>\n",
       "      <td>High school or Diploma Education</td>\n",
       "      <td>29.0</td>\n",
       "      <td>Alamogordo</td>\n",
       "      <td>NM</td>\n",
       "      <td>88310</td>\n",
       "      <td>NaN</td>\n",
       "      <td>NaN</td>\n",
       "      <td>62.0</td>\n",
       "      <td>Old</td>\n",
       "    </tr>\n",
       "  </tbody>\n",
       "</table>\n",
       "</div>"
      ],
      "text/plain": [
       "   Unnamed: 0_x ClientId  Gender               Ethnicity Ethnorace  Veteran  \\\n",
       "0          13.0    37640  Female      Hispanic or Latino  Hispanic  unknwon   \n",
       "1          17.0    37648  Female  Not Hispanic or Latino     White  unknwon   \n",
       "2          19.0    37657  Female  Not Hispanic or Latino     White  unknwon   \n",
       "3          29.0    37690    Male      Hispanic or Latino   unknwon  unknwon   \n",
       "4          31.0    37692  Female      Hispanic or Latino   unknwon  unknwon   \n",
       "\n",
       "                 D2EducationLevelId  Unnamed: 0_y         City State    Zip  \\\n",
       "0  High school or Diploma Education          15.0   Bloomfield    NM  87413   \n",
       "1  High school or Diploma Education          18.0        Aztec    NM  87410   \n",
       "2  High school or Diploma Education          20.0   Alamogordo    NM  88310   \n",
       "3  High school or Diploma Education          27.0  Albuquerque    NM  87151   \n",
       "4  High school or Diploma Education          29.0   Alamogordo    NM  88310   \n",
       "\n",
       "   ServiceAmt sum  ServiceNum Total   age     AgeGroup  \n",
       "0             NaN               NaN  28.0        Young  \n",
       "1             NaN               NaN  35.0  Middle_aged  \n",
       "2             NaN               NaN  50.0  Middle_aged  \n",
       "3             NaN               NaN  28.0        Young  \n",
       "4             NaN               NaN  62.0          Old  "
      ]
     },
     "execution_count": 185,
     "metadata": {},
     "output_type": "execute_result"
    }
   ],
   "source": [
    "AlL_ClientData.head()"
   ]
  },
  {
   "cell_type": "code",
   "execution_count": 186,
   "metadata": {},
   "outputs": [],
   "source": [
    "AlL_ClientData.to_csv('AlL_ClientData.csv')"
   ]
  },
  {
   "cell_type": "code",
   "execution_count": null,
   "metadata": {},
   "outputs": [],
   "source": []
  },
  {
   "cell_type": "code",
   "execution_count": 187,
   "metadata": {
    "scrolled": true
   },
   "outputs": [
    {
     "data": {
      "text/html": [
       "<div>\n",
       "<style scoped>\n",
       "    .dataframe tbody tr th:only-of-type {\n",
       "        vertical-align: middle;\n",
       "    }\n",
       "\n",
       "    .dataframe tbody tr th {\n",
       "        vertical-align: top;\n",
       "    }\n",
       "\n",
       "    .dataframe thead th {\n",
       "        text-align: right;\n",
       "    }\n",
       "</style>\n",
       "<table border=\"1\" class=\"dataframe\">\n",
       "  <thead>\n",
       "    <tr style=\"text-align: right;\">\n",
       "      <th></th>\n",
       "      <th>Unnamed: 0</th>\n",
       "      <th>ClientId</th>\n",
       "      <th>SurveyDate</th>\n",
       "      <th>SurveyNumber</th>\n",
       "      <th>InterviewIntake</th>\n",
       "      <th>DOB</th>\n",
       "      <th>Gender</th>\n",
       "      <th>Ethnicity</th>\n",
       "      <th>Ethnorace</th>\n",
       "      <th>Veteran</th>\n",
       "      <th>...</th>\n",
       "      <th>D2EducationLevelId</th>\n",
       "      <th>D3EmploymentSituationId</th>\n",
       "      <th>B1aAlcohol</th>\n",
       "      <th>B1cIllegalDrugs</th>\n",
       "      <th>C2AddictionStressProblemId</th>\n",
       "      <th>C4AddictionEmotionalProblemId</th>\n",
       "      <th>E1TimesArrested</th>\n",
       "      <th>E4CommitedCrime</th>\n",
       "      <th>F5aDepression</th>\n",
       "      <th>F5bAnxiety</th>\n",
       "    </tr>\n",
       "  </thead>\n",
       "  <tbody>\n",
       "    <tr>\n",
       "      <th>0</th>\n",
       "      <td>12.0</td>\n",
       "      <td>37640</td>\n",
       "      <td>2013-01-14</td>\n",
       "      <td>1.0</td>\n",
       "      <td>Intake</td>\n",
       "      <td>1992-01-14</td>\n",
       "      <td>Female</td>\n",
       "      <td>Hispanic or Latino</td>\n",
       "      <td>Hispanic</td>\n",
       "      <td>unknwon</td>\n",
       "      <td>...</td>\n",
       "      <td>12</td>\n",
       "      <td>3</td>\n",
       "      <td>0</td>\n",
       "      <td>0</td>\n",
       "      <td>5</td>\n",
       "      <td>5</td>\n",
       "      <td>0</td>\n",
       "      <td>0</td>\n",
       "      <td>5</td>\n",
       "      <td>5</td>\n",
       "    </tr>\n",
       "    <tr>\n",
       "      <th>1</th>\n",
       "      <td>13.0</td>\n",
       "      <td>37640</td>\n",
       "      <td>2014-10-28</td>\n",
       "      <td>2.0</td>\n",
       "      <td>Post</td>\n",
       "      <td>1992-01-14</td>\n",
       "      <td>Female</td>\n",
       "      <td>Hispanic or Latino</td>\n",
       "      <td>Hispanic</td>\n",
       "      <td>unknwon</td>\n",
       "      <td>...</td>\n",
       "      <td>12</td>\n",
       "      <td>7</td>\n",
       "      <td>0</td>\n",
       "      <td>0</td>\n",
       "      <td>5</td>\n",
       "      <td>5</td>\n",
       "      <td>1</td>\n",
       "      <td>1</td>\n",
       "      <td>30</td>\n",
       "      <td>1</td>\n",
       "    </tr>\n",
       "    <tr>\n",
       "      <th>2</th>\n",
       "      <td>16.0</td>\n",
       "      <td>37648</td>\n",
       "      <td>2013-01-14</td>\n",
       "      <td>1.0</td>\n",
       "      <td>Intake</td>\n",
       "      <td>1984-12-15</td>\n",
       "      <td>Female</td>\n",
       "      <td>Not Hispanic or Latino</td>\n",
       "      <td>White</td>\n",
       "      <td>unknwon</td>\n",
       "      <td>...</td>\n",
       "      <td>10</td>\n",
       "      <td>3</td>\n",
       "      <td>0</td>\n",
       "      <td>0</td>\n",
       "      <td>5</td>\n",
       "      <td>5</td>\n",
       "      <td>0</td>\n",
       "      <td>0</td>\n",
       "      <td>0</td>\n",
       "      <td>0</td>\n",
       "    </tr>\n",
       "    <tr>\n",
       "      <th>3</th>\n",
       "      <td>17.0</td>\n",
       "      <td>37648</td>\n",
       "      <td>2014-08-04</td>\n",
       "      <td>2.0</td>\n",
       "      <td>Post</td>\n",
       "      <td>1984-12-15</td>\n",
       "      <td>Female</td>\n",
       "      <td>Not Hispanic or Latino</td>\n",
       "      <td>White</td>\n",
       "      <td>unknwon</td>\n",
       "      <td>...</td>\n",
       "      <td>10</td>\n",
       "      <td>7</td>\n",
       "      <td>29</td>\n",
       "      <td>1</td>\n",
       "      <td>4</td>\n",
       "      <td>4</td>\n",
       "      <td>0</td>\n",
       "      <td>1</td>\n",
       "      <td>30</td>\n",
       "      <td>30</td>\n",
       "    </tr>\n",
       "    <tr>\n",
       "      <th>4</th>\n",
       "      <td>NaN</td>\n",
       "      <td>NaN</td>\n",
       "      <td>NaT</td>\n",
       "      <td>NaN</td>\n",
       "      <td>NaN</td>\n",
       "      <td>NaT</td>\n",
       "      <td>NaN</td>\n",
       "      <td>NaN</td>\n",
       "      <td>unknwon</td>\n",
       "      <td>unknwon</td>\n",
       "      <td>...</td>\n",
       "      <td>NaN</td>\n",
       "      <td>NaN</td>\n",
       "      <td>NaN</td>\n",
       "      <td>NaN</td>\n",
       "      <td>NaN</td>\n",
       "      <td>NaN</td>\n",
       "      <td>NaN</td>\n",
       "      <td>NaN</td>\n",
       "      <td>NaN</td>\n",
       "      <td>NaN</td>\n",
       "    </tr>\n",
       "  </tbody>\n",
       "</table>\n",
       "<p>5 rows × 21 columns</p>\n",
       "</div>"
      ],
      "text/plain": [
       "   Unnamed: 0 ClientId SurveyDate  SurveyNumber InterviewIntake        DOB  \\\n",
       "0        12.0    37640 2013-01-14           1.0          Intake 1992-01-14   \n",
       "1        13.0    37640 2014-10-28           2.0            Post 1992-01-14   \n",
       "2        16.0    37648 2013-01-14           1.0          Intake 1984-12-15   \n",
       "3        17.0    37648 2014-08-04           2.0            Post 1984-12-15   \n",
       "4         NaN      NaN        NaT           NaN             NaN        NaT   \n",
       "\n",
       "   Gender               Ethnicity Ethnorace  Veteran  ... D2EducationLevelId  \\\n",
       "0  Female      Hispanic or Latino  Hispanic  unknwon  ...                 12   \n",
       "1  Female      Hispanic or Latino  Hispanic  unknwon  ...                 12   \n",
       "2  Female  Not Hispanic or Latino     White  unknwon  ...                 10   \n",
       "3  Female  Not Hispanic or Latino     White  unknwon  ...                 10   \n",
       "4     NaN                     NaN   unknwon  unknwon  ...                NaN   \n",
       "\n",
       "  D3EmploymentSituationId B1aAlcohol B1cIllegalDrugs  \\\n",
       "0                       3          0               0   \n",
       "1                       7          0               0   \n",
       "2                       3          0               0   \n",
       "3                       7         29               1   \n",
       "4                     NaN        NaN             NaN   \n",
       "\n",
       "  C2AddictionStressProblemId C4AddictionEmotionalProblemId E1TimesArrested  \\\n",
       "0                          5                             5               0   \n",
       "1                          5                             5               1   \n",
       "2                          5                             5               0   \n",
       "3                          4                             4               0   \n",
       "4                        NaN                           NaN             NaN   \n",
       "\n",
       "  E4CommitedCrime F5aDepression F5bAnxiety  \n",
       "0               0             5          5  \n",
       "1               1            30          1  \n",
       "2               0             0          0  \n",
       "3               1            30         30  \n",
       "4             NaN           NaN        NaN  \n",
       "\n",
       "[5 rows x 21 columns]"
      ]
     },
     "execution_count": 187,
     "metadata": {},
     "output_type": "execute_result"
    }
   ],
   "source": [
    "df_SurveyData.head()"
   ]
  },
  {
   "cell_type": "code",
   "execution_count": null,
   "metadata": {},
   "outputs": [],
   "source": []
  },
  {
   "cell_type": "code",
   "execution_count": 188,
   "metadata": {},
   "outputs": [],
   "source": [
    "from datetime import date\n",
    "df_SurveyData['Date'] = pd.to_datetime(df_SurveyData.DOB)\n",
    "def calculateAge(birthDate): \n",
    "    today = date.today() \n",
    "    age = today.year - birthDate.year - ((today.month, today.day) < (birthDate.month, birthDate.day)) \n",
    "    return age\n",
    "\n",
    "df_SurveyData['age']= df_SurveyData['Date'].apply(lambda x: calculateAge(x))\n"
   ]
  },
  {
   "cell_type": "code",
   "execution_count": 189,
   "metadata": {},
   "outputs": [],
   "source": [
    "bins= [0,30,60,100]\n",
    "labels = ['Young','Middle_aged','Old']\n",
    "df_SurveyData['AgeGroup'] = pd.cut(df_SurveyData['age'], bins=bins, labels=labels, right=False)"
   ]
  },
  {
   "cell_type": "code",
   "execution_count": 190,
   "metadata": {},
   "outputs": [],
   "source": [
    "df_SurveyData = df_SurveyData.dropna()\n"
   ]
  },
  {
   "cell_type": "code",
   "execution_count": 191,
   "metadata": {
    "scrolled": false
   },
   "outputs": [
    {
     "data": {
      "text/plain": [
       "41    16427\n",
       "42     9117\n",
       "3      1316\n",
       "1      1118\n",
       "45      827\n",
       "43      522\n",
       "2       454\n",
       "44      413\n",
       "46       53\n",
       "Name: C1LivingSituationId, dtype: int64"
      ]
     },
     "execution_count": 191,
     "metadata": {},
     "output_type": "execute_result"
    }
   ],
   "source": [
    "df_SurveyData['C1LivingSituationId'].value_counts()"
   ]
  },
  {
   "cell_type": "code",
   "execution_count": null,
   "metadata": {},
   "outputs": [],
   "source": []
  },
  {
   "cell_type": "code",
   "execution_count": 192,
   "metadata": {},
   "outputs": [],
   "source": [
    "New2_SurveyData= df_SurveyData.drop_duplicates(subset=['ClientId'], keep='first')\n"
   ]
  },
  {
   "cell_type": "code",
   "execution_count": 193,
   "metadata": {},
   "outputs": [],
   "source": [
    "New1_SurveyData= df_SurveyData.drop_duplicates(subset=['ClientId'], keep='last')\n"
   ]
  },
  {
   "cell_type": "code",
   "execution_count": 194,
   "metadata": {},
   "outputs": [
    {
     "data": {
      "text/plain": [
       "count     11146\n",
       "unique        2\n",
       "top        Post\n",
       "freq      10626\n",
       "Name: InterviewIntake, dtype: object"
      ]
     },
     "execution_count": 194,
     "metadata": {},
     "output_type": "execute_result"
    }
   ],
   "source": [
    "New1_SurveyData.InterviewIntake.describe()"
   ]
  },
  {
   "cell_type": "code",
   "execution_count": 195,
   "metadata": {},
   "outputs": [
    {
     "data": {
      "text/plain": [
       "11146"
      ]
     },
     "execution_count": 195,
     "metadata": {},
     "output_type": "execute_result"
    }
   ],
   "source": [
    "len(New1_SurveyData)"
   ]
  },
  {
   "cell_type": "code",
   "execution_count": 196,
   "metadata": {},
   "outputs": [],
   "source": [
    "frames = [New1_SurveyData, New2_SurveyData]\n",
    "\n",
    "New_SurveyData = pd.concat(frames)"
   ]
  },
  {
   "cell_type": "code",
   "execution_count": 197,
   "metadata": {},
   "outputs": [
    {
     "data": {
      "text/html": [
       "<div>\n",
       "<style scoped>\n",
       "    .dataframe tbody tr th:only-of-type {\n",
       "        vertical-align: middle;\n",
       "    }\n",
       "\n",
       "    .dataframe tbody tr th {\n",
       "        vertical-align: top;\n",
       "    }\n",
       "\n",
       "    .dataframe thead th {\n",
       "        text-align: right;\n",
       "    }\n",
       "</style>\n",
       "<table border=\"1\" class=\"dataframe\">\n",
       "  <thead>\n",
       "    <tr style=\"text-align: right;\">\n",
       "      <th></th>\n",
       "      <th>Unnamed: 0</th>\n",
       "      <th>ClientId</th>\n",
       "      <th>SurveyDate</th>\n",
       "      <th>SurveyNumber</th>\n",
       "      <th>InterviewIntake</th>\n",
       "      <th>DOB</th>\n",
       "      <th>Gender</th>\n",
       "      <th>Ethnicity</th>\n",
       "      <th>Ethnorace</th>\n",
       "      <th>Veteran</th>\n",
       "      <th>...</th>\n",
       "      <th>B1cIllegalDrugs</th>\n",
       "      <th>C2AddictionStressProblemId</th>\n",
       "      <th>C4AddictionEmotionalProblemId</th>\n",
       "      <th>E1TimesArrested</th>\n",
       "      <th>E4CommitedCrime</th>\n",
       "      <th>F5aDepression</th>\n",
       "      <th>F5bAnxiety</th>\n",
       "      <th>Date</th>\n",
       "      <th>age</th>\n",
       "      <th>AgeGroup</th>\n",
       "    </tr>\n",
       "  </thead>\n",
       "  <tbody>\n",
       "    <tr>\n",
       "      <th>9</th>\n",
       "      <td>29.0</td>\n",
       "      <td>37690</td>\n",
       "      <td>2018-02-14</td>\n",
       "      <td>4.0</td>\n",
       "      <td>Post</td>\n",
       "      <td>1992-07-15</td>\n",
       "      <td>Male</td>\n",
       "      <td>Hispanic or Latino</td>\n",
       "      <td>unknwon</td>\n",
       "      <td>unknwon</td>\n",
       "      <td>...</td>\n",
       "      <td>0</td>\n",
       "      <td>5</td>\n",
       "      <td>5</td>\n",
       "      <td>0</td>\n",
       "      <td>0</td>\n",
       "      <td>6</td>\n",
       "      <td>14</td>\n",
       "      <td>1992-07-15</td>\n",
       "      <td>28.0</td>\n",
       "      <td>Young</td>\n",
       "    </tr>\n",
       "    <tr>\n",
       "      <th>6</th>\n",
       "      <td>26.0</td>\n",
       "      <td>37690</td>\n",
       "      <td>2013-01-16</td>\n",
       "      <td>1.0</td>\n",
       "      <td>Intake</td>\n",
       "      <td>1992-07-15</td>\n",
       "      <td>Male</td>\n",
       "      <td>Hispanic or Latino</td>\n",
       "      <td>unknwon</td>\n",
       "      <td>unknwon</td>\n",
       "      <td>...</td>\n",
       "      <td>4</td>\n",
       "      <td>1</td>\n",
       "      <td>1</td>\n",
       "      <td>0</td>\n",
       "      <td>4</td>\n",
       "      <td>30</td>\n",
       "      <td>30</td>\n",
       "      <td>1992-07-15</td>\n",
       "      <td>28.0</td>\n",
       "      <td>Young</td>\n",
       "    </tr>\n",
       "  </tbody>\n",
       "</table>\n",
       "<p>2 rows × 24 columns</p>\n",
       "</div>"
      ],
      "text/plain": [
       "   Unnamed: 0 ClientId SurveyDate  SurveyNumber InterviewIntake        DOB  \\\n",
       "9        29.0    37690 2018-02-14           4.0            Post 1992-07-15   \n",
       "6        26.0    37690 2013-01-16           1.0          Intake 1992-07-15   \n",
       "\n",
       "  Gender           Ethnicity Ethnorace  Veteran  ... B1cIllegalDrugs  \\\n",
       "9   Male  Hispanic or Latino   unknwon  unknwon  ...               0   \n",
       "6   Male  Hispanic or Latino   unknwon  unknwon  ...               4   \n",
       "\n",
       "  C2AddictionStressProblemId C4AddictionEmotionalProblemId E1TimesArrested  \\\n",
       "9                          5                             5               0   \n",
       "6                          1                             1               0   \n",
       "\n",
       "  E4CommitedCrime F5aDepression F5bAnxiety       Date   age AgeGroup  \n",
       "9               0             6         14 1992-07-15  28.0    Young  \n",
       "6               4            30         30 1992-07-15  28.0    Young  \n",
       "\n",
       "[2 rows x 24 columns]"
      ]
     },
     "execution_count": 197,
     "metadata": {},
     "output_type": "execute_result"
    }
   ],
   "source": [
    "New_SurveyData.loc[New_SurveyData['ClientId'] == 37690]\n"
   ]
  },
  {
   "cell_type": "code",
   "execution_count": 198,
   "metadata": {},
   "outputs": [
    {
     "data": {
      "text/plain": [
       "2.0"
      ]
     },
     "execution_count": 198,
     "metadata": {},
     "output_type": "execute_result"
    }
   ],
   "source": [
    "New_SurveyData['ClientId'].value_counts().mean()"
   ]
  },
  {
   "cell_type": "code",
   "execution_count": 199,
   "metadata": {},
   "outputs": [],
   "source": [
    "newdf_ServiceData['InterviewIntake']='Post'"
   ]
  },
  {
   "cell_type": "code",
   "execution_count": 200,
   "metadata": {},
   "outputs": [
    {
     "data": {
      "text/html": [
       "<div>\n",
       "<style scoped>\n",
       "    .dataframe tbody tr th:only-of-type {\n",
       "        vertical-align: middle;\n",
       "    }\n",
       "\n",
       "    .dataframe tbody tr th {\n",
       "        vertical-align: top;\n",
       "    }\n",
       "\n",
       "    .dataframe thead th {\n",
       "        text-align: right;\n",
       "    }\n",
       "</style>\n",
       "<table border=\"1\" class=\"dataframe\">\n",
       "  <thead>\n",
       "    <tr style=\"text-align: right;\">\n",
       "      <th></th>\n",
       "      <th>ClientId</th>\n",
       "      <th>ServiceAmt sum</th>\n",
       "      <th>ServiceNum Total</th>\n",
       "      <th>InterviewIntake</th>\n",
       "    </tr>\n",
       "  </thead>\n",
       "  <tbody>\n",
       "    <tr>\n",
       "      <th>0</th>\n",
       "      <td>37914</td>\n",
       "      <td>1857.0</td>\n",
       "      <td>38</td>\n",
       "      <td>Post</td>\n",
       "    </tr>\n",
       "    <tr>\n",
       "      <th>1</th>\n",
       "      <td>38022</td>\n",
       "      <td>830.0</td>\n",
       "      <td>15</td>\n",
       "      <td>Post</td>\n",
       "    </tr>\n",
       "    <tr>\n",
       "      <th>2</th>\n",
       "      <td>38047</td>\n",
       "      <td>430.0</td>\n",
       "      <td>8</td>\n",
       "      <td>Post</td>\n",
       "    </tr>\n",
       "    <tr>\n",
       "      <th>3</th>\n",
       "      <td>38063</td>\n",
       "      <td>850.0</td>\n",
       "      <td>21</td>\n",
       "      <td>Post</td>\n",
       "    </tr>\n",
       "    <tr>\n",
       "      <th>4</th>\n",
       "      <td>38410</td>\n",
       "      <td>1870.0</td>\n",
       "      <td>41</td>\n",
       "      <td>Post</td>\n",
       "    </tr>\n",
       "  </tbody>\n",
       "</table>\n",
       "</div>"
      ],
      "text/plain": [
       "  ClientId  ServiceAmt sum  ServiceNum Total InterviewIntake\n",
       "0    37914          1857.0                38            Post\n",
       "1    38022           830.0                15            Post\n",
       "2    38047           430.0                 8            Post\n",
       "3    38063           850.0                21            Post\n",
       "4    38410          1870.0                41            Post"
      ]
     },
     "execution_count": 200,
     "metadata": {},
     "output_type": "execute_result"
    }
   ],
   "source": [
    "newdf_ServiceData.head()"
   ]
  },
  {
   "cell_type": "code",
   "execution_count": 201,
   "metadata": {},
   "outputs": [],
   "source": [
    "New_SurveyData_update = pd.merge(New_SurveyData, newdf_ServiceData, on=['ClientId','InterviewIntake'],how='left')\n"
   ]
  },
  {
   "cell_type": "code",
   "execution_count": 202,
   "metadata": {},
   "outputs": [],
   "source": [
    "New_SurveyData_update.loc[New_SurveyData_update['InterviewIntake'] == 'Intake', 'ServiceNum Total'] = 0.0\n",
    "New_SurveyData_update.loc[New_SurveyData_update['InterviewIntake'] == 'Intake', 'ServiceAmt sum'] = 0.0"
   ]
  },
  {
   "cell_type": "code",
   "execution_count": 203,
   "metadata": {},
   "outputs": [
    {
     "data": {
      "text/plain": [
       "9        0.0\n",
       "13       0.0\n",
       "23       0.0\n",
       "45       0.0\n",
       "59       0.0\n",
       "        ... \n",
       "22286    0.0\n",
       "22287    0.0\n",
       "22288    0.0\n",
       "22289    0.0\n",
       "22291    0.0\n",
       "Name: ServiceNum Total, Length: 11384, dtype: float64"
      ]
     },
     "execution_count": 203,
     "metadata": {},
     "output_type": "execute_result"
    }
   ],
   "source": [
    "New_SurveyData_update.loc[New_SurveyData_update['InterviewIntake'] == 'Intake', 'ServiceNum Total']"
   ]
  },
  {
   "cell_type": "code",
   "execution_count": 204,
   "metadata": {},
   "outputs": [
    {
     "data": {
      "text/plain": [
       "2383"
      ]
     },
     "execution_count": 204,
     "metadata": {},
     "output_type": "execute_result"
    }
   ],
   "source": [
    "New_SurveyData_update['ServiceAmt sum'].isnull().sum()"
   ]
  },
  {
   "cell_type": "code",
   "execution_count": 205,
   "metadata": {},
   "outputs": [
    {
     "data": {
      "text/plain": [
       "2383"
      ]
     },
     "execution_count": 205,
     "metadata": {},
     "output_type": "execute_result"
    }
   ],
   "source": [
    "New_SurveyData_update['ServiceNum Total'].isnull().sum()"
   ]
  },
  {
   "cell_type": "code",
   "execution_count": 206,
   "metadata": {},
   "outputs": [
    {
     "data": {
      "text/plain": [
       "22292"
      ]
     },
     "execution_count": 206,
     "metadata": {},
     "output_type": "execute_result"
    }
   ],
   "source": [
    "len(New_SurveyData_update)"
   ]
  },
  {
   "cell_type": "code",
   "execution_count": 207,
   "metadata": {},
   "outputs": [],
   "source": [
    "final_SurveyData = New_SurveyData_update.drop(['DOB','SurveyDate','SurveyNumber','age','Date'], axis=1)\n"
   ]
  },
  {
   "cell_type": "code",
   "execution_count": null,
   "metadata": {},
   "outputs": [],
   "source": []
  },
  {
   "cell_type": "markdown",
   "metadata": {},
   "source": [
    "### Converting numerical data to categori in employment situcation variable"
   ]
  },
  {
   "cell_type": "code",
   "execution_count": 209,
   "metadata": {},
   "outputs": [],
   "source": [
    "cleanup_nums = {\"D3EmploymentSituationId\":     {0: \"Unemployed, Not looking for work\", 1: \"Employed\", 2: \"Employed\", 3:\"Unemployed, Looking for work\", 4:\"Unemployed, Not looking for work\", 5:\"Unemployed, Not looking for work\", 6:\"Unemployed, Not looking for work\", 7:\"Unemployed, Not looking for work\"}}\n",
    "\n",
    "final_SurveyData.replace(cleanup_nums, inplace=True)\n"
   ]
  },
  {
   "cell_type": "code",
   "execution_count": 210,
   "metadata": {
    "scrolled": true
   },
   "outputs": [
    {
     "data": {
      "text/plain": [
       "count        22292\n",
       "unique           3\n",
       "top       Employed\n",
       "freq          9658\n",
       "Name: D3EmploymentSituationId, dtype: object"
      ]
     },
     "execution_count": 210,
     "metadata": {},
     "output_type": "execute_result"
    }
   ],
   "source": [
    "final_SurveyData['D3EmploymentSituationId'].describe()"
   ]
  },
  {
   "cell_type": "markdown",
   "metadata": {},
   "source": [
    "#### looking at frequency of categories in Employment Situation"
   ]
  },
  {
   "cell_type": "code",
   "execution_count": 211,
   "metadata": {},
   "outputs": [
    {
     "data": {
      "text/plain": [
       "Employed                            9658\n",
       "Unemployed, Looking for work        7335\n",
       "Unemployed, Not looking for work    5299\n",
       "Name: D3EmploymentSituationId, dtype: int64"
      ]
     },
     "execution_count": 211,
     "metadata": {},
     "output_type": "execute_result"
    }
   ],
   "source": [
    "final_SurveyData['D3EmploymentSituationId'].value_counts()"
   ]
  },
  {
   "cell_type": "code",
   "execution_count": null,
   "metadata": {
    "scrolled": true
   },
   "outputs": [],
   "source": []
  },
  {
   "cell_type": "code",
   "execution_count": 212,
   "metadata": {},
   "outputs": [],
   "source": [
    "final_SurveyData['ClientId'] = final_SurveyData['ClientId'].astype(str) \n"
   ]
  },
  {
   "cell_type": "code",
   "execution_count": 213,
   "metadata": {},
   "outputs": [
    {
     "data": {
      "text/plain": [
       "count              22292\n",
       "unique             11146\n",
       "top       17000000047969\n",
       "freq                   2\n",
       "Name: ClientId, dtype: object"
      ]
     },
     "execution_count": 213,
     "metadata": {},
     "output_type": "execute_result"
    }
   ],
   "source": [
    "final_SurveyData['ClientId'].describe()"
   ]
  },
  {
   "cell_type": "code",
   "execution_count": 214,
   "metadata": {
    "scrolled": false
   },
   "outputs": [
    {
     "data": {
      "text/html": [
       "<div>\n",
       "<style scoped>\n",
       "    .dataframe tbody tr th:only-of-type {\n",
       "        vertical-align: middle;\n",
       "    }\n",
       "\n",
       "    .dataframe tbody tr th {\n",
       "        vertical-align: top;\n",
       "    }\n",
       "\n",
       "    .dataframe thead th {\n",
       "        text-align: right;\n",
       "    }\n",
       "</style>\n",
       "<table border=\"1\" class=\"dataframe\">\n",
       "  <thead>\n",
       "    <tr style=\"text-align: right;\">\n",
       "      <th></th>\n",
       "      <th>Unnamed: 0</th>\n",
       "      <th>ClientId</th>\n",
       "      <th>InterviewIntake</th>\n",
       "      <th>Gender</th>\n",
       "      <th>Ethnicity</th>\n",
       "      <th>Ethnorace</th>\n",
       "      <th>Veteran</th>\n",
       "      <th>C1LivingSituationId</th>\n",
       "      <th>D2EducationLevelId</th>\n",
       "      <th>D3EmploymentSituationId</th>\n",
       "      <th>...</th>\n",
       "      <th>B1cIllegalDrugs</th>\n",
       "      <th>C2AddictionStressProblemId</th>\n",
       "      <th>C4AddictionEmotionalProblemId</th>\n",
       "      <th>E1TimesArrested</th>\n",
       "      <th>E4CommitedCrime</th>\n",
       "      <th>F5aDepression</th>\n",
       "      <th>F5bAnxiety</th>\n",
       "      <th>AgeGroup</th>\n",
       "      <th>ServiceAmt sum</th>\n",
       "      <th>ServiceNum Total</th>\n",
       "    </tr>\n",
       "  </thead>\n",
       "  <tbody>\n",
       "    <tr>\n",
       "      <th>0</th>\n",
       "      <td>13.0</td>\n",
       "      <td>37640</td>\n",
       "      <td>Post</td>\n",
       "      <td>Female</td>\n",
       "      <td>Hispanic or Latino</td>\n",
       "      <td>Hispanic</td>\n",
       "      <td>unknwon</td>\n",
       "      <td>3</td>\n",
       "      <td>12</td>\n",
       "      <td>Unemployed, Not looking for work</td>\n",
       "      <td>...</td>\n",
       "      <td>0</td>\n",
       "      <td>5</td>\n",
       "      <td>5</td>\n",
       "      <td>1</td>\n",
       "      <td>1</td>\n",
       "      <td>30</td>\n",
       "      <td>1</td>\n",
       "      <td>Young</td>\n",
       "      <td>NaN</td>\n",
       "      <td>NaN</td>\n",
       "    </tr>\n",
       "    <tr>\n",
       "      <th>1</th>\n",
       "      <td>17.0</td>\n",
       "      <td>37648</td>\n",
       "      <td>Post</td>\n",
       "      <td>Female</td>\n",
       "      <td>Not Hispanic or Latino</td>\n",
       "      <td>White</td>\n",
       "      <td>unknwon</td>\n",
       "      <td>41</td>\n",
       "      <td>10</td>\n",
       "      <td>Unemployed, Not looking for work</td>\n",
       "      <td>...</td>\n",
       "      <td>1</td>\n",
       "      <td>4</td>\n",
       "      <td>4</td>\n",
       "      <td>0</td>\n",
       "      <td>1</td>\n",
       "      <td>30</td>\n",
       "      <td>30</td>\n",
       "      <td>Middle_aged</td>\n",
       "      <td>NaN</td>\n",
       "      <td>NaN</td>\n",
       "    </tr>\n",
       "    <tr>\n",
       "      <th>2</th>\n",
       "      <td>19.0</td>\n",
       "      <td>37657</td>\n",
       "      <td>Post</td>\n",
       "      <td>Female</td>\n",
       "      <td>Not Hispanic or Latino</td>\n",
       "      <td>White</td>\n",
       "      <td>unknwon</td>\n",
       "      <td>41</td>\n",
       "      <td>12</td>\n",
       "      <td>Employed</td>\n",
       "      <td>...</td>\n",
       "      <td>0</td>\n",
       "      <td>1</td>\n",
       "      <td>1</td>\n",
       "      <td>0</td>\n",
       "      <td>0</td>\n",
       "      <td>0</td>\n",
       "      <td>0</td>\n",
       "      <td>Middle_aged</td>\n",
       "      <td>NaN</td>\n",
       "      <td>NaN</td>\n",
       "    </tr>\n",
       "    <tr>\n",
       "      <th>3</th>\n",
       "      <td>29.0</td>\n",
       "      <td>37690</td>\n",
       "      <td>Post</td>\n",
       "      <td>Male</td>\n",
       "      <td>Hispanic or Latino</td>\n",
       "      <td>unknwon</td>\n",
       "      <td>unknwon</td>\n",
       "      <td>41</td>\n",
       "      <td>12</td>\n",
       "      <td>Unemployed, Not looking for work</td>\n",
       "      <td>...</td>\n",
       "      <td>0</td>\n",
       "      <td>5</td>\n",
       "      <td>5</td>\n",
       "      <td>0</td>\n",
       "      <td>0</td>\n",
       "      <td>6</td>\n",
       "      <td>14</td>\n",
       "      <td>Young</td>\n",
       "      <td>NaN</td>\n",
       "      <td>NaN</td>\n",
       "    </tr>\n",
       "    <tr>\n",
       "      <th>4</th>\n",
       "      <td>31.0</td>\n",
       "      <td>37692</td>\n",
       "      <td>Post</td>\n",
       "      <td>Female</td>\n",
       "      <td>Hispanic or Latino</td>\n",
       "      <td>unknwon</td>\n",
       "      <td>unknwon</td>\n",
       "      <td>41</td>\n",
       "      <td>11</td>\n",
       "      <td>Unemployed, Not looking for work</td>\n",
       "      <td>...</td>\n",
       "      <td>0</td>\n",
       "      <td>5</td>\n",
       "      <td>5</td>\n",
       "      <td>0</td>\n",
       "      <td>0</td>\n",
       "      <td>0</td>\n",
       "      <td>0</td>\n",
       "      <td>Old</td>\n",
       "      <td>NaN</td>\n",
       "      <td>NaN</td>\n",
       "    </tr>\n",
       "  </tbody>\n",
       "</table>\n",
       "<p>5 rows × 21 columns</p>\n",
       "</div>"
      ],
      "text/plain": [
       "   Unnamed: 0 ClientId InterviewIntake  Gender               Ethnicity  \\\n",
       "0        13.0    37640            Post  Female      Hispanic or Latino   \n",
       "1        17.0    37648            Post  Female  Not Hispanic or Latino   \n",
       "2        19.0    37657            Post  Female  Not Hispanic or Latino   \n",
       "3        29.0    37690            Post    Male      Hispanic or Latino   \n",
       "4        31.0    37692            Post  Female      Hispanic or Latino   \n",
       "\n",
       "  Ethnorace  Veteran C1LivingSituationId D2EducationLevelId  \\\n",
       "0  Hispanic  unknwon                   3                 12   \n",
       "1     White  unknwon                  41                 10   \n",
       "2     White  unknwon                  41                 12   \n",
       "3   unknwon  unknwon                  41                 12   \n",
       "4   unknwon  unknwon                  41                 11   \n",
       "\n",
       "            D3EmploymentSituationId  ... B1cIllegalDrugs  \\\n",
       "0  Unemployed, Not looking for work  ...               0   \n",
       "1  Unemployed, Not looking for work  ...               1   \n",
       "2                          Employed  ...               0   \n",
       "3  Unemployed, Not looking for work  ...               0   \n",
       "4  Unemployed, Not looking for work  ...               0   \n",
       "\n",
       "  C2AddictionStressProblemId C4AddictionEmotionalProblemId E1TimesArrested  \\\n",
       "0                          5                             5               1   \n",
       "1                          4                             4               0   \n",
       "2                          1                             1               0   \n",
       "3                          5                             5               0   \n",
       "4                          5                             5               0   \n",
       "\n",
       "  E4CommitedCrime F5aDepression F5bAnxiety     AgeGroup ServiceAmt sum  \\\n",
       "0               1            30          1        Young            NaN   \n",
       "1               1            30         30  Middle_aged            NaN   \n",
       "2               0             0          0  Middle_aged            NaN   \n",
       "3               0             6         14        Young            NaN   \n",
       "4               0             0          0          Old            NaN   \n",
       "\n",
       "   ServiceNum Total  \n",
       "0               NaN  \n",
       "1               NaN  \n",
       "2               NaN  \n",
       "3               NaN  \n",
       "4               NaN  \n",
       "\n",
       "[5 rows x 21 columns]"
      ]
     },
     "execution_count": 214,
     "metadata": {},
     "output_type": "execute_result"
    }
   ],
   "source": [
    "final_SurveyData.head()"
   ]
  },
  {
   "cell_type": "code",
   "execution_count": 215,
   "metadata": {
    "scrolled": true
   },
   "outputs": [],
   "source": [
    "final_SurveyData.to_csv('final_SurveyData.csv')"
   ]
  },
  {
   "cell_type": "code",
   "execution_count": 216,
   "metadata": {},
   "outputs": [],
   "source": [
    "Crime_varData =  final_SurveyData.drop(['C1LivingSituationId','D2EducationLevelId','D3EmploymentSituationId','B1aAlcohol','B1cIllegalDrugs','C2AddictionStressProblemId', 'C4AddictionEmotionalProblemId','E1TimesArrested','F5aDepression','F5bAnxiety'], axis=1)"
   ]
  },
  {
   "cell_type": "code",
   "execution_count": 217,
   "metadata": {},
   "outputs": [],
   "source": [
    "Crime_varData.dropna(subset = [\"ServiceAmt sum\"], inplace=True)\n",
    "Crime_varData.dropna(subset = [\"ServiceNum Total\"], inplace=True)\n"
   ]
  },
  {
   "cell_type": "code",
   "execution_count": 218,
   "metadata": {
    "scrolled": true
   },
   "outputs": [
    {
     "data": {
      "text/html": [
       "<div>\n",
       "<style scoped>\n",
       "    .dataframe tbody tr th:only-of-type {\n",
       "        vertical-align: middle;\n",
       "    }\n",
       "\n",
       "    .dataframe tbody tr th {\n",
       "        vertical-align: top;\n",
       "    }\n",
       "\n",
       "    .dataframe thead th {\n",
       "        text-align: right;\n",
       "    }\n",
       "</style>\n",
       "<table border=\"1\" class=\"dataframe\">\n",
       "  <thead>\n",
       "    <tr style=\"text-align: right;\">\n",
       "      <th></th>\n",
       "      <th>Unnamed: 0</th>\n",
       "      <th>ClientId</th>\n",
       "      <th>InterviewIntake</th>\n",
       "      <th>Gender</th>\n",
       "      <th>Ethnicity</th>\n",
       "      <th>Ethnorace</th>\n",
       "      <th>Veteran</th>\n",
       "      <th>E4CommitedCrime</th>\n",
       "      <th>AgeGroup</th>\n",
       "      <th>ServiceAmt sum</th>\n",
       "      <th>ServiceNum Total</th>\n",
       "    </tr>\n",
       "  </thead>\n",
       "  <tbody>\n",
       "    <tr>\n",
       "      <th>9</th>\n",
       "      <td>53.0</td>\n",
       "      <td>37758</td>\n",
       "      <td>Intake</td>\n",
       "      <td>Female</td>\n",
       "      <td>Hispanic or Latino</td>\n",
       "      <td>Hispanic</td>\n",
       "      <td>unknwon</td>\n",
       "      <td>0</td>\n",
       "      <td>Middle_aged</td>\n",
       "      <td>0.0</td>\n",
       "      <td>0.0</td>\n",
       "    </tr>\n",
       "    <tr>\n",
       "      <th>13</th>\n",
       "      <td>96.0</td>\n",
       "      <td>37853</td>\n",
       "      <td>Intake</td>\n",
       "      <td>Female</td>\n",
       "      <td>Not Hispanic or Latino</td>\n",
       "      <td>White</td>\n",
       "      <td>unknwon</td>\n",
       "      <td>0</td>\n",
       "      <td>Old</td>\n",
       "      <td>0.0</td>\n",
       "      <td>0.0</td>\n",
       "    </tr>\n",
       "    <tr>\n",
       "      <th>14</th>\n",
       "      <td>113.0</td>\n",
       "      <td>37914</td>\n",
       "      <td>Post</td>\n",
       "      <td>Female</td>\n",
       "      <td>Not Hispanic or Latino</td>\n",
       "      <td>White</td>\n",
       "      <td>unknwon</td>\n",
       "      <td>0</td>\n",
       "      <td>Middle_aged</td>\n",
       "      <td>1857.0</td>\n",
       "      <td>38.0</td>\n",
       "    </tr>\n",
       "    <tr>\n",
       "      <th>20</th>\n",
       "      <td>160.0</td>\n",
       "      <td>38022</td>\n",
       "      <td>Post</td>\n",
       "      <td>Female</td>\n",
       "      <td>Not Hispanic or Latino</td>\n",
       "      <td>White</td>\n",
       "      <td>unknwon</td>\n",
       "      <td>0</td>\n",
       "      <td>Middle_aged</td>\n",
       "      <td>830.0</td>\n",
       "      <td>15.0</td>\n",
       "    </tr>\n",
       "    <tr>\n",
       "      <th>22</th>\n",
       "      <td>173.0</td>\n",
       "      <td>38047</td>\n",
       "      <td>Post</td>\n",
       "      <td>Female</td>\n",
       "      <td>Not Hispanic or Latino</td>\n",
       "      <td>White</td>\n",
       "      <td>unknwon</td>\n",
       "      <td>0</td>\n",
       "      <td>Middle_aged</td>\n",
       "      <td>430.0</td>\n",
       "      <td>8.0</td>\n",
       "    </tr>\n",
       "  </tbody>\n",
       "</table>\n",
       "</div>"
      ],
      "text/plain": [
       "    Unnamed: 0 ClientId InterviewIntake  Gender               Ethnicity  \\\n",
       "9         53.0    37758          Intake  Female      Hispanic or Latino   \n",
       "13        96.0    37853          Intake  Female  Not Hispanic or Latino   \n",
       "14       113.0    37914            Post  Female  Not Hispanic or Latino   \n",
       "20       160.0    38022            Post  Female  Not Hispanic or Latino   \n",
       "22       173.0    38047            Post  Female  Not Hispanic or Latino   \n",
       "\n",
       "   Ethnorace  Veteran E4CommitedCrime     AgeGroup  ServiceAmt sum  \\\n",
       "9   Hispanic  unknwon               0  Middle_aged             0.0   \n",
       "13     White  unknwon               0          Old             0.0   \n",
       "14     White  unknwon               0  Middle_aged          1857.0   \n",
       "20     White  unknwon               0  Middle_aged           830.0   \n",
       "22     White  unknwon               0  Middle_aged           430.0   \n",
       "\n",
       "    ServiceNum Total  \n",
       "9                0.0  \n",
       "13               0.0  \n",
       "14              38.0  \n",
       "20              15.0  \n",
       "22               8.0  "
      ]
     },
     "execution_count": 218,
     "metadata": {},
     "output_type": "execute_result"
    }
   ],
   "source": [
    "Crime_varData.head()"
   ]
  },
  {
   "cell_type": "code",
   "execution_count": 219,
   "metadata": {},
   "outputs": [],
   "source": [
    "Crime_varData.to_csv('Crime_varData.csv')"
   ]
  },
  {
   "cell_type": "code",
   "execution_count": 220,
   "metadata": {},
   "outputs": [],
   "source": [
    "Employment_varData =  final_SurveyData.drop(['C1LivingSituationId','D2EducationLevelId','E4CommitedCrime','B1aAlcohol','B1cIllegalDrugs','C2AddictionStressProblemId', 'C4AddictionEmotionalProblemId','E1TimesArrested','F5aDepression','F5bAnxiety'], axis=1)"
   ]
  },
  {
   "cell_type": "code",
   "execution_count": 221,
   "metadata": {},
   "outputs": [],
   "source": [
    "Employment_varData.dropna(subset = [\"ServiceAmt sum\"], inplace=True)\n",
    "Employment_varData.dropna(subset = [\"ServiceNum Total\"], inplace=True)"
   ]
  },
  {
   "cell_type": "code",
   "execution_count": 222,
   "metadata": {
    "scrolled": false
   },
   "outputs": [
    {
     "data": {
      "text/html": [
       "<div>\n",
       "<style scoped>\n",
       "    .dataframe tbody tr th:only-of-type {\n",
       "        vertical-align: middle;\n",
       "    }\n",
       "\n",
       "    .dataframe tbody tr th {\n",
       "        vertical-align: top;\n",
       "    }\n",
       "\n",
       "    .dataframe thead th {\n",
       "        text-align: right;\n",
       "    }\n",
       "</style>\n",
       "<table border=\"1\" class=\"dataframe\">\n",
       "  <thead>\n",
       "    <tr style=\"text-align: right;\">\n",
       "      <th></th>\n",
       "      <th>Unnamed: 0</th>\n",
       "      <th>ClientId</th>\n",
       "      <th>InterviewIntake</th>\n",
       "      <th>Gender</th>\n",
       "      <th>Ethnicity</th>\n",
       "      <th>Ethnorace</th>\n",
       "      <th>Veteran</th>\n",
       "      <th>D3EmploymentSituationId</th>\n",
       "      <th>AgeGroup</th>\n",
       "      <th>ServiceAmt sum</th>\n",
       "      <th>ServiceNum Total</th>\n",
       "    </tr>\n",
       "  </thead>\n",
       "  <tbody>\n",
       "    <tr>\n",
       "      <th>9</th>\n",
       "      <td>53.0</td>\n",
       "      <td>37758</td>\n",
       "      <td>Intake</td>\n",
       "      <td>Female</td>\n",
       "      <td>Hispanic or Latino</td>\n",
       "      <td>Hispanic</td>\n",
       "      <td>unknwon</td>\n",
       "      <td>Unemployed, Looking for work</td>\n",
       "      <td>Middle_aged</td>\n",
       "      <td>0.0</td>\n",
       "      <td>0.0</td>\n",
       "    </tr>\n",
       "    <tr>\n",
       "      <th>13</th>\n",
       "      <td>96.0</td>\n",
       "      <td>37853</td>\n",
       "      <td>Intake</td>\n",
       "      <td>Female</td>\n",
       "      <td>Not Hispanic or Latino</td>\n",
       "      <td>White</td>\n",
       "      <td>unknwon</td>\n",
       "      <td>Unemployed, Not looking for work</td>\n",
       "      <td>Old</td>\n",
       "      <td>0.0</td>\n",
       "      <td>0.0</td>\n",
       "    </tr>\n",
       "    <tr>\n",
       "      <th>14</th>\n",
       "      <td>113.0</td>\n",
       "      <td>37914</td>\n",
       "      <td>Post</td>\n",
       "      <td>Female</td>\n",
       "      <td>Not Hispanic or Latino</td>\n",
       "      <td>White</td>\n",
       "      <td>unknwon</td>\n",
       "      <td>Employed</td>\n",
       "      <td>Middle_aged</td>\n",
       "      <td>1857.0</td>\n",
       "      <td>38.0</td>\n",
       "    </tr>\n",
       "    <tr>\n",
       "      <th>20</th>\n",
       "      <td>160.0</td>\n",
       "      <td>38022</td>\n",
       "      <td>Post</td>\n",
       "      <td>Female</td>\n",
       "      <td>Not Hispanic or Latino</td>\n",
       "      <td>White</td>\n",
       "      <td>unknwon</td>\n",
       "      <td>Employed</td>\n",
       "      <td>Middle_aged</td>\n",
       "      <td>830.0</td>\n",
       "      <td>15.0</td>\n",
       "    </tr>\n",
       "    <tr>\n",
       "      <th>22</th>\n",
       "      <td>173.0</td>\n",
       "      <td>38047</td>\n",
       "      <td>Post</td>\n",
       "      <td>Female</td>\n",
       "      <td>Not Hispanic or Latino</td>\n",
       "      <td>White</td>\n",
       "      <td>unknwon</td>\n",
       "      <td>Unemployed, Not looking for work</td>\n",
       "      <td>Middle_aged</td>\n",
       "      <td>430.0</td>\n",
       "      <td>8.0</td>\n",
       "    </tr>\n",
       "  </tbody>\n",
       "</table>\n",
       "</div>"
      ],
      "text/plain": [
       "    Unnamed: 0 ClientId InterviewIntake  Gender               Ethnicity  \\\n",
       "9         53.0    37758          Intake  Female      Hispanic or Latino   \n",
       "13        96.0    37853          Intake  Female  Not Hispanic or Latino   \n",
       "14       113.0    37914            Post  Female  Not Hispanic or Latino   \n",
       "20       160.0    38022            Post  Female  Not Hispanic or Latino   \n",
       "22       173.0    38047            Post  Female  Not Hispanic or Latino   \n",
       "\n",
       "   Ethnorace  Veteran           D3EmploymentSituationId     AgeGroup  \\\n",
       "9   Hispanic  unknwon      Unemployed, Looking for work  Middle_aged   \n",
       "13     White  unknwon  Unemployed, Not looking for work          Old   \n",
       "14     White  unknwon                          Employed  Middle_aged   \n",
       "20     White  unknwon                          Employed  Middle_aged   \n",
       "22     White  unknwon  Unemployed, Not looking for work  Middle_aged   \n",
       "\n",
       "    ServiceAmt sum  ServiceNum Total  \n",
       "9              0.0               0.0  \n",
       "13             0.0               0.0  \n",
       "14          1857.0              38.0  \n",
       "20           830.0              15.0  \n",
       "22           430.0               8.0  "
      ]
     },
     "execution_count": 222,
     "metadata": {},
     "output_type": "execute_result"
    }
   ],
   "source": [
    "Employment_varData.head()"
   ]
  },
  {
   "cell_type": "code",
   "execution_count": 223,
   "metadata": {},
   "outputs": [],
   "source": [
    "Employment_varData.to_csv('Employment_varData.csv')"
   ]
  },
  {
   "cell_type": "code",
   "execution_count": 224,
   "metadata": {},
   "outputs": [],
   "source": [
    "DrugUse_varData =  final_SurveyData.drop(['C1LivingSituationId','D2EducationLevelId','E4CommitedCrime','B1aAlcohol','D3EmploymentSituationId','C2AddictionStressProblemId', 'C4AddictionEmotionalProblemId','E1TimesArrested','F5aDepression','F5bAnxiety'], axis=1)"
   ]
  },
  {
   "cell_type": "code",
   "execution_count": 225,
   "metadata": {},
   "outputs": [],
   "source": [
    "DrugUse_varData.dropna(subset = [\"ServiceAmt sum\"], inplace=True)\n",
    "DrugUse_varData.dropna(subset = [\"ServiceNum Total\"], inplace=True)"
   ]
  },
  {
   "cell_type": "code",
   "execution_count": 226,
   "metadata": {},
   "outputs": [
    {
     "data": {
      "text/html": [
       "<div>\n",
       "<style scoped>\n",
       "    .dataframe tbody tr th:only-of-type {\n",
       "        vertical-align: middle;\n",
       "    }\n",
       "\n",
       "    .dataframe tbody tr th {\n",
       "        vertical-align: top;\n",
       "    }\n",
       "\n",
       "    .dataframe thead th {\n",
       "        text-align: right;\n",
       "    }\n",
       "</style>\n",
       "<table border=\"1\" class=\"dataframe\">\n",
       "  <thead>\n",
       "    <tr style=\"text-align: right;\">\n",
       "      <th></th>\n",
       "      <th>Unnamed: 0</th>\n",
       "      <th>ClientId</th>\n",
       "      <th>InterviewIntake</th>\n",
       "      <th>Gender</th>\n",
       "      <th>Ethnicity</th>\n",
       "      <th>Ethnorace</th>\n",
       "      <th>Veteran</th>\n",
       "      <th>B1cIllegalDrugs</th>\n",
       "      <th>AgeGroup</th>\n",
       "      <th>ServiceAmt sum</th>\n",
       "      <th>ServiceNum Total</th>\n",
       "    </tr>\n",
       "  </thead>\n",
       "  <tbody>\n",
       "    <tr>\n",
       "      <th>9</th>\n",
       "      <td>53.0</td>\n",
       "      <td>37758</td>\n",
       "      <td>Intake</td>\n",
       "      <td>Female</td>\n",
       "      <td>Hispanic or Latino</td>\n",
       "      <td>Hispanic</td>\n",
       "      <td>unknwon</td>\n",
       "      <td>0</td>\n",
       "      <td>Middle_aged</td>\n",
       "      <td>0.0</td>\n",
       "      <td>0.0</td>\n",
       "    </tr>\n",
       "    <tr>\n",
       "      <th>13</th>\n",
       "      <td>96.0</td>\n",
       "      <td>37853</td>\n",
       "      <td>Intake</td>\n",
       "      <td>Female</td>\n",
       "      <td>Not Hispanic or Latino</td>\n",
       "      <td>White</td>\n",
       "      <td>unknwon</td>\n",
       "      <td>0</td>\n",
       "      <td>Old</td>\n",
       "      <td>0.0</td>\n",
       "      <td>0.0</td>\n",
       "    </tr>\n",
       "    <tr>\n",
       "      <th>14</th>\n",
       "      <td>113.0</td>\n",
       "      <td>37914</td>\n",
       "      <td>Post</td>\n",
       "      <td>Female</td>\n",
       "      <td>Not Hispanic or Latino</td>\n",
       "      <td>White</td>\n",
       "      <td>unknwon</td>\n",
       "      <td>0</td>\n",
       "      <td>Middle_aged</td>\n",
       "      <td>1857.0</td>\n",
       "      <td>38.0</td>\n",
       "    </tr>\n",
       "    <tr>\n",
       "      <th>20</th>\n",
       "      <td>160.0</td>\n",
       "      <td>38022</td>\n",
       "      <td>Post</td>\n",
       "      <td>Female</td>\n",
       "      <td>Not Hispanic or Latino</td>\n",
       "      <td>White</td>\n",
       "      <td>unknwon</td>\n",
       "      <td>0</td>\n",
       "      <td>Middle_aged</td>\n",
       "      <td>830.0</td>\n",
       "      <td>15.0</td>\n",
       "    </tr>\n",
       "    <tr>\n",
       "      <th>22</th>\n",
       "      <td>173.0</td>\n",
       "      <td>38047</td>\n",
       "      <td>Post</td>\n",
       "      <td>Female</td>\n",
       "      <td>Not Hispanic or Latino</td>\n",
       "      <td>White</td>\n",
       "      <td>unknwon</td>\n",
       "      <td>0</td>\n",
       "      <td>Middle_aged</td>\n",
       "      <td>430.0</td>\n",
       "      <td>8.0</td>\n",
       "    </tr>\n",
       "  </tbody>\n",
       "</table>\n",
       "</div>"
      ],
      "text/plain": [
       "    Unnamed: 0 ClientId InterviewIntake  Gender               Ethnicity  \\\n",
       "9         53.0    37758          Intake  Female      Hispanic or Latino   \n",
       "13        96.0    37853          Intake  Female  Not Hispanic or Latino   \n",
       "14       113.0    37914            Post  Female  Not Hispanic or Latino   \n",
       "20       160.0    38022            Post  Female  Not Hispanic or Latino   \n",
       "22       173.0    38047            Post  Female  Not Hispanic or Latino   \n",
       "\n",
       "   Ethnorace  Veteran B1cIllegalDrugs     AgeGroup  ServiceAmt sum  \\\n",
       "9   Hispanic  unknwon               0  Middle_aged             0.0   \n",
       "13     White  unknwon               0          Old             0.0   \n",
       "14     White  unknwon               0  Middle_aged          1857.0   \n",
       "20     White  unknwon               0  Middle_aged           830.0   \n",
       "22     White  unknwon               0  Middle_aged           430.0   \n",
       "\n",
       "    ServiceNum Total  \n",
       "9                0.0  \n",
       "13               0.0  \n",
       "14              38.0  \n",
       "20              15.0  \n",
       "22               8.0  "
      ]
     },
     "execution_count": 226,
     "metadata": {},
     "output_type": "execute_result"
    }
   ],
   "source": [
    "DrugUse_varData.head()"
   ]
  },
  {
   "cell_type": "code",
   "execution_count": 227,
   "metadata": {},
   "outputs": [],
   "source": [
    "DrugUse_varData.to_csv('DrugUse_varData.csv')"
   ]
  },
  {
   "cell_type": "markdown",
   "metadata": {},
   "source": [
    "#  summary statistics "
   ]
  },
  {
   "cell_type": "code",
   "execution_count": 140,
   "metadata": {},
   "outputs": [
    {
     "ename": "ValueError",
     "evalue": "no results",
     "output_type": "error",
     "traceback": [
      "\u001b[1;31m---------------------------------------------------------------------------\u001b[0m",
      "\u001b[1;31mValueError\u001b[0m                                Traceback (most recent call last)",
      "\u001b[1;32m<ipython-input-140-d20e37f32f9f>\u001b[0m in \u001b[0;36m<module>\u001b[1;34m\u001b[0m\n\u001b[1;32m----> 1\u001b[1;33m AlL_ClientData.agg({'D2EducationLevelId': ['min', 'max', 'median', 'mean','sem'],'ServiceAmt sum': ['min', 'max', 'median', 'mean','sem'],\n\u001b[0m\u001b[0;32m      2\u001b[0m                    'ServiceNum Total': ['min', 'max', 'median', 'mean','sem'],'age': ['min', 'max', 'median', 'mean','sem']})\n",
      "\u001b[1;32mC:\\ProgramData\\Anaconda3\\lib\\site-packages\\pandas\\core\\frame.py\u001b[0m in \u001b[0;36maggregate\u001b[1;34m(self, func, axis, *args, **kwargs)\u001b[0m\n\u001b[0;32m   6704\u001b[0m         \u001b[0mresult\u001b[0m \u001b[1;33m=\u001b[0m \u001b[1;32mNone\u001b[0m\u001b[1;33m\u001b[0m\u001b[1;33m\u001b[0m\u001b[0m\n\u001b[0;32m   6705\u001b[0m         \u001b[1;32mtry\u001b[0m\u001b[1;33m:\u001b[0m\u001b[1;33m\u001b[0m\u001b[1;33m\u001b[0m\u001b[0m\n\u001b[1;32m-> 6706\u001b[1;33m             \u001b[0mresult\u001b[0m\u001b[1;33m,\u001b[0m \u001b[0mhow\u001b[0m \u001b[1;33m=\u001b[0m \u001b[0mself\u001b[0m\u001b[1;33m.\u001b[0m\u001b[0m_aggregate\u001b[0m\u001b[1;33m(\u001b[0m\u001b[0mfunc\u001b[0m\u001b[1;33m,\u001b[0m \u001b[0maxis\u001b[0m\u001b[1;33m=\u001b[0m\u001b[0maxis\u001b[0m\u001b[1;33m,\u001b[0m \u001b[1;33m*\u001b[0m\u001b[0margs\u001b[0m\u001b[1;33m,\u001b[0m \u001b[1;33m**\u001b[0m\u001b[0mkwargs\u001b[0m\u001b[1;33m)\u001b[0m\u001b[1;33m\u001b[0m\u001b[1;33m\u001b[0m\u001b[0m\n\u001b[0m\u001b[0;32m   6707\u001b[0m         \u001b[1;32mexcept\u001b[0m \u001b[0mTypeError\u001b[0m\u001b[1;33m:\u001b[0m\u001b[1;33m\u001b[0m\u001b[1;33m\u001b[0m\u001b[0m\n\u001b[0;32m   6708\u001b[0m             \u001b[1;32mpass\u001b[0m\u001b[1;33m\u001b[0m\u001b[1;33m\u001b[0m\u001b[0m\n",
      "\u001b[1;32mC:\\ProgramData\\Anaconda3\\lib\\site-packages\\pandas\\core\\frame.py\u001b[0m in \u001b[0;36m_aggregate\u001b[1;34m(self, arg, axis, *args, **kwargs)\u001b[0m\n\u001b[0;32m   6718\u001b[0m             \u001b[0mresult\u001b[0m \u001b[1;33m=\u001b[0m \u001b[0mresult\u001b[0m\u001b[1;33m.\u001b[0m\u001b[0mT\u001b[0m \u001b[1;32mif\u001b[0m \u001b[0mresult\u001b[0m \u001b[1;32mis\u001b[0m \u001b[1;32mnot\u001b[0m \u001b[1;32mNone\u001b[0m \u001b[1;32melse\u001b[0m \u001b[0mresult\u001b[0m\u001b[1;33m\u001b[0m\u001b[1;33m\u001b[0m\u001b[0m\n\u001b[0;32m   6719\u001b[0m             \u001b[1;32mreturn\u001b[0m \u001b[0mresult\u001b[0m\u001b[1;33m,\u001b[0m \u001b[0mhow\u001b[0m\u001b[1;33m\u001b[0m\u001b[1;33m\u001b[0m\u001b[0m\n\u001b[1;32m-> 6720\u001b[1;33m         \u001b[1;32mreturn\u001b[0m \u001b[0msuper\u001b[0m\u001b[1;33m(\u001b[0m\u001b[1;33m)\u001b[0m\u001b[1;33m.\u001b[0m\u001b[0m_aggregate\u001b[0m\u001b[1;33m(\u001b[0m\u001b[0marg\u001b[0m\u001b[1;33m,\u001b[0m \u001b[1;33m*\u001b[0m\u001b[0margs\u001b[0m\u001b[1;33m,\u001b[0m \u001b[1;33m**\u001b[0m\u001b[0mkwargs\u001b[0m\u001b[1;33m)\u001b[0m\u001b[1;33m\u001b[0m\u001b[1;33m\u001b[0m\u001b[0m\n\u001b[0m\u001b[0;32m   6721\u001b[0m \u001b[1;33m\u001b[0m\u001b[0m\n\u001b[0;32m   6722\u001b[0m     \u001b[0magg\u001b[0m \u001b[1;33m=\u001b[0m \u001b[0maggregate\u001b[0m\u001b[1;33m\u001b[0m\u001b[1;33m\u001b[0m\u001b[0m\n",
      "\u001b[1;32mC:\\ProgramData\\Anaconda3\\lib\\site-packages\\pandas\\core\\base.py\u001b[0m in \u001b[0;36m_aggregate\u001b[1;34m(self, arg, *args, **kwargs)\u001b[0m\n\u001b[0;32m    417\u001b[0m \u001b[1;33m\u001b[0m\u001b[0m\n\u001b[0;32m    418\u001b[0m                 \u001b[1;32mtry\u001b[0m\u001b[1;33m:\u001b[0m\u001b[1;33m\u001b[0m\u001b[1;33m\u001b[0m\u001b[0m\n\u001b[1;32m--> 419\u001b[1;33m                     \u001b[0mresult\u001b[0m \u001b[1;33m=\u001b[0m \u001b[0m_agg\u001b[0m\u001b[1;33m(\u001b[0m\u001b[0marg\u001b[0m\u001b[1;33m,\u001b[0m \u001b[0m_agg_1dim\u001b[0m\u001b[1;33m)\u001b[0m\u001b[1;33m\u001b[0m\u001b[1;33m\u001b[0m\u001b[0m\n\u001b[0m\u001b[0;32m    420\u001b[0m                 \u001b[1;32mexcept\u001b[0m \u001b[0mSpecificationError\u001b[0m\u001b[1;33m:\u001b[0m\u001b[1;33m\u001b[0m\u001b[1;33m\u001b[0m\u001b[0m\n\u001b[0;32m    421\u001b[0m \u001b[1;33m\u001b[0m\u001b[0m\n",
      "\u001b[1;32mC:\\ProgramData\\Anaconda3\\lib\\site-packages\\pandas\\core\\base.py\u001b[0m in \u001b[0;36m_agg\u001b[1;34m(arg, func)\u001b[0m\n\u001b[0;32m    384\u001b[0m                 \u001b[0mresult\u001b[0m \u001b[1;33m=\u001b[0m \u001b[1;33m{\u001b[0m\u001b[1;33m}\u001b[0m\u001b[1;33m\u001b[0m\u001b[1;33m\u001b[0m\u001b[0m\n\u001b[0;32m    385\u001b[0m                 \u001b[1;32mfor\u001b[0m \u001b[0mfname\u001b[0m\u001b[1;33m,\u001b[0m \u001b[0magg_how\u001b[0m \u001b[1;32min\u001b[0m \u001b[0marg\u001b[0m\u001b[1;33m.\u001b[0m\u001b[0mitems\u001b[0m\u001b[1;33m(\u001b[0m\u001b[1;33m)\u001b[0m\u001b[1;33m:\u001b[0m\u001b[1;33m\u001b[0m\u001b[1;33m\u001b[0m\u001b[0m\n\u001b[1;32m--> 386\u001b[1;33m                     \u001b[0mresult\u001b[0m\u001b[1;33m[\u001b[0m\u001b[0mfname\u001b[0m\u001b[1;33m]\u001b[0m \u001b[1;33m=\u001b[0m \u001b[0mfunc\u001b[0m\u001b[1;33m(\u001b[0m\u001b[0mfname\u001b[0m\u001b[1;33m,\u001b[0m \u001b[0magg_how\u001b[0m\u001b[1;33m)\u001b[0m\u001b[1;33m\u001b[0m\u001b[1;33m\u001b[0m\u001b[0m\n\u001b[0m\u001b[0;32m    387\u001b[0m                 \u001b[1;32mreturn\u001b[0m \u001b[0mresult\u001b[0m\u001b[1;33m\u001b[0m\u001b[1;33m\u001b[0m\u001b[0m\n\u001b[0;32m    388\u001b[0m \u001b[1;33m\u001b[0m\u001b[0m\n",
      "\u001b[1;32mC:\\ProgramData\\Anaconda3\\lib\\site-packages\\pandas\\core\\base.py\u001b[0m in \u001b[0;36m_agg_1dim\u001b[1;34m(name, how, subset)\u001b[0m\n\u001b[0;32m    368\u001b[0m                         \u001b[1;34m\"nested dictionary is ambiguous in aggregation\"\u001b[0m\u001b[1;33m\u001b[0m\u001b[1;33m\u001b[0m\u001b[0m\n\u001b[0;32m    369\u001b[0m                     )\n\u001b[1;32m--> 370\u001b[1;33m                 \u001b[1;32mreturn\u001b[0m \u001b[0mcolg\u001b[0m\u001b[1;33m.\u001b[0m\u001b[0maggregate\u001b[0m\u001b[1;33m(\u001b[0m\u001b[0mhow\u001b[0m\u001b[1;33m)\u001b[0m\u001b[1;33m\u001b[0m\u001b[1;33m\u001b[0m\u001b[0m\n\u001b[0m\u001b[0;32m    371\u001b[0m \u001b[1;33m\u001b[0m\u001b[0m\n\u001b[0;32m    372\u001b[0m             \u001b[1;32mdef\u001b[0m \u001b[0m_agg_2dim\u001b[0m\u001b[1;33m(\u001b[0m\u001b[0mname\u001b[0m\u001b[1;33m,\u001b[0m \u001b[0mhow\u001b[0m\u001b[1;33m)\u001b[0m\u001b[1;33m:\u001b[0m\u001b[1;33m\u001b[0m\u001b[1;33m\u001b[0m\u001b[0m\n",
      "\u001b[1;32mC:\\ProgramData\\Anaconda3\\lib\\site-packages\\pandas\\core\\series.py\u001b[0m in \u001b[0;36maggregate\u001b[1;34m(self, func, axis, *args, **kwargs)\u001b[0m\n\u001b[0;32m   3686\u001b[0m         \u001b[1;31m# Validate the axis parameter\u001b[0m\u001b[1;33m\u001b[0m\u001b[1;33m\u001b[0m\u001b[1;33m\u001b[0m\u001b[0m\n\u001b[0;32m   3687\u001b[0m         \u001b[0mself\u001b[0m\u001b[1;33m.\u001b[0m\u001b[0m_get_axis_number\u001b[0m\u001b[1;33m(\u001b[0m\u001b[0maxis\u001b[0m\u001b[1;33m)\u001b[0m\u001b[1;33m\u001b[0m\u001b[1;33m\u001b[0m\u001b[0m\n\u001b[1;32m-> 3688\u001b[1;33m         \u001b[0mresult\u001b[0m\u001b[1;33m,\u001b[0m \u001b[0mhow\u001b[0m \u001b[1;33m=\u001b[0m \u001b[0mself\u001b[0m\u001b[1;33m.\u001b[0m\u001b[0m_aggregate\u001b[0m\u001b[1;33m(\u001b[0m\u001b[0mfunc\u001b[0m\u001b[1;33m,\u001b[0m \u001b[1;33m*\u001b[0m\u001b[0margs\u001b[0m\u001b[1;33m,\u001b[0m \u001b[1;33m**\u001b[0m\u001b[0mkwargs\u001b[0m\u001b[1;33m)\u001b[0m\u001b[1;33m\u001b[0m\u001b[1;33m\u001b[0m\u001b[0m\n\u001b[0m\u001b[0;32m   3689\u001b[0m         \u001b[1;32mif\u001b[0m \u001b[0mresult\u001b[0m \u001b[1;32mis\u001b[0m \u001b[1;32mNone\u001b[0m\u001b[1;33m:\u001b[0m\u001b[1;33m\u001b[0m\u001b[1;33m\u001b[0m\u001b[0m\n\u001b[0;32m   3690\u001b[0m \u001b[1;33m\u001b[0m\u001b[0m\n",
      "\u001b[1;32mC:\\ProgramData\\Anaconda3\\lib\\site-packages\\pandas\\core\\base.py\u001b[0m in \u001b[0;36m_aggregate\u001b[1;34m(self, arg, *args, **kwargs)\u001b[0m\n\u001b[0;32m    475\u001b[0m         \u001b[1;32melif\u001b[0m \u001b[0mis_list_like\u001b[0m\u001b[1;33m(\u001b[0m\u001b[0marg\u001b[0m\u001b[1;33m)\u001b[0m\u001b[1;33m:\u001b[0m\u001b[1;33m\u001b[0m\u001b[1;33m\u001b[0m\u001b[0m\n\u001b[0;32m    476\u001b[0m             \u001b[1;31m# we require a list, but not an 'str'\u001b[0m\u001b[1;33m\u001b[0m\u001b[1;33m\u001b[0m\u001b[1;33m\u001b[0m\u001b[0m\n\u001b[1;32m--> 477\u001b[1;33m             \u001b[1;32mreturn\u001b[0m \u001b[0mself\u001b[0m\u001b[1;33m.\u001b[0m\u001b[0m_aggregate_multiple_funcs\u001b[0m\u001b[1;33m(\u001b[0m\u001b[0marg\u001b[0m\u001b[1;33m,\u001b[0m \u001b[0m_axis\u001b[0m\u001b[1;33m=\u001b[0m\u001b[0m_axis\u001b[0m\u001b[1;33m)\u001b[0m\u001b[1;33m,\u001b[0m \u001b[1;32mNone\u001b[0m\u001b[1;33m\u001b[0m\u001b[1;33m\u001b[0m\u001b[0m\n\u001b[0m\u001b[0;32m    478\u001b[0m         \u001b[1;32melse\u001b[0m\u001b[1;33m:\u001b[0m\u001b[1;33m\u001b[0m\u001b[1;33m\u001b[0m\u001b[0m\n\u001b[0;32m    479\u001b[0m             \u001b[0mresult\u001b[0m \u001b[1;33m=\u001b[0m \u001b[1;32mNone\u001b[0m\u001b[1;33m\u001b[0m\u001b[1;33m\u001b[0m\u001b[0m\n",
      "\u001b[1;32mC:\\ProgramData\\Anaconda3\\lib\\site-packages\\pandas\\core\\base.py\u001b[0m in \u001b[0;36m_aggregate_multiple_funcs\u001b[1;34m(self, arg, _axis)\u001b[0m\n\u001b[0;32m    540\u001b[0m         \u001b[1;31m# if we are empty\u001b[0m\u001b[1;33m\u001b[0m\u001b[1;33m\u001b[0m\u001b[1;33m\u001b[0m\u001b[0m\n\u001b[0;32m    541\u001b[0m         \u001b[1;32mif\u001b[0m \u001b[1;32mnot\u001b[0m \u001b[0mlen\u001b[0m\u001b[1;33m(\u001b[0m\u001b[0mresults\u001b[0m\u001b[1;33m)\u001b[0m\u001b[1;33m:\u001b[0m\u001b[1;33m\u001b[0m\u001b[1;33m\u001b[0m\u001b[0m\n\u001b[1;32m--> 542\u001b[1;33m             \u001b[1;32mraise\u001b[0m \u001b[0mValueError\u001b[0m\u001b[1;33m(\u001b[0m\u001b[1;34m\"no results\"\u001b[0m\u001b[1;33m)\u001b[0m\u001b[1;33m\u001b[0m\u001b[1;33m\u001b[0m\u001b[0m\n\u001b[0m\u001b[0;32m    543\u001b[0m \u001b[1;33m\u001b[0m\u001b[0m\n\u001b[0;32m    544\u001b[0m         \u001b[1;32mtry\u001b[0m\u001b[1;33m:\u001b[0m\u001b[1;33m\u001b[0m\u001b[1;33m\u001b[0m\u001b[0m\n",
      "\u001b[1;31mValueError\u001b[0m: no results"
     ]
    }
   ],
   "source": [
    "AlL_ClientData.agg({'D2EducationLevelId': ['min', 'max', 'median', 'mean','sem'],'ServiceAmt sum': ['min', 'max', 'median', 'mean','sem'],\n",
    "                   'ServiceNum Total': ['min', 'max', 'median', 'mean','sem'],'age': ['min', 'max', 'median', 'mean','sem']})"
   ]
  },
  {
   "cell_type": "code",
   "execution_count": null,
   "metadata": {},
   "outputs": [],
   "source": [
    "AlL_ClientData['Ethnorace'].value_counts()\n"
   ]
  },
  {
   "cell_type": "code",
   "execution_count": null,
   "metadata": {},
   "outputs": [],
   "source": [
    "AlL_ClientData['Veteran'].value_counts()\n"
   ]
  },
  {
   "cell_type": "code",
   "execution_count": null,
   "metadata": {},
   "outputs": [],
   "source": [
    "AlL_ClientData['Gender'].value_counts()\n"
   ]
  },
  {
   "cell_type": "code",
   "execution_count": null,
   "metadata": {},
   "outputs": [],
   "source": []
  },
  {
   "cell_type": "code",
   "execution_count": 141,
   "metadata": {},
   "outputs": [
    {
     "data": {
      "text/html": [
       "<div>\n",
       "<style scoped>\n",
       "    .dataframe tbody tr th:only-of-type {\n",
       "        vertical-align: middle;\n",
       "    }\n",
       "\n",
       "    .dataframe tbody tr th {\n",
       "        vertical-align: top;\n",
       "    }\n",
       "\n",
       "    .dataframe thead th {\n",
       "        text-align: right;\n",
       "    }\n",
       "</style>\n",
       "<table border=\"1\" class=\"dataframe\">\n",
       "  <thead>\n",
       "    <tr style=\"text-align: right;\">\n",
       "      <th></th>\n",
       "      <th>E4CommitedCrime</th>\n",
       "      <th>D3EmploymentSituationId</th>\n",
       "      <th>B1cIllegalDrugs</th>\n",
       "    </tr>\n",
       "  </thead>\n",
       "  <tbody>\n",
       "    <tr>\n",
       "      <th>max</th>\n",
       "      <td>400.000000</td>\n",
       "      <td>Unemployed, retired</td>\n",
       "      <td>30.000000</td>\n",
       "    </tr>\n",
       "    <tr>\n",
       "      <th>mean</th>\n",
       "      <td>2.122286</td>\n",
       "      <td>NaN</td>\n",
       "      <td>2.248430</td>\n",
       "    </tr>\n",
       "    <tr>\n",
       "      <th>median</th>\n",
       "      <td>0.000000</td>\n",
       "      <td>NaN</td>\n",
       "      <td>0.000000</td>\n",
       "    </tr>\n",
       "    <tr>\n",
       "      <th>min</th>\n",
       "      <td>0.000000</td>\n",
       "      <td>Employed full time</td>\n",
       "      <td>0.000000</td>\n",
       "    </tr>\n",
       "    <tr>\n",
       "      <th>sem</th>\n",
       "      <td>0.049014</td>\n",
       "      <td>NaN</td>\n",
       "      <td>0.045057</td>\n",
       "    </tr>\n",
       "  </tbody>\n",
       "</table>\n",
       "</div>"
      ],
      "text/plain": [
       "        E4CommitedCrime D3EmploymentSituationId  B1cIllegalDrugs\n",
       "max          400.000000     Unemployed, retired        30.000000\n",
       "mean           2.122286                     NaN         2.248430\n",
       "median         0.000000                     NaN         0.000000\n",
       "min            0.000000      Employed full time         0.000000\n",
       "sem            0.049014                     NaN         0.045057"
      ]
     },
     "execution_count": 141,
     "metadata": {},
     "output_type": "execute_result"
    }
   ],
   "source": [
    "final_SurveyData.agg({'E4CommitedCrime': ['min', 'max', 'median', 'mean','sem'],'D3EmploymentSituationId': ['min', 'max', 'median', 'mean','sem'],\n",
    "                   'B1cIllegalDrugs': ['min', 'max', 'median', 'mean','sem']})\n"
   ]
  },
  {
   "cell_type": "code",
   "execution_count": null,
   "metadata": {},
   "outputs": [],
   "source": []
  },
  {
   "cell_type": "code",
   "execution_count": null,
   "metadata": {},
   "outputs": [],
   "source": []
  },
  {
   "cell_type": "markdown",
   "metadata": {},
   "source": [
    "# # T test On Target Variebles"
   ]
  },
  {
   "cell_type": "code",
   "execution_count": 343,
   "metadata": {
    "scrolled": false
   },
   "outputs": [
    {
     "data": {
      "text/html": [
       "<div>\n",
       "<style scoped>\n",
       "    .dataframe tbody tr th:only-of-type {\n",
       "        vertical-align: middle;\n",
       "    }\n",
       "\n",
       "    .dataframe tbody tr th {\n",
       "        vertical-align: top;\n",
       "    }\n",
       "\n",
       "    .dataframe thead th {\n",
       "        text-align: right;\n",
       "    }\n",
       "</style>\n",
       "<table border=\"1\" class=\"dataframe\">\n",
       "  <thead>\n",
       "    <tr style=\"text-align: right;\">\n",
       "      <th></th>\n",
       "      <th>InterviewIntake</th>\n",
       "      <th>Gender</th>\n",
       "      <th>Ethnicity</th>\n",
       "      <th>Ethnorace</th>\n",
       "      <th>Veteran</th>\n",
       "      <th>C1LivingSituationId</th>\n",
       "      <th>D2EducationLevelId</th>\n",
       "      <th>D3EmploymentSituationId</th>\n",
       "      <th>B1aAlcohol</th>\n",
       "      <th>B1cIllegalDrugs</th>\n",
       "      <th>C2AddictionStressProblemId</th>\n",
       "      <th>C4AddictionEmotionalProblemId</th>\n",
       "      <th>E1TimesArrested</th>\n",
       "      <th>E4CommitedCrime</th>\n",
       "      <th>F5aDepression</th>\n",
       "      <th>F5bAnxiety</th>\n",
       "      <th>AgeGroup</th>\n",
       "      <th>ServiceAmt sum</th>\n",
       "      <th>ServiceNum Total</th>\n",
       "    </tr>\n",
       "  </thead>\n",
       "  <tbody>\n",
       "    <tr>\n",
       "      <th>0</th>\n",
       "      <td>Post</td>\n",
       "      <td>Female</td>\n",
       "      <td>Hispanic or Latino</td>\n",
       "      <td>Hispanic</td>\n",
       "      <td>unknwon</td>\n",
       "      <td>3</td>\n",
       "      <td>12</td>\n",
       "      <td>7</td>\n",
       "      <td>0</td>\n",
       "      <td>0</td>\n",
       "      <td>5</td>\n",
       "      <td>5</td>\n",
       "      <td>1</td>\n",
       "      <td>1</td>\n",
       "      <td>30</td>\n",
       "      <td>1</td>\n",
       "      <td>Young</td>\n",
       "      <td>NaN</td>\n",
       "      <td>NaN</td>\n",
       "    </tr>\n",
       "    <tr>\n",
       "      <th>1</th>\n",
       "      <td>Post</td>\n",
       "      <td>Female</td>\n",
       "      <td>Not Hispanic or Latino</td>\n",
       "      <td>White</td>\n",
       "      <td>unknwon</td>\n",
       "      <td>41</td>\n",
       "      <td>10</td>\n",
       "      <td>7</td>\n",
       "      <td>29</td>\n",
       "      <td>1</td>\n",
       "      <td>4</td>\n",
       "      <td>4</td>\n",
       "      <td>0</td>\n",
       "      <td>1</td>\n",
       "      <td>30</td>\n",
       "      <td>30</td>\n",
       "      <td>Middle_aged</td>\n",
       "      <td>NaN</td>\n",
       "      <td>NaN</td>\n",
       "    </tr>\n",
       "    <tr>\n",
       "      <th>2</th>\n",
       "      <td>Post</td>\n",
       "      <td>Female</td>\n",
       "      <td>Not Hispanic or Latino</td>\n",
       "      <td>White</td>\n",
       "      <td>unknwon</td>\n",
       "      <td>41</td>\n",
       "      <td>12</td>\n",
       "      <td>1</td>\n",
       "      <td>2</td>\n",
       "      <td>0</td>\n",
       "      <td>1</td>\n",
       "      <td>1</td>\n",
       "      <td>0</td>\n",
       "      <td>0</td>\n",
       "      <td>0</td>\n",
       "      <td>0</td>\n",
       "      <td>Middle_aged</td>\n",
       "      <td>NaN</td>\n",
       "      <td>NaN</td>\n",
       "    </tr>\n",
       "    <tr>\n",
       "      <th>3</th>\n",
       "      <td>Post</td>\n",
       "      <td>Male</td>\n",
       "      <td>Hispanic or Latino</td>\n",
       "      <td>unknwon</td>\n",
       "      <td>unknwon</td>\n",
       "      <td>41</td>\n",
       "      <td>12</td>\n",
       "      <td>7</td>\n",
       "      <td>0</td>\n",
       "      <td>0</td>\n",
       "      <td>5</td>\n",
       "      <td>5</td>\n",
       "      <td>0</td>\n",
       "      <td>0</td>\n",
       "      <td>6</td>\n",
       "      <td>14</td>\n",
       "      <td>Young</td>\n",
       "      <td>NaN</td>\n",
       "      <td>NaN</td>\n",
       "    </tr>\n",
       "    <tr>\n",
       "      <th>4</th>\n",
       "      <td>Post</td>\n",
       "      <td>Female</td>\n",
       "      <td>Hispanic or Latino</td>\n",
       "      <td>unknwon</td>\n",
       "      <td>unknwon</td>\n",
       "      <td>41</td>\n",
       "      <td>11</td>\n",
       "      <td>4</td>\n",
       "      <td>0</td>\n",
       "      <td>0</td>\n",
       "      <td>5</td>\n",
       "      <td>5</td>\n",
       "      <td>0</td>\n",
       "      <td>0</td>\n",
       "      <td>0</td>\n",
       "      <td>0</td>\n",
       "      <td>Old</td>\n",
       "      <td>NaN</td>\n",
       "      <td>NaN</td>\n",
       "    </tr>\n",
       "  </tbody>\n",
       "</table>\n",
       "</div>"
      ],
      "text/plain": [
       "  InterviewIntake  Gender               Ethnicity Ethnorace  Veteran  \\\n",
       "0            Post  Female      Hispanic or Latino  Hispanic  unknwon   \n",
       "1            Post  Female  Not Hispanic or Latino     White  unknwon   \n",
       "2            Post  Female  Not Hispanic or Latino     White  unknwon   \n",
       "3            Post    Male      Hispanic or Latino   unknwon  unknwon   \n",
       "4            Post  Female      Hispanic or Latino   unknwon  unknwon   \n",
       "\n",
       "  C1LivingSituationId D2EducationLevelId D3EmploymentSituationId B1aAlcohol  \\\n",
       "0                   3                 12                       7          0   \n",
       "1                  41                 10                       7         29   \n",
       "2                  41                 12                       1          2   \n",
       "3                  41                 12                       7          0   \n",
       "4                  41                 11                       4          0   \n",
       "\n",
       "  B1cIllegalDrugs C2AddictionStressProblemId C4AddictionEmotionalProblemId  \\\n",
       "0               0                          5                             5   \n",
       "1               1                          4                             4   \n",
       "2               0                          1                             1   \n",
       "3               0                          5                             5   \n",
       "4               0                          5                             5   \n",
       "\n",
       "  E1TimesArrested E4CommitedCrime F5aDepression F5bAnxiety     AgeGroup  \\\n",
       "0               1               1            30          1        Young   \n",
       "1               0               1            30         30  Middle_aged   \n",
       "2               0               0             0          0  Middle_aged   \n",
       "3               0               0             6         14        Young   \n",
       "4               0               0             0          0          Old   \n",
       "\n",
       "   ServiceAmt sum  ServiceNum Total  \n",
       "0             NaN               NaN  \n",
       "1             NaN               NaN  \n",
       "2             NaN               NaN  \n",
       "3             NaN               NaN  \n",
       "4             NaN               NaN  "
      ]
     },
     "execution_count": 343,
     "metadata": {},
     "output_type": "execute_result"
    }
   ],
   "source": [
    "final_SurveyData.head()"
   ]
  },
  {
   "cell_type": "markdown",
   "metadata": {},
   "source": [
    "### Getting mean,count,std of target variables"
   ]
  },
  {
   "cell_type": "code",
   "execution_count": 344,
   "metadata": {},
   "outputs": [],
   "source": [
    "final_SurveyData['B1cIllegalDrugs'] = final_SurveyData['B1cIllegalDrugs'].astype(float)\n"
   ]
  },
  {
   "cell_type": "code",
   "execution_count": 345,
   "metadata": {
    "scrolled": true
   },
   "outputs": [
    {
     "name": "stderr",
     "output_type": "stream",
     "text": [
      "C:\\Users\\shafa\\AppData\\Local\\Continuum\\anaconda3\\lib\\site-packages\\ipykernel_launcher.py:1: FutureWarning: using a dict on a Series for aggregation\n",
      "is deprecated and will be removed in a future version\n",
      "  \"\"\"Entry point for launching an IPython kernel.\n"
     ]
    },
    {
     "data": {
      "text/html": [
       "<div>\n",
       "<style scoped>\n",
       "    .dataframe tbody tr th:only-of-type {\n",
       "        vertical-align: middle;\n",
       "    }\n",
       "\n",
       "    .dataframe tbody tr th {\n",
       "        vertical-align: top;\n",
       "    }\n",
       "\n",
       "    .dataframe thead th {\n",
       "        text-align: right;\n",
       "    }\n",
       "</style>\n",
       "<table border=\"1\" class=\"dataframe\">\n",
       "  <thead>\n",
       "    <tr style=\"text-align: right;\">\n",
       "      <th></th>\n",
       "      <th>mean</th>\n",
       "      <th>count</th>\n",
       "      <th>stadard err</th>\n",
       "    </tr>\n",
       "    <tr>\n",
       "      <th>InterviewIntake</th>\n",
       "      <th></th>\n",
       "      <th></th>\n",
       "      <th></th>\n",
       "    </tr>\n",
       "  </thead>\n",
       "  <tbody>\n",
       "    <tr>\n",
       "      <th>Intake</th>\n",
       "      <td>3.200018</td>\n",
       "      <td>11384</td>\n",
       "      <td>0.07331</td>\n",
       "    </tr>\n",
       "    <tr>\n",
       "      <th>Post</th>\n",
       "      <td>1.255317</td>\n",
       "      <td>10908</td>\n",
       "      <td>0.04948</td>\n",
       "    </tr>\n",
       "  </tbody>\n",
       "</table>\n",
       "</div>"
      ],
      "text/plain": [
       "                     mean  count  stadard err\n",
       "InterviewIntake                              \n",
       "Intake           3.200018  11384      0.07331\n",
       "Post             1.255317  10908      0.04948"
      ]
     },
     "execution_count": 345,
     "metadata": {},
     "output_type": "execute_result"
    }
   ],
   "source": [
    "final_SurveyData.groupby('InterviewIntake').B1cIllegalDrugs.agg({'mean':'mean','count':'count','stadard err':'sem'})"
   ]
  },
  {
   "cell_type": "code",
   "execution_count": 346,
   "metadata": {},
   "outputs": [],
   "source": [
    "final_SurveyData['D3EmploymentSituationId'] = final_SurveyData['D3EmploymentSituationId'].astype(float)\n"
   ]
  },
  {
   "cell_type": "code",
   "execution_count": 347,
   "metadata": {},
   "outputs": [
    {
     "name": "stderr",
     "output_type": "stream",
     "text": [
      "C:\\Users\\shafa\\AppData\\Local\\Continuum\\anaconda3\\lib\\site-packages\\ipykernel_launcher.py:1: FutureWarning: using a dict on a Series for aggregation\n",
      "is deprecated and will be removed in a future version\n",
      "  \"\"\"Entry point for launching an IPython kernel.\n"
     ]
    },
    {
     "data": {
      "text/html": [
       "<div>\n",
       "<style scoped>\n",
       "    .dataframe tbody tr th:only-of-type {\n",
       "        vertical-align: middle;\n",
       "    }\n",
       "\n",
       "    .dataframe tbody tr th {\n",
       "        vertical-align: top;\n",
       "    }\n",
       "\n",
       "    .dataframe thead th {\n",
       "        text-align: right;\n",
       "    }\n",
       "</style>\n",
       "<table border=\"1\" class=\"dataframe\">\n",
       "  <thead>\n",
       "    <tr style=\"text-align: right;\">\n",
       "      <th></th>\n",
       "      <th>mean</th>\n",
       "      <th>count</th>\n",
       "      <th>stadard err</th>\n",
       "    </tr>\n",
       "    <tr>\n",
       "      <th>InterviewIntake</th>\n",
       "      <th></th>\n",
       "      <th></th>\n",
       "      <th></th>\n",
       "    </tr>\n",
       "  </thead>\n",
       "  <tbody>\n",
       "    <tr>\n",
       "      <th>Intake</th>\n",
       "      <td>2.792867</td>\n",
       "      <td>11384</td>\n",
       "      <td>0.015900</td>\n",
       "    </tr>\n",
       "    <tr>\n",
       "      <th>Post</th>\n",
       "      <td>2.670975</td>\n",
       "      <td>10908</td>\n",
       "      <td>0.017536</td>\n",
       "    </tr>\n",
       "  </tbody>\n",
       "</table>\n",
       "</div>"
      ],
      "text/plain": [
       "                     mean  count  stadard err\n",
       "InterviewIntake                              \n",
       "Intake           2.792867  11384     0.015900\n",
       "Post             2.670975  10908     0.017536"
      ]
     },
     "execution_count": 347,
     "metadata": {},
     "output_type": "execute_result"
    }
   ],
   "source": [
    "final_SurveyData.groupby('InterviewIntake').D3EmploymentSituationId.agg({'mean':'mean','count':'count','stadard err':'sem'})"
   ]
  },
  {
   "cell_type": "code",
   "execution_count": null,
   "metadata": {},
   "outputs": [],
   "source": []
  },
  {
   "cell_type": "code",
   "execution_count": 348,
   "metadata": {},
   "outputs": [],
   "source": [
    "final_SurveyData['E4CommitedCrime'] = final_SurveyData['E4CommitedCrime'].astype(float)\n"
   ]
  },
  {
   "cell_type": "code",
   "execution_count": 349,
   "metadata": {},
   "outputs": [
    {
     "name": "stderr",
     "output_type": "stream",
     "text": [
      "C:\\Users\\shafa\\AppData\\Local\\Continuum\\anaconda3\\lib\\site-packages\\ipykernel_launcher.py:1: FutureWarning: using a dict on a Series for aggregation\n",
      "is deprecated and will be removed in a future version\n",
      "  \"\"\"Entry point for launching an IPython kernel.\n"
     ]
    },
    {
     "data": {
      "text/html": [
       "<div>\n",
       "<style scoped>\n",
       "    .dataframe tbody tr th:only-of-type {\n",
       "        vertical-align: middle;\n",
       "    }\n",
       "\n",
       "    .dataframe tbody tr th {\n",
       "        vertical-align: top;\n",
       "    }\n",
       "\n",
       "    .dataframe thead th {\n",
       "        text-align: right;\n",
       "    }\n",
       "</style>\n",
       "<table border=\"1\" class=\"dataframe\">\n",
       "  <thead>\n",
       "    <tr style=\"text-align: right;\">\n",
       "      <th></th>\n",
       "      <th>mean</th>\n",
       "      <th>count</th>\n",
       "      <th>stadard err</th>\n",
       "    </tr>\n",
       "    <tr>\n",
       "      <th>InterviewIntake</th>\n",
       "      <th></th>\n",
       "      <th></th>\n",
       "      <th></th>\n",
       "    </tr>\n",
       "  </thead>\n",
       "  <tbody>\n",
       "    <tr>\n",
       "      <th>Intake</th>\n",
       "      <td>2.985506</td>\n",
       "      <td>11384</td>\n",
       "      <td>0.074198</td>\n",
       "    </tr>\n",
       "    <tr>\n",
       "      <th>Post</th>\n",
       "      <td>1.221397</td>\n",
       "      <td>10908</td>\n",
       "      <td>0.062386</td>\n",
       "    </tr>\n",
       "  </tbody>\n",
       "</table>\n",
       "</div>"
      ],
      "text/plain": [
       "                     mean  count  stadard err\n",
       "InterviewIntake                              \n",
       "Intake           2.985506  11384     0.074198\n",
       "Post             1.221397  10908     0.062386"
      ]
     },
     "execution_count": 349,
     "metadata": {},
     "output_type": "execute_result"
    }
   ],
   "source": [
    "final_SurveyData.groupby('InterviewIntake').E4CommitedCrime.agg({'mean':'mean','count':'count','stadard err':'sem'})"
   ]
  },
  {
   "cell_type": "code",
   "execution_count": 350,
   "metadata": {},
   "outputs": [
    {
     "data": {
      "text/plain": [
       "InterviewIntake\n",
       "Intake    11384\n",
       "Post      10908\n",
       "Name: E4CommitedCrime, dtype: int64"
      ]
     },
     "execution_count": 350,
     "metadata": {},
     "output_type": "execute_result"
    }
   ],
   "source": [
    "final_SurveyData.groupby([\"InterviewIntake\"])[\"E4CommitedCrime\"].count()\n"
   ]
  },
  {
   "cell_type": "code",
   "execution_count": 351,
   "metadata": {},
   "outputs": [],
   "source": [
    "drug_Used_Intake = final_SurveyData.loc[final_SurveyData['InterviewIntake'] == 'Intake', 'B1cIllegalDrugs']\n",
    "drug_Used_Post = final_SurveyData.loc[final_SurveyData['InterviewIntake'] == 'Post', 'B1cIllegalDrugs']\n",
    "\n",
    "EmploymentSituation_Intake = final_SurveyData.loc[final_SurveyData['InterviewIntake'] == 'Intake', 'D3EmploymentSituationId']\n",
    "EmploymentSituation_Post = final_SurveyData.loc[final_SurveyData['InterviewIntake'] == 'Post', 'D3EmploymentSituationId']\n",
    "\n",
    "CommitedCrime_Intake = final_SurveyData.loc[final_SurveyData['InterviewIntake'] == 'Intake', 'E4CommitedCrime']\n",
    "CommitedCrime_Post = final_SurveyData.loc[final_SurveyData['InterviewIntake'] == 'Post', 'E4CommitedCrime']\n"
   ]
  },
  {
   "cell_type": "markdown",
   "metadata": {},
   "source": [
    "### t test for drug use in 30 days"
   ]
  },
  {
   "cell_type": "code",
   "execution_count": 352,
   "metadata": {},
   "outputs": [],
   "source": [
    "from scipy import stats as st\n",
    "from statsmodels.stats.weightstats import ttest_ind"
   ]
  },
  {
   "cell_type": "code",
   "execution_count": null,
   "metadata": {},
   "outputs": [],
   "source": []
  },
  {
   "cell_type": "code",
   "execution_count": 353,
   "metadata": {},
   "outputs": [],
   "source": [
    "ttest1= ttest_ind(drug_Used_Intake,drug_Used_Post)"
   ]
  },
  {
   "cell_type": "code",
   "execution_count": 354,
   "metadata": {},
   "outputs": [
    {
     "data": {
      "text/plain": [
       "(21.80405591990353, 2.613033094265204e-104, 22290.0)"
      ]
     },
     "execution_count": 354,
     "metadata": {},
     "output_type": "execute_result"
    }
   ],
   "source": [
    "ttest1"
   ]
  },
  {
   "cell_type": "code",
   "execution_count": null,
   "metadata": {},
   "outputs": [],
   "source": []
  },
  {
   "cell_type": "markdown",
   "metadata": {},
   "source": [
    "### t test for employment Situation in 30 days"
   ]
  },
  {
   "cell_type": "code",
   "execution_count": 355,
   "metadata": {},
   "outputs": [],
   "source": [
    "ttest2= ttest_ind(EmploymentSituation_Intake,EmploymentSituation_Post)"
   ]
  },
  {
   "cell_type": "code",
   "execution_count": 356,
   "metadata": {},
   "outputs": [
    {
     "data": {
      "text/plain": [
       "(5.157732025121648, 2.520974112076615e-07, 22290.0)"
      ]
     },
     "execution_count": 356,
     "metadata": {},
     "output_type": "execute_result"
    }
   ],
   "source": [
    "ttest2"
   ]
  },
  {
   "cell_type": "code",
   "execution_count": null,
   "metadata": {},
   "outputs": [],
   "source": []
  },
  {
   "cell_type": "markdown",
   "metadata": {},
   "source": [
    "### t test for crime commited in 30 days"
   ]
  },
  {
   "cell_type": "code",
   "execution_count": 357,
   "metadata": {},
   "outputs": [],
   "source": [
    "ttest3= ttest_ind(CommitedCrime_Intake,CommitedCrime_Post)"
   ]
  },
  {
   "cell_type": "code",
   "execution_count": 358,
   "metadata": {},
   "outputs": [
    {
     "data": {
      "text/plain": [
       "(18.123448421525264, 6.948798930120578e-73, 22290.0)"
      ]
     },
     "execution_count": 358,
     "metadata": {},
     "output_type": "execute_result"
    }
   ],
   "source": [
    "ttest3"
   ]
  },
  {
   "cell_type": "code",
   "execution_count": null,
   "metadata": {},
   "outputs": [],
   "source": []
  },
  {
   "cell_type": "code",
   "execution_count": null,
   "metadata": {},
   "outputs": [],
   "source": []
  }
 ],
 "metadata": {
  "kernelspec": {
   "display_name": "Python 3",
   "language": "python",
   "name": "python3"
  },
  "language_info": {
   "codemirror_mode": {
    "name": "ipython",
    "version": 3
   },
   "file_extension": ".py",
   "mimetype": "text/x-python",
   "name": "python",
   "nbconvert_exporter": "python",
   "pygments_lexer": "ipython3",
   "version": "3.8.3"
  }
 },
 "nbformat": 4,
 "nbformat_minor": 2
}
