{
 "cells": [
  {
   "cell_type": "code",
   "execution_count": 952,
   "metadata": {},
   "outputs": [],
   "source": [
    "import pandas as pd\n",
    "import numpy as np\n",
    "import os"
   ]
  },
  {
   "cell_type": "code",
   "execution_count": 953,
   "metadata": {},
   "outputs": [],
   "source": [
    "os.chdir(\"C:\\\\Users\\shafagh\\OneDrive - Falling Colors Technology\\onboarding\\Falling colors project\\data and instruction\")\n"
   ]
  },
  {
   "cell_type": "code",
   "execution_count": 954,
   "metadata": {},
   "outputs": [
    {
     "data": {
      "text/plain": [
       "'C:\\\\Users\\\\shafagh\\\\OneDrive - Falling Colors Technology\\\\onboarding\\\\Falling colors project\\\\data and instruction'"
      ]
     },
     "execution_count": 954,
     "metadata": {},
     "output_type": "execute_result"
    }
   ],
   "source": [
    "os.getcwd()"
   ]
  },
  {
   "cell_type": "code",
   "execution_count": 955,
   "metadata": {},
   "outputs": [],
   "source": [
    "df_ClientData = pd.read_excel (r'C:\\Users\\shafagh\\OneDrive - Falling Colors Technology\\onboarding\\Falling colors project\\data and instruction\\Practical_ClientData.xlsx')\n",
    "df_ServiceData = pd.read_excel (r'C:\\Users\\shafagh\\OneDrive - Falling Colors Technology\\onboarding\\Falling colors project\\data and instruction\\Practical_ServiceData.xlsx')\n",
    "df_SurveyData = pd.read_excel (r'C:\\Users\\shafagh\\OneDrive - Falling Colors Technology\\onboarding\\Falling colors project\\data and instruction\\Practical_SurveyData.xlsx')"
   ]
  },
  {
   "cell_type": "code",
   "execution_count": null,
   "metadata": {},
   "outputs": [],
   "source": []
  },
  {
   "cell_type": "code",
   "execution_count": 956,
   "metadata": {},
   "outputs": [
    {
     "name": "stdout",
     "output_type": "stream",
     "text": [
      "<class 'pandas.core.frame.DataFrame'>\n",
      "RangeIndex: 31647 entries, 0 to 31646\n",
      "Data columns (total 21 columns):\n",
      " #   Column                         Non-Null Count  Dtype         \n",
      "---  ------                         --------------  -----         \n",
      " 0   Unnamed: 0                     31647 non-null  int64         \n",
      " 1   ClientId                       31647 non-null  object        \n",
      " 2   SurveyDate                     31647 non-null  datetime64[ns]\n",
      " 3   SurveyNumber                   31647 non-null  int64         \n",
      " 4   InterviewIntake                31647 non-null  object        \n",
      " 5   DOB                            31647 non-null  datetime64[ns]\n",
      " 6   Gender                         31644 non-null  object        \n",
      " 7   Ethnicity                      31499 non-null  object        \n",
      " 8   Ethnorace                      22445 non-null  object        \n",
      " 9   Veteran                        10031 non-null  object        \n",
      " 10  C1LivingSituationId            31647 non-null  object        \n",
      " 11  D2EducationLevelId             31647 non-null  object        \n",
      " 12  D3EmploymentSituationId        31647 non-null  object        \n",
      " 13  B1aAlcohol                     31647 non-null  object        \n",
      " 14  B1cIllegalDrugs                31647 non-null  object        \n",
      " 15  C2AddictionStressProblemId     31647 non-null  object        \n",
      " 16  C4AddictionEmotionalProblemId  31647 non-null  object        \n",
      " 17  E1TimesArrested                31647 non-null  object        \n",
      " 18  E4CommitedCrime                31647 non-null  object        \n",
      " 19  F5aDepression                  31647 non-null  object        \n",
      " 20  F5bAnxiety                     31647 non-null  object        \n",
      "dtypes: datetime64[ns](2), int64(2), object(17)\n",
      "memory usage: 5.1+ MB\n"
     ]
    }
   ],
   "source": [
    "df_SurveyData.info()"
   ]
  },
  {
   "cell_type": "markdown",
   "metadata": {},
   "source": [
    "# Checking for Missing Values"
   ]
  },
  {
   "cell_type": "code",
   "execution_count": 957,
   "metadata": {
    "scrolled": true
   },
   "outputs": [
    {
     "data": {
      "text/plain": [
       "True"
      ]
     },
     "execution_count": 957,
     "metadata": {},
     "output_type": "execute_result"
    }
   ],
   "source": [
    "df_ClientData.isnull().values.any()"
   ]
  },
  {
   "cell_type": "code",
   "execution_count": 958,
   "metadata": {},
   "outputs": [
    {
     "data": {
      "text/plain": [
       "Unnamed: 0       0\n",
       "ClientId         0\n",
       "City          6888\n",
       "State         6879\n",
       "Zip           6882\n",
       "dtype: int64"
      ]
     },
     "execution_count": 958,
     "metadata": {},
     "output_type": "execute_result"
    }
   ],
   "source": [
    "df_ClientData.isnull().sum()"
   ]
  },
  {
   "cell_type": "code",
   "execution_count": 959,
   "metadata": {},
   "outputs": [
    {
     "data": {
      "text/plain": [
       "False"
      ]
     },
     "execution_count": 959,
     "metadata": {},
     "output_type": "execute_result"
    }
   ],
   "source": [
    "df_ServiceData.isnull().values.any()"
   ]
  },
  {
   "cell_type": "code",
   "execution_count": 960,
   "metadata": {},
   "outputs": [
    {
     "data": {
      "text/plain": [
       "True"
      ]
     },
     "execution_count": 960,
     "metadata": {},
     "output_type": "execute_result"
    }
   ],
   "source": [
    "df_SurveyData.isnull().values.any()"
   ]
  },
  {
   "cell_type": "markdown",
   "metadata": {},
   "source": [
    "### Checking Missing values in target variables"
   ]
  },
  {
   "cell_type": "code",
   "execution_count": 961,
   "metadata": {},
   "outputs": [
    {
     "name": "stdout",
     "output_type": "stream",
     "text": [
      "12         12032\n",
      "13          3913\n",
      "14          3678\n",
      "11          3138\n",
      "10          1950\n",
      "16          1615\n",
      "9           1499\n",
      "15          1045\n",
      "8            792\n",
      "18           542\n",
      "6            393\n",
      "17           241\n",
      "7            229\n",
      "-7           159\n",
      "Missing      145\n",
      "-8           103\n",
      "5             59\n",
      "0             39\n",
      "4             34\n",
      "3             23\n",
      "2             12\n",
      "1              6\n",
      "Name: D2EducationLevelId, dtype: int64\n",
      "0          23818\n",
      "1           1605\n",
      "2           1211\n",
      "3            641\n",
      "5            604\n",
      "4            501\n",
      "30           479\n",
      "10           428\n",
      "15           404\n",
      "20           364\n",
      "7            233\n",
      "8            209\n",
      "6            186\n",
      "25           151\n",
      "12           114\n",
      "Missing      103\n",
      "14            82\n",
      "-7            78\n",
      "21            65\n",
      "-8            49\n",
      "28            46\n",
      "16            35\n",
      "9             27\n",
      "18            26\n",
      "23            26\n",
      "27            24\n",
      "13            20\n",
      "22            20\n",
      "24            20\n",
      "11            19\n",
      "19            16\n",
      "26            16\n",
      "17            14\n",
      "29            13\n",
      "Name: B1aAlcohol, dtype: int64\n",
      "0          29586\n",
      "1           1738\n",
      "Missing      145\n",
      "-7            68\n",
      "2             57\n",
      "-8            24\n",
      "3             17\n",
      "30             4\n",
      "9              2\n",
      "34             1\n",
      "14             1\n",
      "10             1\n",
      "7              1\n",
      "6              1\n",
      "4              1\n",
      "Name: E1TimesArrested, dtype: int64\n",
      "3          9545\n",
      "1          8089\n",
      "2          5459\n",
      "4          3761\n",
      "7          3143\n",
      "0           947\n",
      "6           300\n",
      "Missing     145\n",
      "5           134\n",
      "-7           75\n",
      "-8           49\n",
      "Name: D3EmploymentSituationId, dtype: int64\n",
      "0          26483\n",
      "1           1187\n",
      "30           846\n",
      "2            418\n",
      "15           315\n",
      "3            262\n",
      "5            262\n",
      "10           259\n",
      "20           233\n",
      "4            183\n",
      "Missing      145\n",
      "7            129\n",
      "25           112\n",
      "14            92\n",
      "-7            91\n",
      "6             86\n",
      "8             84\n",
      "-8            56\n",
      "21            52\n",
      "12            36\n",
      "16            36\n",
      "28            33\n",
      "23            27\n",
      "22            26\n",
      "29            19\n",
      "27            19\n",
      "18            18\n",
      "9             17\n",
      "26            16\n",
      "17            14\n",
      "24            12\n",
      "11            10\n",
      "19             9\n",
      "31             9\n",
      "40             9\n",
      "13             8\n",
      "60             7\n",
      "35             5\n",
      "32             4\n",
      "50             2\n",
      "45             2\n",
      "42             1\n",
      "400            1\n",
      "135            1\n",
      "130            1\n",
      "120            1\n",
      "90             1\n",
      "70             1\n",
      "85             1\n",
      "37             1\n",
      "34             1\n",
      "63             1\n",
      "61             1\n",
      "48             1\n",
      "46             1\n",
      "Name: E4CommitedCrime, dtype: int64\n",
      "0          20042\n",
      "30          2713\n",
      "15          1372\n",
      "10          1123\n",
      "5            936\n",
      "2            915\n",
      "20           729\n",
      "3            587\n",
      "1            496\n",
      "7            486\n",
      "4            467\n",
      "25           306\n",
      "14           256\n",
      "-8           221\n",
      "Missing      145\n",
      "8            134\n",
      "6            133\n",
      "12           110\n",
      "-7            96\n",
      "21            70\n",
      "28            54\n",
      "18            34\n",
      "9             28\n",
      "29            26\n",
      "16            23\n",
      "17            22\n",
      "22            21\n",
      "13            20\n",
      "23            18\n",
      "24            17\n",
      "11            16\n",
      "27            16\n",
      "26            11\n",
      "19             4\n",
      "Name: F5aDepression, dtype: int64\n",
      "0          17935\n",
      "30          4459\n",
      "15          1500\n",
      "10          1201\n",
      "5            953\n",
      "2            920\n",
      "20           840\n",
      "3            535\n",
      "1            510\n",
      "4            506\n",
      "7            487\n",
      "25           320\n",
      "-8           257\n",
      "14           224\n",
      "Missing      145\n",
      "8            135\n",
      "6            134\n",
      "12           121\n",
      "-7            96\n",
      "21            69\n",
      "28            44\n",
      "9             34\n",
      "16            31\n",
      "18            28\n",
      "29            28\n",
      "13            21\n",
      "17            20\n",
      "27            20\n",
      "23            17\n",
      "22            15\n",
      "11            14\n",
      "24            12\n",
      "26            11\n",
      "19             5\n",
      "Name: F5bAnxiety, dtype: int64\n",
      "5          21630\n",
      "1           4158\n",
      "2           2220\n",
      "4           1921\n",
      "3           1439\n",
      "Missing      129\n",
      "-7            83\n",
      "-8            67\n",
      "Name: C2AddictionStressProblemId, dtype: int64\n",
      "41         17109\n",
      "42          9438\n",
      "3           1353\n",
      "1           1141\n",
      "45           851\n",
      "43           533\n",
      "2            494\n",
      "44           436\n",
      "Missing      150\n",
      "-7            62\n",
      "46            53\n",
      "-8            27\n",
      "Name: C1LivingSituationId, dtype: int64\n",
      "0          26472\n",
      "30           943\n",
      "1            743\n",
      "2            448\n",
      "15           375\n",
      "5            307\n",
      "3            305\n",
      "10           286\n",
      "20           259\n",
      "4            189\n",
      "7            157\n",
      "-7           153\n",
      "25           132\n",
      "-8           131\n",
      "Missing      103\n",
      "14            97\n",
      "8             85\n",
      "6             82\n",
      "21            59\n",
      "12            48\n",
      "28            44\n",
      "16            34\n",
      "29            27\n",
      "23            26\n",
      "27            21\n",
      "22            19\n",
      "18            17\n",
      "9             16\n",
      "26            14\n",
      "24            14\n",
      "17            13\n",
      "19            10\n",
      "11             9\n",
      "13             9\n",
      "Name: B1cIllegalDrugs, dtype: int64\n"
     ]
    }
   ],
   "source": [
    "target_columns = ['D2EducationLevelId','B1aAlcohol','E1TimesArrested','D3EmploymentSituationId','E4CommitedCrime','F5aDepression','F5bAnxiety','C2AddictionStressProblemId', 'C1LivingSituationId','B1cIllegalDrugs']\n",
    "df_SurveyData[target_columns] = df_SurveyData[target_columns].fillna('missing')\n",
    "for target in target_columns:\n",
    "    print(df_SurveyData[target].value_counts())"
   ]
  },
  {
   "cell_type": "markdown",
   "metadata": {},
   "source": [
    "> The number of missing/NA columns are very small. At this point we remove them. But, in a rigorous study we might need to impute them since we might be having response bias."
   ]
  },
  {
   "cell_type": "code",
   "execution_count": 962,
   "metadata": {},
   "outputs": [],
   "source": [
    "# replacing non-applicables in Target variables\n",
    "not_applicables = [-1,-7, -8, -9, 'Missing']\n",
    "df_SurveyData.where((~df_SurveyData['E1TimesArrested'].isin(not_applicables)) &\n",
    "                    (~df_SurveyData['D2EducationLevelId'].isin(not_applicables)) &\n",
    "                    (~df_SurveyData['E4CommitedCrime'].isin(not_applicables))&\n",
    "                    (~df_SurveyData['F5aDepression'].isin(not_applicables))&\n",
    "                    (~df_SurveyData['F5bAnxiety'].isin(not_applicables))&\n",
    "                    (~df_SurveyData['C2AddictionStressProblemId'].isin(not_applicables))&\n",
    "                    (~df_SurveyData['C1LivingSituationId'].isin(not_applicables)) &\n",
    "                    (~df_SurveyData['B1cIllegalDrugs'].isin(not_applicables))&\n",
    "                   (~df_SurveyData['B1aAlcohol'].isin(not_applicables)) &\n",
    "                   (~df_SurveyData['D3EmploymentSituationId'].isin(not_applicables)),\n",
    "                   inplace=True)"
   ]
  },
  {
   "cell_type": "code",
   "execution_count": 963,
   "metadata": {},
   "outputs": [
    {
     "name": "stdout",
     "output_type": "stream",
     "text": [
      "12    11735\n",
      "13     3813\n",
      "14     3550\n",
      "11     3073\n",
      "10     1911\n",
      "16     1553\n",
      "9      1464\n",
      "15     1013\n",
      "8       774\n",
      "18      502\n",
      "6       388\n",
      "17      229\n",
      "7       223\n",
      "5        57\n",
      "4        31\n",
      "0        30\n",
      "3        23\n",
      "2        12\n",
      "1         6\n",
      "Name: D2EducationLevelId, dtype: int64\n",
      "0     23151\n",
      "1      1532\n",
      "2      1151\n",
      "3       610\n",
      "5       583\n",
      "4       477\n",
      "30      442\n",
      "10      409\n",
      "15      384\n",
      "20      338\n",
      "7       223\n",
      "8       199\n",
      "6       182\n",
      "25      149\n",
      "12      108\n",
      "14       77\n",
      "21       63\n",
      "28       44\n",
      "16       33\n",
      "23       26\n",
      "9        25\n",
      "18       25\n",
      "27       23\n",
      "24       20\n",
      "22       19\n",
      "13       19\n",
      "11       18\n",
      "26       16\n",
      "19       16\n",
      "17       14\n",
      "29       11\n",
      "Name: B1aAlcohol, dtype: int64\n",
      "0     28654\n",
      "1      1653\n",
      "2        52\n",
      "3        17\n",
      "30        4\n",
      "9         2\n",
      "34        1\n",
      "14        1\n",
      "10        1\n",
      "7         1\n",
      "6         1\n",
      "Name: E1TimesArrested, dtype: int64\n",
      "3    9235\n",
      "1    7911\n",
      "2    5297\n",
      "4    3590\n",
      "7    3025\n",
      "0     918\n",
      "6     283\n",
      "5     128\n",
      "Name: D3EmploymentSituationId, dtype: int64\n",
      "0      25719\n",
      "1       1138\n",
      "30       799\n",
      "2        401\n",
      "15       309\n",
      "10       255\n",
      "5        251\n",
      "3        247\n",
      "20       225\n",
      "4        175\n",
      "7        126\n",
      "25       109\n",
      "14        90\n",
      "6         82\n",
      "8         81\n",
      "21        49\n",
      "28        32\n",
      "12        32\n",
      "16        31\n",
      "22        25\n",
      "23        25\n",
      "29        18\n",
      "27        17\n",
      "9         17\n",
      "18        17\n",
      "26        15\n",
      "17        13\n",
      "24        12\n",
      "19         9\n",
      "31         9\n",
      "11         9\n",
      "40         9\n",
      "13         8\n",
      "60         7\n",
      "35         5\n",
      "32         3\n",
      "45         2\n",
      "50         2\n",
      "120        1\n",
      "90         1\n",
      "63         1\n",
      "130        1\n",
      "70         1\n",
      "85         1\n",
      "46         1\n",
      "61         1\n",
      "135        1\n",
      "48         1\n",
      "34         1\n",
      "37         1\n",
      "42         1\n",
      "400        1\n",
      "Name: E4CommitedCrime, dtype: int64\n",
      "0     19610\n",
      "30     2615\n",
      "15     1323\n",
      "10     1094\n",
      "5       912\n",
      "2       887\n",
      "20      713\n",
      "3       570\n",
      "1       482\n",
      "7       471\n",
      "4       449\n",
      "25      291\n",
      "14      241\n",
      "8       130\n",
      "6       128\n",
      "12      104\n",
      "21       68\n",
      "28       52\n",
      "18       32\n",
      "9        26\n",
      "29       26\n",
      "16       22\n",
      "17       22\n",
      "22       21\n",
      "13       20\n",
      "23       17\n",
      "27       16\n",
      "24       16\n",
      "11       15\n",
      "26       11\n",
      "19        3\n",
      "Name: F5aDepression, dtype: int64\n",
      "0     17623\n",
      "30     4306\n",
      "15     1457\n",
      "10     1162\n",
      "5       916\n",
      "2       889\n",
      "20      823\n",
      "3       519\n",
      "1       488\n",
      "4       487\n",
      "7       467\n",
      "25      309\n",
      "14      213\n",
      "8       129\n",
      "6       129\n",
      "12      118\n",
      "21       67\n",
      "28       44\n",
      "9        31\n",
      "16       30\n",
      "18       26\n",
      "29       25\n",
      "13       21\n",
      "27       18\n",
      "17       18\n",
      "23       16\n",
      "22       15\n",
      "11       14\n",
      "24       11\n",
      "26       11\n",
      "19        5\n",
      "Name: F5bAnxiety, dtype: int64\n",
      "5    21118\n",
      "1     3946\n",
      "2     2118\n",
      "4     1835\n",
      "3     1370\n",
      "Name: C2AddictionStressProblemId, dtype: int64\n",
      "41    16513\n",
      "42     9147\n",
      "3      1326\n",
      "1      1124\n",
      "45      829\n",
      "43      524\n",
      "2       458\n",
      "44      413\n",
      "46       53\n",
      "Name: C1LivingSituationId, dtype: int64\n",
      "0     25760\n",
      "30      907\n",
      "1       713\n",
      "2       437\n",
      "15      370\n",
      "5       294\n",
      "3       289\n",
      "10      281\n",
      "20      251\n",
      "4       186\n",
      "7       153\n",
      "25      129\n",
      "14       96\n",
      "8        83\n",
      "6        78\n",
      "21       56\n",
      "12       44\n",
      "28       42\n",
      "16       30\n",
      "29       26\n",
      "23       24\n",
      "27       19\n",
      "22       19\n",
      "18       17\n",
      "9        16\n",
      "26       14\n",
      "24       13\n",
      "17       12\n",
      "19       10\n",
      "13        9\n",
      "11        9\n",
      "Name: B1cIllegalDrugs, dtype: int64\n"
     ]
    }
   ],
   "source": [
    "target_columns = ['D2EducationLevelId','B1aAlcohol','E1TimesArrested','D3EmploymentSituationId','E4CommitedCrime','F5aDepression','F5bAnxiety','C2AddictionStressProblemId', 'C1LivingSituationId','B1cIllegalDrugs']\n",
    "for target in target_columns:\n",
    "    print(df_SurveyData[target].value_counts())"
   ]
  },
  {
   "cell_type": "code",
   "execution_count": 964,
   "metadata": {},
   "outputs": [
    {
     "data": {
      "text/plain": [
       "0     28654\n",
       "1      1653\n",
       "2        52\n",
       "3        17\n",
       "30        4\n",
       "9         2\n",
       "34        1\n",
       "14        1\n",
       "10        1\n",
       "7         1\n",
       "6         1\n",
       "Name: E1TimesArrested, dtype: int64"
      ]
     },
     "execution_count": 964,
     "metadata": {},
     "output_type": "execute_result"
    }
   ],
   "source": [
    "df_SurveyData['E1TimesArrested'].value_counts()"
   ]
  },
  {
   "cell_type": "markdown",
   "metadata": {},
   "source": [
    "### Checking missing values in independant variables"
   ]
  },
  {
   "cell_type": "code",
   "execution_count": 965,
   "metadata": {
    "scrolled": true
   },
   "outputs": [
    {
     "data": {
      "text/plain": [
       "Unnamed: 0                        1260\n",
       "ClientId                          1260\n",
       "SurveyDate                        1260\n",
       "SurveyNumber                      1260\n",
       "InterviewIntake                   1260\n",
       "DOB                               1260\n",
       "Gender                            1261\n",
       "Ethnicity                         1397\n",
       "Ethnorace                        10091\n",
       "Veteran                          21852\n",
       "C1LivingSituationId               1260\n",
       "D2EducationLevelId                1260\n",
       "D3EmploymentSituationId           1260\n",
       "B1aAlcohol                        1260\n",
       "B1cIllegalDrugs                   1260\n",
       "C2AddictionStressProblemId        1260\n",
       "C4AddictionEmotionalProblemId     1260\n",
       "E1TimesArrested                   1260\n",
       "E4CommitedCrime                   1260\n",
       "F5aDepression                     1260\n",
       "F5bAnxiety                        1260\n",
       "dtype: int64"
      ]
     },
     "execution_count": 965,
     "metadata": {},
     "output_type": "execute_result"
    }
   ],
   "source": [
    "df_SurveyData.isnull().sum()"
   ]
  },
  {
   "cell_type": "code",
   "execution_count": 966,
   "metadata": {
    "scrolled": true
   },
   "outputs": [],
   "source": [
    "eth = df_SurveyData[['Veteran','B1cIllegalDrugs']].copy()\n",
    "eth['Veteran_missing'] = eth['Veteran'].isnull()\n",
    "eth['B1cIllegalDrugs'] = eth['B1cIllegalDrugs'].astype(float)\n"
   ]
  },
  {
   "cell_type": "code",
   "execution_count": 967,
   "metadata": {},
   "outputs": [
    {
     "data": {
      "text/plain": [
       "0         True\n",
       "1         True\n",
       "2         True\n",
       "3         True\n",
       "4         True\n",
       "         ...  \n",
       "31642    False\n",
       "31643    False\n",
       "31644    False\n",
       "31645    False\n",
       "31646    False\n",
       "Name: Veteran_missing, Length: 31647, dtype: bool"
      ]
     },
     "execution_count": 967,
     "metadata": {},
     "output_type": "execute_result"
    }
   ],
   "source": [
    "eth['Veteran_missing'] "
   ]
  },
  {
   "cell_type": "code",
   "execution_count": 968,
   "metadata": {},
   "outputs": [
    {
     "data": {
      "text/html": [
       "<div>\n",
       "<style scoped>\n",
       "    .dataframe tbody tr th:only-of-type {\n",
       "        vertical-align: middle;\n",
       "    }\n",
       "\n",
       "    .dataframe tbody tr th {\n",
       "        vertical-align: top;\n",
       "    }\n",
       "\n",
       "    .dataframe thead th {\n",
       "        text-align: right;\n",
       "    }\n",
       "</style>\n",
       "<table border=\"1\" class=\"dataframe\">\n",
       "  <thead>\n",
       "    <tr style=\"text-align: right;\">\n",
       "      <th></th>\n",
       "      <th>mean</th>\n",
       "      <th>count</th>\n",
       "      <th>sem</th>\n",
       "    </tr>\n",
       "    <tr>\n",
       "      <th>Veteran_missing</th>\n",
       "      <th></th>\n",
       "      <th></th>\n",
       "      <th></th>\n",
       "    </tr>\n",
       "  </thead>\n",
       "  <tbody>\n",
       "    <tr>\n",
       "      <th>False</th>\n",
       "      <td>1.988668</td>\n",
       "      <td>9795</td>\n",
       "      <td>0.064463</td>\n",
       "    </tr>\n",
       "    <tr>\n",
       "      <th>True</th>\n",
       "      <td>1.936869</td>\n",
       "      <td>20592</td>\n",
       "      <td>0.043614</td>\n",
       "    </tr>\n",
       "  </tbody>\n",
       "</table>\n",
       "</div>"
      ],
      "text/plain": [
       "                     mean  count       sem\n",
       "Veteran_missing                           \n",
       "False            1.988668   9795  0.064463\n",
       "True             1.936869  20592  0.043614"
      ]
     },
     "execution_count": 968,
     "metadata": {},
     "output_type": "execute_result"
    }
   ],
   "source": [
    "eth.groupby('Veteran_missing').B1cIllegalDrugs.agg(['mean','count','sem'])"
   ]
  },
  {
   "cell_type": "markdown",
   "metadata": {},
   "source": [
    "It seems missing values on veterans have some different charactereistics at least on one target variable of interest (though ttest might results in p>0.05 as the standard error is too big). We will keep it as an 'unknown' catergoy as it might help with our model later on and there is no explicit reason to drop these missing values as they are around 60% of total number of rows."
   ]
  },
  {
   "cell_type": "code",
   "execution_count": 969,
   "metadata": {},
   "outputs": [],
   "source": [
    "df_SurveyData['Veteran']= df_SurveyData['Veteran'].fillna('unknwon')"
   ]
  },
  {
   "cell_type": "code",
   "execution_count": 970,
   "metadata": {},
   "outputs": [
    {
     "data": {
      "text/html": [
       "<div>\n",
       "<style scoped>\n",
       "    .dataframe tbody tr th:only-of-type {\n",
       "        vertical-align: middle;\n",
       "    }\n",
       "\n",
       "    .dataframe tbody tr th {\n",
       "        vertical-align: top;\n",
       "    }\n",
       "\n",
       "    .dataframe thead th {\n",
       "        text-align: right;\n",
       "    }\n",
       "</style>\n",
       "<table border=\"1\" class=\"dataframe\">\n",
       "  <thead>\n",
       "    <tr style=\"text-align: right;\">\n",
       "      <th></th>\n",
       "      <th>mean</th>\n",
       "      <th>count</th>\n",
       "      <th>sem</th>\n",
       "    </tr>\n",
       "    <tr>\n",
       "      <th>Ethnorace_missing</th>\n",
       "      <th></th>\n",
       "      <th></th>\n",
       "      <th></th>\n",
       "    </tr>\n",
       "  </thead>\n",
       "  <tbody>\n",
       "    <tr>\n",
       "      <th>False</th>\n",
       "      <td>1.915662</td>\n",
       "      <td>21556</td>\n",
       "      <td>0.042399</td>\n",
       "    </tr>\n",
       "    <tr>\n",
       "      <th>True</th>\n",
       "      <td>2.046088</td>\n",
       "      <td>8831</td>\n",
       "      <td>0.068869</td>\n",
       "    </tr>\n",
       "  </tbody>\n",
       "</table>\n",
       "</div>"
      ],
      "text/plain": [
       "                       mean  count       sem\n",
       "Ethnorace_missing                           \n",
       "False              1.915662  21556  0.042399\n",
       "True               2.046088   8831  0.068869"
      ]
     },
     "execution_count": 970,
     "metadata": {},
     "output_type": "execute_result"
    }
   ],
   "source": [
    "eth = df_SurveyData[['Ethnorace','B1cIllegalDrugs']].copy()\n",
    "eth['Ethnorace_missing'] = eth['Ethnorace'].isnull()\n",
    "eth['B1cIllegalDrugs'] = eth['B1cIllegalDrugs'].astype(float)\n",
    "eth.groupby('Ethnorace_missing').B1cIllegalDrugs.agg(['mean','count','sem'])"
   ]
  },
  {
   "cell_type": "markdown",
   "metadata": {},
   "source": [
    "Similarly we will keep this column missing values. But we will drop the rest of the columns missing value since their size is too small."
   ]
  },
  {
   "cell_type": "code",
   "execution_count": 971,
   "metadata": {},
   "outputs": [],
   "source": [
    "df_SurveyData['Ethnorace']= df_SurveyData['Ethnorace'].fillna('unknwon')"
   ]
  },
  {
   "cell_type": "code",
   "execution_count": 972,
   "metadata": {},
   "outputs": [
    {
     "data": {
      "text/plain": [
       "True"
      ]
     },
     "execution_count": 972,
     "metadata": {},
     "output_type": "execute_result"
    }
   ],
   "source": [
    "df_SurveyData.isnull().values.any()"
   ]
  },
  {
   "cell_type": "code",
   "execution_count": 973,
   "metadata": {},
   "outputs": [
    {
     "data": {
      "text/plain": [
       "Unnamed: 0                       1260\n",
       "ClientId                         1260\n",
       "SurveyDate                       1260\n",
       "SurveyNumber                     1260\n",
       "InterviewIntake                  1260\n",
       "DOB                              1260\n",
       "Gender                           1261\n",
       "Ethnicity                        1397\n",
       "Ethnorace                           0\n",
       "Veteran                             0\n",
       "C1LivingSituationId              1260\n",
       "D2EducationLevelId               1260\n",
       "D3EmploymentSituationId          1260\n",
       "B1aAlcohol                       1260\n",
       "B1cIllegalDrugs                  1260\n",
       "C2AddictionStressProblemId       1260\n",
       "C4AddictionEmotionalProblemId    1260\n",
       "E1TimesArrested                  1260\n",
       "E4CommitedCrime                  1260\n",
       "F5aDepression                    1260\n",
       "F5bAnxiety                       1260\n",
       "dtype: int64"
      ]
     },
     "execution_count": 973,
     "metadata": {},
     "output_type": "execute_result"
    }
   ],
   "source": [
    "df_SurveyData.isnull().sum()"
   ]
  },
  {
   "cell_type": "code",
   "execution_count": null,
   "metadata": {},
   "outputs": [],
   "source": []
  },
  {
   "cell_type": "markdown",
   "metadata": {},
   "source": [
    "# Making client demographic dataset \n",
    "### first I removed the non-demographic column in Surveydata and then merge the new dataframe with client data\n"
   ]
  },
  {
   "cell_type": "markdown",
   "metadata": {},
   "source": [
    "### Removing the duplicate row in Surveydata and then removing the non-demographic column"
   ]
  },
  {
   "cell_type": "code",
   "execution_count": 974,
   "metadata": {},
   "outputs": [],
   "source": [
    "df=df_SurveyData.drop(['SurveyDate','SurveyNumber','InterviewIntake','C1LivingSituationId', 'D3EmploymentSituationId', 'D3EmploymentSituationId','B1aAlcohol','B1cIllegalDrugs','C2AddictionStressProblemId','C4AddictionEmotionalProblemId','E1TimesArrested','E4CommitedCrime','F5aDepression','F5bAnxiety'], axis=1)"
   ]
  },
  {
   "cell_type": "code",
   "execution_count": 975,
   "metadata": {},
   "outputs": [],
   "source": [
    "df= df.drop_duplicates(subset=['ClientId'], keep='last')\n"
   ]
  },
  {
   "cell_type": "code",
   "execution_count": 976,
   "metadata": {},
   "outputs": [
    {
     "data": {
      "text/html": [
       "<div>\n",
       "<style scoped>\n",
       "    .dataframe tbody tr th:only-of-type {\n",
       "        vertical-align: middle;\n",
       "    }\n",
       "\n",
       "    .dataframe tbody tr th {\n",
       "        vertical-align: top;\n",
       "    }\n",
       "\n",
       "    .dataframe thead th {\n",
       "        text-align: right;\n",
       "    }\n",
       "</style>\n",
       "<table border=\"1\" class=\"dataframe\">\n",
       "  <thead>\n",
       "    <tr style=\"text-align: right;\">\n",
       "      <th></th>\n",
       "      <th>Unnamed: 0</th>\n",
       "      <th>ClientId</th>\n",
       "      <th>DOB</th>\n",
       "      <th>Gender</th>\n",
       "      <th>Ethnicity</th>\n",
       "      <th>Ethnorace</th>\n",
       "      <th>Veteran</th>\n",
       "      <th>D2EducationLevelId</th>\n",
       "    </tr>\n",
       "  </thead>\n",
       "  <tbody>\n",
       "    <tr>\n",
       "      <th>1</th>\n",
       "      <td>13.0</td>\n",
       "      <td>37640</td>\n",
       "      <td>1992-01-14</td>\n",
       "      <td>Female</td>\n",
       "      <td>Hispanic or Latino</td>\n",
       "      <td>Hispanic</td>\n",
       "      <td>unknwon</td>\n",
       "      <td>12</td>\n",
       "    </tr>\n",
       "    <tr>\n",
       "      <th>3</th>\n",
       "      <td>17.0</td>\n",
       "      <td>37648</td>\n",
       "      <td>1984-12-15</td>\n",
       "      <td>Female</td>\n",
       "      <td>Not Hispanic or Latino</td>\n",
       "      <td>White</td>\n",
       "      <td>unknwon</td>\n",
       "      <td>10</td>\n",
       "    </tr>\n",
       "    <tr>\n",
       "      <th>5</th>\n",
       "      <td>19.0</td>\n",
       "      <td>37657</td>\n",
       "      <td>1970-01-14</td>\n",
       "      <td>Female</td>\n",
       "      <td>Not Hispanic or Latino</td>\n",
       "      <td>White</td>\n",
       "      <td>unknwon</td>\n",
       "      <td>12</td>\n",
       "    </tr>\n",
       "    <tr>\n",
       "      <th>9</th>\n",
       "      <td>29.0</td>\n",
       "      <td>37690</td>\n",
       "      <td>1992-07-15</td>\n",
       "      <td>Male</td>\n",
       "      <td>Hispanic or Latino</td>\n",
       "      <td>unknwon</td>\n",
       "      <td>unknwon</td>\n",
       "      <td>12</td>\n",
       "    </tr>\n",
       "    <tr>\n",
       "      <th>11</th>\n",
       "      <td>31.0</td>\n",
       "      <td>37692</td>\n",
       "      <td>1958-08-14</td>\n",
       "      <td>Female</td>\n",
       "      <td>Hispanic or Latino</td>\n",
       "      <td>unknwon</td>\n",
       "      <td>unknwon</td>\n",
       "      <td>11</td>\n",
       "    </tr>\n",
       "  </tbody>\n",
       "</table>\n",
       "</div>"
      ],
      "text/plain": [
       "    Unnamed: 0 ClientId        DOB  Gender               Ethnicity Ethnorace  \\\n",
       "1         13.0    37640 1992-01-14  Female      Hispanic or Latino  Hispanic   \n",
       "3         17.0    37648 1984-12-15  Female  Not Hispanic or Latino     White   \n",
       "5         19.0    37657 1970-01-14  Female  Not Hispanic or Latino     White   \n",
       "9         29.0    37690 1992-07-15    Male      Hispanic or Latino   unknwon   \n",
       "11        31.0    37692 1958-08-14  Female      Hispanic or Latino   unknwon   \n",
       "\n",
       "    Veteran D2EducationLevelId  \n",
       "1   unknwon                 12  \n",
       "3   unknwon                 10  \n",
       "5   unknwon                 12  \n",
       "9   unknwon                 12  \n",
       "11  unknwon                 11  "
      ]
     },
     "execution_count": 976,
     "metadata": {},
     "output_type": "execute_result"
    }
   ],
   "source": [
    "df.head()"
   ]
  },
  {
   "cell_type": "code",
   "execution_count": 977,
   "metadata": {},
   "outputs": [
    {
     "data": {
      "text/plain": [
       "11198"
      ]
     },
     "execution_count": 977,
     "metadata": {},
     "output_type": "execute_result"
    }
   ],
   "source": [
    "len(df['ClientId'])"
   ]
  },
  {
   "cell_type": "code",
   "execution_count": 978,
   "metadata": {},
   "outputs": [
    {
     "data": {
      "text/plain": [
       "47337"
      ]
     },
     "execution_count": 978,
     "metadata": {},
     "output_type": "execute_result"
    }
   ],
   "source": [
    "len(df_ClientData)"
   ]
  },
  {
   "cell_type": "markdown",
   "metadata": {},
   "source": [
    "### Merging Surveydata & Client data"
   ]
  },
  {
   "cell_type": "code",
   "execution_count": 979,
   "metadata": {},
   "outputs": [],
   "source": [
    "ClientDemographic_Data = pd.merge(df, df_ClientData, on=\"ClientId\",how='left')\n"
   ]
  },
  {
   "cell_type": "code",
   "execution_count": 980,
   "metadata": {},
   "outputs": [
    {
     "data": {
      "text/html": [
       "<div>\n",
       "<style scoped>\n",
       "    .dataframe tbody tr th:only-of-type {\n",
       "        vertical-align: middle;\n",
       "    }\n",
       "\n",
       "    .dataframe tbody tr th {\n",
       "        vertical-align: top;\n",
       "    }\n",
       "\n",
       "    .dataframe thead th {\n",
       "        text-align: right;\n",
       "    }\n",
       "</style>\n",
       "<table border=\"1\" class=\"dataframe\">\n",
       "  <thead>\n",
       "    <tr style=\"text-align: right;\">\n",
       "      <th></th>\n",
       "      <th>Unnamed: 0_x</th>\n",
       "      <th>ClientId</th>\n",
       "      <th>DOB</th>\n",
       "      <th>Gender</th>\n",
       "      <th>Ethnicity</th>\n",
       "      <th>Ethnorace</th>\n",
       "      <th>Veteran</th>\n",
       "      <th>D2EducationLevelId</th>\n",
       "      <th>Unnamed: 0_y</th>\n",
       "      <th>City</th>\n",
       "      <th>State</th>\n",
       "      <th>Zip</th>\n",
       "    </tr>\n",
       "  </thead>\n",
       "  <tbody>\n",
       "    <tr>\n",
       "      <th>0</th>\n",
       "      <td>13.0</td>\n",
       "      <td>37640</td>\n",
       "      <td>1992-01-14</td>\n",
       "      <td>Female</td>\n",
       "      <td>Hispanic or Latino</td>\n",
       "      <td>Hispanic</td>\n",
       "      <td>unknwon</td>\n",
       "      <td>12</td>\n",
       "      <td>15.0</td>\n",
       "      <td>Bloomfield</td>\n",
       "      <td>NM</td>\n",
       "      <td>87413</td>\n",
       "    </tr>\n",
       "    <tr>\n",
       "      <th>1</th>\n",
       "      <td>17.0</td>\n",
       "      <td>37648</td>\n",
       "      <td>1984-12-15</td>\n",
       "      <td>Female</td>\n",
       "      <td>Not Hispanic or Latino</td>\n",
       "      <td>White</td>\n",
       "      <td>unknwon</td>\n",
       "      <td>10</td>\n",
       "      <td>18.0</td>\n",
       "      <td>Aztec</td>\n",
       "      <td>NM</td>\n",
       "      <td>87410</td>\n",
       "    </tr>\n",
       "    <tr>\n",
       "      <th>2</th>\n",
       "      <td>19.0</td>\n",
       "      <td>37657</td>\n",
       "      <td>1970-01-14</td>\n",
       "      <td>Female</td>\n",
       "      <td>Not Hispanic or Latino</td>\n",
       "      <td>White</td>\n",
       "      <td>unknwon</td>\n",
       "      <td>12</td>\n",
       "      <td>20.0</td>\n",
       "      <td>Alamogordo</td>\n",
       "      <td>NM</td>\n",
       "      <td>88310</td>\n",
       "    </tr>\n",
       "    <tr>\n",
       "      <th>3</th>\n",
       "      <td>29.0</td>\n",
       "      <td>37690</td>\n",
       "      <td>1992-07-15</td>\n",
       "      <td>Male</td>\n",
       "      <td>Hispanic or Latino</td>\n",
       "      <td>unknwon</td>\n",
       "      <td>unknwon</td>\n",
       "      <td>12</td>\n",
       "      <td>27.0</td>\n",
       "      <td>Albuquerque</td>\n",
       "      <td>NM</td>\n",
       "      <td>87151</td>\n",
       "    </tr>\n",
       "    <tr>\n",
       "      <th>4</th>\n",
       "      <td>31.0</td>\n",
       "      <td>37692</td>\n",
       "      <td>1958-08-14</td>\n",
       "      <td>Female</td>\n",
       "      <td>Hispanic or Latino</td>\n",
       "      <td>unknwon</td>\n",
       "      <td>unknwon</td>\n",
       "      <td>11</td>\n",
       "      <td>29.0</td>\n",
       "      <td>Alamogordo</td>\n",
       "      <td>NM</td>\n",
       "      <td>88310</td>\n",
       "    </tr>\n",
       "  </tbody>\n",
       "</table>\n",
       "</div>"
      ],
      "text/plain": [
       "   Unnamed: 0_x ClientId        DOB  Gender               Ethnicity Ethnorace  \\\n",
       "0          13.0    37640 1992-01-14  Female      Hispanic or Latino  Hispanic   \n",
       "1          17.0    37648 1984-12-15  Female  Not Hispanic or Latino     White   \n",
       "2          19.0    37657 1970-01-14  Female  Not Hispanic or Latino     White   \n",
       "3          29.0    37690 1992-07-15    Male      Hispanic or Latino   unknwon   \n",
       "4          31.0    37692 1958-08-14  Female      Hispanic or Latino   unknwon   \n",
       "\n",
       "   Veteran D2EducationLevelId  Unnamed: 0_y         City State    Zip  \n",
       "0  unknwon                 12          15.0   Bloomfield    NM  87413  \n",
       "1  unknwon                 10          18.0        Aztec    NM  87410  \n",
       "2  unknwon                 12          20.0   Alamogordo    NM  88310  \n",
       "3  unknwon                 12          27.0  Albuquerque    NM  87151  \n",
       "4  unknwon                 11          29.0   Alamogordo    NM  88310  "
      ]
     },
     "execution_count": 980,
     "metadata": {},
     "output_type": "execute_result"
    }
   ],
   "source": [
    "ClientDemographic_Data.head()"
   ]
  },
  {
   "cell_type": "code",
   "execution_count": 981,
   "metadata": {},
   "outputs": [
    {
     "data": {
      "text/plain": [
       "11198"
      ]
     },
     "execution_count": 981,
     "metadata": {},
     "output_type": "execute_result"
    }
   ],
   "source": [
    "len(ClientDemographic_Data['ClientId'])"
   ]
  },
  {
   "cell_type": "markdown",
   "metadata": {},
   "source": [
    "# Cleaning Service dataset"
   ]
  },
  {
   "cell_type": "code",
   "execution_count": 982,
   "metadata": {
    "scrolled": true
   },
   "outputs": [
    {
     "data": {
      "text/html": [
       "<div>\n",
       "<style scoped>\n",
       "    .dataframe tbody tr th:only-of-type {\n",
       "        vertical-align: middle;\n",
       "    }\n",
       "\n",
       "    .dataframe tbody tr th {\n",
       "        vertical-align: top;\n",
       "    }\n",
       "\n",
       "    .dataframe thead th {\n",
       "        text-align: right;\n",
       "    }\n",
       "</style>\n",
       "<table border=\"1\" class=\"dataframe\">\n",
       "  <thead>\n",
       "    <tr style=\"text-align: right;\">\n",
       "      <th></th>\n",
       "      <th>Unnamed: 0</th>\n",
       "      <th>ClientID</th>\n",
       "      <th>ProviderId</th>\n",
       "      <th>ServiceDt</th>\n",
       "      <th>ServiceAmt</th>\n",
       "      <th>Service</th>\n",
       "      <th>ServiceDesc</th>\n",
       "    </tr>\n",
       "  </thead>\n",
       "  <tbody>\n",
       "    <tr>\n",
       "      <th>0</th>\n",
       "      <td>1</td>\n",
       "      <td>38825</td>\n",
       "      <td>011P00000000000</td>\n",
       "      <td>2013-04-08</td>\n",
       "      <td>60.0</td>\n",
       "      <td>Massage</td>\n",
       "      <td>Massage, Shiatsu, Acupressure, Rolfing, Felden...</td>\n",
       "    </tr>\n",
       "    <tr>\n",
       "      <th>1</th>\n",
       "      <td>4</td>\n",
       "      <td>39852</td>\n",
       "      <td>017P00000000000</td>\n",
       "      <td>2013-06-11</td>\n",
       "      <td>3.0</td>\n",
       "      <td>Bus Pass Fee</td>\n",
       "      <td>Bus Pass - Fee</td>\n",
       "    </tr>\n",
       "    <tr>\n",
       "      <th>2</th>\n",
       "      <td>5</td>\n",
       "      <td>39852</td>\n",
       "      <td>017P00000000000</td>\n",
       "      <td>2013-06-11</td>\n",
       "      <td>10.0</td>\n",
       "      <td>Transportation - Bus pass</td>\n",
       "      <td>Providing means for individual to be transferr...</td>\n",
       "    </tr>\n",
       "    <tr>\n",
       "      <th>3</th>\n",
       "      <td>8</td>\n",
       "      <td>39852</td>\n",
       "      <td>017P00000000000</td>\n",
       "      <td>2013-06-14</td>\n",
       "      <td>60.0</td>\n",
       "      <td>Acupuncture</td>\n",
       "      <td>Acupuncture</td>\n",
       "    </tr>\n",
       "    <tr>\n",
       "      <th>4</th>\n",
       "      <td>10</td>\n",
       "      <td>39852</td>\n",
       "      <td>017P00000000000</td>\n",
       "      <td>2013-06-18</td>\n",
       "      <td>60.0</td>\n",
       "      <td>Acupuncture</td>\n",
       "      <td>Acupuncture</td>\n",
       "    </tr>\n",
       "  </tbody>\n",
       "</table>\n",
       "</div>"
      ],
      "text/plain": [
       "   Unnamed: 0 ClientID       ProviderId  ServiceDt  ServiceAmt  \\\n",
       "0           1    38825  011P00000000000 2013-04-08        60.0   \n",
       "1           4    39852  017P00000000000 2013-06-11         3.0   \n",
       "2           5    39852  017P00000000000 2013-06-11        10.0   \n",
       "3           8    39852  017P00000000000 2013-06-14        60.0   \n",
       "4          10    39852  017P00000000000 2013-06-18        60.0   \n",
       "\n",
       "                     Service  \\\n",
       "0                    Massage   \n",
       "1               Bus Pass Fee   \n",
       "2  Transportation - Bus pass   \n",
       "3                Acupuncture   \n",
       "4                Acupuncture   \n",
       "\n",
       "                                         ServiceDesc  \n",
       "0  Massage, Shiatsu, Acupressure, Rolfing, Felden...  \n",
       "1                                     Bus Pass - Fee  \n",
       "2  Providing means for individual to be transferr...  \n",
       "3                                        Acupuncture  \n",
       "4                                        Acupuncture  "
      ]
     },
     "execution_count": 982,
     "metadata": {},
     "output_type": "execute_result"
    }
   ],
   "source": [
    "df_ServiceData.head()"
   ]
  },
  {
   "cell_type": "code",
   "execution_count": 983,
   "metadata": {
    "scrolled": true
   },
   "outputs": [
    {
     "data": {
      "text/html": [
       "<div>\n",
       "<style scoped>\n",
       "    .dataframe tbody tr th:only-of-type {\n",
       "        vertical-align: middle;\n",
       "    }\n",
       "\n",
       "    .dataframe tbody tr th {\n",
       "        vertical-align: top;\n",
       "    }\n",
       "\n",
       "    .dataframe thead th {\n",
       "        text-align: right;\n",
       "    }\n",
       "</style>\n",
       "<table border=\"1\" class=\"dataframe\">\n",
       "  <thead>\n",
       "    <tr style=\"text-align: right;\">\n",
       "      <th></th>\n",
       "      <th>Unnamed: 0</th>\n",
       "      <th>ClientID</th>\n",
       "      <th>ServiceAmt</th>\n",
       "      <th>Service</th>\n",
       "      <th>ServiceNum</th>\n",
       "    </tr>\n",
       "  </thead>\n",
       "  <tbody>\n",
       "    <tr>\n",
       "      <th>0</th>\n",
       "      <td>1</td>\n",
       "      <td>38825</td>\n",
       "      <td>60.0</td>\n",
       "      <td>Massage</td>\n",
       "      <td>1</td>\n",
       "    </tr>\n",
       "    <tr>\n",
       "      <th>1</th>\n",
       "      <td>4</td>\n",
       "      <td>39852</td>\n",
       "      <td>3.0</td>\n",
       "      <td>Bus Pass Fee</td>\n",
       "      <td>1</td>\n",
       "    </tr>\n",
       "    <tr>\n",
       "      <th>2</th>\n",
       "      <td>5</td>\n",
       "      <td>39852</td>\n",
       "      <td>10.0</td>\n",
       "      <td>Transportation - Bus pass</td>\n",
       "      <td>1</td>\n",
       "    </tr>\n",
       "    <tr>\n",
       "      <th>3</th>\n",
       "      <td>8</td>\n",
       "      <td>39852</td>\n",
       "      <td>60.0</td>\n",
       "      <td>Acupuncture</td>\n",
       "      <td>1</td>\n",
       "    </tr>\n",
       "    <tr>\n",
       "      <th>4</th>\n",
       "      <td>10</td>\n",
       "      <td>39852</td>\n",
       "      <td>60.0</td>\n",
       "      <td>Acupuncture</td>\n",
       "      <td>1</td>\n",
       "    </tr>\n",
       "  </tbody>\n",
       "</table>\n",
       "</div>"
      ],
      "text/plain": [
       "   Unnamed: 0 ClientID  ServiceAmt                    Service  ServiceNum\n",
       "0           1    38825        60.0                    Massage           1\n",
       "1           4    39852         3.0               Bus Pass Fee           1\n",
       "2           5    39852        10.0  Transportation - Bus pass           1\n",
       "3           8    39852        60.0                Acupuncture           1\n",
       "4          10    39852        60.0                Acupuncture           1"
      ]
     },
     "execution_count": 983,
     "metadata": {},
     "output_type": "execute_result"
    }
   ],
   "source": [
    "newdf_ServiceData=df_ServiceData.drop(['ProviderId','ServiceDt','ServiceDesc'], axis=1)\n",
    "newdf_ServiceData = newdf_ServiceData.assign(ServiceNum=1)\n",
    "\n",
    "newdf_ServiceData.head()"
   ]
  },
  {
   "cell_type": "markdown",
   "metadata": {},
   "source": [
    "### Two new column, was created based on value of ServiceAmt, ServiceNum\n",
    "### Column ServiceAmt sum is the sum of Service Amount and the column ServiceNum Total is the total number of service"
   ]
  },
  {
   "cell_type": "code",
   "execution_count": 984,
   "metadata": {},
   "outputs": [],
   "source": [
    "newdf_ServiceData=newdf_ServiceData.groupby('ClientID').agg({'ServiceAmt': 'sum', 'ServiceNum':'count'}).reset_index().rename(columns={'ServiceAmt':'ServiceAmt sum', 'ServiceNum': 'ServiceNum Total'})"
   ]
  },
  {
   "cell_type": "code",
   "execution_count": 985,
   "metadata": {},
   "outputs": [
    {
     "data": {
      "text/plain": [
       "10987"
      ]
     },
     "execution_count": 985,
     "metadata": {},
     "output_type": "execute_result"
    }
   ],
   "source": [
    "len(newdf_ServiceData)"
   ]
  },
  {
   "cell_type": "code",
   "execution_count": 986,
   "metadata": {},
   "outputs": [
    {
     "data": {
      "text/html": [
       "<div>\n",
       "<style scoped>\n",
       "    .dataframe tbody tr th:only-of-type {\n",
       "        vertical-align: middle;\n",
       "    }\n",
       "\n",
       "    .dataframe tbody tr th {\n",
       "        vertical-align: top;\n",
       "    }\n",
       "\n",
       "    .dataframe thead th {\n",
       "        text-align: right;\n",
       "    }\n",
       "</style>\n",
       "<table border=\"1\" class=\"dataframe\">\n",
       "  <thead>\n",
       "    <tr style=\"text-align: right;\">\n",
       "      <th></th>\n",
       "      <th>ClientID</th>\n",
       "      <th>ServiceAmt sum</th>\n",
       "      <th>ServiceNum Total</th>\n",
       "    </tr>\n",
       "  </thead>\n",
       "  <tbody>\n",
       "    <tr>\n",
       "      <th>4818</th>\n",
       "      <td>12000000030161</td>\n",
       "      <td>3475.0</td>\n",
       "      <td>55</td>\n",
       "    </tr>\n",
       "    <tr>\n",
       "      <th>8955</th>\n",
       "      <td>23000000038072</td>\n",
       "      <td>2996.0</td>\n",
       "      <td>47</td>\n",
       "    </tr>\n",
       "    <tr>\n",
       "      <th>5031</th>\n",
       "      <td>12000000032072</td>\n",
       "      <td>2938.0</td>\n",
       "      <td>58</td>\n",
       "    </tr>\n",
       "    <tr>\n",
       "      <th>1302</th>\n",
       "      <td>3000000033079</td>\n",
       "      <td>2904.0</td>\n",
       "      <td>53</td>\n",
       "    </tr>\n",
       "    <tr>\n",
       "      <th>8999</th>\n",
       "      <td>23000000039608</td>\n",
       "      <td>2894.0</td>\n",
       "      <td>47</td>\n",
       "    </tr>\n",
       "  </tbody>\n",
       "</table>\n",
       "</div>"
      ],
      "text/plain": [
       "            ClientID  ServiceAmt sum  ServiceNum Total\n",
       "4818  12000000030161          3475.0                55\n",
       "8955  23000000038072          2996.0                47\n",
       "5031  12000000032072          2938.0                58\n",
       "1302   3000000033079          2904.0                53\n",
       "8999  23000000039608          2894.0                47"
      ]
     },
     "execution_count": 986,
     "metadata": {},
     "output_type": "execute_result"
    }
   ],
   "source": [
    "newdf_ServiceData.sort_values('ServiceAmt sum',ascending=False).head()"
   ]
  },
  {
   "cell_type": "code",
   "execution_count": 987,
   "metadata": {},
   "outputs": [],
   "source": [
    "newdf_ServiceData = newdf_ServiceData.rename(columns={\"ClientID\": \"ClientId\"})\n"
   ]
  },
  {
   "cell_type": "code",
   "execution_count": 988,
   "metadata": {},
   "outputs": [
    {
     "data": {
      "text/html": [
       "<div>\n",
       "<style scoped>\n",
       "    .dataframe tbody tr th:only-of-type {\n",
       "        vertical-align: middle;\n",
       "    }\n",
       "\n",
       "    .dataframe tbody tr th {\n",
       "        vertical-align: top;\n",
       "    }\n",
       "\n",
       "    .dataframe thead th {\n",
       "        text-align: right;\n",
       "    }\n",
       "</style>\n",
       "<table border=\"1\" class=\"dataframe\">\n",
       "  <thead>\n",
       "    <tr style=\"text-align: right;\">\n",
       "      <th></th>\n",
       "      <th>ClientId</th>\n",
       "      <th>ServiceAmt sum</th>\n",
       "      <th>ServiceNum Total</th>\n",
       "    </tr>\n",
       "  </thead>\n",
       "  <tbody>\n",
       "    <tr>\n",
       "      <th>0</th>\n",
       "      <td>37914</td>\n",
       "      <td>1857.0</td>\n",
       "      <td>38</td>\n",
       "    </tr>\n",
       "    <tr>\n",
       "      <th>1</th>\n",
       "      <td>38022</td>\n",
       "      <td>830.0</td>\n",
       "      <td>15</td>\n",
       "    </tr>\n",
       "    <tr>\n",
       "      <th>2</th>\n",
       "      <td>38047</td>\n",
       "      <td>430.0</td>\n",
       "      <td>8</td>\n",
       "    </tr>\n",
       "    <tr>\n",
       "      <th>3</th>\n",
       "      <td>38063</td>\n",
       "      <td>850.0</td>\n",
       "      <td>21</td>\n",
       "    </tr>\n",
       "    <tr>\n",
       "      <th>4</th>\n",
       "      <td>38410</td>\n",
       "      <td>1870.0</td>\n",
       "      <td>41</td>\n",
       "    </tr>\n",
       "  </tbody>\n",
       "</table>\n",
       "</div>"
      ],
      "text/plain": [
       "  ClientId  ServiceAmt sum  ServiceNum Total\n",
       "0    37914          1857.0                38\n",
       "1    38022           830.0                15\n",
       "2    38047           430.0                 8\n",
       "3    38063           850.0                21\n",
       "4    38410          1870.0                41"
      ]
     },
     "execution_count": 988,
     "metadata": {},
     "output_type": "execute_result"
    }
   ],
   "source": [
    "newdf_ServiceData.head()"
   ]
  },
  {
   "cell_type": "code",
   "execution_count": 989,
   "metadata": {},
   "outputs": [],
   "source": [
    "AlL_ClientData = pd.merge(ClientDemographic_Data, newdf_ServiceData, on=\"ClientId\",how='left')\n"
   ]
  },
  {
   "cell_type": "code",
   "execution_count": 990,
   "metadata": {},
   "outputs": [
    {
     "data": {
      "text/html": [
       "<div>\n",
       "<style scoped>\n",
       "    .dataframe tbody tr th:only-of-type {\n",
       "        vertical-align: middle;\n",
       "    }\n",
       "\n",
       "    .dataframe tbody tr th {\n",
       "        vertical-align: top;\n",
       "    }\n",
       "\n",
       "    .dataframe thead th {\n",
       "        text-align: right;\n",
       "    }\n",
       "</style>\n",
       "<table border=\"1\" class=\"dataframe\">\n",
       "  <thead>\n",
       "    <tr style=\"text-align: right;\">\n",
       "      <th></th>\n",
       "      <th>Unnamed: 0_x</th>\n",
       "      <th>ClientId</th>\n",
       "      <th>DOB</th>\n",
       "      <th>Gender</th>\n",
       "      <th>Ethnicity</th>\n",
       "      <th>Ethnorace</th>\n",
       "      <th>Veteran</th>\n",
       "      <th>D2EducationLevelId</th>\n",
       "      <th>Unnamed: 0_y</th>\n",
       "      <th>City</th>\n",
       "      <th>State</th>\n",
       "      <th>Zip</th>\n",
       "      <th>ServiceAmt sum</th>\n",
       "      <th>ServiceNum Total</th>\n",
       "    </tr>\n",
       "  </thead>\n",
       "  <tbody>\n",
       "    <tr>\n",
       "      <th>0</th>\n",
       "      <td>13.0</td>\n",
       "      <td>37640</td>\n",
       "      <td>1992-01-14</td>\n",
       "      <td>Female</td>\n",
       "      <td>Hispanic or Latino</td>\n",
       "      <td>Hispanic</td>\n",
       "      <td>unknwon</td>\n",
       "      <td>12</td>\n",
       "      <td>15.0</td>\n",
       "      <td>Bloomfield</td>\n",
       "      <td>NM</td>\n",
       "      <td>87413</td>\n",
       "      <td>NaN</td>\n",
       "      <td>NaN</td>\n",
       "    </tr>\n",
       "    <tr>\n",
       "      <th>1</th>\n",
       "      <td>17.0</td>\n",
       "      <td>37648</td>\n",
       "      <td>1984-12-15</td>\n",
       "      <td>Female</td>\n",
       "      <td>Not Hispanic or Latino</td>\n",
       "      <td>White</td>\n",
       "      <td>unknwon</td>\n",
       "      <td>10</td>\n",
       "      <td>18.0</td>\n",
       "      <td>Aztec</td>\n",
       "      <td>NM</td>\n",
       "      <td>87410</td>\n",
       "      <td>NaN</td>\n",
       "      <td>NaN</td>\n",
       "    </tr>\n",
       "    <tr>\n",
       "      <th>2</th>\n",
       "      <td>19.0</td>\n",
       "      <td>37657</td>\n",
       "      <td>1970-01-14</td>\n",
       "      <td>Female</td>\n",
       "      <td>Not Hispanic or Latino</td>\n",
       "      <td>White</td>\n",
       "      <td>unknwon</td>\n",
       "      <td>12</td>\n",
       "      <td>20.0</td>\n",
       "      <td>Alamogordo</td>\n",
       "      <td>NM</td>\n",
       "      <td>88310</td>\n",
       "      <td>NaN</td>\n",
       "      <td>NaN</td>\n",
       "    </tr>\n",
       "    <tr>\n",
       "      <th>3</th>\n",
       "      <td>29.0</td>\n",
       "      <td>37690</td>\n",
       "      <td>1992-07-15</td>\n",
       "      <td>Male</td>\n",
       "      <td>Hispanic or Latino</td>\n",
       "      <td>unknwon</td>\n",
       "      <td>unknwon</td>\n",
       "      <td>12</td>\n",
       "      <td>27.0</td>\n",
       "      <td>Albuquerque</td>\n",
       "      <td>NM</td>\n",
       "      <td>87151</td>\n",
       "      <td>NaN</td>\n",
       "      <td>NaN</td>\n",
       "    </tr>\n",
       "    <tr>\n",
       "      <th>4</th>\n",
       "      <td>31.0</td>\n",
       "      <td>37692</td>\n",
       "      <td>1958-08-14</td>\n",
       "      <td>Female</td>\n",
       "      <td>Hispanic or Latino</td>\n",
       "      <td>unknwon</td>\n",
       "      <td>unknwon</td>\n",
       "      <td>11</td>\n",
       "      <td>29.0</td>\n",
       "      <td>Alamogordo</td>\n",
       "      <td>NM</td>\n",
       "      <td>88310</td>\n",
       "      <td>NaN</td>\n",
       "      <td>NaN</td>\n",
       "    </tr>\n",
       "  </tbody>\n",
       "</table>\n",
       "</div>"
      ],
      "text/plain": [
       "   Unnamed: 0_x ClientId        DOB  Gender               Ethnicity Ethnorace  \\\n",
       "0          13.0    37640 1992-01-14  Female      Hispanic or Latino  Hispanic   \n",
       "1          17.0    37648 1984-12-15  Female  Not Hispanic or Latino     White   \n",
       "2          19.0    37657 1970-01-14  Female  Not Hispanic or Latino     White   \n",
       "3          29.0    37690 1992-07-15    Male      Hispanic or Latino   unknwon   \n",
       "4          31.0    37692 1958-08-14  Female      Hispanic or Latino   unknwon   \n",
       "\n",
       "   Veteran D2EducationLevelId  Unnamed: 0_y         City State    Zip  \\\n",
       "0  unknwon                 12          15.0   Bloomfield    NM  87413   \n",
       "1  unknwon                 10          18.0        Aztec    NM  87410   \n",
       "2  unknwon                 12          20.0   Alamogordo    NM  88310   \n",
       "3  unknwon                 12          27.0  Albuquerque    NM  87151   \n",
       "4  unknwon                 11          29.0   Alamogordo    NM  88310   \n",
       "\n",
       "   ServiceAmt sum  ServiceNum Total  \n",
       "0             NaN               NaN  \n",
       "1             NaN               NaN  \n",
       "2             NaN               NaN  \n",
       "3             NaN               NaN  \n",
       "4             NaN               NaN  "
      ]
     },
     "execution_count": 990,
     "metadata": {},
     "output_type": "execute_result"
    }
   ],
   "source": [
    "AlL_ClientData.head()"
   ]
  },
  {
   "cell_type": "code",
   "execution_count": 991,
   "metadata": {},
   "outputs": [
    {
     "data": {
      "text/plain": [
       "11198"
      ]
     },
     "execution_count": 991,
     "metadata": {},
     "output_type": "execute_result"
    }
   ],
   "source": [
    "len(AlL_ClientData)"
   ]
  },
  {
   "cell_type": "markdown",
   "metadata": {},
   "source": [
    "# # Export Data for further analysis"
   ]
  },
  {
   "cell_type": "code",
   "execution_count": null,
   "metadata": {},
   "outputs": [],
   "source": []
  },
  {
   "cell_type": "code",
   "execution_count": null,
   "metadata": {},
   "outputs": [],
   "source": []
  },
  {
   "cell_type": "markdown",
   "metadata": {},
   "source": [
    "### Creating age group"
   ]
  },
  {
   "cell_type": "code",
   "execution_count": 992,
   "metadata": {
    "scrolled": false
   },
   "outputs": [
    {
     "data": {
      "text/plain": [
       "count                   11197\n",
       "unique                    654\n",
       "top       1984-11-14 00:00:00\n",
       "freq                       51\n",
       "first     1920-07-15 00:00:00\n",
       "last      1999-12-15 00:00:00\n",
       "Name: DOB, dtype: object"
      ]
     },
     "execution_count": 992,
     "metadata": {},
     "output_type": "execute_result"
    }
   ],
   "source": [
    "AlL_ClientData['DOB'].describe()"
   ]
  },
  {
   "cell_type": "code",
   "execution_count": 993,
   "metadata": {},
   "outputs": [],
   "source": [
    "from datetime import date\n",
    "AlL_ClientData['Date'] = pd.to_datetime(AlL_ClientData.DOB)\n"
   ]
  },
  {
   "cell_type": "code",
   "execution_count": 994,
   "metadata": {},
   "outputs": [],
   "source": [
    "  \n",
    "def calculateAge(birthDate): \n",
    "    today = date.today() \n",
    "    age = today.year - birthDate.year - ((today.month, today.day) < (birthDate.month, birthDate.day)) \n",
    "    return age "
   ]
  },
  {
   "cell_type": "code",
   "execution_count": 995,
   "metadata": {},
   "outputs": [],
   "source": [
    "AlL_ClientData['age']= AlL_ClientData['Date'].apply(lambda x: calculateAge(x))\n"
   ]
  },
  {
   "cell_type": "code",
   "execution_count": null,
   "metadata": {},
   "outputs": [],
   "source": []
  },
  {
   "cell_type": "code",
   "execution_count": 996,
   "metadata": {},
   "outputs": [],
   "source": [
    "\n",
    "bins= [0,30,60,120]\n",
    "labels = ['Young','Middle_aged','Old']\n",
    "AlL_ClientData['AgeGroup'] = pd.cut(AlL_ClientData['age'], bins=bins, labels=labels, right=False)\n"
   ]
  },
  {
   "cell_type": "code",
   "execution_count": 997,
   "metadata": {},
   "outputs": [],
   "source": [
    "AlL_ClientData =  AlL_ClientData.drop(['DOB','Date'], axis=1)\n"
   ]
  },
  {
   "cell_type": "code",
   "execution_count": 998,
   "metadata": {},
   "outputs": [],
   "source": [
    "AlL_ClientData['D2EducationLevelId'] = AlL_ClientData['D2EducationLevelId'].astype(float)\n"
   ]
  },
  {
   "cell_type": "code",
   "execution_count": 999,
   "metadata": {
    "scrolled": true
   },
   "outputs": [
    {
     "data": {
      "text/html": [
       "<div>\n",
       "<style scoped>\n",
       "    .dataframe tbody tr th:only-of-type {\n",
       "        vertical-align: middle;\n",
       "    }\n",
       "\n",
       "    .dataframe tbody tr th {\n",
       "        vertical-align: top;\n",
       "    }\n",
       "\n",
       "    .dataframe thead th {\n",
       "        text-align: right;\n",
       "    }\n",
       "</style>\n",
       "<table border=\"1\" class=\"dataframe\">\n",
       "  <thead>\n",
       "    <tr style=\"text-align: right;\">\n",
       "      <th></th>\n",
       "      <th>Unnamed: 0_x</th>\n",
       "      <th>ClientId</th>\n",
       "      <th>Gender</th>\n",
       "      <th>Ethnicity</th>\n",
       "      <th>Ethnorace</th>\n",
       "      <th>Veteran</th>\n",
       "      <th>D2EducationLevelId</th>\n",
       "      <th>Unnamed: 0_y</th>\n",
       "      <th>City</th>\n",
       "      <th>State</th>\n",
       "      <th>Zip</th>\n",
       "      <th>ServiceAmt sum</th>\n",
       "      <th>ServiceNum Total</th>\n",
       "      <th>age</th>\n",
       "      <th>AgeGroup</th>\n",
       "    </tr>\n",
       "  </thead>\n",
       "  <tbody>\n",
       "    <tr>\n",
       "      <th>0</th>\n",
       "      <td>13.0</td>\n",
       "      <td>37640</td>\n",
       "      <td>Female</td>\n",
       "      <td>Hispanic or Latino</td>\n",
       "      <td>Hispanic</td>\n",
       "      <td>unknwon</td>\n",
       "      <td>12.0</td>\n",
       "      <td>15.0</td>\n",
       "      <td>Bloomfield</td>\n",
       "      <td>NM</td>\n",
       "      <td>87413</td>\n",
       "      <td>NaN</td>\n",
       "      <td>NaN</td>\n",
       "      <td>28.0</td>\n",
       "      <td>Young</td>\n",
       "    </tr>\n",
       "    <tr>\n",
       "      <th>1</th>\n",
       "      <td>17.0</td>\n",
       "      <td>37648</td>\n",
       "      <td>Female</td>\n",
       "      <td>Not Hispanic or Latino</td>\n",
       "      <td>White</td>\n",
       "      <td>unknwon</td>\n",
       "      <td>10.0</td>\n",
       "      <td>18.0</td>\n",
       "      <td>Aztec</td>\n",
       "      <td>NM</td>\n",
       "      <td>87410</td>\n",
       "      <td>NaN</td>\n",
       "      <td>NaN</td>\n",
       "      <td>35.0</td>\n",
       "      <td>Middle_aged</td>\n",
       "    </tr>\n",
       "    <tr>\n",
       "      <th>2</th>\n",
       "      <td>19.0</td>\n",
       "      <td>37657</td>\n",
       "      <td>Female</td>\n",
       "      <td>Not Hispanic or Latino</td>\n",
       "      <td>White</td>\n",
       "      <td>unknwon</td>\n",
       "      <td>12.0</td>\n",
       "      <td>20.0</td>\n",
       "      <td>Alamogordo</td>\n",
       "      <td>NM</td>\n",
       "      <td>88310</td>\n",
       "      <td>NaN</td>\n",
       "      <td>NaN</td>\n",
       "      <td>50.0</td>\n",
       "      <td>Middle_aged</td>\n",
       "    </tr>\n",
       "    <tr>\n",
       "      <th>3</th>\n",
       "      <td>29.0</td>\n",
       "      <td>37690</td>\n",
       "      <td>Male</td>\n",
       "      <td>Hispanic or Latino</td>\n",
       "      <td>unknwon</td>\n",
       "      <td>unknwon</td>\n",
       "      <td>12.0</td>\n",
       "      <td>27.0</td>\n",
       "      <td>Albuquerque</td>\n",
       "      <td>NM</td>\n",
       "      <td>87151</td>\n",
       "      <td>NaN</td>\n",
       "      <td>NaN</td>\n",
       "      <td>28.0</td>\n",
       "      <td>Young</td>\n",
       "    </tr>\n",
       "    <tr>\n",
       "      <th>4</th>\n",
       "      <td>31.0</td>\n",
       "      <td>37692</td>\n",
       "      <td>Female</td>\n",
       "      <td>Hispanic or Latino</td>\n",
       "      <td>unknwon</td>\n",
       "      <td>unknwon</td>\n",
       "      <td>11.0</td>\n",
       "      <td>29.0</td>\n",
       "      <td>Alamogordo</td>\n",
       "      <td>NM</td>\n",
       "      <td>88310</td>\n",
       "      <td>NaN</td>\n",
       "      <td>NaN</td>\n",
       "      <td>62.0</td>\n",
       "      <td>Old</td>\n",
       "    </tr>\n",
       "  </tbody>\n",
       "</table>\n",
       "</div>"
      ],
      "text/plain": [
       "   Unnamed: 0_x ClientId  Gender               Ethnicity Ethnorace  Veteran  \\\n",
       "0          13.0    37640  Female      Hispanic or Latino  Hispanic  unknwon   \n",
       "1          17.0    37648  Female  Not Hispanic or Latino     White  unknwon   \n",
       "2          19.0    37657  Female  Not Hispanic or Latino     White  unknwon   \n",
       "3          29.0    37690    Male      Hispanic or Latino   unknwon  unknwon   \n",
       "4          31.0    37692  Female      Hispanic or Latino   unknwon  unknwon   \n",
       "\n",
       "   D2EducationLevelId  Unnamed: 0_y         City State    Zip  ServiceAmt sum  \\\n",
       "0                12.0          15.0   Bloomfield    NM  87413             NaN   \n",
       "1                10.0          18.0        Aztec    NM  87410             NaN   \n",
       "2                12.0          20.0   Alamogordo    NM  88310             NaN   \n",
       "3                12.0          27.0  Albuquerque    NM  87151             NaN   \n",
       "4                11.0          29.0   Alamogordo    NM  88310             NaN   \n",
       "\n",
       "   ServiceNum Total   age     AgeGroup  \n",
       "0               NaN  28.0        Young  \n",
       "1               NaN  35.0  Middle_aged  \n",
       "2               NaN  50.0  Middle_aged  \n",
       "3               NaN  28.0        Young  \n",
       "4               NaN  62.0          Old  "
      ]
     },
     "execution_count": 999,
     "metadata": {},
     "output_type": "execute_result"
    }
   ],
   "source": [
    "AlL_ClientData.head()"
   ]
  },
  {
   "cell_type": "code",
   "execution_count": null,
   "metadata": {},
   "outputs": [],
   "source": []
  },
  {
   "cell_type": "markdown",
   "metadata": {},
   "source": [
    "# Data Visualization\n"
   ]
  },
  {
   "cell_type": "code",
   "execution_count": 1000,
   "metadata": {},
   "outputs": [],
   "source": [
    "import seaborn as sns\n",
    "import matplotlib.pyplot as plt\n",
    " "
   ]
  },
  {
   "cell_type": "code",
   "execution_count": null,
   "metadata": {},
   "outputs": [],
   "source": []
  },
  {
   "cell_type": "code",
   "execution_count": 1001,
   "metadata": {},
   "outputs": [
    {
     "data": {
      "text/plain": [
       "<seaborn.axisgrid.FacetGrid at 0x1721e7ae820>"
      ]
     },
     "execution_count": 1001,
     "metadata": {},
     "output_type": "execute_result"
    },
    {
     "data": {
      "image/png": "[encoded data removed]",
      "text/plain": [
       "<Figure size 508.35x432 with 1 Axes>"
      ]
     },
     "metadata": {},
     "output_type": "display_data"
    }
   ],
   "source": [
    "sns.set(style=\"whitegrid\")\n",
    "\n",
    "g = sns.catplot(x=\"AgeGroup\", y=\"ServiceAmt sum\", hue=\"Gender\", data=AlL_ClientData,\n",
    "                height=6, kind=\"bar\", palette=\"muted\")\n",
    "g.despine(left=True)\n",
    "g.set_ylabels(\"Total Service Amount (min)\")\n",
    "g.set_xlabels(\"Age Group\")\n"
   ]
  },
  {
   "cell_type": "code",
   "execution_count": null,
   "metadata": {},
   "outputs": [],
   "source": []
  },
  {
   "cell_type": "code",
   "execution_count": 1002,
   "metadata": {},
   "outputs": [
    {
     "data": {
      "text/plain": [
       "<seaborn.axisgrid.FacetGrid at 0x17209412820>"
      ]
     },
     "execution_count": 1002,
     "metadata": {},
     "output_type": "execute_result"
    },
    {
     "data": {
      "image/png": "[encoded data removed]",
      "text/plain": [
       "<Figure size 508.35x432 with 1 Axes>"
      ]
     },
     "metadata": {},
     "output_type": "display_data"
    }
   ],
   "source": [
    "sns.set(style=\"whitegrid\")\n",
    "\n",
    "g = sns.catplot(x=\"AgeGroup\", y=\"ServiceNum Total\", hue=\"Gender\", data=AlL_ClientData,\n",
    "                height=6, kind=\"bar\", palette=\"muted\")\n",
    "g.despine(left=True)\n",
    "g.set_ylabels(\"Total Service Number\")\n",
    "g.set_xlabels(\"Age Group\")"
   ]
  },
  {
   "cell_type": "code",
   "execution_count": null,
   "metadata": {},
   "outputs": [],
   "source": []
  },
  {
   "cell_type": "code",
   "execution_count": 1003,
   "metadata": {
    "scrolled": true
   },
   "outputs": [
    {
     "data": {
      "text/plain": [
       "<seaborn.axisgrid.FacetGrid at 0x1720d736730>"
      ]
     },
     "execution_count": 1003,
     "metadata": {},
     "output_type": "execute_result"
    },
    {
     "data": {
      "image/png": "[encoded data removed]",
      "text/plain": [
       "<Figure size 534.85x432 with 1 Axes>"
      ]
     },
     "metadata": {},
     "output_type": "display_data"
    }
   ],
   "source": [
    "sns.set(style=\"whitegrid\")\n",
    "\n",
    "g = sns.catplot(x=\"Veteran\", y=\"ServiceAmt sum\", hue=\"AgeGroup\", data=AlL_ClientData,\n",
    "                height=6, kind=\"bar\", palette=\"muted\")\n",
    "g.despine(left=True)\n",
    "g.set_ylabels(\"Total Service Amount (min)\")\n",
    "g.set_xlabels(\"Veteran\")"
   ]
  },
  {
   "cell_type": "code",
   "execution_count": 1004,
   "metadata": {},
   "outputs": [
    {
     "data": {
      "text/plain": [
       "<seaborn.axisgrid.FacetGrid at 0x17222177220>"
      ]
     },
     "execution_count": 1004,
     "metadata": {},
     "output_type": "execute_result"
    },
    {
     "data": {
      "image/png": "[encoded data removed]",
      "text/plain": [
       "<Figure size 1372.35x432 with 1 Axes>"
      ]
     },
     "metadata": {},
     "output_type": "display_data"
    }
   ],
   "source": [
    "sns.set(style=\"whitegrid\")\n",
    "\n",
    "g = sns.catplot(x=\"Ethnorace\", y=\"ServiceAmt sum\", hue=\"Gender\", data=AlL_ClientData,\n",
    "                height=6, aspect=3, kind=\"bar\", palette=\"muted\")\n",
    "g.despine(left=True)\n",
    "g.set_ylabels(\"Total Service Amount (min)\")\n",
    "g.set_xlabels(\"Ethnorace\")"
   ]
  },
  {
   "cell_type": "code",
   "execution_count": 1005,
   "metadata": {},
   "outputs": [],
   "source": [
    "SurveyData_plotData = df_SurveyData.drop(['DOB','ClientId','SurveyDate','SurveyNumber','InterviewIntake','Gender','Ethnicity','Ethnorace','Veteran'], axis=1)\n"
   ]
  },
  {
   "cell_type": "code",
   "execution_count": 1006,
   "metadata": {
    "scrolled": true
   },
   "outputs": [
    {
     "data": {
      "text/html": [
       "<div>\n",
       "<style scoped>\n",
       "    .dataframe tbody tr th:only-of-type {\n",
       "        vertical-align: middle;\n",
       "    }\n",
       "\n",
       "    .dataframe tbody tr th {\n",
       "        vertical-align: top;\n",
       "    }\n",
       "\n",
       "    .dataframe thead th {\n",
       "        text-align: right;\n",
       "    }\n",
       "</style>\n",
       "<table border=\"1\" class=\"dataframe\">\n",
       "  <thead>\n",
       "    <tr style=\"text-align: right;\">\n",
       "      <th></th>\n",
       "      <th>Unnamed: 0</th>\n",
       "      <th>C1LivingSituationId</th>\n",
       "      <th>D2EducationLevelId</th>\n",
       "      <th>D3EmploymentSituationId</th>\n",
       "      <th>B1aAlcohol</th>\n",
       "      <th>B1cIllegalDrugs</th>\n",
       "      <th>C2AddictionStressProblemId</th>\n",
       "      <th>C4AddictionEmotionalProblemId</th>\n",
       "      <th>E1TimesArrested</th>\n",
       "      <th>E4CommitedCrime</th>\n",
       "      <th>F5aDepression</th>\n",
       "      <th>F5bAnxiety</th>\n",
       "    </tr>\n",
       "  </thead>\n",
       "  <tbody>\n",
       "    <tr>\n",
       "      <th>0</th>\n",
       "      <td>12.0</td>\n",
       "      <td>41</td>\n",
       "      <td>12</td>\n",
       "      <td>3</td>\n",
       "      <td>0</td>\n",
       "      <td>0</td>\n",
       "      <td>5</td>\n",
       "      <td>5</td>\n",
       "      <td>0</td>\n",
       "      <td>0</td>\n",
       "      <td>5</td>\n",
       "      <td>5</td>\n",
       "    </tr>\n",
       "    <tr>\n",
       "      <th>1</th>\n",
       "      <td>13.0</td>\n",
       "      <td>3</td>\n",
       "      <td>12</td>\n",
       "      <td>7</td>\n",
       "      <td>0</td>\n",
       "      <td>0</td>\n",
       "      <td>5</td>\n",
       "      <td>5</td>\n",
       "      <td>1</td>\n",
       "      <td>1</td>\n",
       "      <td>30</td>\n",
       "      <td>1</td>\n",
       "    </tr>\n",
       "    <tr>\n",
       "      <th>2</th>\n",
       "      <td>16.0</td>\n",
       "      <td>41</td>\n",
       "      <td>10</td>\n",
       "      <td>3</td>\n",
       "      <td>0</td>\n",
       "      <td>0</td>\n",
       "      <td>5</td>\n",
       "      <td>5</td>\n",
       "      <td>0</td>\n",
       "      <td>0</td>\n",
       "      <td>0</td>\n",
       "      <td>0</td>\n",
       "    </tr>\n",
       "    <tr>\n",
       "      <th>3</th>\n",
       "      <td>17.0</td>\n",
       "      <td>41</td>\n",
       "      <td>10</td>\n",
       "      <td>7</td>\n",
       "      <td>29</td>\n",
       "      <td>1</td>\n",
       "      <td>4</td>\n",
       "      <td>4</td>\n",
       "      <td>0</td>\n",
       "      <td>1</td>\n",
       "      <td>30</td>\n",
       "      <td>30</td>\n",
       "    </tr>\n",
       "    <tr>\n",
       "      <th>4</th>\n",
       "      <td>NaN</td>\n",
       "      <td>NaN</td>\n",
       "      <td>NaN</td>\n",
       "      <td>NaN</td>\n",
       "      <td>NaN</td>\n",
       "      <td>NaN</td>\n",
       "      <td>NaN</td>\n",
       "      <td>NaN</td>\n",
       "      <td>NaN</td>\n",
       "      <td>NaN</td>\n",
       "      <td>NaN</td>\n",
       "      <td>NaN</td>\n",
       "    </tr>\n",
       "  </tbody>\n",
       "</table>\n",
       "</div>"
      ],
      "text/plain": [
       "   Unnamed: 0 C1LivingSituationId D2EducationLevelId D3EmploymentSituationId  \\\n",
       "0        12.0                  41                 12                       3   \n",
       "1        13.0                   3                 12                       7   \n",
       "2        16.0                  41                 10                       3   \n",
       "3        17.0                  41                 10                       7   \n",
       "4         NaN                 NaN                NaN                     NaN   \n",
       "\n",
       "  B1aAlcohol B1cIllegalDrugs C2AddictionStressProblemId  \\\n",
       "0          0               0                          5   \n",
       "1          0               0                          5   \n",
       "2          0               0                          5   \n",
       "3         29               1                          4   \n",
       "4        NaN             NaN                        NaN   \n",
       "\n",
       "  C4AddictionEmotionalProblemId E1TimesArrested E4CommitedCrime F5aDepression  \\\n",
       "0                             5               0               0             5   \n",
       "1                             5               1               1            30   \n",
       "2                             5               0               0             0   \n",
       "3                             4               0               1            30   \n",
       "4                           NaN             NaN             NaN           NaN   \n",
       "\n",
       "  F5bAnxiety  \n",
       "0          5  \n",
       "1          1  \n",
       "2          0  \n",
       "3         30  \n",
       "4        NaN  "
      ]
     },
     "execution_count": 1006,
     "metadata": {},
     "output_type": "execute_result"
    }
   ],
   "source": [
    "SurveyData_plotData.head()"
   ]
  },
  {
   "cell_type": "code",
   "execution_count": 1007,
   "metadata": {},
   "outputs": [],
   "source": [
    "SurveyData_plotData = SurveyData_plotData.astype(float) \n"
   ]
  },
  {
   "cell_type": "code",
   "execution_count": 1008,
   "metadata": {},
   "outputs": [],
   "source": [
    "SurveyData_plotData = SurveyData_plotData.dropna()"
   ]
  },
  {
   "cell_type": "code",
   "execution_count": 1009,
   "metadata": {},
   "outputs": [
    {
     "data": {
      "text/plain": [
       "<seaborn.axisgrid.PairGrid at 0x172302468e0>"
      ]
     },
     "execution_count": 1009,
     "metadata": {},
     "output_type": "execute_result"
    },
    {
     "data": {
      "image/png": "[encoded data removed]",
      "text/plain": [
       "<Figure size 540x540 with 12 Axes>"
      ]
     },
     "metadata": {},
     "output_type": "display_data"
    }
   ],
   "source": [
    "sns.set(style=\"ticks\", color_codes=True)\n",
    "sns.pairplot(SurveyData_plotData,vars=[\"B1cIllegalDrugs\", \"D3EmploymentSituationId\",'E4CommitedCrime'])"
   ]
  },
  {
   "cell_type": "code",
   "execution_count": null,
   "metadata": {
    "scrolled": true
   },
   "outputs": [],
   "source": []
  },
  {
   "cell_type": "code",
   "execution_count": 1010,
   "metadata": {
    "scrolled": true
   },
   "outputs": [
    {
     "data": {
      "text/plain": [
       "array([[<matplotlib.axes._subplots.AxesSubplot object at 0x000001720DE2EB20>,\n",
       "        <matplotlib.axes._subplots.AxesSubplot object at 0x00000172214EA640>],\n",
       "       [<matplotlib.axes._subplots.AxesSubplot object at 0x000001723585B130>,\n",
       "        <matplotlib.axes._subplots.AxesSubplot object at 0x0000017230202CA0>],\n",
       "       [<matplotlib.axes._subplots.AxesSubplot object at 0x0000017218502F10>,\n",
       "        <matplotlib.axes._subplots.AxesSubplot object at 0x000001720DAC1550>]],\n",
       "      dtype=object)"
      ]
     },
     "execution_count": 1010,
     "metadata": {},
     "output_type": "execute_result"
    },
    {
     "data": {
      "image/png": "[encoded data removed]",
      "text/plain": [
       "<Figure size 1008x1008 with 6 Axes>"
      ]
     },
     "metadata": {},
     "output_type": "display_data"
    }
   ],
   "source": [
    "AlL_ClientData.hist(figsize = (14,14))\n"
   ]
  },
  {
   "cell_type": "code",
   "execution_count": 1011,
   "metadata": {},
   "outputs": [
    {
     "data": {
      "text/plain": [
       "<Figure size 1440x1152 with 0 Axes>"
      ]
     },
     "execution_count": 1011,
     "metadata": {},
     "output_type": "execute_result"
    },
    {
     "data": {
      "text/plain": [
       "<Figure size 1440x1152 with 0 Axes>"
      ]
     },
     "metadata": {},
     "output_type": "display_data"
    }
   ],
   "source": [
    "sns.set(style=\"ticks\", color_codes=True)\n",
    "plt.figure(figsize=(20,16))\n"
   ]
  },
  {
   "cell_type": "code",
   "execution_count": 1012,
   "metadata": {},
   "outputs": [
    {
     "data": {
      "image/png": "[encoded data removed]",
      "text/plain": [
       "<Figure size 1296x432 with 1 Axes>"
      ]
     },
     "metadata": {},
     "output_type": "display_data"
    }
   ],
   "source": [
    "sns.catplot(x=\"Ethnorace\", y=\"D2EducationLevelId\", kind=\"box\",data=AlL_ClientData,height=6, aspect=3);\n"
   ]
  },
  {
   "cell_type": "code",
   "execution_count": null,
   "metadata": {},
   "outputs": [],
   "source": []
  },
  {
   "cell_type": "markdown",
   "metadata": {},
   "source": [
    "## Export Data for ML modling "
   ]
  },
  {
   "cell_type": "code",
   "execution_count": null,
   "metadata": {},
   "outputs": [],
   "source": []
  },
  {
   "cell_type": "markdown",
   "metadata": {},
   "source": [
    "### Converting numerical data in Edu column to Categories"
   ]
  },
  {
   "cell_type": "markdown",
   "metadata": {},
   "source": [
    " Edu = {0: \"Never attended\", 1: \"1st Grade\", 2: \"2nd Grade\", 3: \"3rd Grade\", 4: \"4th Grade\", 5: \"5th Grade\", 6: \"6th Grade\", 7: \"7th Grade\", 8: \"8th Grade\", \n",
    "9: \"9th Grade\", 10: \"10th Grade\", 11: \"11th Grade\", 12: \"12th Grade/High School Diploma/Equivalent\", 13: \"College or University / 1st Year Completed\", \n",
    "14: \"College or University / 2nd year completed (AA,AS)\", 15: \"College or University / 3rd Year completed\", 16: \"Bachelor's Degree (BA, BS) Or Higher\", \n",
    "17: \"Voc Tech Program after high school no diploma\", 18: \"Voc Tech Diploma after high school”}\n"
   ]
  },
  {
   "cell_type": "code",
   "execution_count": 1013,
   "metadata": {},
   "outputs": [],
   "source": [
    "cleanup_nums2 = {\"D2EducationLevelId\":     {0: \"< High School Education\", 1: \"< High School Education\", 2: \"< High School Education\", \n",
    "                                            3: \"< High School Education\",4: \"< High School Education\", 5: \"< High School Education\", \n",
    "                                            6: \"< High School Education\", 7: \"< High School Education\", 8: \"< High School Education\", \n",
    "                                            9: \"< High School Education\",10: \"High school or Diploma Education\", 11: \"High school or Diploma Education\",\n",
    "                                            12: \"High school or Diploma Education\" ,17: \"High school or Diploma Education\", 18: \"High school or Diploma Education\", \n",
    "                                            13: \"College or University Education\", 14: \"College or University Education\", 15: \"College or University Education\", \n",
    "                                            16: \"Bachelor's Degree Or Higher\"}}\n",
    "\n",
    "AlL_ClientData.replace(cleanup_nums2, inplace=True)"
   ]
  },
  {
   "cell_type": "code",
   "execution_count": 1014,
   "metadata": {},
   "outputs": [
    {
     "data": {
      "text/html": [
       "<div>\n",
       "<style scoped>\n",
       "    .dataframe tbody tr th:only-of-type {\n",
       "        vertical-align: middle;\n",
       "    }\n",
       "\n",
       "    .dataframe tbody tr th {\n",
       "        vertical-align: top;\n",
       "    }\n",
       "\n",
       "    .dataframe thead th {\n",
       "        text-align: right;\n",
       "    }\n",
       "</style>\n",
       "<table border=\"1\" class=\"dataframe\">\n",
       "  <thead>\n",
       "    <tr style=\"text-align: right;\">\n",
       "      <th></th>\n",
       "      <th>Unnamed: 0_x</th>\n",
       "      <th>ClientId</th>\n",
       "      <th>Gender</th>\n",
       "      <th>Ethnicity</th>\n",
       "      <th>Ethnorace</th>\n",
       "      <th>Veteran</th>\n",
       "      <th>D2EducationLevelId</th>\n",
       "      <th>Unnamed: 0_y</th>\n",
       "      <th>City</th>\n",
       "      <th>State</th>\n",
       "      <th>Zip</th>\n",
       "      <th>ServiceAmt sum</th>\n",
       "      <th>ServiceNum Total</th>\n",
       "      <th>age</th>\n",
       "      <th>AgeGroup</th>\n",
       "    </tr>\n",
       "  </thead>\n",
       "  <tbody>\n",
       "    <tr>\n",
       "      <th>0</th>\n",
       "      <td>13.0</td>\n",
       "      <td>37640</td>\n",
       "      <td>Female</td>\n",
       "      <td>Hispanic or Latino</td>\n",
       "      <td>Hispanic</td>\n",
       "      <td>unknwon</td>\n",
       "      <td>High school or Diploma Education</td>\n",
       "      <td>15.0</td>\n",
       "      <td>Bloomfield</td>\n",
       "      <td>NM</td>\n",
       "      <td>87413</td>\n",
       "      <td>NaN</td>\n",
       "      <td>NaN</td>\n",
       "      <td>28.0</td>\n",
       "      <td>Young</td>\n",
       "    </tr>\n",
       "    <tr>\n",
       "      <th>1</th>\n",
       "      <td>17.0</td>\n",
       "      <td>37648</td>\n",
       "      <td>Female</td>\n",
       "      <td>Not Hispanic or Latino</td>\n",
       "      <td>White</td>\n",
       "      <td>unknwon</td>\n",
       "      <td>High school or Diploma Education</td>\n",
       "      <td>18.0</td>\n",
       "      <td>Aztec</td>\n",
       "      <td>NM</td>\n",
       "      <td>87410</td>\n",
       "      <td>NaN</td>\n",
       "      <td>NaN</td>\n",
       "      <td>35.0</td>\n",
       "      <td>Middle_aged</td>\n",
       "    </tr>\n",
       "    <tr>\n",
       "      <th>2</th>\n",
       "      <td>19.0</td>\n",
       "      <td>37657</td>\n",
       "      <td>Female</td>\n",
       "      <td>Not Hispanic or Latino</td>\n",
       "      <td>White</td>\n",
       "      <td>unknwon</td>\n",
       "      <td>High school or Diploma Education</td>\n",
       "      <td>20.0</td>\n",
       "      <td>Alamogordo</td>\n",
       "      <td>NM</td>\n",
       "      <td>88310</td>\n",
       "      <td>NaN</td>\n",
       "      <td>NaN</td>\n",
       "      <td>50.0</td>\n",
       "      <td>Middle_aged</td>\n",
       "    </tr>\n",
       "    <tr>\n",
       "      <th>3</th>\n",
       "      <td>29.0</td>\n",
       "      <td>37690</td>\n",
       "      <td>Male</td>\n",
       "      <td>Hispanic or Latino</td>\n",
       "      <td>unknwon</td>\n",
       "      <td>unknwon</td>\n",
       "      <td>High school or Diploma Education</td>\n",
       "      <td>27.0</td>\n",
       "      <td>Albuquerque</td>\n",
       "      <td>NM</td>\n",
       "      <td>87151</td>\n",
       "      <td>NaN</td>\n",
       "      <td>NaN</td>\n",
       "      <td>28.0</td>\n",
       "      <td>Young</td>\n",
       "    </tr>\n",
       "    <tr>\n",
       "      <th>4</th>\n",
       "      <td>31.0</td>\n",
       "      <td>37692</td>\n",
       "      <td>Female</td>\n",
       "      <td>Hispanic or Latino</td>\n",
       "      <td>unknwon</td>\n",
       "      <td>unknwon</td>\n",
       "      <td>High school or Diploma Education</td>\n",
       "      <td>29.0</td>\n",
       "      <td>Alamogordo</td>\n",
       "      <td>NM</td>\n",
       "      <td>88310</td>\n",
       "      <td>NaN</td>\n",
       "      <td>NaN</td>\n",
       "      <td>62.0</td>\n",
       "      <td>Old</td>\n",
       "    </tr>\n",
       "  </tbody>\n",
       "</table>\n",
       "</div>"
      ],
      "text/plain": [
       "   Unnamed: 0_x ClientId  Gender               Ethnicity Ethnorace  Veteran  \\\n",
       "0          13.0    37640  Female      Hispanic or Latino  Hispanic  unknwon   \n",
       "1          17.0    37648  Female  Not Hispanic or Latino     White  unknwon   \n",
       "2          19.0    37657  Female  Not Hispanic or Latino     White  unknwon   \n",
       "3          29.0    37690    Male      Hispanic or Latino   unknwon  unknwon   \n",
       "4          31.0    37692  Female      Hispanic or Latino   unknwon  unknwon   \n",
       "\n",
       "                 D2EducationLevelId  Unnamed: 0_y         City State    Zip  \\\n",
       "0  High school or Diploma Education          15.0   Bloomfield    NM  87413   \n",
       "1  High school or Diploma Education          18.0        Aztec    NM  87410   \n",
       "2  High school or Diploma Education          20.0   Alamogordo    NM  88310   \n",
       "3  High school or Diploma Education          27.0  Albuquerque    NM  87151   \n",
       "4  High school or Diploma Education          29.0   Alamogordo    NM  88310   \n",
       "\n",
       "   ServiceAmt sum  ServiceNum Total   age     AgeGroup  \n",
       "0             NaN               NaN  28.0        Young  \n",
       "1             NaN               NaN  35.0  Middle_aged  \n",
       "2             NaN               NaN  50.0  Middle_aged  \n",
       "3             NaN               NaN  28.0        Young  \n",
       "4             NaN               NaN  62.0          Old  "
      ]
     },
     "execution_count": 1014,
     "metadata": {},
     "output_type": "execute_result"
    }
   ],
   "source": [
    "AlL_ClientData.head()"
   ]
  },
  {
   "cell_type": "code",
   "execution_count": 1015,
   "metadata": {},
   "outputs": [],
   "source": [
    "AlL_ClientData.to_csv('AlL_ClientData.csv')"
   ]
  },
  {
   "cell_type": "code",
   "execution_count": null,
   "metadata": {},
   "outputs": [],
   "source": []
  },
  {
   "cell_type": "code",
   "execution_count": 1016,
   "metadata": {
    "scrolled": true
   },
   "outputs": [
    {
     "data": {
      "text/html": [
       "<div>\n",
       "<style scoped>\n",
       "    .dataframe tbody tr th:only-of-type {\n",
       "        vertical-align: middle;\n",
       "    }\n",
       "\n",
       "    .dataframe tbody tr th {\n",
       "        vertical-align: top;\n",
       "    }\n",
       "\n",
       "    .dataframe thead th {\n",
       "        text-align: right;\n",
       "    }\n",
       "</style>\n",
       "<table border=\"1\" class=\"dataframe\">\n",
       "  <thead>\n",
       "    <tr style=\"text-align: right;\">\n",
       "      <th></th>\n",
       "      <th>Unnamed: 0</th>\n",
       "      <th>ClientId</th>\n",
       "      <th>SurveyDate</th>\n",
       "      <th>SurveyNumber</th>\n",
       "      <th>InterviewIntake</th>\n",
       "      <th>DOB</th>\n",
       "      <th>Gender</th>\n",
       "      <th>Ethnicity</th>\n",
       "      <th>Ethnorace</th>\n",
       "      <th>Veteran</th>\n",
       "      <th>...</th>\n",
       "      <th>D2EducationLevelId</th>\n",
       "      <th>D3EmploymentSituationId</th>\n",
       "      <th>B1aAlcohol</th>\n",
       "      <th>B1cIllegalDrugs</th>\n",
       "      <th>C2AddictionStressProblemId</th>\n",
       "      <th>C4AddictionEmotionalProblemId</th>\n",
       "      <th>E1TimesArrested</th>\n",
       "      <th>E4CommitedCrime</th>\n",
       "      <th>F5aDepression</th>\n",
       "      <th>F5bAnxiety</th>\n",
       "    </tr>\n",
       "  </thead>\n",
       "  <tbody>\n",
       "    <tr>\n",
       "      <th>0</th>\n",
       "      <td>12.0</td>\n",
       "      <td>37640</td>\n",
       "      <td>2013-01-14</td>\n",
       "      <td>1.0</td>\n",
       "      <td>Intake</td>\n",
       "      <td>1992-01-14</td>\n",
       "      <td>Female</td>\n",
       "      <td>Hispanic or Latino</td>\n",
       "      <td>Hispanic</td>\n",
       "      <td>unknwon</td>\n",
       "      <td>...</td>\n",
       "      <td>12</td>\n",
       "      <td>3</td>\n",
       "      <td>0</td>\n",
       "      <td>0</td>\n",
       "      <td>5</td>\n",
       "      <td>5</td>\n",
       "      <td>0</td>\n",
       "      <td>0</td>\n",
       "      <td>5</td>\n",
       "      <td>5</td>\n",
       "    </tr>\n",
       "    <tr>\n",
       "      <th>1</th>\n",
       "      <td>13.0</td>\n",
       "      <td>37640</td>\n",
       "      <td>2014-10-28</td>\n",
       "      <td>2.0</td>\n",
       "      <td>Post</td>\n",
       "      <td>1992-01-14</td>\n",
       "      <td>Female</td>\n",
       "      <td>Hispanic or Latino</td>\n",
       "      <td>Hispanic</td>\n",
       "      <td>unknwon</td>\n",
       "      <td>...</td>\n",
       "      <td>12</td>\n",
       "      <td>7</td>\n",
       "      <td>0</td>\n",
       "      <td>0</td>\n",
       "      <td>5</td>\n",
       "      <td>5</td>\n",
       "      <td>1</td>\n",
       "      <td>1</td>\n",
       "      <td>30</td>\n",
       "      <td>1</td>\n",
       "    </tr>\n",
       "    <tr>\n",
       "      <th>2</th>\n",
       "      <td>16.0</td>\n",
       "      <td>37648</td>\n",
       "      <td>2013-01-14</td>\n",
       "      <td>1.0</td>\n",
       "      <td>Intake</td>\n",
       "      <td>1984-12-15</td>\n",
       "      <td>Female</td>\n",
       "      <td>Not Hispanic or Latino</td>\n",
       "      <td>White</td>\n",
       "      <td>unknwon</td>\n",
       "      <td>...</td>\n",
       "      <td>10</td>\n",
       "      <td>3</td>\n",
       "      <td>0</td>\n",
       "      <td>0</td>\n",
       "      <td>5</td>\n",
       "      <td>5</td>\n",
       "      <td>0</td>\n",
       "      <td>0</td>\n",
       "      <td>0</td>\n",
       "      <td>0</td>\n",
       "    </tr>\n",
       "    <tr>\n",
       "      <th>3</th>\n",
       "      <td>17.0</td>\n",
       "      <td>37648</td>\n",
       "      <td>2014-08-04</td>\n",
       "      <td>2.0</td>\n",
       "      <td>Post</td>\n",
       "      <td>1984-12-15</td>\n",
       "      <td>Female</td>\n",
       "      <td>Not Hispanic or Latino</td>\n",
       "      <td>White</td>\n",
       "      <td>unknwon</td>\n",
       "      <td>...</td>\n",
       "      <td>10</td>\n",
       "      <td>7</td>\n",
       "      <td>29</td>\n",
       "      <td>1</td>\n",
       "      <td>4</td>\n",
       "      <td>4</td>\n",
       "      <td>0</td>\n",
       "      <td>1</td>\n",
       "      <td>30</td>\n",
       "      <td>30</td>\n",
       "    </tr>\n",
       "    <tr>\n",
       "      <th>4</th>\n",
       "      <td>NaN</td>\n",
       "      <td>NaN</td>\n",
       "      <td>NaT</td>\n",
       "      <td>NaN</td>\n",
       "      <td>NaN</td>\n",
       "      <td>NaT</td>\n",
       "      <td>NaN</td>\n",
       "      <td>NaN</td>\n",
       "      <td>unknwon</td>\n",
       "      <td>unknwon</td>\n",
       "      <td>...</td>\n",
       "      <td>NaN</td>\n",
       "      <td>NaN</td>\n",
       "      <td>NaN</td>\n",
       "      <td>NaN</td>\n",
       "      <td>NaN</td>\n",
       "      <td>NaN</td>\n",
       "      <td>NaN</td>\n",
       "      <td>NaN</td>\n",
       "      <td>NaN</td>\n",
       "      <td>NaN</td>\n",
       "    </tr>\n",
       "  </tbody>\n",
       "</table>\n",
       "<p>5 rows × 21 columns</p>\n",
       "</div>"
      ],
      "text/plain": [
       "   Unnamed: 0 ClientId SurveyDate  SurveyNumber InterviewIntake        DOB  \\\n",
       "0        12.0    37640 2013-01-14           1.0          Intake 1992-01-14   \n",
       "1        13.0    37640 2014-10-28           2.0            Post 1992-01-14   \n",
       "2        16.0    37648 2013-01-14           1.0          Intake 1984-12-15   \n",
       "3        17.0    37648 2014-08-04           2.0            Post 1984-12-15   \n",
       "4         NaN      NaN        NaT           NaN             NaN        NaT   \n",
       "\n",
       "   Gender               Ethnicity Ethnorace  Veteran  ... D2EducationLevelId  \\\n",
       "0  Female      Hispanic or Latino  Hispanic  unknwon  ...                 12   \n",
       "1  Female      Hispanic or Latino  Hispanic  unknwon  ...                 12   \n",
       "2  Female  Not Hispanic or Latino     White  unknwon  ...                 10   \n",
       "3  Female  Not Hispanic or Latino     White  unknwon  ...                 10   \n",
       "4     NaN                     NaN   unknwon  unknwon  ...                NaN   \n",
       "\n",
       "  D3EmploymentSituationId B1aAlcohol B1cIllegalDrugs  \\\n",
       "0                       3          0               0   \n",
       "1                       7          0               0   \n",
       "2                       3          0               0   \n",
       "3                       7         29               1   \n",
       "4                     NaN        NaN             NaN   \n",
       "\n",
       "  C2AddictionStressProblemId C4AddictionEmotionalProblemId E1TimesArrested  \\\n",
       "0                          5                             5               0   \n",
       "1                          5                             5               1   \n",
       "2                          5                             5               0   \n",
       "3                          4                             4               0   \n",
       "4                        NaN                           NaN             NaN   \n",
       "\n",
       "  E4CommitedCrime F5aDepression F5bAnxiety  \n",
       "0               0             5          5  \n",
       "1               1            30          1  \n",
       "2               0             0          0  \n",
       "3               1            30         30  \n",
       "4             NaN           NaN        NaN  \n",
       "\n",
       "[5 rows x 21 columns]"
      ]
     },
     "execution_count": 1016,
     "metadata": {},
     "output_type": "execute_result"
    }
   ],
   "source": [
    "df_SurveyData.head()"
   ]
  },
  {
   "cell_type": "code",
   "execution_count": null,
   "metadata": {},
   "outputs": [],
   "source": []
  },
  {
   "cell_type": "code",
   "execution_count": 1017,
   "metadata": {},
   "outputs": [],
   "source": [
    "from datetime import date\n",
    "df_SurveyData['Date'] = pd.to_datetime(df_SurveyData.DOB)\n",
    "def calculateAge(birthDate): \n",
    "    today = date.today() \n",
    "    age = today.year - birthDate.year - ((today.month, today.day) < (birthDate.month, birthDate.day)) \n",
    "    return age\n",
    "\n",
    "df_SurveyData['age']= df_SurveyData['Date'].apply(lambda x: calculateAge(x))\n"
   ]
  },
  {
   "cell_type": "code",
   "execution_count": 1018,
   "metadata": {},
   "outputs": [],
   "source": [
    "bins= [0,30,60,100]\n",
    "labels = ['Young','Middle_aged','Old']\n",
    "df_SurveyData['AgeGroup'] = pd.cut(df_SurveyData['age'], bins=bins, labels=labels, right=False)"
   ]
  },
  {
   "cell_type": "code",
   "execution_count": 1019,
   "metadata": {},
   "outputs": [],
   "source": [
    "df_SurveyData = df_SurveyData.dropna()\n"
   ]
  },
  {
   "cell_type": "code",
   "execution_count": 1020,
   "metadata": {
    "scrolled": false
   },
   "outputs": [
    {
     "data": {
      "text/plain": [
       "41    16427\n",
       "42     9117\n",
       "3      1316\n",
       "1      1118\n",
       "45      827\n",
       "43      522\n",
       "2       454\n",
       "44      413\n",
       "46       53\n",
       "Name: C1LivingSituationId, dtype: int64"
      ]
     },
     "execution_count": 1020,
     "metadata": {},
     "output_type": "execute_result"
    }
   ],
   "source": [
    "df_SurveyData['C1LivingSituationId'].value_counts()"
   ]
  },
  {
   "cell_type": "code",
   "execution_count": null,
   "metadata": {},
   "outputs": [],
   "source": []
  },
  {
   "cell_type": "code",
   "execution_count": 1021,
   "metadata": {},
   "outputs": [],
   "source": [
    "New2_SurveyData= df_SurveyData.drop_duplicates(subset=['ClientId'], keep='first')\n"
   ]
  },
  {
   "cell_type": "code",
   "execution_count": 1022,
   "metadata": {},
   "outputs": [],
   "source": [
    "New1_SurveyData= df_SurveyData.drop_duplicates(subset=['ClientId'], keep='last')\n"
   ]
  },
  {
   "cell_type": "code",
   "execution_count": 1023,
   "metadata": {},
   "outputs": [
    {
     "data": {
      "text/plain": [
       "count     11146\n",
       "unique        2\n",
       "top        Post\n",
       "freq      10626\n",
       "Name: InterviewIntake, dtype: object"
      ]
     },
     "execution_count": 1023,
     "metadata": {},
     "output_type": "execute_result"
    }
   ],
   "source": [
    "New1_SurveyData.InterviewIntake.describe()"
   ]
  },
  {
   "cell_type": "code",
   "execution_count": 1024,
   "metadata": {},
   "outputs": [
    {
     "data": {
      "text/plain": [
       "11146"
      ]
     },
     "execution_count": 1024,
     "metadata": {},
     "output_type": "execute_result"
    }
   ],
   "source": [
    "len(New1_SurveyData)"
   ]
  },
  {
   "cell_type": "code",
   "execution_count": 1025,
   "metadata": {},
   "outputs": [],
   "source": [
    "frames = [New1_SurveyData, New2_SurveyData]\n",
    "\n",
    "New_SurveyData = pd.concat(frames)"
   ]
  },
  {
   "cell_type": "code",
   "execution_count": 1026,
   "metadata": {},
   "outputs": [
    {
     "data": {
      "text/html": [
       "<div>\n",
       "<style scoped>\n",
       "    .dataframe tbody tr th:only-of-type {\n",
       "        vertical-align: middle;\n",
       "    }\n",
       "\n",
       "    .dataframe tbody tr th {\n",
       "        vertical-align: top;\n",
       "    }\n",
       "\n",
       "    .dataframe thead th {\n",
       "        text-align: right;\n",
       "    }\n",
       "</style>\n",
       "<table border=\"1\" class=\"dataframe\">\n",
       "  <thead>\n",
       "    <tr style=\"text-align: right;\">\n",
       "      <th></th>\n",
       "      <th>Unnamed: 0</th>\n",
       "      <th>ClientId</th>\n",
       "      <th>SurveyDate</th>\n",
       "      <th>SurveyNumber</th>\n",
       "      <th>InterviewIntake</th>\n",
       "      <th>DOB</th>\n",
       "      <th>Gender</th>\n",
       "      <th>Ethnicity</th>\n",
       "      <th>Ethnorace</th>\n",
       "      <th>Veteran</th>\n",
       "      <th>...</th>\n",
       "      <th>B1cIllegalDrugs</th>\n",
       "      <th>C2AddictionStressProblemId</th>\n",
       "      <th>C4AddictionEmotionalProblemId</th>\n",
       "      <th>E1TimesArrested</th>\n",
       "      <th>E4CommitedCrime</th>\n",
       "      <th>F5aDepression</th>\n",
       "      <th>F5bAnxiety</th>\n",
       "      <th>Date</th>\n",
       "      <th>age</th>\n",
       "      <th>AgeGroup</th>\n",
       "    </tr>\n",
       "  </thead>\n",
       "  <tbody>\n",
       "    <tr>\n",
       "      <th>9</th>\n",
       "      <td>29.0</td>\n",
       "      <td>37690</td>\n",
       "      <td>2018-02-14</td>\n",
       "      <td>4.0</td>\n",
       "      <td>Post</td>\n",
       "      <td>1992-07-15</td>\n",
       "      <td>Male</td>\n",
       "      <td>Hispanic or Latino</td>\n",
       "      <td>unknwon</td>\n",
       "      <td>unknwon</td>\n",
       "      <td>...</td>\n",
       "      <td>0</td>\n",
       "      <td>5</td>\n",
       "      <td>5</td>\n",
       "      <td>0</td>\n",
       "      <td>0</td>\n",
       "      <td>6</td>\n",
       "      <td>14</td>\n",
       "      <td>1992-07-15</td>\n",
       "      <td>28.0</td>\n",
       "      <td>Young</td>\n",
       "    </tr>\n",
       "    <tr>\n",
       "      <th>6</th>\n",
       "      <td>26.0</td>\n",
       "      <td>37690</td>\n",
       "      <td>2013-01-16</td>\n",
       "      <td>1.0</td>\n",
       "      <td>Intake</td>\n",
       "      <td>1992-07-15</td>\n",
       "      <td>Male</td>\n",
       "      <td>Hispanic or Latino</td>\n",
       "      <td>unknwon</td>\n",
       "      <td>unknwon</td>\n",
       "      <td>...</td>\n",
       "      <td>4</td>\n",
       "      <td>1</td>\n",
       "      <td>1</td>\n",
       "      <td>0</td>\n",
       "      <td>4</td>\n",
       "      <td>30</td>\n",
       "      <td>30</td>\n",
       "      <td>1992-07-15</td>\n",
       "      <td>28.0</td>\n",
       "      <td>Young</td>\n",
       "    </tr>\n",
       "  </tbody>\n",
       "</table>\n",
       "<p>2 rows × 24 columns</p>\n",
       "</div>"
      ],
      "text/plain": [
       "   Unnamed: 0 ClientId SurveyDate  SurveyNumber InterviewIntake        DOB  \\\n",
       "9        29.0    37690 2018-02-14           4.0            Post 1992-07-15   \n",
       "6        26.0    37690 2013-01-16           1.0          Intake 1992-07-15   \n",
       "\n",
       "  Gender           Ethnicity Ethnorace  Veteran  ... B1cIllegalDrugs  \\\n",
       "9   Male  Hispanic or Latino   unknwon  unknwon  ...               0   \n",
       "6   Male  Hispanic or Latino   unknwon  unknwon  ...               4   \n",
       "\n",
       "  C2AddictionStressProblemId C4AddictionEmotionalProblemId E1TimesArrested  \\\n",
       "9                          5                             5               0   \n",
       "6                          1                             1               0   \n",
       "\n",
       "  E4CommitedCrime F5aDepression F5bAnxiety       Date   age AgeGroup  \n",
       "9               0             6         14 1992-07-15  28.0    Young  \n",
       "6               4            30         30 1992-07-15  28.0    Young  \n",
       "\n",
       "[2 rows x 24 columns]"
      ]
     },
     "execution_count": 1026,
     "metadata": {},
     "output_type": "execute_result"
    }
   ],
   "source": [
    "New_SurveyData.loc[New_SurveyData['ClientId'] == 37690]\n"
   ]
  },
  {
   "cell_type": "code",
   "execution_count": 1027,
   "metadata": {},
   "outputs": [
    {
     "data": {
      "text/plain": [
       "2.0"
      ]
     },
     "execution_count": 1027,
     "metadata": {},
     "output_type": "execute_result"
    }
   ],
   "source": [
    "New_SurveyData['ClientId'].value_counts().mean()"
   ]
  },
  {
   "cell_type": "code",
   "execution_count": 1028,
   "metadata": {},
   "outputs": [],
   "source": [
    "newdf_ServiceData['InterviewIntake']='Post'"
   ]
  },
  {
   "cell_type": "code",
   "execution_count": 1029,
   "metadata": {},
   "outputs": [
    {
     "data": {
      "text/html": [
       "<div>\n",
       "<style scoped>\n",
       "    .dataframe tbody tr th:only-of-type {\n",
       "        vertical-align: middle;\n",
       "    }\n",
       "\n",
       "    .dataframe tbody tr th {\n",
       "        vertical-align: top;\n",
       "    }\n",
       "\n",
       "    .dataframe thead th {\n",
       "        text-align: right;\n",
       "    }\n",
       "</style>\n",
       "<table border=\"1\" class=\"dataframe\">\n",
       "  <thead>\n",
       "    <tr style=\"text-align: right;\">\n",
       "      <th></th>\n",
       "      <th>ClientId</th>\n",
       "      <th>ServiceAmt sum</th>\n",
       "      <th>ServiceNum Total</th>\n",
       "      <th>InterviewIntake</th>\n",
       "    </tr>\n",
       "  </thead>\n",
       "  <tbody>\n",
       "    <tr>\n",
       "      <th>0</th>\n",
       "      <td>37914</td>\n",
       "      <td>1857.0</td>\n",
       "      <td>38</td>\n",
       "      <td>Post</td>\n",
       "    </tr>\n",
       "    <tr>\n",
       "      <th>1</th>\n",
       "      <td>38022</td>\n",
       "      <td>830.0</td>\n",
       "      <td>15</td>\n",
       "      <td>Post</td>\n",
       "    </tr>\n",
       "    <tr>\n",
       "      <th>2</th>\n",
       "      <td>38047</td>\n",
       "      <td>430.0</td>\n",
       "      <td>8</td>\n",
       "      <td>Post</td>\n",
       "    </tr>\n",
       "    <tr>\n",
       "      <th>3</th>\n",
       "      <td>38063</td>\n",
       "      <td>850.0</td>\n",
       "      <td>21</td>\n",
       "      <td>Post</td>\n",
       "    </tr>\n",
       "    <tr>\n",
       "      <th>4</th>\n",
       "      <td>38410</td>\n",
       "      <td>1870.0</td>\n",
       "      <td>41</td>\n",
       "      <td>Post</td>\n",
       "    </tr>\n",
       "  </tbody>\n",
       "</table>\n",
       "</div>"
      ],
      "text/plain": [
       "  ClientId  ServiceAmt sum  ServiceNum Total InterviewIntake\n",
       "0    37914          1857.0                38            Post\n",
       "1    38022           830.0                15            Post\n",
       "2    38047           430.0                 8            Post\n",
       "3    38063           850.0                21            Post\n",
       "4    38410          1870.0                41            Post"
      ]
     },
     "execution_count": 1029,
     "metadata": {},
     "output_type": "execute_result"
    }
   ],
   "source": [
    "newdf_ServiceData.head()"
   ]
  },
  {
   "cell_type": "code",
   "execution_count": 1030,
   "metadata": {},
   "outputs": [],
   "source": [
    "New_SurveyData_update = pd.merge(New_SurveyData, newdf_ServiceData, on=['ClientId','InterviewIntake'],how='left')\n"
   ]
  },
  {
   "cell_type": "code",
   "execution_count": 1031,
   "metadata": {},
   "outputs": [],
   "source": [
    "New_SurveyData_update.loc[New_SurveyData_update['InterviewIntake'] == 'Intake', 'ServiceNum Total'] = 0.0\n",
    "New_SurveyData_update.loc[New_SurveyData_update['InterviewIntake'] == 'Intake', 'ServiceAmt sum'] = 0.0"
   ]
  },
  {
   "cell_type": "code",
   "execution_count": 1032,
   "metadata": {},
   "outputs": [
    {
     "data": {
      "text/plain": [
       "9        0.0\n",
       "13       0.0\n",
       "23       0.0\n",
       "45       0.0\n",
       "59       0.0\n",
       "        ... \n",
       "22286    0.0\n",
       "22287    0.0\n",
       "22288    0.0\n",
       "22289    0.0\n",
       "22291    0.0\n",
       "Name: ServiceNum Total, Length: 11384, dtype: float64"
      ]
     },
     "execution_count": 1032,
     "metadata": {},
     "output_type": "execute_result"
    }
   ],
   "source": [
    "New_SurveyData_update.loc[New_SurveyData_update['InterviewIntake'] == 'Intake', 'ServiceNum Total']"
   ]
  },
  {
   "cell_type": "code",
   "execution_count": 1033,
   "metadata": {},
   "outputs": [
    {
     "data": {
      "text/plain": [
       "2383"
      ]
     },
     "execution_count": 1033,
     "metadata": {},
     "output_type": "execute_result"
    }
   ],
   "source": [
    "New_SurveyData_update['ServiceAmt sum'].isnull().sum()"
   ]
  },
  {
   "cell_type": "code",
   "execution_count": 1034,
   "metadata": {},
   "outputs": [
    {
     "data": {
      "text/plain": [
       "2383"
      ]
     },
     "execution_count": 1034,
     "metadata": {},
     "output_type": "execute_result"
    }
   ],
   "source": [
    "New_SurveyData_update['ServiceNum Total'].isnull().sum()"
   ]
  },
  {
   "cell_type": "code",
   "execution_count": 1035,
   "metadata": {},
   "outputs": [
    {
     "data": {
      "text/plain": [
       "22292"
      ]
     },
     "execution_count": 1035,
     "metadata": {},
     "output_type": "execute_result"
    }
   ],
   "source": [
    "len(New_SurveyData_update)"
   ]
  },
  {
   "cell_type": "code",
   "execution_count": 1036,
   "metadata": {},
   "outputs": [],
   "source": [
    "final_SurveyData = New_SurveyData_update.drop(['DOB','SurveyDate','SurveyNumber','age','Date'], axis=1)\n"
   ]
  },
  {
   "cell_type": "code",
   "execution_count": null,
   "metadata": {},
   "outputs": [],
   "source": []
  },
  {
   "cell_type": "markdown",
   "metadata": {},
   "source": [
    "### Converting numerical data to categori in employment situcation variable"
   ]
  },
  {
   "cell_type": "code",
   "execution_count": 1037,
   "metadata": {},
   "outputs": [],
   "source": [
    "cleanup_nums = {\"D3EmploymentSituationId\":     {0: \"Unemployed, Not looking for work\", 1: \"Employed\", 2: \"Employed\", 3:\"Unemployed, Looking for work\", 4:\"Unemployed, Not looking for work\", 5:\"Unemployed, Not looking for work\", 6:\"Unemployed, Not looking for work\", 7:\"Unemployed, Not looking for work\"}}\n",
    "\n",
    "final_SurveyData.replace(cleanup_nums, inplace=True)\n"
   ]
  },
  {
   "cell_type": "code",
   "execution_count": 1038,
   "metadata": {
    "scrolled": true
   },
   "outputs": [
    {
     "data": {
      "text/plain": [
       "count        22292\n",
       "unique           3\n",
       "top       Employed\n",
       "freq          9658\n",
       "Name: D3EmploymentSituationId, dtype: object"
      ]
     },
     "execution_count": 1038,
     "metadata": {},
     "output_type": "execute_result"
    }
   ],
   "source": [
    "final_SurveyData['D3EmploymentSituationId'].describe()"
   ]
  },
  {
   "cell_type": "markdown",
   "metadata": {},
   "source": [
    "#### looking at frequency of categories in Employment Situation"
   ]
  },
  {
   "cell_type": "code",
   "execution_count": 1039,
   "metadata": {},
   "outputs": [
    {
     "data": {
      "text/plain": [
       "Employed                            9658\n",
       "Unemployed, Looking for work        7335\n",
       "Unemployed, Not looking for work    5299\n",
       "Name: D3EmploymentSituationId, dtype: int64"
      ]
     },
     "execution_count": 1039,
     "metadata": {},
     "output_type": "execute_result"
    }
   ],
   "source": [
    "final_SurveyData['D3EmploymentSituationId'].value_counts()"
   ]
  },
  {
   "cell_type": "code",
   "execution_count": null,
   "metadata": {
    "scrolled": true
   },
   "outputs": [],
   "source": []
  },
  {
   "cell_type": "code",
   "execution_count": 1040,
   "metadata": {},
   "outputs": [],
   "source": [
    "final_SurveyData['ClientId'] = final_SurveyData['ClientId'].astype(str) \n"
   ]
  },
  {
   "cell_type": "code",
   "execution_count": 1041,
   "metadata": {},
   "outputs": [
    {
     "data": {
      "text/plain": [
       "count             22292\n",
       "unique            11146\n",
       "top       3000000032741\n",
       "freq                  2\n",
       "Name: ClientId, dtype: object"
      ]
     },
     "execution_count": 1041,
     "metadata": {},
     "output_type": "execute_result"
    }
   ],
   "source": [
    "final_SurveyData['ClientId'].describe()"
   ]
  },
  {
   "cell_type": "code",
   "execution_count": 1042,
   "metadata": {
    "scrolled": false
   },
   "outputs": [
    {
     "data": {
      "text/html": [
       "<div>\n",
       "<style scoped>\n",
       "    .dataframe tbody tr th:only-of-type {\n",
       "        vertical-align: middle;\n",
       "    }\n",
       "\n",
       "    .dataframe tbody tr th {\n",
       "        vertical-align: top;\n",
       "    }\n",
       "\n",
       "    .dataframe thead th {\n",
       "        text-align: right;\n",
       "    }\n",
       "</style>\n",
       "<table border=\"1\" class=\"dataframe\">\n",
       "  <thead>\n",
       "    <tr style=\"text-align: right;\">\n",
       "      <th></th>\n",
       "      <th>Unnamed: 0</th>\n",
       "      <th>ClientId</th>\n",
       "      <th>InterviewIntake</th>\n",
       "      <th>Gender</th>\n",
       "      <th>Ethnicity</th>\n",
       "      <th>Ethnorace</th>\n",
       "      <th>Veteran</th>\n",
       "      <th>C1LivingSituationId</th>\n",
       "      <th>D2EducationLevelId</th>\n",
       "      <th>D3EmploymentSituationId</th>\n",
       "      <th>...</th>\n",
       "      <th>B1cIllegalDrugs</th>\n",
       "      <th>C2AddictionStressProblemId</th>\n",
       "      <th>C4AddictionEmotionalProblemId</th>\n",
       "      <th>E1TimesArrested</th>\n",
       "      <th>E4CommitedCrime</th>\n",
       "      <th>F5aDepression</th>\n",
       "      <th>F5bAnxiety</th>\n",
       "      <th>AgeGroup</th>\n",
       "      <th>ServiceAmt sum</th>\n",
       "      <th>ServiceNum Total</th>\n",
       "    </tr>\n",
       "  </thead>\n",
       "  <tbody>\n",
       "    <tr>\n",
       "      <th>0</th>\n",
       "      <td>13.0</td>\n",
       "      <td>37640</td>\n",
       "      <td>Post</td>\n",
       "      <td>Female</td>\n",
       "      <td>Hispanic or Latino</td>\n",
       "      <td>Hispanic</td>\n",
       "      <td>unknwon</td>\n",
       "      <td>3</td>\n",
       "      <td>12</td>\n",
       "      <td>Unemployed, Not looking for work</td>\n",
       "      <td>...</td>\n",
       "      <td>0</td>\n",
       "      <td>5</td>\n",
       "      <td>5</td>\n",
       "      <td>1</td>\n",
       "      <td>1</td>\n",
       "      <td>30</td>\n",
       "      <td>1</td>\n",
       "      <td>Young</td>\n",
       "      <td>NaN</td>\n",
       "      <td>NaN</td>\n",
       "    </tr>\n",
       "    <tr>\n",
       "      <th>1</th>\n",
       "      <td>17.0</td>\n",
       "      <td>37648</td>\n",
       "      <td>Post</td>\n",
       "      <td>Female</td>\n",
       "      <td>Not Hispanic or Latino</td>\n",
       "      <td>White</td>\n",
       "      <td>unknwon</td>\n",
       "      <td>41</td>\n",
       "      <td>10</td>\n",
       "      <td>Unemployed, Not looking for work</td>\n",
       "      <td>...</td>\n",
       "      <td>1</td>\n",
       "      <td>4</td>\n",
       "      <td>4</td>\n",
       "      <td>0</td>\n",
       "      <td>1</td>\n",
       "      <td>30</td>\n",
       "      <td>30</td>\n",
       "      <td>Middle_aged</td>\n",
       "      <td>NaN</td>\n",
       "      <td>NaN</td>\n",
       "    </tr>\n",
       "    <tr>\n",
       "      <th>2</th>\n",
       "      <td>19.0</td>\n",
       "      <td>37657</td>\n",
       "      <td>Post</td>\n",
       "      <td>Female</td>\n",
       "      <td>Not Hispanic or Latino</td>\n",
       "      <td>White</td>\n",
       "      <td>unknwon</td>\n",
       "      <td>41</td>\n",
       "      <td>12</td>\n",
       "      <td>Employed</td>\n",
       "      <td>...</td>\n",
       "      <td>0</td>\n",
       "      <td>1</td>\n",
       "      <td>1</td>\n",
       "      <td>0</td>\n",
       "      <td>0</td>\n",
       "      <td>0</td>\n",
       "      <td>0</td>\n",
       "      <td>Middle_aged</td>\n",
       "      <td>NaN</td>\n",
       "      <td>NaN</td>\n",
       "    </tr>\n",
       "    <tr>\n",
       "      <th>3</th>\n",
       "      <td>29.0</td>\n",
       "      <td>37690</td>\n",
       "      <td>Post</td>\n",
       "      <td>Male</td>\n",
       "      <td>Hispanic or Latino</td>\n",
       "      <td>unknwon</td>\n",
       "      <td>unknwon</td>\n",
       "      <td>41</td>\n",
       "      <td>12</td>\n",
       "      <td>Unemployed, Not looking for work</td>\n",
       "      <td>...</td>\n",
       "      <td>0</td>\n",
       "      <td>5</td>\n",
       "      <td>5</td>\n",
       "      <td>0</td>\n",
       "      <td>0</td>\n",
       "      <td>6</td>\n",
       "      <td>14</td>\n",
       "      <td>Young</td>\n",
       "      <td>NaN</td>\n",
       "      <td>NaN</td>\n",
       "    </tr>\n",
       "    <tr>\n",
       "      <th>4</th>\n",
       "      <td>31.0</td>\n",
       "      <td>37692</td>\n",
       "      <td>Post</td>\n",
       "      <td>Female</td>\n",
       "      <td>Hispanic or Latino</td>\n",
       "      <td>unknwon</td>\n",
       "      <td>unknwon</td>\n",
       "      <td>41</td>\n",
       "      <td>11</td>\n",
       "      <td>Unemployed, Not looking for work</td>\n",
       "      <td>...</td>\n",
       "      <td>0</td>\n",
       "      <td>5</td>\n",
       "      <td>5</td>\n",
       "      <td>0</td>\n",
       "      <td>0</td>\n",
       "      <td>0</td>\n",
       "      <td>0</td>\n",
       "      <td>Old</td>\n",
       "      <td>NaN</td>\n",
       "      <td>NaN</td>\n",
       "    </tr>\n",
       "  </tbody>\n",
       "</table>\n",
       "<p>5 rows × 21 columns</p>\n",
       "</div>"
      ],
      "text/plain": [
       "   Unnamed: 0 ClientId InterviewIntake  Gender               Ethnicity  \\\n",
       "0        13.0    37640            Post  Female      Hispanic or Latino   \n",
       "1        17.0    37648            Post  Female  Not Hispanic or Latino   \n",
       "2        19.0    37657            Post  Female  Not Hispanic or Latino   \n",
       "3        29.0    37690            Post    Male      Hispanic or Latino   \n",
       "4        31.0    37692            Post  Female      Hispanic or Latino   \n",
       "\n",
       "  Ethnorace  Veteran C1LivingSituationId D2EducationLevelId  \\\n",
       "0  Hispanic  unknwon                   3                 12   \n",
       "1     White  unknwon                  41                 10   \n",
       "2     White  unknwon                  41                 12   \n",
       "3   unknwon  unknwon                  41                 12   \n",
       "4   unknwon  unknwon                  41                 11   \n",
       "\n",
       "            D3EmploymentSituationId  ... B1cIllegalDrugs  \\\n",
       "0  Unemployed, Not looking for work  ...               0   \n",
       "1  Unemployed, Not looking for work  ...               1   \n",
       "2                          Employed  ...               0   \n",
       "3  Unemployed, Not looking for work  ...               0   \n",
       "4  Unemployed, Not looking for work  ...               0   \n",
       "\n",
       "  C2AddictionStressProblemId C4AddictionEmotionalProblemId E1TimesArrested  \\\n",
       "0                          5                             5               1   \n",
       "1                          4                             4               0   \n",
       "2                          1                             1               0   \n",
       "3                          5                             5               0   \n",
       "4                          5                             5               0   \n",
       "\n",
       "  E4CommitedCrime F5aDepression F5bAnxiety     AgeGroup ServiceAmt sum  \\\n",
       "0               1            30          1        Young            NaN   \n",
       "1               1            30         30  Middle_aged            NaN   \n",
       "2               0             0          0  Middle_aged            NaN   \n",
       "3               0             6         14        Young            NaN   \n",
       "4               0             0          0          Old            NaN   \n",
       "\n",
       "   ServiceNum Total  \n",
       "0               NaN  \n",
       "1               NaN  \n",
       "2               NaN  \n",
       "3               NaN  \n",
       "4               NaN  \n",
       "\n",
       "[5 rows x 21 columns]"
      ]
     },
     "execution_count": 1042,
     "metadata": {},
     "output_type": "execute_result"
    }
   ],
   "source": [
    "final_SurveyData.head()"
   ]
  },
  {
   "cell_type": "code",
   "execution_count": 1043,
   "metadata": {
    "scrolled": true
   },
   "outputs": [],
   "source": [
    "final_SurveyData.to_csv('final_SurveyData.csv')"
   ]
  },
  {
   "cell_type": "code",
   "execution_count": 1044,
   "metadata": {},
   "outputs": [],
   "source": [
    "Crime_varData =  final_SurveyData.drop(['C1LivingSituationId','D2EducationLevelId','D3EmploymentSituationId','B1aAlcohol','B1cIllegalDrugs','C2AddictionStressProblemId', 'C4AddictionEmotionalProblemId','E1TimesArrested','F5aDepression','F5bAnxiety'], axis=1)"
   ]
  },
  {
   "cell_type": "code",
   "execution_count": 1045,
   "metadata": {},
   "outputs": [],
   "source": [
    "Crime_varData.dropna(subset = [\"ServiceAmt sum\"], inplace=True)\n",
    "Crime_varData.dropna(subset = [\"ServiceNum Total\"], inplace=True)\n"
   ]
  },
  {
   "cell_type": "code",
   "execution_count": 1046,
   "metadata": {
    "scrolled": true
   },
   "outputs": [
    {
     "data": {
      "text/html": [
       "<div>\n",
       "<style scoped>\n",
       "    .dataframe tbody tr th:only-of-type {\n",
       "        vertical-align: middle;\n",
       "    }\n",
       "\n",
       "    .dataframe tbody tr th {\n",
       "        vertical-align: top;\n",
       "    }\n",
       "\n",
       "    .dataframe thead th {\n",
       "        text-align: right;\n",
       "    }\n",
       "</style>\n",
       "<table border=\"1\" class=\"dataframe\">\n",
       "  <thead>\n",
       "    <tr style=\"text-align: right;\">\n",
       "      <th></th>\n",
       "      <th>Unnamed: 0</th>\n",
       "      <th>ClientId</th>\n",
       "      <th>InterviewIntake</th>\n",
       "      <th>Gender</th>\n",
       "      <th>Ethnicity</th>\n",
       "      <th>Ethnorace</th>\n",
       "      <th>Veteran</th>\n",
       "      <th>E4CommitedCrime</th>\n",
       "      <th>AgeGroup</th>\n",
       "      <th>ServiceAmt sum</th>\n",
       "      <th>ServiceNum Total</th>\n",
       "    </tr>\n",
       "  </thead>\n",
       "  <tbody>\n",
       "    <tr>\n",
       "      <th>9</th>\n",
       "      <td>53.0</td>\n",
       "      <td>37758</td>\n",
       "      <td>Intake</td>\n",
       "      <td>Female</td>\n",
       "      <td>Hispanic or Latino</td>\n",
       "      <td>Hispanic</td>\n",
       "      <td>unknwon</td>\n",
       "      <td>0</td>\n",
       "      <td>Middle_aged</td>\n",
       "      <td>0.0</td>\n",
       "      <td>0.0</td>\n",
       "    </tr>\n",
       "    <tr>\n",
       "      <th>13</th>\n",
       "      <td>96.0</td>\n",
       "      <td>37853</td>\n",
       "      <td>Intake</td>\n",
       "      <td>Female</td>\n",
       "      <td>Not Hispanic or Latino</td>\n",
       "      <td>White</td>\n",
       "      <td>unknwon</td>\n",
       "      <td>0</td>\n",
       "      <td>Old</td>\n",
       "      <td>0.0</td>\n",
       "      <td>0.0</td>\n",
       "    </tr>\n",
       "    <tr>\n",
       "      <th>14</th>\n",
       "      <td>113.0</td>\n",
       "      <td>37914</td>\n",
       "      <td>Post</td>\n",
       "      <td>Female</td>\n",
       "      <td>Not Hispanic or Latino</td>\n",
       "      <td>White</td>\n",
       "      <td>unknwon</td>\n",
       "      <td>0</td>\n",
       "      <td>Middle_aged</td>\n",
       "      <td>1857.0</td>\n",
       "      <td>38.0</td>\n",
       "    </tr>\n",
       "    <tr>\n",
       "      <th>20</th>\n",
       "      <td>160.0</td>\n",
       "      <td>38022</td>\n",
       "      <td>Post</td>\n",
       "      <td>Female</td>\n",
       "      <td>Not Hispanic or Latino</td>\n",
       "      <td>White</td>\n",
       "      <td>unknwon</td>\n",
       "      <td>0</td>\n",
       "      <td>Middle_aged</td>\n",
       "      <td>830.0</td>\n",
       "      <td>15.0</td>\n",
       "    </tr>\n",
       "    <tr>\n",
       "      <th>22</th>\n",
       "      <td>173.0</td>\n",
       "      <td>38047</td>\n",
       "      <td>Post</td>\n",
       "      <td>Female</td>\n",
       "      <td>Not Hispanic or Latino</td>\n",
       "      <td>White</td>\n",
       "      <td>unknwon</td>\n",
       "      <td>0</td>\n",
       "      <td>Middle_aged</td>\n",
       "      <td>430.0</td>\n",
       "      <td>8.0</td>\n",
       "    </tr>\n",
       "  </tbody>\n",
       "</table>\n",
       "</div>"
      ],
      "text/plain": [
       "    Unnamed: 0 ClientId InterviewIntake  Gender               Ethnicity  \\\n",
       "9         53.0    37758          Intake  Female      Hispanic or Latino   \n",
       "13        96.0    37853          Intake  Female  Not Hispanic or Latino   \n",
       "14       113.0    37914            Post  Female  Not Hispanic or Latino   \n",
       "20       160.0    38022            Post  Female  Not Hispanic or Latino   \n",
       "22       173.0    38047            Post  Female  Not Hispanic or Latino   \n",
       "\n",
       "   Ethnorace  Veteran E4CommitedCrime     AgeGroup  ServiceAmt sum  \\\n",
       "9   Hispanic  unknwon               0  Middle_aged             0.0   \n",
       "13     White  unknwon               0          Old             0.0   \n",
       "14     White  unknwon               0  Middle_aged          1857.0   \n",
       "20     White  unknwon               0  Middle_aged           830.0   \n",
       "22     White  unknwon               0  Middle_aged           430.0   \n",
       "\n",
       "    ServiceNum Total  \n",
       "9                0.0  \n",
       "13               0.0  \n",
       "14              38.0  \n",
       "20              15.0  \n",
       "22               8.0  "
      ]
     },
     "execution_count": 1046,
     "metadata": {},
     "output_type": "execute_result"
    }
   ],
   "source": [
    "Crime_varData.head()"
   ]
  },
  {
   "cell_type": "code",
   "execution_count": 1047,
   "metadata": {},
   "outputs": [],
   "source": [
    "Crime_varData.to_csv('Crime_varData.csv')"
   ]
  },
  {
   "cell_type": "code",
   "execution_count": 1048,
   "metadata": {},
   "outputs": [],
   "source": [
    "Employment_varData =  final_SurveyData.drop(['C1LivingSituationId','D2EducationLevelId','E4CommitedCrime','B1aAlcohol','B1cIllegalDrugs','C2AddictionStressProblemId', 'C4AddictionEmotionalProblemId','E1TimesArrested','F5aDepression','F5bAnxiety'], axis=1)"
   ]
  },
  {
   "cell_type": "code",
   "execution_count": 1049,
   "metadata": {},
   "outputs": [],
   "source": [
    "Employment_varData.dropna(subset = [\"ServiceAmt sum\"], inplace=True)\n",
    "Employment_varData.dropna(subset = [\"ServiceNum Total\"], inplace=True)"
   ]
  },
  {
   "cell_type": "code",
   "execution_count": 1050,
   "metadata": {
    "scrolled": false
   },
   "outputs": [
    {
     "data": {
      "text/html": [
       "<div>\n",
       "<style scoped>\n",
       "    .dataframe tbody tr th:only-of-type {\n",
       "        vertical-align: middle;\n",
       "    }\n",
       "\n",
       "    .dataframe tbody tr th {\n",
       "        vertical-align: top;\n",
       "    }\n",
       "\n",
       "    .dataframe thead th {\n",
       "        text-align: right;\n",
       "    }\n",
       "</style>\n",
       "<table border=\"1\" class=\"dataframe\">\n",
       "  <thead>\n",
       "    <tr style=\"text-align: right;\">\n",
       "      <th></th>\n",
       "      <th>Unnamed: 0</th>\n",
       "      <th>ClientId</th>\n",
       "      <th>InterviewIntake</th>\n",
       "      <th>Gender</th>\n",
       "      <th>Ethnicity</th>\n",
       "      <th>Ethnorace</th>\n",
       "      <th>Veteran</th>\n",
       "      <th>D3EmploymentSituationId</th>\n",
       "      <th>AgeGroup</th>\n",
       "      <th>ServiceAmt sum</th>\n",
       "      <th>ServiceNum Total</th>\n",
       "    </tr>\n",
       "  </thead>\n",
       "  <tbody>\n",
       "    <tr>\n",
       "      <th>9</th>\n",
       "      <td>53.0</td>\n",
       "      <td>37758</td>\n",
       "      <td>Intake</td>\n",
       "      <td>Female</td>\n",
       "      <td>Hispanic or Latino</td>\n",
       "      <td>Hispanic</td>\n",
       "      <td>unknwon</td>\n",
       "      <td>Unemployed, Looking for work</td>\n",
       "      <td>Middle_aged</td>\n",
       "      <td>0.0</td>\n",
       "      <td>0.0</td>\n",
       "    </tr>\n",
       "    <tr>\n",
       "      <th>13</th>\n",
       "      <td>96.0</td>\n",
       "      <td>37853</td>\n",
       "      <td>Intake</td>\n",
       "      <td>Female</td>\n",
       "      <td>Not Hispanic or Latino</td>\n",
       "      <td>White</td>\n",
       "      <td>unknwon</td>\n",
       "      <td>Unemployed, Not looking for work</td>\n",
       "      <td>Old</td>\n",
       "      <td>0.0</td>\n",
       "      <td>0.0</td>\n",
       "    </tr>\n",
       "    <tr>\n",
       "      <th>14</th>\n",
       "      <td>113.0</td>\n",
       "      <td>37914</td>\n",
       "      <td>Post</td>\n",
       "      <td>Female</td>\n",
       "      <td>Not Hispanic or Latino</td>\n",
       "      <td>White</td>\n",
       "      <td>unknwon</td>\n",
       "      <td>Employed</td>\n",
       "      <td>Middle_aged</td>\n",
       "      <td>1857.0</td>\n",
       "      <td>38.0</td>\n",
       "    </tr>\n",
       "    <tr>\n",
       "      <th>20</th>\n",
       "      <td>160.0</td>\n",
       "      <td>38022</td>\n",
       "      <td>Post</td>\n",
       "      <td>Female</td>\n",
       "      <td>Not Hispanic or Latino</td>\n",
       "      <td>White</td>\n",
       "      <td>unknwon</td>\n",
       "      <td>Employed</td>\n",
       "      <td>Middle_aged</td>\n",
       "      <td>830.0</td>\n",
       "      <td>15.0</td>\n",
       "    </tr>\n",
       "    <tr>\n",
       "      <th>22</th>\n",
       "      <td>173.0</td>\n",
       "      <td>38047</td>\n",
       "      <td>Post</td>\n",
       "      <td>Female</td>\n",
       "      <td>Not Hispanic or Latino</td>\n",
       "      <td>White</td>\n",
       "      <td>unknwon</td>\n",
       "      <td>Unemployed, Not looking for work</td>\n",
       "      <td>Middle_aged</td>\n",
       "      <td>430.0</td>\n",
       "      <td>8.0</td>\n",
       "    </tr>\n",
       "  </tbody>\n",
       "</table>\n",
       "</div>"
      ],
      "text/plain": [
       "    Unnamed: 0 ClientId InterviewIntake  Gender               Ethnicity  \\\n",
       "9         53.0    37758          Intake  Female      Hispanic or Latino   \n",
       "13        96.0    37853          Intake  Female  Not Hispanic or Latino   \n",
       "14       113.0    37914            Post  Female  Not Hispanic or Latino   \n",
       "20       160.0    38022            Post  Female  Not Hispanic or Latino   \n",
       "22       173.0    38047            Post  Female  Not Hispanic or Latino   \n",
       "\n",
       "   Ethnorace  Veteran           D3EmploymentSituationId     AgeGroup  \\\n",
       "9   Hispanic  unknwon      Unemployed, Looking for work  Middle_aged   \n",
       "13     White  unknwon  Unemployed, Not looking for work          Old   \n",
       "14     White  unknwon                          Employed  Middle_aged   \n",
       "20     White  unknwon                          Employed  Middle_aged   \n",
       "22     White  unknwon  Unemployed, Not looking for work  Middle_aged   \n",
       "\n",
       "    ServiceAmt sum  ServiceNum Total  \n",
       "9              0.0               0.0  \n",
       "13             0.0               0.0  \n",
       "14          1857.0              38.0  \n",
       "20           830.0              15.0  \n",
       "22           430.0               8.0  "
      ]
     },
     "execution_count": 1050,
     "metadata": {},
     "output_type": "execute_result"
    }
   ],
   "source": [
    "Employment_varData.head()"
   ]
  },
  {
   "cell_type": "code",
   "execution_count": 1051,
   "metadata": {},
   "outputs": [],
   "source": [
    "Employment_varData.to_csv('Employment_varData.csv')"
   ]
  },
  {
   "cell_type": "code",
   "execution_count": 1052,
   "metadata": {},
   "outputs": [],
   "source": [
    "DrugUse_varData =  final_SurveyData.drop(['C1LivingSituationId','D2EducationLevelId','E4CommitedCrime','B1aAlcohol','D3EmploymentSituationId','C2AddictionStressProblemId', 'C4AddictionEmotionalProblemId','E1TimesArrested','F5aDepression','F5bAnxiety'], axis=1)"
   ]
  },
  {
   "cell_type": "code",
   "execution_count": 1053,
   "metadata": {},
   "outputs": [],
   "source": [
    "DrugUse_varData.dropna(subset = [\"ServiceAmt sum\"], inplace=True)\n",
    "DrugUse_varData.dropna(subset = [\"ServiceNum Total\"], inplace=True)"
   ]
  },
  {
   "cell_type": "code",
   "execution_count": 1054,
   "metadata": {},
   "outputs": [
    {
     "data": {
      "text/html": [
       "<div>\n",
       "<style scoped>\n",
       "    .dataframe tbody tr th:only-of-type {\n",
       "        vertical-align: middle;\n",
       "    }\n",
       "\n",
       "    .dataframe tbody tr th {\n",
       "        vertical-align: top;\n",
       "    }\n",
       "\n",
       "    .dataframe thead th {\n",
       "        text-align: right;\n",
       "    }\n",
       "</style>\n",
       "<table border=\"1\" class=\"dataframe\">\n",
       "  <thead>\n",
       "    <tr style=\"text-align: right;\">\n",
       "      <th></th>\n",
       "      <th>Unnamed: 0</th>\n",
       "      <th>ClientId</th>\n",
       "      <th>InterviewIntake</th>\n",
       "      <th>Gender</th>\n",
       "      <th>Ethnicity</th>\n",
       "      <th>Ethnorace</th>\n",
       "      <th>Veteran</th>\n",
       "      <th>B1cIllegalDrugs</th>\n",
       "      <th>AgeGroup</th>\n",
       "      <th>ServiceAmt sum</th>\n",
       "      <th>ServiceNum Total</th>\n",
       "    </tr>\n",
       "  </thead>\n",
       "  <tbody>\n",
       "    <tr>\n",
       "      <th>9</th>\n",
       "      <td>53.0</td>\n",
       "      <td>37758</td>\n",
       "      <td>Intake</td>\n",
       "      <td>Female</td>\n",
       "      <td>Hispanic or Latino</td>\n",
       "      <td>Hispanic</td>\n",
       "      <td>unknwon</td>\n",
       "      <td>0</td>\n",
       "      <td>Middle_aged</td>\n",
       "      <td>0.0</td>\n",
       "      <td>0.0</td>\n",
       "    </tr>\n",
       "    <tr>\n",
       "      <th>13</th>\n",
       "      <td>96.0</td>\n",
       "      <td>37853</td>\n",
       "      <td>Intake</td>\n",
       "      <td>Female</td>\n",
       "      <td>Not Hispanic or Latino</td>\n",
       "      <td>White</td>\n",
       "      <td>unknwon</td>\n",
       "      <td>0</td>\n",
       "      <td>Old</td>\n",
       "      <td>0.0</td>\n",
       "      <td>0.0</td>\n",
       "    </tr>\n",
       "    <tr>\n",
       "      <th>14</th>\n",
       "      <td>113.0</td>\n",
       "      <td>37914</td>\n",
       "      <td>Post</td>\n",
       "      <td>Female</td>\n",
       "      <td>Not Hispanic or Latino</td>\n",
       "      <td>White</td>\n",
       "      <td>unknwon</td>\n",
       "      <td>0</td>\n",
       "      <td>Middle_aged</td>\n",
       "      <td>1857.0</td>\n",
       "      <td>38.0</td>\n",
       "    </tr>\n",
       "    <tr>\n",
       "      <th>20</th>\n",
       "      <td>160.0</td>\n",
       "      <td>38022</td>\n",
       "      <td>Post</td>\n",
       "      <td>Female</td>\n",
       "      <td>Not Hispanic or Latino</td>\n",
       "      <td>White</td>\n",
       "      <td>unknwon</td>\n",
       "      <td>0</td>\n",
       "      <td>Middle_aged</td>\n",
       "      <td>830.0</td>\n",
       "      <td>15.0</td>\n",
       "    </tr>\n",
       "    <tr>\n",
       "      <th>22</th>\n",
       "      <td>173.0</td>\n",
       "      <td>38047</td>\n",
       "      <td>Post</td>\n",
       "      <td>Female</td>\n",
       "      <td>Not Hispanic or Latino</td>\n",
       "      <td>White</td>\n",
       "      <td>unknwon</td>\n",
       "      <td>0</td>\n",
       "      <td>Middle_aged</td>\n",
       "      <td>430.0</td>\n",
       "      <td>8.0</td>\n",
       "    </tr>\n",
       "  </tbody>\n",
       "</table>\n",
       "</div>"
      ],
      "text/plain": [
       "    Unnamed: 0 ClientId InterviewIntake  Gender               Ethnicity  \\\n",
       "9         53.0    37758          Intake  Female      Hispanic or Latino   \n",
       "13        96.0    37853          Intake  Female  Not Hispanic or Latino   \n",
       "14       113.0    37914            Post  Female  Not Hispanic or Latino   \n",
       "20       160.0    38022            Post  Female  Not Hispanic or Latino   \n",
       "22       173.0    38047            Post  Female  Not Hispanic or Latino   \n",
       "\n",
       "   Ethnorace  Veteran B1cIllegalDrugs     AgeGroup  ServiceAmt sum  \\\n",
       "9   Hispanic  unknwon               0  Middle_aged             0.0   \n",
       "13     White  unknwon               0          Old             0.0   \n",
       "14     White  unknwon               0  Middle_aged          1857.0   \n",
       "20     White  unknwon               0  Middle_aged           830.0   \n",
       "22     White  unknwon               0  Middle_aged           430.0   \n",
       "\n",
       "    ServiceNum Total  \n",
       "9                0.0  \n",
       "13               0.0  \n",
       "14              38.0  \n",
       "20              15.0  \n",
       "22               8.0  "
      ]
     },
     "execution_count": 1054,
     "metadata": {},
     "output_type": "execute_result"
    }
   ],
   "source": [
    "DrugUse_varData.head()"
   ]
  },
  {
   "cell_type": "code",
   "execution_count": 1055,
   "metadata": {},
   "outputs": [],
   "source": [
    "DrugUse_varData.to_csv('DrugUse_varData.csv')"
   ]
  },
  {
   "cell_type": "code",
   "execution_count": null,
   "metadata": {},
   "outputs": [],
   "source": []
  },
  {
   "cell_type": "markdown",
   "metadata": {},
   "source": [
    "### Power BI data visualization"
   ]
  },
  {
   "cell_type": "markdown",
   "metadata": {},
   "source": [
    "Calculate difference Pre Post for IllegalDrugUsed and CommitedCrime"
   ]
  },
  {
   "cell_type": "code",
   "execution_count": 1056,
   "metadata": {},
   "outputs": [
    {
     "data": {
      "text/html": [
       "<div>\n",
       "<style scoped>\n",
       "    .dataframe tbody tr th:only-of-type {\n",
       "        vertical-align: middle;\n",
       "    }\n",
       "\n",
       "    .dataframe tbody tr th {\n",
       "        vertical-align: top;\n",
       "    }\n",
       "\n",
       "    .dataframe thead th {\n",
       "        text-align: right;\n",
       "    }\n",
       "</style>\n",
       "<table border=\"1\" class=\"dataframe\">\n",
       "  <thead>\n",
       "    <tr style=\"text-align: right;\">\n",
       "      <th></th>\n",
       "      <th>Unnamed: 0</th>\n",
       "      <th>ClientId</th>\n",
       "      <th>InterviewIntake</th>\n",
       "      <th>Gender</th>\n",
       "      <th>Ethnicity</th>\n",
       "      <th>Ethnorace</th>\n",
       "      <th>Veteran</th>\n",
       "      <th>B1cIllegalDrugs</th>\n",
       "      <th>AgeGroup</th>\n",
       "      <th>ServiceAmt sum</th>\n",
       "      <th>ServiceNum Total</th>\n",
       "    </tr>\n",
       "  </thead>\n",
       "  <tbody>\n",
       "    <tr>\n",
       "      <th>9</th>\n",
       "      <td>53.0</td>\n",
       "      <td>37758</td>\n",
       "      <td>Intake</td>\n",
       "      <td>Female</td>\n",
       "      <td>Hispanic or Latino</td>\n",
       "      <td>Hispanic</td>\n",
       "      <td>unknwon</td>\n",
       "      <td>0</td>\n",
       "      <td>Middle_aged</td>\n",
       "      <td>0.0</td>\n",
       "      <td>0.0</td>\n",
       "    </tr>\n",
       "    <tr>\n",
       "      <th>13</th>\n",
       "      <td>96.0</td>\n",
       "      <td>37853</td>\n",
       "      <td>Intake</td>\n",
       "      <td>Female</td>\n",
       "      <td>Not Hispanic or Latino</td>\n",
       "      <td>White</td>\n",
       "      <td>unknwon</td>\n",
       "      <td>0</td>\n",
       "      <td>Old</td>\n",
       "      <td>0.0</td>\n",
       "      <td>0.0</td>\n",
       "    </tr>\n",
       "    <tr>\n",
       "      <th>14</th>\n",
       "      <td>113.0</td>\n",
       "      <td>37914</td>\n",
       "      <td>Post</td>\n",
       "      <td>Female</td>\n",
       "      <td>Not Hispanic or Latino</td>\n",
       "      <td>White</td>\n",
       "      <td>unknwon</td>\n",
       "      <td>0</td>\n",
       "      <td>Middle_aged</td>\n",
       "      <td>1857.0</td>\n",
       "      <td>38.0</td>\n",
       "    </tr>\n",
       "    <tr>\n",
       "      <th>20</th>\n",
       "      <td>160.0</td>\n",
       "      <td>38022</td>\n",
       "      <td>Post</td>\n",
       "      <td>Female</td>\n",
       "      <td>Not Hispanic or Latino</td>\n",
       "      <td>White</td>\n",
       "      <td>unknwon</td>\n",
       "      <td>0</td>\n",
       "      <td>Middle_aged</td>\n",
       "      <td>830.0</td>\n",
       "      <td>15.0</td>\n",
       "    </tr>\n",
       "    <tr>\n",
       "      <th>22</th>\n",
       "      <td>173.0</td>\n",
       "      <td>38047</td>\n",
       "      <td>Post</td>\n",
       "      <td>Female</td>\n",
       "      <td>Not Hispanic or Latino</td>\n",
       "      <td>White</td>\n",
       "      <td>unknwon</td>\n",
       "      <td>0</td>\n",
       "      <td>Middle_aged</td>\n",
       "      <td>430.0</td>\n",
       "      <td>8.0</td>\n",
       "    </tr>\n",
       "  </tbody>\n",
       "</table>\n",
       "</div>"
      ],
      "text/plain": [
       "    Unnamed: 0 ClientId InterviewIntake  Gender               Ethnicity  \\\n",
       "9         53.0    37758          Intake  Female      Hispanic or Latino   \n",
       "13        96.0    37853          Intake  Female  Not Hispanic or Latino   \n",
       "14       113.0    37914            Post  Female  Not Hispanic or Latino   \n",
       "20       160.0    38022            Post  Female  Not Hispanic or Latino   \n",
       "22       173.0    38047            Post  Female  Not Hispanic or Latino   \n",
       "\n",
       "   Ethnorace  Veteran B1cIllegalDrugs     AgeGroup  ServiceAmt sum  \\\n",
       "9   Hispanic  unknwon               0  Middle_aged             0.0   \n",
       "13     White  unknwon               0          Old             0.0   \n",
       "14     White  unknwon               0  Middle_aged          1857.0   \n",
       "20     White  unknwon               0  Middle_aged           830.0   \n",
       "22     White  unknwon               0  Middle_aged           430.0   \n",
       "\n",
       "    ServiceNum Total  \n",
       "9                0.0  \n",
       "13               0.0  \n",
       "14              38.0  \n",
       "20              15.0  \n",
       "22               8.0  "
      ]
     },
     "execution_count": 1056,
     "metadata": {},
     "output_type": "execute_result"
    }
   ],
   "source": [
    "DrugUse_varData.head()"
   ]
  },
  {
   "cell_type": "code",
   "execution_count": 1057,
   "metadata": {},
   "outputs": [
    {
     "data": {
      "text/plain": [
       "Intake    11384\n",
       "Post       8525\n",
       "Name: InterviewIntake, dtype: int64"
      ]
     },
     "execution_count": 1057,
     "metadata": {},
     "output_type": "execute_result"
    }
   ],
   "source": [
    "DrugUse_varData['InterviewIntake'].value_counts()"
   ]
  },
  {
   "cell_type": "code",
   "execution_count": 1058,
   "metadata": {},
   "outputs": [
    {
     "data": {
      "text/plain": [
       "2"
      ]
     },
     "execution_count": 1058,
     "metadata": {},
     "output_type": "execute_result"
    }
   ],
   "source": [
    "DrugUse_varData['InterviewIntake'].nunique()"
   ]
  },
  {
   "cell_type": "code",
   "execution_count": 1059,
   "metadata": {},
   "outputs": [],
   "source": [
    "df2try = DrugUse_varData.groupby('ClientId').apply(lambda x: x['InterviewIntake'].unique())\n"
   ]
  },
  {
   "cell_type": "code",
   "execution_count": 1060,
   "metadata": {
    "scrolled": false
   },
   "outputs": [
    {
     "data": {
      "text/html": [
       "<div>\n",
       "<style scoped>\n",
       "    .dataframe tbody tr th:only-of-type {\n",
       "        vertical-align: middle;\n",
       "    }\n",
       "\n",
       "    .dataframe tbody tr th {\n",
       "        vertical-align: top;\n",
       "    }\n",
       "\n",
       "    .dataframe thead th {\n",
       "        text-align: right;\n",
       "    }\n",
       "</style>\n",
       "<table border=\"1\" class=\"dataframe\">\n",
       "  <thead>\n",
       "    <tr style=\"text-align: right;\">\n",
       "      <th></th>\n",
       "      <th>ClientId</th>\n",
       "      <th>treatments</th>\n",
       "    </tr>\n",
       "  </thead>\n",
       "  <tbody>\n",
       "    <tr>\n",
       "      <th>0</th>\n",
       "      <td>11000000030012</td>\n",
       "      <td>[Post, Intake]</td>\n",
       "    </tr>\n",
       "    <tr>\n",
       "      <th>1</th>\n",
       "      <td>11000000030015</td>\n",
       "      <td>[Post, Intake]</td>\n",
       "    </tr>\n",
       "    <tr>\n",
       "      <th>2</th>\n",
       "      <td>11000000030017</td>\n",
       "      <td>[Post, Intake]</td>\n",
       "    </tr>\n",
       "    <tr>\n",
       "      <th>3</th>\n",
       "      <td>11000000030027</td>\n",
       "      <td>[Post, Intake]</td>\n",
       "    </tr>\n",
       "    <tr>\n",
       "      <th>4</th>\n",
       "      <td>11000000030029</td>\n",
       "      <td>[Intake]</td>\n",
       "    </tr>\n",
       "  </tbody>\n",
       "</table>\n",
       "</div>"
      ],
      "text/plain": [
       "         ClientId      treatments\n",
       "0  11000000030012  [Post, Intake]\n",
       "1  11000000030015  [Post, Intake]\n",
       "2  11000000030017  [Post, Intake]\n",
       "3  11000000030027  [Post, Intake]\n",
       "4  11000000030029        [Intake]"
      ]
     },
     "execution_count": 1060,
     "metadata": {},
     "output_type": "execute_result"
    }
   ],
   "source": [
    "df3try = pd.DataFrame(df2try, columns = ['treatments']).reset_index()\n",
    "df3try.head()"
   ]
  },
  {
   "cell_type": "code",
   "execution_count": 1061,
   "metadata": {
    "scrolled": false
   },
   "outputs": [
    {
     "data": {
      "text/plain": [
       "[Intake]          2715\n",
       "[Post]             186\n",
       "[Post, Intake]       1\n",
       "[Post, Intake]       1\n",
       "[Post, Intake]       1\n",
       "                  ... \n",
       "[Post, Intake]       1\n",
       "[Post, Intake]       1\n",
       "[Post, Intake]       1\n",
       "[Post, Intake]       1\n",
       "[Post, Intake]       1\n",
       "Name: treatments, Length: 8155, dtype: int64"
      ]
     },
     "execution_count": 1061,
     "metadata": {},
     "output_type": "execute_result"
    }
   ],
   "source": [
    "df3try['treatments'].value_counts()"
   ]
  },
  {
   "cell_type": "code",
   "execution_count": 1062,
   "metadata": {},
   "outputs": [],
   "source": [
    "bm = df3try['treatments'].apply(lambda x: len(x)==2)"
   ]
  },
  {
   "cell_type": "code",
   "execution_count": 1063,
   "metadata": {},
   "outputs": [],
   "source": [
    "df4try = df3try[bm]"
   ]
  },
  {
   "cell_type": "code",
   "execution_count": 1064,
   "metadata": {},
   "outputs": [
    {
     "data": {
      "text/html": [
       "<div>\n",
       "<style scoped>\n",
       "    .dataframe tbody tr th:only-of-type {\n",
       "        vertical-align: middle;\n",
       "    }\n",
       "\n",
       "    .dataframe tbody tr th {\n",
       "        vertical-align: top;\n",
       "    }\n",
       "\n",
       "    .dataframe thead th {\n",
       "        text-align: right;\n",
       "    }\n",
       "</style>\n",
       "<table border=\"1\" class=\"dataframe\">\n",
       "  <thead>\n",
       "    <tr style=\"text-align: right;\">\n",
       "      <th></th>\n",
       "      <th>ClientId</th>\n",
       "      <th>treatments</th>\n",
       "    </tr>\n",
       "  </thead>\n",
       "  <tbody>\n",
       "    <tr>\n",
       "      <th>count</th>\n",
       "      <td>8153</td>\n",
       "      <td>8153</td>\n",
       "    </tr>\n",
       "    <tr>\n",
       "      <th>unique</th>\n",
       "      <td>8153</td>\n",
       "      <td>8153</td>\n",
       "    </tr>\n",
       "    <tr>\n",
       "      <th>top</th>\n",
       "      <td>3000000032741</td>\n",
       "      <td>[Post, Intake]</td>\n",
       "    </tr>\n",
       "    <tr>\n",
       "      <th>freq</th>\n",
       "      <td>1</td>\n",
       "      <td>1</td>\n",
       "    </tr>\n",
       "  </tbody>\n",
       "</table>\n",
       "</div>"
      ],
      "text/plain": [
       "             ClientId      treatments\n",
       "count            8153            8153\n",
       "unique           8153            8153\n",
       "top     3000000032741  [Post, Intake]\n",
       "freq                1               1"
      ]
     },
     "execution_count": 1064,
     "metadata": {},
     "output_type": "execute_result"
    }
   ],
   "source": [
    "df4try.describe()"
   ]
  },
  {
   "cell_type": "code",
   "execution_count": 1065,
   "metadata": {},
   "outputs": [
    {
     "data": {
      "text/plain": [
       "(8153, 2)"
      ]
     },
     "execution_count": 1065,
     "metadata": {},
     "output_type": "execute_result"
    }
   ],
   "source": [
    "df4try.shape"
   ]
  },
  {
   "cell_type": "code",
   "execution_count": null,
   "metadata": {},
   "outputs": [],
   "source": []
  },
  {
   "cell_type": "code",
   "execution_count": 1066,
   "metadata": {},
   "outputs": [],
   "source": [
    "newdf = pd.merge(DrugUse_varData, df4try, how='inner', on = 'ClientId')\n"
   ]
  },
  {
   "cell_type": "code",
   "execution_count": 1067,
   "metadata": {
    "scrolled": true
   },
   "outputs": [
    {
     "data": {
      "text/html": [
       "<div>\n",
       "<style scoped>\n",
       "    .dataframe tbody tr th:only-of-type {\n",
       "        vertical-align: middle;\n",
       "    }\n",
       "\n",
       "    .dataframe tbody tr th {\n",
       "        vertical-align: top;\n",
       "    }\n",
       "\n",
       "    .dataframe thead th {\n",
       "        text-align: right;\n",
       "    }\n",
       "</style>\n",
       "<table border=\"1\" class=\"dataframe\">\n",
       "  <thead>\n",
       "    <tr style=\"text-align: right;\">\n",
       "      <th></th>\n",
       "      <th>Unnamed: 0</th>\n",
       "      <th>ClientId</th>\n",
       "      <th>InterviewIntake</th>\n",
       "      <th>Gender</th>\n",
       "      <th>Ethnicity</th>\n",
       "      <th>Ethnorace</th>\n",
       "      <th>Veteran</th>\n",
       "      <th>B1cIllegalDrugs</th>\n",
       "      <th>AgeGroup</th>\n",
       "      <th>ServiceAmt sum</th>\n",
       "      <th>ServiceNum Total</th>\n",
       "      <th>treatments</th>\n",
       "    </tr>\n",
       "  </thead>\n",
       "  <tbody>\n",
       "    <tr>\n",
       "      <th>0</th>\n",
       "      <td>113.0</td>\n",
       "      <td>37914</td>\n",
       "      <td>Post</td>\n",
       "      <td>Female</td>\n",
       "      <td>Not Hispanic or Latino</td>\n",
       "      <td>White</td>\n",
       "      <td>unknwon</td>\n",
       "      <td>0</td>\n",
       "      <td>Middle_aged</td>\n",
       "      <td>1857.0</td>\n",
       "      <td>38.0</td>\n",
       "      <td>[Post, Intake]</td>\n",
       "    </tr>\n",
       "    <tr>\n",
       "      <th>1</th>\n",
       "      <td>111.0</td>\n",
       "      <td>37914</td>\n",
       "      <td>Intake</td>\n",
       "      <td>Female</td>\n",
       "      <td>Not Hispanic or Latino</td>\n",
       "      <td>White</td>\n",
       "      <td>unknwon</td>\n",
       "      <td>0</td>\n",
       "      <td>Middle_aged</td>\n",
       "      <td>0.0</td>\n",
       "      <td>0.0</td>\n",
       "      <td>[Post, Intake]</td>\n",
       "    </tr>\n",
       "    <tr>\n",
       "      <th>2</th>\n",
       "      <td>160.0</td>\n",
       "      <td>38022</td>\n",
       "      <td>Post</td>\n",
       "      <td>Female</td>\n",
       "      <td>Not Hispanic or Latino</td>\n",
       "      <td>White</td>\n",
       "      <td>unknwon</td>\n",
       "      <td>0</td>\n",
       "      <td>Middle_aged</td>\n",
       "      <td>830.0</td>\n",
       "      <td>15.0</td>\n",
       "      <td>[Post, Intake]</td>\n",
       "    </tr>\n",
       "    <tr>\n",
       "      <th>3</th>\n",
       "      <td>157.0</td>\n",
       "      <td>38022</td>\n",
       "      <td>Intake</td>\n",
       "      <td>Female</td>\n",
       "      <td>Not Hispanic or Latino</td>\n",
       "      <td>White</td>\n",
       "      <td>unknwon</td>\n",
       "      <td>0</td>\n",
       "      <td>Middle_aged</td>\n",
       "      <td>0.0</td>\n",
       "      <td>0.0</td>\n",
       "      <td>[Post, Intake]</td>\n",
       "    </tr>\n",
       "    <tr>\n",
       "      <th>4</th>\n",
       "      <td>173.0</td>\n",
       "      <td>38047</td>\n",
       "      <td>Post</td>\n",
       "      <td>Female</td>\n",
       "      <td>Not Hispanic or Latino</td>\n",
       "      <td>White</td>\n",
       "      <td>unknwon</td>\n",
       "      <td>0</td>\n",
       "      <td>Middle_aged</td>\n",
       "      <td>430.0</td>\n",
       "      <td>8.0</td>\n",
       "      <td>[Post, Intake]</td>\n",
       "    </tr>\n",
       "  </tbody>\n",
       "</table>\n",
       "</div>"
      ],
      "text/plain": [
       "   Unnamed: 0 ClientId InterviewIntake  Gender               Ethnicity  \\\n",
       "0       113.0    37914            Post  Female  Not Hispanic or Latino   \n",
       "1       111.0    37914          Intake  Female  Not Hispanic or Latino   \n",
       "2       160.0    38022            Post  Female  Not Hispanic or Latino   \n",
       "3       157.0    38022          Intake  Female  Not Hispanic or Latino   \n",
       "4       173.0    38047            Post  Female  Not Hispanic or Latino   \n",
       "\n",
       "  Ethnorace  Veteran B1cIllegalDrugs     AgeGroup  ServiceAmt sum  \\\n",
       "0     White  unknwon               0  Middle_aged          1857.0   \n",
       "1     White  unknwon               0  Middle_aged             0.0   \n",
       "2     White  unknwon               0  Middle_aged           830.0   \n",
       "3     White  unknwon               0  Middle_aged             0.0   \n",
       "4     White  unknwon               0  Middle_aged           430.0   \n",
       "\n",
       "   ServiceNum Total      treatments  \n",
       "0              38.0  [Post, Intake]  \n",
       "1               0.0  [Post, Intake]  \n",
       "2              15.0  [Post, Intake]  \n",
       "3               0.0  [Post, Intake]  \n",
       "4               8.0  [Post, Intake]  "
      ]
     },
     "execution_count": 1067,
     "metadata": {},
     "output_type": "execute_result"
    }
   ],
   "source": [
    "\n",
    "newdf.head()"
   ]
  },
  {
   "cell_type": "code",
   "execution_count": 1068,
   "metadata": {},
   "outputs": [
    {
     "data": {
      "text/plain": [
       "Intake    8153\n",
       "Post      8153\n",
       "Name: InterviewIntake, dtype: int64"
      ]
     },
     "execution_count": 1068,
     "metadata": {},
     "output_type": "execute_result"
    }
   ],
   "source": [
    "newdf['InterviewIntake'].value_counts()"
   ]
  },
  {
   "cell_type": "code",
   "execution_count": 1069,
   "metadata": {},
   "outputs": [],
   "source": [
    "\n",
    "DrugUse_varData2 = newdf.pivot('ClientId','InterviewIntake','B1cIllegalDrugs').add_prefix('DrugUsed')\n",
    "\n",
    "DrugUse_varData2['DrugUsedDiff'] = DrugUse_varData2['DrugUsedPost'].sub(DrugUse_varData2['DrugUsedIntake'])\n",
    "\n",
    "DrugUse_varData2['ServiceAmt sum'] = newdf.drop_duplicates('ClientId').set_index('ClientId')['ServiceAmt sum']\n",
    "DrugUse_varData2['Gender'] = newdf.drop_duplicates('ClientId').set_index('ClientId')['Gender']\n",
    "DrugUse_varData2['Ethnicity'] = newdf.drop_duplicates('ClientId').set_index('ClientId')['Ethnicity']\n",
    "DrugUse_varData2['Ethnorace'] = newdf.drop_duplicates('ClientId').set_index('ClientId')['Ethnorace']\n",
    "DrugUse_varData2['Veteran'] = newdf.drop_duplicates('ClientId').set_index('ClientId')['Veteran']\n",
    "DrugUse_varData2['AgeGroup'] = newdf.drop_duplicates('ClientId').set_index('ClientId')['AgeGroup']\n",
    "\n",
    "DrugUse_varData2 = DrugUse_varData2.reset_index().rename_axis(None, axis=1)"
   ]
  },
  {
   "cell_type": "code",
   "execution_count": 1070,
   "metadata": {},
   "outputs": [
    {
     "data": {
      "text/html": [
       "<div>\n",
       "<style scoped>\n",
       "    .dataframe tbody tr th:only-of-type {\n",
       "        vertical-align: middle;\n",
       "    }\n",
       "\n",
       "    .dataframe tbody tr th {\n",
       "        vertical-align: top;\n",
       "    }\n",
       "\n",
       "    .dataframe thead th {\n",
       "        text-align: right;\n",
       "    }\n",
       "</style>\n",
       "<table border=\"1\" class=\"dataframe\">\n",
       "  <thead>\n",
       "    <tr style=\"text-align: right;\">\n",
       "      <th></th>\n",
       "      <th>ClientId</th>\n",
       "      <th>DrugUsedIntake</th>\n",
       "      <th>DrugUsedPost</th>\n",
       "      <th>DrugUsedDiff</th>\n",
       "      <th>ServiceAmt sum</th>\n",
       "      <th>Gender</th>\n",
       "      <th>Ethnicity</th>\n",
       "      <th>Ethnorace</th>\n",
       "      <th>Veteran</th>\n",
       "      <th>AgeGroup</th>\n",
       "    </tr>\n",
       "  </thead>\n",
       "  <tbody>\n",
       "    <tr>\n",
       "      <th>0</th>\n",
       "      <td>11000000030012</td>\n",
       "      <td>0</td>\n",
       "      <td>0</td>\n",
       "      <td>0</td>\n",
       "      <td>850.0</td>\n",
       "      <td>Female</td>\n",
       "      <td>Not Hispanic or Latino</td>\n",
       "      <td>White</td>\n",
       "      <td>No</td>\n",
       "      <td>Middle_aged</td>\n",
       "    </tr>\n",
       "    <tr>\n",
       "      <th>1</th>\n",
       "      <td>11000000030015</td>\n",
       "      <td>10</td>\n",
       "      <td>5</td>\n",
       "      <td>-5</td>\n",
       "      <td>150.0</td>\n",
       "      <td>Male</td>\n",
       "      <td>Hispanic or Latino</td>\n",
       "      <td>unknwon</td>\n",
       "      <td>No</td>\n",
       "      <td>Middle_aged</td>\n",
       "    </tr>\n",
       "    <tr>\n",
       "      <th>2</th>\n",
       "      <td>11000000030017</td>\n",
       "      <td>0</td>\n",
       "      <td>0</td>\n",
       "      <td>0</td>\n",
       "      <td>1101.0</td>\n",
       "      <td>Female</td>\n",
       "      <td>Not Hispanic or Latino</td>\n",
       "      <td>White</td>\n",
       "      <td>No</td>\n",
       "      <td>Old</td>\n",
       "    </tr>\n",
       "    <tr>\n",
       "      <th>3</th>\n",
       "      <td>11000000030027</td>\n",
       "      <td>0</td>\n",
       "      <td>0</td>\n",
       "      <td>0</td>\n",
       "      <td>550.0</td>\n",
       "      <td>Female</td>\n",
       "      <td>Not Hispanic or Latino</td>\n",
       "      <td>unknwon</td>\n",
       "      <td>No</td>\n",
       "      <td>Middle_aged</td>\n",
       "    </tr>\n",
       "    <tr>\n",
       "      <th>4</th>\n",
       "      <td>11000000030030</td>\n",
       "      <td>0</td>\n",
       "      <td>0</td>\n",
       "      <td>0</td>\n",
       "      <td>850.0</td>\n",
       "      <td>Female</td>\n",
       "      <td>Hispanic or Latino</td>\n",
       "      <td>unknwon</td>\n",
       "      <td>No</td>\n",
       "      <td>Middle_aged</td>\n",
       "    </tr>\n",
       "  </tbody>\n",
       "</table>\n",
       "</div>"
      ],
      "text/plain": [
       "         ClientId DrugUsedIntake DrugUsedPost DrugUsedDiff  ServiceAmt sum  \\\n",
       "0  11000000030012              0            0            0           850.0   \n",
       "1  11000000030015             10            5           -5           150.0   \n",
       "2  11000000030017              0            0            0          1101.0   \n",
       "3  11000000030027              0            0            0           550.0   \n",
       "4  11000000030030              0            0            0           850.0   \n",
       "\n",
       "   Gender               Ethnicity Ethnorace Veteran     AgeGroup  \n",
       "0  Female  Not Hispanic or Latino     White      No  Middle_aged  \n",
       "1    Male      Hispanic or Latino   unknwon      No  Middle_aged  \n",
       "2  Female  Not Hispanic or Latino     White      No          Old  \n",
       "3  Female  Not Hispanic or Latino   unknwon      No  Middle_aged  \n",
       "4  Female      Hispanic or Latino   unknwon      No  Middle_aged  "
      ]
     },
     "execution_count": 1070,
     "metadata": {},
     "output_type": "execute_result"
    }
   ],
   "source": [
    "DrugUse_varData2.head()"
   ]
  },
  {
   "cell_type": "code",
   "execution_count": 1071,
   "metadata": {},
   "outputs": [
    {
     "data": {
      "text/html": [
       "<div>\n",
       "<style scoped>\n",
       "    .dataframe tbody tr th:only-of-type {\n",
       "        vertical-align: middle;\n",
       "    }\n",
       "\n",
       "    .dataframe tbody tr th {\n",
       "        vertical-align: top;\n",
       "    }\n",
       "\n",
       "    .dataframe thead th {\n",
       "        text-align: right;\n",
       "    }\n",
       "</style>\n",
       "<table border=\"1\" class=\"dataframe\">\n",
       "  <thead>\n",
       "    <tr style=\"text-align: right;\">\n",
       "      <th></th>\n",
       "      <th>ClientId</th>\n",
       "      <th>DrugUsedIntake</th>\n",
       "      <th>DrugUsedPost</th>\n",
       "      <th>DrugUsedDiff</th>\n",
       "      <th>ServiceAmt sum</th>\n",
       "      <th>Gender</th>\n",
       "      <th>Ethnicity</th>\n",
       "      <th>Ethnorace</th>\n",
       "      <th>Veteran</th>\n",
       "      <th>AgeGroup</th>\n",
       "    </tr>\n",
       "  </thead>\n",
       "  <tbody>\n",
       "    <tr>\n",
       "      <th>6531</th>\n",
       "      <td>37914</td>\n",
       "      <td>0</td>\n",
       "      <td>0</td>\n",
       "      <td>0</td>\n",
       "      <td>1857.0</td>\n",
       "      <td>Female</td>\n",
       "      <td>Not Hispanic or Latino</td>\n",
       "      <td>White</td>\n",
       "      <td>unknwon</td>\n",
       "      <td>Middle_aged</td>\n",
       "    </tr>\n",
       "  </tbody>\n",
       "</table>\n",
       "</div>"
      ],
      "text/plain": [
       "     ClientId DrugUsedIntake DrugUsedPost DrugUsedDiff  ServiceAmt sum  \\\n",
       "6531    37914              0            0            0          1857.0   \n",
       "\n",
       "      Gender               Ethnicity Ethnorace  Veteran     AgeGroup  \n",
       "6531  Female  Not Hispanic or Latino     White  unknwon  Middle_aged  "
      ]
     },
     "execution_count": 1071,
     "metadata": {},
     "output_type": "execute_result"
    }
   ],
   "source": [
    "DrugUse_varData2[DrugUse_varData2['ClientId'] =='37914']"
   ]
  },
  {
   "cell_type": "code",
   "execution_count": null,
   "metadata": {},
   "outputs": [],
   "source": []
  },
  {
   "cell_type": "markdown",
   "metadata": {},
   "source": [
    "# new dataframe  for all 3 target variable"
   ]
  },
  {
   "cell_type": "code",
   "execution_count": null,
   "metadata": {},
   "outputs": [],
   "source": []
  },
  {
   "cell_type": "code",
   "execution_count": null,
   "metadata": {},
   "outputs": [],
   "source": []
  },
  {
   "cell_type": "code",
   "execution_count": 1072,
   "metadata": {},
   "outputs": [
    {
     "data": {
      "text/plain": [
       "Intake    11384\n",
       "Post      10908\n",
       "Name: InterviewIntake, dtype: int64"
      ]
     },
     "execution_count": 1072,
     "metadata": {},
     "output_type": "execute_result"
    }
   ],
   "source": [
    "final_SurveyData['InterviewIntake'].value_counts()"
   ]
  },
  {
   "cell_type": "code",
   "execution_count": 1073,
   "metadata": {},
   "outputs": [],
   "source": [
    "NewFinalData = final_SurveyData.groupby('ClientId').apply(lambda x: x['InterviewIntake'].unique())\n"
   ]
  },
  {
   "cell_type": "code",
   "execution_count": null,
   "metadata": {},
   "outputs": [],
   "source": []
  },
  {
   "cell_type": "code",
   "execution_count": 1074,
   "metadata": {},
   "outputs": [],
   "source": [
    "NewFinalData1 = pd.DataFrame(NewFinalData, columns = ['treatments']).reset_index()\n"
   ]
  },
  {
   "cell_type": "code",
   "execution_count": 1075,
   "metadata": {},
   "outputs": [],
   "source": [
    "bm = NewFinalData1['treatments'].apply(lambda x: len(x)==2)"
   ]
  },
  {
   "cell_type": "code",
   "execution_count": 1076,
   "metadata": {},
   "outputs": [],
   "source": [
    "NewFinalData2 = NewFinalData1[bm]"
   ]
  },
  {
   "cell_type": "code",
   "execution_count": 1077,
   "metadata": {},
   "outputs": [
    {
     "data": {
      "text/plain": [
       "[Post, Intake]    1\n",
       "[Post, Intake]    1\n",
       "[Post, Intake]    1\n",
       "[Post, Intake]    1\n",
       "[Post, Intake]    1\n",
       "                 ..\n",
       "[Post, Intake]    1\n",
       "[Post, Intake]    1\n",
       "[Post, Intake]    1\n",
       "[Post, Intake]    1\n",
       "[Post, Intake]    1\n",
       "Name: treatments, Length: 10352, dtype: int64"
      ]
     },
     "execution_count": 1077,
     "metadata": {},
     "output_type": "execute_result"
    }
   ],
   "source": [
    "NewFinalData2['treatments'].value_counts()"
   ]
  },
  {
   "cell_type": "code",
   "execution_count": 1078,
   "metadata": {},
   "outputs": [],
   "source": [
    "final_SurveyDataUpdated = pd.merge(final_SurveyData, NewFinalData2, how='inner', on = 'ClientId')\n"
   ]
  },
  {
   "cell_type": "code",
   "execution_count": 1079,
   "metadata": {},
   "outputs": [
    {
     "data": {
      "text/plain": [
       "Intake    10352\n",
       "Post      10352\n",
       "Name: InterviewIntake, dtype: int64"
      ]
     },
     "execution_count": 1079,
     "metadata": {},
     "output_type": "execute_result"
    }
   ],
   "source": [
    "final_SurveyDataUpdated['InterviewIntake'].value_counts()"
   ]
  },
  {
   "cell_type": "code",
   "execution_count": 1080,
   "metadata": {
    "scrolled": true
   },
   "outputs": [
    {
     "data": {
      "text/html": [
       "<div>\n",
       "<style scoped>\n",
       "    .dataframe tbody tr th:only-of-type {\n",
       "        vertical-align: middle;\n",
       "    }\n",
       "\n",
       "    .dataframe tbody tr th {\n",
       "        vertical-align: top;\n",
       "    }\n",
       "\n",
       "    .dataframe thead th {\n",
       "        text-align: right;\n",
       "    }\n",
       "</style>\n",
       "<table border=\"1\" class=\"dataframe\">\n",
       "  <thead>\n",
       "    <tr style=\"text-align: right;\">\n",
       "      <th></th>\n",
       "      <th>Unnamed: 0</th>\n",
       "      <th>ClientId</th>\n",
       "      <th>InterviewIntake</th>\n",
       "      <th>Gender</th>\n",
       "      <th>Ethnicity</th>\n",
       "      <th>Ethnorace</th>\n",
       "      <th>Veteran</th>\n",
       "      <th>C1LivingSituationId</th>\n",
       "      <th>D2EducationLevelId</th>\n",
       "      <th>D3EmploymentSituationId</th>\n",
       "      <th>...</th>\n",
       "      <th>C2AddictionStressProblemId</th>\n",
       "      <th>C4AddictionEmotionalProblemId</th>\n",
       "      <th>E1TimesArrested</th>\n",
       "      <th>E4CommitedCrime</th>\n",
       "      <th>F5aDepression</th>\n",
       "      <th>F5bAnxiety</th>\n",
       "      <th>AgeGroup</th>\n",
       "      <th>ServiceAmt sum</th>\n",
       "      <th>ServiceNum Total</th>\n",
       "      <th>treatments</th>\n",
       "    </tr>\n",
       "  </thead>\n",
       "  <tbody>\n",
       "    <tr>\n",
       "      <th>0</th>\n",
       "      <td>13.0</td>\n",
       "      <td>37640</td>\n",
       "      <td>Post</td>\n",
       "      <td>Female</td>\n",
       "      <td>Hispanic or Latino</td>\n",
       "      <td>Hispanic</td>\n",
       "      <td>unknwon</td>\n",
       "      <td>3</td>\n",
       "      <td>12</td>\n",
       "      <td>Unemployed, Not looking for work</td>\n",
       "      <td>...</td>\n",
       "      <td>5</td>\n",
       "      <td>5</td>\n",
       "      <td>1</td>\n",
       "      <td>1</td>\n",
       "      <td>30</td>\n",
       "      <td>1</td>\n",
       "      <td>Young</td>\n",
       "      <td>NaN</td>\n",
       "      <td>NaN</td>\n",
       "      <td>[Post, Intake]</td>\n",
       "    </tr>\n",
       "    <tr>\n",
       "      <th>1</th>\n",
       "      <td>12.0</td>\n",
       "      <td>37640</td>\n",
       "      <td>Intake</td>\n",
       "      <td>Female</td>\n",
       "      <td>Hispanic or Latino</td>\n",
       "      <td>Hispanic</td>\n",
       "      <td>unknwon</td>\n",
       "      <td>41</td>\n",
       "      <td>12</td>\n",
       "      <td>Unemployed, Looking for work</td>\n",
       "      <td>...</td>\n",
       "      <td>5</td>\n",
       "      <td>5</td>\n",
       "      <td>0</td>\n",
       "      <td>0</td>\n",
       "      <td>5</td>\n",
       "      <td>5</td>\n",
       "      <td>Young</td>\n",
       "      <td>0.0</td>\n",
       "      <td>0.0</td>\n",
       "      <td>[Post, Intake]</td>\n",
       "    </tr>\n",
       "    <tr>\n",
       "      <th>2</th>\n",
       "      <td>17.0</td>\n",
       "      <td>37648</td>\n",
       "      <td>Post</td>\n",
       "      <td>Female</td>\n",
       "      <td>Not Hispanic or Latino</td>\n",
       "      <td>White</td>\n",
       "      <td>unknwon</td>\n",
       "      <td>41</td>\n",
       "      <td>10</td>\n",
       "      <td>Unemployed, Not looking for work</td>\n",
       "      <td>...</td>\n",
       "      <td>4</td>\n",
       "      <td>4</td>\n",
       "      <td>0</td>\n",
       "      <td>1</td>\n",
       "      <td>30</td>\n",
       "      <td>30</td>\n",
       "      <td>Middle_aged</td>\n",
       "      <td>NaN</td>\n",
       "      <td>NaN</td>\n",
       "      <td>[Post, Intake]</td>\n",
       "    </tr>\n",
       "    <tr>\n",
       "      <th>3</th>\n",
       "      <td>16.0</td>\n",
       "      <td>37648</td>\n",
       "      <td>Intake</td>\n",
       "      <td>Female</td>\n",
       "      <td>Not Hispanic or Latino</td>\n",
       "      <td>White</td>\n",
       "      <td>unknwon</td>\n",
       "      <td>41</td>\n",
       "      <td>10</td>\n",
       "      <td>Unemployed, Looking for work</td>\n",
       "      <td>...</td>\n",
       "      <td>5</td>\n",
       "      <td>5</td>\n",
       "      <td>0</td>\n",
       "      <td>0</td>\n",
       "      <td>0</td>\n",
       "      <td>0</td>\n",
       "      <td>Middle_aged</td>\n",
       "      <td>0.0</td>\n",
       "      <td>0.0</td>\n",
       "      <td>[Post, Intake]</td>\n",
       "    </tr>\n",
       "    <tr>\n",
       "      <th>4</th>\n",
       "      <td>29.0</td>\n",
       "      <td>37690</td>\n",
       "      <td>Post</td>\n",
       "      <td>Male</td>\n",
       "      <td>Hispanic or Latino</td>\n",
       "      <td>unknwon</td>\n",
       "      <td>unknwon</td>\n",
       "      <td>41</td>\n",
       "      <td>12</td>\n",
       "      <td>Unemployed, Not looking for work</td>\n",
       "      <td>...</td>\n",
       "      <td>5</td>\n",
       "      <td>5</td>\n",
       "      <td>0</td>\n",
       "      <td>0</td>\n",
       "      <td>6</td>\n",
       "      <td>14</td>\n",
       "      <td>Young</td>\n",
       "      <td>NaN</td>\n",
       "      <td>NaN</td>\n",
       "      <td>[Post, Intake]</td>\n",
       "    </tr>\n",
       "  </tbody>\n",
       "</table>\n",
       "<p>5 rows × 22 columns</p>\n",
       "</div>"
      ],
      "text/plain": [
       "   Unnamed: 0 ClientId InterviewIntake  Gender               Ethnicity  \\\n",
       "0        13.0    37640            Post  Female      Hispanic or Latino   \n",
       "1        12.0    37640          Intake  Female      Hispanic or Latino   \n",
       "2        17.0    37648            Post  Female  Not Hispanic or Latino   \n",
       "3        16.0    37648          Intake  Female  Not Hispanic or Latino   \n",
       "4        29.0    37690            Post    Male      Hispanic or Latino   \n",
       "\n",
       "  Ethnorace  Veteran C1LivingSituationId D2EducationLevelId  \\\n",
       "0  Hispanic  unknwon                   3                 12   \n",
       "1  Hispanic  unknwon                  41                 12   \n",
       "2     White  unknwon                  41                 10   \n",
       "3     White  unknwon                  41                 10   \n",
       "4   unknwon  unknwon                  41                 12   \n",
       "\n",
       "            D3EmploymentSituationId  ... C2AddictionStressProblemId  \\\n",
       "0  Unemployed, Not looking for work  ...                          5   \n",
       "1      Unemployed, Looking for work  ...                          5   \n",
       "2  Unemployed, Not looking for work  ...                          4   \n",
       "3      Unemployed, Looking for work  ...                          5   \n",
       "4  Unemployed, Not looking for work  ...                          5   \n",
       "\n",
       "  C4AddictionEmotionalProblemId E1TimesArrested E4CommitedCrime F5aDepression  \\\n",
       "0                             5               1               1            30   \n",
       "1                             5               0               0             5   \n",
       "2                             4               0               1            30   \n",
       "3                             5               0               0             0   \n",
       "4                             5               0               0             6   \n",
       "\n",
       "  F5bAnxiety     AgeGroup ServiceAmt sum ServiceNum Total      treatments  \n",
       "0          1        Young            NaN              NaN  [Post, Intake]  \n",
       "1          5        Young            0.0              0.0  [Post, Intake]  \n",
       "2         30  Middle_aged            NaN              NaN  [Post, Intake]  \n",
       "3          0  Middle_aged            0.0              0.0  [Post, Intake]  \n",
       "4         14        Young            NaN              NaN  [Post, Intake]  \n",
       "\n",
       "[5 rows x 22 columns]"
      ]
     },
     "execution_count": 1080,
     "metadata": {},
     "output_type": "execute_result"
    }
   ],
   "source": [
    "final_SurveyDataUpdated.head()"
   ]
  },
  {
   "cell_type": "code",
   "execution_count": 1081,
   "metadata": {},
   "outputs": [
    {
     "data": {
      "text/plain": [
       "Intake    10352\n",
       "Post      10352\n",
       "Name: InterviewIntake, dtype: int64"
      ]
     },
     "execution_count": 1081,
     "metadata": {},
     "output_type": "execute_result"
    }
   ],
   "source": [
    "final_SurveyDataUpdated['InterviewIntake'].value_counts()"
   ]
  },
  {
   "cell_type": "code",
   "execution_count": 1108,
   "metadata": {},
   "outputs": [],
   "source": [
    "\n",
    "FinalData_TargetVar = final_SurveyDataUpdated.pivot('ClientId','InterviewIntake','E4CommitedCrime').add_prefix('CommitedCrime')\n",
    "\n",
    "FinalData_TargetVar['CommitedCrimeDiff'] = FinalData_TargetVar['CommitedCrimePost'].sub(FinalData_TargetVar['CommitedCrimeIntake'])\n",
    "\n",
    "FinalData_TargetVar['ServiceAmt sum'] = final_SurveyDataUpdated.drop_duplicates('ClientId').set_index('ClientId')['ServiceAmt sum']\n",
    "FinalData_TargetVar['Gender'] = final_SurveyDataUpdated.drop_duplicates('ClientId').set_index('ClientId')['Gender']\n",
    "FinalData_TargetVar['Ethnicity'] = final_SurveyDataUpdated.drop_duplicates('ClientId').set_index('ClientId')['Ethnicity']\n",
    "FinalData_TargetVar['Ethnorace'] = final_SurveyDataUpdated.drop_duplicates('ClientId').set_index('ClientId')['Ethnorace']\n",
    "FinalData_TargetVar['Veteran'] = final_SurveyDataUpdated.drop_duplicates('ClientId').set_index('ClientId')['Veteran']\n",
    "FinalData_TargetVar['AgeGroup'] = final_SurveyDataUpdated.drop_duplicates('ClientId').set_index('ClientId')['AgeGroup']\n",
    "\n",
    "FinalData_TargetVar = FinalData_TargetVar.reset_index().rename_axis(None, axis=1)"
   ]
  },
  {
   "cell_type": "code",
   "execution_count": 1109,
   "metadata": {},
   "outputs": [
    {
     "data": {
      "text/html": [
       "<div>\n",
       "<style scoped>\n",
       "    .dataframe tbody tr th:only-of-type {\n",
       "        vertical-align: middle;\n",
       "    }\n",
       "\n",
       "    .dataframe tbody tr th {\n",
       "        vertical-align: top;\n",
       "    }\n",
       "\n",
       "    .dataframe thead th {\n",
       "        text-align: right;\n",
       "    }\n",
       "</style>\n",
       "<table border=\"1\" class=\"dataframe\">\n",
       "  <thead>\n",
       "    <tr style=\"text-align: right;\">\n",
       "      <th></th>\n",
       "      <th>ClientId</th>\n",
       "      <th>CommitedCrimeIntake</th>\n",
       "      <th>CommitedCrimePost</th>\n",
       "      <th>CommitedCrimeDiff</th>\n",
       "      <th>ServiceAmt sum</th>\n",
       "      <th>Gender</th>\n",
       "      <th>Ethnicity</th>\n",
       "      <th>Ethnorace</th>\n",
       "      <th>Veteran</th>\n",
       "      <th>AgeGroup</th>\n",
       "    </tr>\n",
       "  </thead>\n",
       "  <tbody>\n",
       "    <tr>\n",
       "      <th>0</th>\n",
       "      <td>11000000030012</td>\n",
       "      <td>0</td>\n",
       "      <td>0</td>\n",
       "      <td>0</td>\n",
       "      <td>850.0</td>\n",
       "      <td>Female</td>\n",
       "      <td>Not Hispanic or Latino</td>\n",
       "      <td>White</td>\n",
       "      <td>No</td>\n",
       "      <td>Middle_aged</td>\n",
       "    </tr>\n",
       "    <tr>\n",
       "      <th>1</th>\n",
       "      <td>11000000030015</td>\n",
       "      <td>0</td>\n",
       "      <td>0</td>\n",
       "      <td>0</td>\n",
       "      <td>150.0</td>\n",
       "      <td>Male</td>\n",
       "      <td>Hispanic or Latino</td>\n",
       "      <td>unknwon</td>\n",
       "      <td>No</td>\n",
       "      <td>Middle_aged</td>\n",
       "    </tr>\n",
       "    <tr>\n",
       "      <th>2</th>\n",
       "      <td>11000000030017</td>\n",
       "      <td>0</td>\n",
       "      <td>0</td>\n",
       "      <td>0</td>\n",
       "      <td>1101.0</td>\n",
       "      <td>Female</td>\n",
       "      <td>Not Hispanic or Latino</td>\n",
       "      <td>White</td>\n",
       "      <td>No</td>\n",
       "      <td>Old</td>\n",
       "    </tr>\n",
       "    <tr>\n",
       "      <th>3</th>\n",
       "      <td>11000000030027</td>\n",
       "      <td>0</td>\n",
       "      <td>0</td>\n",
       "      <td>0</td>\n",
       "      <td>550.0</td>\n",
       "      <td>Female</td>\n",
       "      <td>Not Hispanic or Latino</td>\n",
       "      <td>unknwon</td>\n",
       "      <td>No</td>\n",
       "      <td>Middle_aged</td>\n",
       "    </tr>\n",
       "    <tr>\n",
       "      <th>4</th>\n",
       "      <td>11000000030029</td>\n",
       "      <td>0</td>\n",
       "      <td>NaN</td>\n",
       "      <td>NaN</td>\n",
       "      <td>0.0</td>\n",
       "      <td>Male</td>\n",
       "      <td>Hispanic or Latino</td>\n",
       "      <td>Hispanic</td>\n",
       "      <td>No</td>\n",
       "      <td>Middle_aged</td>\n",
       "    </tr>\n",
       "  </tbody>\n",
       "</table>\n",
       "</div>"
      ],
      "text/plain": [
       "         ClientId CommitedCrimeIntake CommitedCrimePost CommitedCrimeDiff  \\\n",
       "0  11000000030012                   0                 0                 0   \n",
       "1  11000000030015                   0                 0                 0   \n",
       "2  11000000030017                   0                 0                 0   \n",
       "3  11000000030027                   0                 0                 0   \n",
       "4  11000000030029                   0               NaN               NaN   \n",
       "\n",
       "   ServiceAmt sum  Gender               Ethnicity Ethnorace Veteran  \\\n",
       "0           850.0  Female  Not Hispanic or Latino     White      No   \n",
       "1           150.0    Male      Hispanic or Latino   unknwon      No   \n",
       "2          1101.0  Female  Not Hispanic or Latino     White      No   \n",
       "3           550.0  Female  Not Hispanic or Latino   unknwon      No   \n",
       "4             0.0    Male      Hispanic or Latino  Hispanic      No   \n",
       "\n",
       "      AgeGroup  \n",
       "0  Middle_aged  \n",
       "1  Middle_aged  \n",
       "2          Old  \n",
       "3  Middle_aged  \n",
       "4  Middle_aged  "
      ]
     },
     "execution_count": 1109,
     "metadata": {},
     "output_type": "execute_result"
    }
   ],
   "source": [
    "FinalData_TargetVar.head()"
   ]
  },
  {
   "cell_type": "code",
   "execution_count": 1113,
   "metadata": {},
   "outputs": [],
   "source": [
    "FinalData_TargetVar.dropna(subset = [\"CommitedCrimeDiff\"], inplace=True)\n"
   ]
  },
  {
   "cell_type": "code",
   "execution_count": 1114,
   "metadata": {
    "scrolled": false
   },
   "outputs": [
    {
     "data": {
      "text/html": [
       "<div>\n",
       "<style scoped>\n",
       "    .dataframe tbody tr th:only-of-type {\n",
       "        vertical-align: middle;\n",
       "    }\n",
       "\n",
       "    .dataframe tbody tr th {\n",
       "        vertical-align: top;\n",
       "    }\n",
       "\n",
       "    .dataframe thead th {\n",
       "        text-align: right;\n",
       "    }\n",
       "</style>\n",
       "<table border=\"1\" class=\"dataframe\">\n",
       "  <thead>\n",
       "    <tr style=\"text-align: right;\">\n",
       "      <th></th>\n",
       "      <th>ClientId</th>\n",
       "      <th>CommitedCrimeIntake</th>\n",
       "      <th>CommitedCrimePost</th>\n",
       "      <th>CommitedCrimeDiff</th>\n",
       "      <th>ServiceAmt sum</th>\n",
       "      <th>Gender</th>\n",
       "      <th>Ethnicity</th>\n",
       "      <th>Ethnorace</th>\n",
       "      <th>Veteran</th>\n",
       "      <th>AgeGroup</th>\n",
       "    </tr>\n",
       "  </thead>\n",
       "  <tbody>\n",
       "    <tr>\n",
       "      <th>0</th>\n",
       "      <td>11000000030012</td>\n",
       "      <td>0</td>\n",
       "      <td>0</td>\n",
       "      <td>0</td>\n",
       "      <td>850.0</td>\n",
       "      <td>Female</td>\n",
       "      <td>Not Hispanic or Latino</td>\n",
       "      <td>White</td>\n",
       "      <td>No</td>\n",
       "      <td>Middle_aged</td>\n",
       "    </tr>\n",
       "    <tr>\n",
       "      <th>1</th>\n",
       "      <td>11000000030015</td>\n",
       "      <td>0</td>\n",
       "      <td>0</td>\n",
       "      <td>0</td>\n",
       "      <td>150.0</td>\n",
       "      <td>Male</td>\n",
       "      <td>Hispanic or Latino</td>\n",
       "      <td>unknwon</td>\n",
       "      <td>No</td>\n",
       "      <td>Middle_aged</td>\n",
       "    </tr>\n",
       "    <tr>\n",
       "      <th>2</th>\n",
       "      <td>11000000030017</td>\n",
       "      <td>0</td>\n",
       "      <td>0</td>\n",
       "      <td>0</td>\n",
       "      <td>1101.0</td>\n",
       "      <td>Female</td>\n",
       "      <td>Not Hispanic or Latino</td>\n",
       "      <td>White</td>\n",
       "      <td>No</td>\n",
       "      <td>Old</td>\n",
       "    </tr>\n",
       "    <tr>\n",
       "      <th>3</th>\n",
       "      <td>11000000030027</td>\n",
       "      <td>0</td>\n",
       "      <td>0</td>\n",
       "      <td>0</td>\n",
       "      <td>550.0</td>\n",
       "      <td>Female</td>\n",
       "      <td>Not Hispanic or Latino</td>\n",
       "      <td>unknwon</td>\n",
       "      <td>No</td>\n",
       "      <td>Middle_aged</td>\n",
       "    </tr>\n",
       "    <tr>\n",
       "      <th>5</th>\n",
       "      <td>11000000030030</td>\n",
       "      <td>0</td>\n",
       "      <td>0</td>\n",
       "      <td>0</td>\n",
       "      <td>850.0</td>\n",
       "      <td>Female</td>\n",
       "      <td>Hispanic or Latino</td>\n",
       "      <td>unknwon</td>\n",
       "      <td>No</td>\n",
       "      <td>Middle_aged</td>\n",
       "    </tr>\n",
       "  </tbody>\n",
       "</table>\n",
       "</div>"
      ],
      "text/plain": [
       "         ClientId CommitedCrimeIntake CommitedCrimePost CommitedCrimeDiff  \\\n",
       "0  11000000030012                   0                 0                 0   \n",
       "1  11000000030015                   0                 0                 0   \n",
       "2  11000000030017                   0                 0                 0   \n",
       "3  11000000030027                   0                 0                 0   \n",
       "5  11000000030030                   0                 0                 0   \n",
       "\n",
       "   ServiceAmt sum  Gender               Ethnicity Ethnorace Veteran  \\\n",
       "0           850.0  Female  Not Hispanic or Latino     White      No   \n",
       "1           150.0    Male      Hispanic or Latino   unknwon      No   \n",
       "2          1101.0  Female  Not Hispanic or Latino     White      No   \n",
       "3           550.0  Female  Not Hispanic or Latino   unknwon      No   \n",
       "5           850.0  Female      Hispanic or Latino   unknwon      No   \n",
       "\n",
       "      AgeGroup  \n",
       "0  Middle_aged  \n",
       "1  Middle_aged  \n",
       "2          Old  \n",
       "3  Middle_aged  \n",
       "5  Middle_aged  "
      ]
     },
     "execution_count": 1114,
     "metadata": {},
     "output_type": "execute_result"
    }
   ],
   "source": [
    "FinalData_TargetVar.head()"
   ]
  },
  {
   "cell_type": "code",
   "execution_count": 1124,
   "metadata": {},
   "outputs": [
    {
     "data": {
      "text/html": [
       "<div>\n",
       "<style scoped>\n",
       "    .dataframe tbody tr th:only-of-type {\n",
       "        vertical-align: middle;\n",
       "    }\n",
       "\n",
       "    .dataframe tbody tr th {\n",
       "        vertical-align: top;\n",
       "    }\n",
       "\n",
       "    .dataframe thead th {\n",
       "        text-align: right;\n",
       "    }\n",
       "</style>\n",
       "<table border=\"1\" class=\"dataframe\">\n",
       "  <thead>\n",
       "    <tr style=\"text-align: right;\">\n",
       "      <th></th>\n",
       "      <th>ClientId</th>\n",
       "      <th>CommitedCrimeIntake</th>\n",
       "      <th>CommitedCrimePost</th>\n",
       "      <th>CommitedCrimeDiff</th>\n",
       "      <th>ServiceAmt sum</th>\n",
       "      <th>Gender</th>\n",
       "      <th>Ethnicity</th>\n",
       "      <th>Ethnorace</th>\n",
       "      <th>Veteran</th>\n",
       "      <th>AgeGroup</th>\n",
       "    </tr>\n",
       "  </thead>\n",
       "  <tbody>\n",
       "    <tr>\n",
       "      <th>1853</th>\n",
       "      <td>17000000030337</td>\n",
       "      <td>31</td>\n",
       "      <td>0</td>\n",
       "      <td>-31</td>\n",
       "      <td>1768.0</td>\n",
       "      <td>Male</td>\n",
       "      <td>Hispanic or Latino</td>\n",
       "      <td>unknwon</td>\n",
       "      <td>No</td>\n",
       "      <td>Middle_aged</td>\n",
       "    </tr>\n",
       "    <tr>\n",
       "      <th>2047</th>\n",
       "      <td>17000000031270</td>\n",
       "      <td>50</td>\n",
       "      <td>0</td>\n",
       "      <td>-50</td>\n",
       "      <td>875.0</td>\n",
       "      <td>Female</td>\n",
       "      <td>Not Hispanic or Latino</td>\n",
       "      <td>White</td>\n",
       "      <td>No</td>\n",
       "      <td>Middle_aged</td>\n",
       "    </tr>\n",
       "    <tr>\n",
       "      <th>2085</th>\n",
       "      <td>17000000031437</td>\n",
       "      <td>31</td>\n",
       "      <td>0</td>\n",
       "      <td>-31</td>\n",
       "      <td>1029.0</td>\n",
       "      <td>Female</td>\n",
       "      <td>Hispanic or Latino</td>\n",
       "      <td>Hispanic</td>\n",
       "      <td>No</td>\n",
       "      <td>Middle_aged</td>\n",
       "    </tr>\n",
       "    <tr>\n",
       "      <th>2187</th>\n",
       "      <td>17000000031909</td>\n",
       "      <td>61</td>\n",
       "      <td>0</td>\n",
       "      <td>-61</td>\n",
       "      <td>384.0</td>\n",
       "      <td>Male</td>\n",
       "      <td>Hispanic or Latino</td>\n",
       "      <td>unknwon</td>\n",
       "      <td>No</td>\n",
       "      <td>Young</td>\n",
       "    </tr>\n",
       "    <tr>\n",
       "      <th>2300</th>\n",
       "      <td>17000000032497</td>\n",
       "      <td>31</td>\n",
       "      <td>0</td>\n",
       "      <td>-31</td>\n",
       "      <td>388.0</td>\n",
       "      <td>Female</td>\n",
       "      <td>Not Hispanic or Latino</td>\n",
       "      <td>Native American or Alaskan Native</td>\n",
       "      <td>No</td>\n",
       "      <td>Middle_aged</td>\n",
       "    </tr>\n",
       "    <tr>\n",
       "      <th>2449</th>\n",
       "      <td>17000000033192</td>\n",
       "      <td>32</td>\n",
       "      <td>0</td>\n",
       "      <td>-32</td>\n",
       "      <td>1135.0</td>\n",
       "      <td>Female</td>\n",
       "      <td>Not Hispanic or Latino</td>\n",
       "      <td>White</td>\n",
       "      <td>No</td>\n",
       "      <td>Young</td>\n",
       "    </tr>\n",
       "    <tr>\n",
       "      <th>2595</th>\n",
       "      <td>17000000033811</td>\n",
       "      <td>40</td>\n",
       "      <td>0</td>\n",
       "      <td>-40</td>\n",
       "      <td>73.0</td>\n",
       "      <td>Male</td>\n",
       "      <td>Not Hispanic or Latino</td>\n",
       "      <td>White</td>\n",
       "      <td>No</td>\n",
       "      <td>Middle_aged</td>\n",
       "    </tr>\n",
       "    <tr>\n",
       "      <th>2682</th>\n",
       "      <td>17000000034133</td>\n",
       "      <td>120</td>\n",
       "      <td>0</td>\n",
       "      <td>-120</td>\n",
       "      <td>1401.0</td>\n",
       "      <td>Female</td>\n",
       "      <td>Not Hispanic or Latino</td>\n",
       "      <td>Black or African American</td>\n",
       "      <td>No</td>\n",
       "      <td>Middle_aged</td>\n",
       "    </tr>\n",
       "    <tr>\n",
       "      <th>2781</th>\n",
       "      <td>17000000034549</td>\n",
       "      <td>31</td>\n",
       "      <td>0</td>\n",
       "      <td>-31</td>\n",
       "      <td>1164.0</td>\n",
       "      <td>Male</td>\n",
       "      <td>Hispanic or Latino</td>\n",
       "      <td>Hispanic</td>\n",
       "      <td>No</td>\n",
       "      <td>Middle_aged</td>\n",
       "    </tr>\n",
       "    <tr>\n",
       "      <th>2905</th>\n",
       "      <td>17000000035209</td>\n",
       "      <td>48</td>\n",
       "      <td>0</td>\n",
       "      <td>-48</td>\n",
       "      <td>730.0</td>\n",
       "      <td>Female</td>\n",
       "      <td>Not Hispanic or Latino</td>\n",
       "      <td>Black or African American</td>\n",
       "      <td>unknwon</td>\n",
       "      <td>Middle_aged</td>\n",
       "    </tr>\n",
       "    <tr>\n",
       "      <th>2940</th>\n",
       "      <td>17000000035395</td>\n",
       "      <td>46</td>\n",
       "      <td>0</td>\n",
       "      <td>-46</td>\n",
       "      <td>814.0</td>\n",
       "      <td>Female</td>\n",
       "      <td>Not Hispanic or Latino</td>\n",
       "      <td>Native American or Alaskan Native</td>\n",
       "      <td>unknwon</td>\n",
       "      <td>Middle_aged</td>\n",
       "    </tr>\n",
       "    <tr>\n",
       "      <th>3007</th>\n",
       "      <td>17000000035752</td>\n",
       "      <td>31</td>\n",
       "      <td>0</td>\n",
       "      <td>-31</td>\n",
       "      <td>1438.0</td>\n",
       "      <td>Female</td>\n",
       "      <td>Not Hispanic or Latino</td>\n",
       "      <td>White</td>\n",
       "      <td>unknwon</td>\n",
       "      <td>Middle_aged</td>\n",
       "    </tr>\n",
       "    <tr>\n",
       "      <th>3010</th>\n",
       "      <td>17000000035769</td>\n",
       "      <td>34</td>\n",
       "      <td>0</td>\n",
       "      <td>-34</td>\n",
       "      <td>793.0</td>\n",
       "      <td>Female</td>\n",
       "      <td>Hispanic or Latino</td>\n",
       "      <td>unknwon</td>\n",
       "      <td>unknwon</td>\n",
       "      <td>Middle_aged</td>\n",
       "    </tr>\n",
       "    <tr>\n",
       "      <th>4576</th>\n",
       "      <td>24000000036353</td>\n",
       "      <td>60</td>\n",
       "      <td>0</td>\n",
       "      <td>-60</td>\n",
       "      <td>282.0</td>\n",
       "      <td>Male</td>\n",
       "      <td>Not Hispanic or Latino</td>\n",
       "      <td>White</td>\n",
       "      <td>unknwon</td>\n",
       "      <td>Young</td>\n",
       "    </tr>\n",
       "    <tr>\n",
       "      <th>9124</th>\n",
       "      <td>9000000030369</td>\n",
       "      <td>31</td>\n",
       "      <td>0</td>\n",
       "      <td>-31</td>\n",
       "      <td>292.0</td>\n",
       "      <td>Male</td>\n",
       "      <td>Hispanic or Latino</td>\n",
       "      <td>unknwon</td>\n",
       "      <td>No</td>\n",
       "      <td>Middle_aged</td>\n",
       "    </tr>\n",
       "    <tr>\n",
       "      <th>9211</th>\n",
       "      <td>9000000031173</td>\n",
       "      <td>60</td>\n",
       "      <td>0</td>\n",
       "      <td>-60</td>\n",
       "      <td>942.0</td>\n",
       "      <td>Male</td>\n",
       "      <td>Hispanic or Latino</td>\n",
       "      <td>Multi Cultural</td>\n",
       "      <td>No</td>\n",
       "      <td>Middle_aged</td>\n",
       "    </tr>\n",
       "    <tr>\n",
       "      <th>9242</th>\n",
       "      <td>9000000031371</td>\n",
       "      <td>40</td>\n",
       "      <td>0</td>\n",
       "      <td>-40</td>\n",
       "      <td>116.0</td>\n",
       "      <td>Male</td>\n",
       "      <td>Hispanic or Latino</td>\n",
       "      <td>unknwon</td>\n",
       "      <td>No</td>\n",
       "      <td>Middle_aged</td>\n",
       "    </tr>\n",
       "    <tr>\n",
       "      <th>9284</th>\n",
       "      <td>9000000031835</td>\n",
       "      <td>42</td>\n",
       "      <td>0</td>\n",
       "      <td>-42</td>\n",
       "      <td>383.0</td>\n",
       "      <td>Male</td>\n",
       "      <td>Not Hispanic or Latino</td>\n",
       "      <td>Black or African American</td>\n",
       "      <td>No</td>\n",
       "      <td>Middle_aged</td>\n",
       "    </tr>\n",
       "    <tr>\n",
       "      <th>9475</th>\n",
       "      <td>9000000033607</td>\n",
       "      <td>60</td>\n",
       "      <td>0</td>\n",
       "      <td>-60</td>\n",
       "      <td>64.0</td>\n",
       "      <td>Male</td>\n",
       "      <td>Hispanic or Latino</td>\n",
       "      <td>unknwon</td>\n",
       "      <td>No</td>\n",
       "      <td>Middle_aged</td>\n",
       "    </tr>\n",
       "    <tr>\n",
       "      <th>9603</th>\n",
       "      <td>9000000034837</td>\n",
       "      <td>32</td>\n",
       "      <td>0</td>\n",
       "      <td>-32</td>\n",
       "      <td>85.0</td>\n",
       "      <td>Male</td>\n",
       "      <td>Hispanic or Latino</td>\n",
       "      <td>unknwon</td>\n",
       "      <td>unknwon</td>\n",
       "      <td>Young</td>\n",
       "    </tr>\n",
       "    <tr>\n",
       "      <th>9696</th>\n",
       "      <td>9000000035852</td>\n",
       "      <td>40</td>\n",
       "      <td>0</td>\n",
       "      <td>-40</td>\n",
       "      <td>421.0</td>\n",
       "      <td>Male</td>\n",
       "      <td>Not Hispanic or Latino</td>\n",
       "      <td>White</td>\n",
       "      <td>unknwon</td>\n",
       "      <td>Middle_aged</td>\n",
       "    </tr>\n",
       "    <tr>\n",
       "      <th>9764</th>\n",
       "      <td>9000000036525</td>\n",
       "      <td>90</td>\n",
       "      <td>0</td>\n",
       "      <td>-90</td>\n",
       "      <td>60.0</td>\n",
       "      <td>Female</td>\n",
       "      <td>Hispanic or Latino</td>\n",
       "      <td>unknwon</td>\n",
       "      <td>unknwon</td>\n",
       "      <td>Middle_aged</td>\n",
       "    </tr>\n",
       "  </tbody>\n",
       "</table>\n",
       "</div>"
      ],
      "text/plain": [
       "            ClientId CommitedCrimeIntake CommitedCrimePost CommitedCrimeDiff  \\\n",
       "1853  17000000030337                  31                 0               -31   \n",
       "2047  17000000031270                  50                 0               -50   \n",
       "2085  17000000031437                  31                 0               -31   \n",
       "2187  17000000031909                  61                 0               -61   \n",
       "2300  17000000032497                  31                 0               -31   \n",
       "2449  17000000033192                  32                 0               -32   \n",
       "2595  17000000033811                  40                 0               -40   \n",
       "2682  17000000034133                 120                 0              -120   \n",
       "2781  17000000034549                  31                 0               -31   \n",
       "2905  17000000035209                  48                 0               -48   \n",
       "2940  17000000035395                  46                 0               -46   \n",
       "3007  17000000035752                  31                 0               -31   \n",
       "3010  17000000035769                  34                 0               -34   \n",
       "4576  24000000036353                  60                 0               -60   \n",
       "9124   9000000030369                  31                 0               -31   \n",
       "9211   9000000031173                  60                 0               -60   \n",
       "9242   9000000031371                  40                 0               -40   \n",
       "9284   9000000031835                  42                 0               -42   \n",
       "9475   9000000033607                  60                 0               -60   \n",
       "9603   9000000034837                  32                 0               -32   \n",
       "9696   9000000035852                  40                 0               -40   \n",
       "9764   9000000036525                  90                 0               -90   \n",
       "\n",
       "      ServiceAmt sum  Gender               Ethnicity  \\\n",
       "1853          1768.0    Male      Hispanic or Latino   \n",
       "2047           875.0  Female  Not Hispanic or Latino   \n",
       "2085          1029.0  Female      Hispanic or Latino   \n",
       "2187           384.0    Male      Hispanic or Latino   \n",
       "2300           388.0  Female  Not Hispanic or Latino   \n",
       "2449          1135.0  Female  Not Hispanic or Latino   \n",
       "2595            73.0    Male  Not Hispanic or Latino   \n",
       "2682          1401.0  Female  Not Hispanic or Latino   \n",
       "2781          1164.0    Male      Hispanic or Latino   \n",
       "2905           730.0  Female  Not Hispanic or Latino   \n",
       "2940           814.0  Female  Not Hispanic or Latino   \n",
       "3007          1438.0  Female  Not Hispanic or Latino   \n",
       "3010           793.0  Female      Hispanic or Latino   \n",
       "4576           282.0    Male  Not Hispanic or Latino   \n",
       "9124           292.0    Male      Hispanic or Latino   \n",
       "9211           942.0    Male      Hispanic or Latino   \n",
       "9242           116.0    Male      Hispanic or Latino   \n",
       "9284           383.0    Male  Not Hispanic or Latino   \n",
       "9475            64.0    Male      Hispanic or Latino   \n",
       "9603            85.0    Male      Hispanic or Latino   \n",
       "9696           421.0    Male  Not Hispanic or Latino   \n",
       "9764            60.0  Female      Hispanic or Latino   \n",
       "\n",
       "                              Ethnorace  Veteran     AgeGroup  \n",
       "1853                            unknwon       No  Middle_aged  \n",
       "2047                              White       No  Middle_aged  \n",
       "2085                           Hispanic       No  Middle_aged  \n",
       "2187                            unknwon       No        Young  \n",
       "2300  Native American or Alaskan Native       No  Middle_aged  \n",
       "2449                              White       No        Young  \n",
       "2595                              White       No  Middle_aged  \n",
       "2682          Black or African American       No  Middle_aged  \n",
       "2781                           Hispanic       No  Middle_aged  \n",
       "2905          Black or African American  unknwon  Middle_aged  \n",
       "2940  Native American or Alaskan Native  unknwon  Middle_aged  \n",
       "3007                              White  unknwon  Middle_aged  \n",
       "3010                            unknwon  unknwon  Middle_aged  \n",
       "4576                              White  unknwon        Young  \n",
       "9124                            unknwon       No  Middle_aged  \n",
       "9211                     Multi Cultural       No  Middle_aged  \n",
       "9242                            unknwon       No  Middle_aged  \n",
       "9284          Black or African American       No  Middle_aged  \n",
       "9475                            unknwon       No  Middle_aged  \n",
       "9603                            unknwon  unknwon        Young  \n",
       "9696                              White  unknwon  Middle_aged  \n",
       "9764                            unknwon  unknwon  Middle_aged  "
      ]
     },
     "execution_count": 1124,
     "metadata": {},
     "output_type": "execute_result"
    }
   ],
   "source": [
    "FinalData_TargetVar[FinalData_TargetVar['CommitedCrimeDiff']<-30] "
   ]
  },
  {
   "cell_type": "code",
   "execution_count": null,
   "metadata": {},
   "outputs": [],
   "source": []
  },
  {
   "cell_type": "code",
   "execution_count": 1090,
   "metadata": {},
   "outputs": [],
   "source": [
    "final_SurveyDataUpdated.dropna(subset = [\"ServiceAmt sum\"], inplace=True)"
   ]
  },
  {
   "cell_type": "code",
   "execution_count": 1104,
   "metadata": {},
   "outputs": [],
   "source": [
    "final_SurveyDataUpdated1 = pd.merge(final_SurveyDataUpdated, df4try, how='inner', on = 'ClientId')\n"
   ]
  },
  {
   "cell_type": "code",
   "execution_count": 1105,
   "metadata": {},
   "outputs": [
    {
     "data": {
      "text/plain": [
       "Intake    8153\n",
       "Post      8153\n",
       "Name: InterviewIntake, dtype: int64"
      ]
     },
     "execution_count": 1105,
     "metadata": {},
     "output_type": "execute_result"
    }
   ],
   "source": [
    "final_SurveyDataUpdated1['InterviewIntake'].value_counts()"
   ]
  },
  {
   "cell_type": "code",
   "execution_count": 1106,
   "metadata": {},
   "outputs": [],
   "source": [
    "final_SurveyData_lastUpdate=  final_SurveyDataUpdated1.drop(['C1LivingSituationId','D2EducationLevelId','B1aAlcohol','C2AddictionStressProblemId', 'C4AddictionEmotionalProblemId','E1TimesArrested','F5aDepression','F5bAnxiety'], axis=1)"
   ]
  },
  {
   "cell_type": "code",
   "execution_count": 1123,
   "metadata": {},
   "outputs": [
    {
     "data": {
      "text/html": [
       "<div>\n",
       "<style scoped>\n",
       "    .dataframe tbody tr th:only-of-type {\n",
       "        vertical-align: middle;\n",
       "    }\n",
       "\n",
       "    .dataframe tbody tr th {\n",
       "        vertical-align: top;\n",
       "    }\n",
       "\n",
       "    .dataframe thead th {\n",
       "        text-align: right;\n",
       "    }\n",
       "</style>\n",
       "<table border=\"1\" class=\"dataframe\">\n",
       "  <thead>\n",
       "    <tr style=\"text-align: right;\">\n",
       "      <th></th>\n",
       "      <th>Unnamed: 0</th>\n",
       "      <th>ClientId</th>\n",
       "      <th>InterviewIntake</th>\n",
       "      <th>Gender</th>\n",
       "      <th>Ethnicity</th>\n",
       "      <th>Ethnorace</th>\n",
       "      <th>Veteran</th>\n",
       "      <th>D3EmploymentSituationId</th>\n",
       "      <th>B1cIllegalDrugs</th>\n",
       "      <th>E4CommitedCrime</th>\n",
       "      <th>AgeGroup</th>\n",
       "      <th>ServiceAmt sum</th>\n",
       "      <th>ServiceNum Total</th>\n",
       "      <th>treatments_x</th>\n",
       "      <th>treatments_y</th>\n",
       "    </tr>\n",
       "  </thead>\n",
       "  <tbody>\n",
       "    <tr>\n",
       "      <th>0</th>\n",
       "      <td>113.0</td>\n",
       "      <td>37914</td>\n",
       "      <td>Post</td>\n",
       "      <td>Female</td>\n",
       "      <td>Not Hispanic or Latino</td>\n",
       "      <td>White</td>\n",
       "      <td>unknwon</td>\n",
       "      <td>Employed</td>\n",
       "      <td>0</td>\n",
       "      <td>0</td>\n",
       "      <td>Middle_aged</td>\n",
       "      <td>1857.0</td>\n",
       "      <td>38.0</td>\n",
       "      <td>[Post, Intake]</td>\n",
       "      <td>[Post, Intake]</td>\n",
       "    </tr>\n",
       "    <tr>\n",
       "      <th>1</th>\n",
       "      <td>111.0</td>\n",
       "      <td>37914</td>\n",
       "      <td>Intake</td>\n",
       "      <td>Female</td>\n",
       "      <td>Not Hispanic or Latino</td>\n",
       "      <td>White</td>\n",
       "      <td>unknwon</td>\n",
       "      <td>Employed</td>\n",
       "      <td>0</td>\n",
       "      <td>0</td>\n",
       "      <td>Middle_aged</td>\n",
       "      <td>0.0</td>\n",
       "      <td>0.0</td>\n",
       "      <td>[Post, Intake]</td>\n",
       "      <td>[Post, Intake]</td>\n",
       "    </tr>\n",
       "    <tr>\n",
       "      <th>2</th>\n",
       "      <td>160.0</td>\n",
       "      <td>38022</td>\n",
       "      <td>Post</td>\n",
       "      <td>Female</td>\n",
       "      <td>Not Hispanic or Latino</td>\n",
       "      <td>White</td>\n",
       "      <td>unknwon</td>\n",
       "      <td>Employed</td>\n",
       "      <td>0</td>\n",
       "      <td>0</td>\n",
       "      <td>Middle_aged</td>\n",
       "      <td>830.0</td>\n",
       "      <td>15.0</td>\n",
       "      <td>[Post, Intake]</td>\n",
       "      <td>[Post, Intake]</td>\n",
       "    </tr>\n",
       "    <tr>\n",
       "      <th>3</th>\n",
       "      <td>157.0</td>\n",
       "      <td>38022</td>\n",
       "      <td>Intake</td>\n",
       "      <td>Female</td>\n",
       "      <td>Not Hispanic or Latino</td>\n",
       "      <td>White</td>\n",
       "      <td>unknwon</td>\n",
       "      <td>Unemployed, Not looking for work</td>\n",
       "      <td>0</td>\n",
       "      <td>0</td>\n",
       "      <td>Middle_aged</td>\n",
       "      <td>0.0</td>\n",
       "      <td>0.0</td>\n",
       "      <td>[Post, Intake]</td>\n",
       "      <td>[Post, Intake]</td>\n",
       "    </tr>\n",
       "    <tr>\n",
       "      <th>4</th>\n",
       "      <td>173.0</td>\n",
       "      <td>38047</td>\n",
       "      <td>Post</td>\n",
       "      <td>Female</td>\n",
       "      <td>Not Hispanic or Latino</td>\n",
       "      <td>White</td>\n",
       "      <td>unknwon</td>\n",
       "      <td>Unemployed, Not looking for work</td>\n",
       "      <td>0</td>\n",
       "      <td>0</td>\n",
       "      <td>Middle_aged</td>\n",
       "      <td>430.0</td>\n",
       "      <td>8.0</td>\n",
       "      <td>[Post, Intake]</td>\n",
       "      <td>[Post, Intake]</td>\n",
       "    </tr>\n",
       "  </tbody>\n",
       "</table>\n",
       "</div>"
      ],
      "text/plain": [
       "   Unnamed: 0 ClientId InterviewIntake  Gender               Ethnicity  \\\n",
       "0       113.0    37914            Post  Female  Not Hispanic or Latino   \n",
       "1       111.0    37914          Intake  Female  Not Hispanic or Latino   \n",
       "2       160.0    38022            Post  Female  Not Hispanic or Latino   \n",
       "3       157.0    38022          Intake  Female  Not Hispanic or Latino   \n",
       "4       173.0    38047            Post  Female  Not Hispanic or Latino   \n",
       "\n",
       "  Ethnorace  Veteran           D3EmploymentSituationId B1cIllegalDrugs  \\\n",
       "0     White  unknwon                          Employed               0   \n",
       "1     White  unknwon                          Employed               0   \n",
       "2     White  unknwon                          Employed               0   \n",
       "3     White  unknwon  Unemployed, Not looking for work               0   \n",
       "4     White  unknwon  Unemployed, Not looking for work               0   \n",
       "\n",
       "  E4CommitedCrime     AgeGroup  ServiceAmt sum  ServiceNum Total  \\\n",
       "0               0  Middle_aged          1857.0              38.0   \n",
       "1               0  Middle_aged             0.0               0.0   \n",
       "2               0  Middle_aged           830.0              15.0   \n",
       "3               0  Middle_aged             0.0               0.0   \n",
       "4               0  Middle_aged           430.0               8.0   \n",
       "\n",
       "     treatments_x    treatments_y  \n",
       "0  [Post, Intake]  [Post, Intake]  \n",
       "1  [Post, Intake]  [Post, Intake]  \n",
       "2  [Post, Intake]  [Post, Intake]  \n",
       "3  [Post, Intake]  [Post, Intake]  \n",
       "4  [Post, Intake]  [Post, Intake]  "
      ]
     },
     "execution_count": 1123,
     "metadata": {},
     "output_type": "execute_result"
    }
   ],
   "source": [
    "final_SurveyData_lastUpdate.head()"
   ]
  },
  {
   "cell_type": "code",
   "execution_count": 1107,
   "metadata": {},
   "outputs": [],
   "source": [
    "final_SurveyData_lastUpdate.to_csv('final_SurveyData_lastUpdate.csv')"
   ]
  },
  {
   "cell_type": "code",
   "execution_count": null,
   "metadata": {},
   "outputs": [],
   "source": []
  },
  {
   "cell_type": "code",
   "execution_count": 1091,
   "metadata": {},
   "outputs": [],
   "source": [
    "Employment_varData2=  final_SurveyDataUpdated.drop(['C1LivingSituationId','D2EducationLevelId','E4CommitedCrime','B1aAlcohol','B1cIllegalDrugs','C2AddictionStressProblemId', 'C4AddictionEmotionalProblemId','E1TimesArrested','F5aDepression','F5bAnxiety'], axis=1)"
   ]
  },
  {
   "cell_type": "code",
   "execution_count": 1093,
   "metadata": {},
   "outputs": [
    {
     "data": {
      "text/html": [
       "<div>\n",
       "<style scoped>\n",
       "    .dataframe tbody tr th:only-of-type {\n",
       "        vertical-align: middle;\n",
       "    }\n",
       "\n",
       "    .dataframe tbody tr th {\n",
       "        vertical-align: top;\n",
       "    }\n",
       "\n",
       "    .dataframe thead th {\n",
       "        text-align: right;\n",
       "    }\n",
       "</style>\n",
       "<table border=\"1\" class=\"dataframe\">\n",
       "  <thead>\n",
       "    <tr style=\"text-align: right;\">\n",
       "      <th></th>\n",
       "      <th>Unnamed: 0</th>\n",
       "      <th>ClientId</th>\n",
       "      <th>InterviewIntake</th>\n",
       "      <th>Gender</th>\n",
       "      <th>Ethnicity</th>\n",
       "      <th>Ethnorace</th>\n",
       "      <th>Veteran</th>\n",
       "      <th>D3EmploymentSituationId</th>\n",
       "      <th>AgeGroup</th>\n",
       "      <th>ServiceAmt sum</th>\n",
       "      <th>ServiceNum Total</th>\n",
       "      <th>treatments</th>\n",
       "    </tr>\n",
       "  </thead>\n",
       "  <tbody>\n",
       "    <tr>\n",
       "      <th>1</th>\n",
       "      <td>12.0</td>\n",
       "      <td>37640</td>\n",
       "      <td>Intake</td>\n",
       "      <td>Female</td>\n",
       "      <td>Hispanic or Latino</td>\n",
       "      <td>Hispanic</td>\n",
       "      <td>unknwon</td>\n",
       "      <td>Unemployed, Looking for work</td>\n",
       "      <td>Young</td>\n",
       "      <td>0.0</td>\n",
       "      <td>0.0</td>\n",
       "      <td>[Post, Intake]</td>\n",
       "    </tr>\n",
       "    <tr>\n",
       "      <th>3</th>\n",
       "      <td>16.0</td>\n",
       "      <td>37648</td>\n",
       "      <td>Intake</td>\n",
       "      <td>Female</td>\n",
       "      <td>Not Hispanic or Latino</td>\n",
       "      <td>White</td>\n",
       "      <td>unknwon</td>\n",
       "      <td>Unemployed, Looking for work</td>\n",
       "      <td>Middle_aged</td>\n",
       "      <td>0.0</td>\n",
       "      <td>0.0</td>\n",
       "      <td>[Post, Intake]</td>\n",
       "    </tr>\n",
       "    <tr>\n",
       "      <th>5</th>\n",
       "      <td>26.0</td>\n",
       "      <td>37690</td>\n",
       "      <td>Intake</td>\n",
       "      <td>Male</td>\n",
       "      <td>Hispanic or Latino</td>\n",
       "      <td>unknwon</td>\n",
       "      <td>unknwon</td>\n",
       "      <td>Unemployed, Not looking for work</td>\n",
       "      <td>Young</td>\n",
       "      <td>0.0</td>\n",
       "      <td>0.0</td>\n",
       "      <td>[Post, Intake]</td>\n",
       "    </tr>\n",
       "    <tr>\n",
       "      <th>7</th>\n",
       "      <td>30.0</td>\n",
       "      <td>37692</td>\n",
       "      <td>Intake</td>\n",
       "      <td>Female</td>\n",
       "      <td>Hispanic or Latino</td>\n",
       "      <td>unknwon</td>\n",
       "      <td>unknwon</td>\n",
       "      <td>Unemployed, Not looking for work</td>\n",
       "      <td>Old</td>\n",
       "      <td>0.0</td>\n",
       "      <td>0.0</td>\n",
       "      <td>[Post, Intake]</td>\n",
       "    </tr>\n",
       "    <tr>\n",
       "      <th>9</th>\n",
       "      <td>33.0</td>\n",
       "      <td>37706</td>\n",
       "      <td>Intake</td>\n",
       "      <td>Female</td>\n",
       "      <td>Not Hispanic or Latino</td>\n",
       "      <td>Asian</td>\n",
       "      <td>unknwon</td>\n",
       "      <td>Employed</td>\n",
       "      <td>Middle_aged</td>\n",
       "      <td>0.0</td>\n",
       "      <td>0.0</td>\n",
       "      <td>[Post, Intake]</td>\n",
       "    </tr>\n",
       "  </tbody>\n",
       "</table>\n",
       "</div>"
      ],
      "text/plain": [
       "   Unnamed: 0 ClientId InterviewIntake  Gender               Ethnicity  \\\n",
       "1        12.0    37640          Intake  Female      Hispanic or Latino   \n",
       "3        16.0    37648          Intake  Female  Not Hispanic or Latino   \n",
       "5        26.0    37690          Intake    Male      Hispanic or Latino   \n",
       "7        30.0    37692          Intake  Female      Hispanic or Latino   \n",
       "9        33.0    37706          Intake  Female  Not Hispanic or Latino   \n",
       "\n",
       "  Ethnorace  Veteran           D3EmploymentSituationId     AgeGroup  \\\n",
       "1  Hispanic  unknwon      Unemployed, Looking for work        Young   \n",
       "3     White  unknwon      Unemployed, Looking for work  Middle_aged   \n",
       "5   unknwon  unknwon  Unemployed, Not looking for work        Young   \n",
       "7   unknwon  unknwon  Unemployed, Not looking for work          Old   \n",
       "9     Asian  unknwon                          Employed  Middle_aged   \n",
       "\n",
       "   ServiceAmt sum  ServiceNum Total      treatments  \n",
       "1             0.0               0.0  [Post, Intake]  \n",
       "3             0.0               0.0  [Post, Intake]  \n",
       "5             0.0               0.0  [Post, Intake]  \n",
       "7             0.0               0.0  [Post, Intake]  \n",
       "9             0.0               0.0  [Post, Intake]  "
      ]
     },
     "execution_count": 1093,
     "metadata": {},
     "output_type": "execute_result"
    }
   ],
   "source": [
    "Employment_varData2.head()"
   ]
  },
  {
   "cell_type": "code",
   "execution_count": null,
   "metadata": {},
   "outputs": [],
   "source": []
  },
  {
   "cell_type": "code",
   "execution_count": 1099,
   "metadata": {},
   "outputs": [],
   "source": [
    "Employment_varData3 = pd.merge(Employment_varData2, df4try, how='inner', on = 'ClientId')\n"
   ]
  },
  {
   "cell_type": "code",
   "execution_count": 1100,
   "metadata": {},
   "outputs": [
    {
     "data": {
      "text/plain": [
       "Intake    8153\n",
       "Post      8153\n",
       "Name: InterviewIntake, dtype: int64"
      ]
     },
     "execution_count": 1100,
     "metadata": {},
     "output_type": "execute_result"
    }
   ],
   "source": [
    "Employment_varData3['InterviewIntake'].value_counts()"
   ]
  },
  {
   "cell_type": "code",
   "execution_count": 1102,
   "metadata": {
    "scrolled": true
   },
   "outputs": [
    {
     "data": {
      "text/html": [
       "<div>\n",
       "<style scoped>\n",
       "    .dataframe tbody tr th:only-of-type {\n",
       "        vertical-align: middle;\n",
       "    }\n",
       "\n",
       "    .dataframe tbody tr th {\n",
       "        vertical-align: top;\n",
       "    }\n",
       "\n",
       "    .dataframe thead th {\n",
       "        text-align: right;\n",
       "    }\n",
       "</style>\n",
       "<table border=\"1\" class=\"dataframe\">\n",
       "  <thead>\n",
       "    <tr style=\"text-align: right;\">\n",
       "      <th></th>\n",
       "      <th>Unnamed: 0</th>\n",
       "      <th>ClientId</th>\n",
       "      <th>InterviewIntake</th>\n",
       "      <th>Gender</th>\n",
       "      <th>Ethnicity</th>\n",
       "      <th>Ethnorace</th>\n",
       "      <th>Veteran</th>\n",
       "      <th>D3EmploymentSituationId</th>\n",
       "      <th>AgeGroup</th>\n",
       "      <th>ServiceAmt sum</th>\n",
       "      <th>ServiceNum Total</th>\n",
       "      <th>treatments_x</th>\n",
       "      <th>treatments_y</th>\n",
       "    </tr>\n",
       "  </thead>\n",
       "  <tbody>\n",
       "    <tr>\n",
       "      <th>0</th>\n",
       "      <td>113.0</td>\n",
       "      <td>37914</td>\n",
       "      <td>Post</td>\n",
       "      <td>Female</td>\n",
       "      <td>Not Hispanic or Latino</td>\n",
       "      <td>White</td>\n",
       "      <td>unknwon</td>\n",
       "      <td>Employed</td>\n",
       "      <td>Middle_aged</td>\n",
       "      <td>1857.0</td>\n",
       "      <td>38.0</td>\n",
       "      <td>[Post, Intake]</td>\n",
       "      <td>[Post, Intake]</td>\n",
       "    </tr>\n",
       "    <tr>\n",
       "      <th>1</th>\n",
       "      <td>111.0</td>\n",
       "      <td>37914</td>\n",
       "      <td>Intake</td>\n",
       "      <td>Female</td>\n",
       "      <td>Not Hispanic or Latino</td>\n",
       "      <td>White</td>\n",
       "      <td>unknwon</td>\n",
       "      <td>Employed</td>\n",
       "      <td>Middle_aged</td>\n",
       "      <td>0.0</td>\n",
       "      <td>0.0</td>\n",
       "      <td>[Post, Intake]</td>\n",
       "      <td>[Post, Intake]</td>\n",
       "    </tr>\n",
       "    <tr>\n",
       "      <th>2</th>\n",
       "      <td>160.0</td>\n",
       "      <td>38022</td>\n",
       "      <td>Post</td>\n",
       "      <td>Female</td>\n",
       "      <td>Not Hispanic or Latino</td>\n",
       "      <td>White</td>\n",
       "      <td>unknwon</td>\n",
       "      <td>Employed</td>\n",
       "      <td>Middle_aged</td>\n",
       "      <td>830.0</td>\n",
       "      <td>15.0</td>\n",
       "      <td>[Post, Intake]</td>\n",
       "      <td>[Post, Intake]</td>\n",
       "    </tr>\n",
       "    <tr>\n",
       "      <th>3</th>\n",
       "      <td>157.0</td>\n",
       "      <td>38022</td>\n",
       "      <td>Intake</td>\n",
       "      <td>Female</td>\n",
       "      <td>Not Hispanic or Latino</td>\n",
       "      <td>White</td>\n",
       "      <td>unknwon</td>\n",
       "      <td>Unemployed, Not looking for work</td>\n",
       "      <td>Middle_aged</td>\n",
       "      <td>0.0</td>\n",
       "      <td>0.0</td>\n",
       "      <td>[Post, Intake]</td>\n",
       "      <td>[Post, Intake]</td>\n",
       "    </tr>\n",
       "    <tr>\n",
       "      <th>4</th>\n",
       "      <td>173.0</td>\n",
       "      <td>38047</td>\n",
       "      <td>Post</td>\n",
       "      <td>Female</td>\n",
       "      <td>Not Hispanic or Latino</td>\n",
       "      <td>White</td>\n",
       "      <td>unknwon</td>\n",
       "      <td>Unemployed, Not looking for work</td>\n",
       "      <td>Middle_aged</td>\n",
       "      <td>430.0</td>\n",
       "      <td>8.0</td>\n",
       "      <td>[Post, Intake]</td>\n",
       "      <td>[Post, Intake]</td>\n",
       "    </tr>\n",
       "  </tbody>\n",
       "</table>\n",
       "</div>"
      ],
      "text/plain": [
       "   Unnamed: 0 ClientId InterviewIntake  Gender               Ethnicity  \\\n",
       "0       113.0    37914            Post  Female  Not Hispanic or Latino   \n",
       "1       111.0    37914          Intake  Female  Not Hispanic or Latino   \n",
       "2       160.0    38022            Post  Female  Not Hispanic or Latino   \n",
       "3       157.0    38022          Intake  Female  Not Hispanic or Latino   \n",
       "4       173.0    38047            Post  Female  Not Hispanic or Latino   \n",
       "\n",
       "  Ethnorace  Veteran           D3EmploymentSituationId     AgeGroup  \\\n",
       "0     White  unknwon                          Employed  Middle_aged   \n",
       "1     White  unknwon                          Employed  Middle_aged   \n",
       "2     White  unknwon                          Employed  Middle_aged   \n",
       "3     White  unknwon  Unemployed, Not looking for work  Middle_aged   \n",
       "4     White  unknwon  Unemployed, Not looking for work  Middle_aged   \n",
       "\n",
       "   ServiceAmt sum  ServiceNum Total    treatments_x    treatments_y  \n",
       "0          1857.0              38.0  [Post, Intake]  [Post, Intake]  \n",
       "1             0.0               0.0  [Post, Intake]  [Post, Intake]  \n",
       "2           830.0              15.0  [Post, Intake]  [Post, Intake]  \n",
       "3             0.0               0.0  [Post, Intake]  [Post, Intake]  \n",
       "4           430.0               8.0  [Post, Intake]  [Post, Intake]  "
      ]
     },
     "execution_count": 1102,
     "metadata": {},
     "output_type": "execute_result"
    }
   ],
   "source": [
    "Employment_varData3.head()"
   ]
  },
  {
   "cell_type": "code",
   "execution_count": 1120,
   "metadata": {},
   "outputs": [],
   "source": [
    "\n",
    "NewEmployment_varData3 = Employment_varData3.pivot('ClientId','InterviewIntake','D3EmploymentSituationId').add_prefix('employmentStatus')\n",
    "\n",
    "\n",
    "NewEmployment_varData3['ServiceAmt sum'] = Employment_varData3.drop_duplicates('ClientId').set_index('ClientId')['ServiceAmt sum']\n",
    "NewEmployment_varData3['Gender'] = Employment_varData3.drop_duplicates('ClientId').set_index('ClientId')['Gender']\n",
    "NewEmployment_varData3['Ethnicity'] = Employment_varData3.drop_duplicates('ClientId').set_index('ClientId')['Ethnicity']\n",
    "NewEmployment_varData3['Ethnorace'] = Employment_varData3.drop_duplicates('ClientId').set_index('ClientId')['Ethnorace']\n",
    "NewEmployment_varData3['Veteran'] = Employment_varData3.drop_duplicates('ClientId').set_index('ClientId')['Veteran']\n",
    "NewEmployment_varData3['AgeGroup'] = Employment_varData3.drop_duplicates('ClientId').set_index('ClientId')['AgeGroup']\n",
    "\n",
    "NewEmployment_varData3 = NewEmployment_varData3.reset_index().rename_axis(None, axis=1)"
   ]
  },
  {
   "cell_type": "code",
   "execution_count": 1121,
   "metadata": {},
   "outputs": [
    {
     "data": {
      "text/html": [
       "<div>\n",
       "<style scoped>\n",
       "    .dataframe tbody tr th:only-of-type {\n",
       "        vertical-align: middle;\n",
       "    }\n",
       "\n",
       "    .dataframe tbody tr th {\n",
       "        vertical-align: top;\n",
       "    }\n",
       "\n",
       "    .dataframe thead th {\n",
       "        text-align: right;\n",
       "    }\n",
       "</style>\n",
       "<table border=\"1\" class=\"dataframe\">\n",
       "  <thead>\n",
       "    <tr style=\"text-align: right;\">\n",
       "      <th></th>\n",
       "      <th>ClientId</th>\n",
       "      <th>employmentStatusIntake</th>\n",
       "      <th>employmentStatusPost</th>\n",
       "      <th>ServiceAmt sum</th>\n",
       "      <th>Gender</th>\n",
       "      <th>Ethnicity</th>\n",
       "      <th>Ethnorace</th>\n",
       "      <th>Veteran</th>\n",
       "      <th>AgeGroup</th>\n",
       "    </tr>\n",
       "  </thead>\n",
       "  <tbody>\n",
       "    <tr>\n",
       "      <th>0</th>\n",
       "      <td>11000000030012</td>\n",
       "      <td>Employed</td>\n",
       "      <td>Employed</td>\n",
       "      <td>850.0</td>\n",
       "      <td>Female</td>\n",
       "      <td>Not Hispanic or Latino</td>\n",
       "      <td>White</td>\n",
       "      <td>No</td>\n",
       "      <td>Middle_aged</td>\n",
       "    </tr>\n",
       "    <tr>\n",
       "      <th>1</th>\n",
       "      <td>11000000030015</td>\n",
       "      <td>Unemployed, Not looking for work</td>\n",
       "      <td>Unemployed, Looking for work</td>\n",
       "      <td>150.0</td>\n",
       "      <td>Male</td>\n",
       "      <td>Hispanic or Latino</td>\n",
       "      <td>unknwon</td>\n",
       "      <td>No</td>\n",
       "      <td>Middle_aged</td>\n",
       "    </tr>\n",
       "    <tr>\n",
       "      <th>2</th>\n",
       "      <td>11000000030017</td>\n",
       "      <td>Unemployed, Looking for work</td>\n",
       "      <td>Employed</td>\n",
       "      <td>1101.0</td>\n",
       "      <td>Female</td>\n",
       "      <td>Not Hispanic or Latino</td>\n",
       "      <td>White</td>\n",
       "      <td>No</td>\n",
       "      <td>Old</td>\n",
       "    </tr>\n",
       "    <tr>\n",
       "      <th>3</th>\n",
       "      <td>11000000030027</td>\n",
       "      <td>Employed</td>\n",
       "      <td>Unemployed, Looking for work</td>\n",
       "      <td>550.0</td>\n",
       "      <td>Female</td>\n",
       "      <td>Not Hispanic or Latino</td>\n",
       "      <td>unknwon</td>\n",
       "      <td>No</td>\n",
       "      <td>Middle_aged</td>\n",
       "    </tr>\n",
       "    <tr>\n",
       "      <th>4</th>\n",
       "      <td>11000000030030</td>\n",
       "      <td>Employed</td>\n",
       "      <td>Employed</td>\n",
       "      <td>850.0</td>\n",
       "      <td>Female</td>\n",
       "      <td>Hispanic or Latino</td>\n",
       "      <td>unknwon</td>\n",
       "      <td>No</td>\n",
       "      <td>Middle_aged</td>\n",
       "    </tr>\n",
       "  </tbody>\n",
       "</table>\n",
       "</div>"
      ],
      "text/plain": [
       "         ClientId            employmentStatusIntake  \\\n",
       "0  11000000030012                          Employed   \n",
       "1  11000000030015  Unemployed, Not looking for work   \n",
       "2  11000000030017      Unemployed, Looking for work   \n",
       "3  11000000030027                          Employed   \n",
       "4  11000000030030                          Employed   \n",
       "\n",
       "           employmentStatusPost  ServiceAmt sum  Gender  \\\n",
       "0                      Employed           850.0  Female   \n",
       "1  Unemployed, Looking for work           150.0    Male   \n",
       "2                      Employed          1101.0  Female   \n",
       "3  Unemployed, Looking for work           550.0  Female   \n",
       "4                      Employed           850.0  Female   \n",
       "\n",
       "                Ethnicity Ethnorace Veteran     AgeGroup  \n",
       "0  Not Hispanic or Latino     White      No  Middle_aged  \n",
       "1      Hispanic or Latino   unknwon      No  Middle_aged  \n",
       "2  Not Hispanic or Latino     White      No          Old  \n",
       "3  Not Hispanic or Latino   unknwon      No  Middle_aged  \n",
       "4      Hispanic or Latino   unknwon      No  Middle_aged  "
      ]
     },
     "execution_count": 1121,
     "metadata": {},
     "output_type": "execute_result"
    }
   ],
   "source": [
    "NewEmployment_varData3.head()"
   ]
  },
  {
   "cell_type": "code",
   "execution_count": 1138,
   "metadata": {},
   "outputs": [],
   "source": [
    "LastEmployment_varData3 = NewEmployment_varData3[NewEmployment_varData3['employmentStatusIntake'] == 'Unemployed, Looking for work'] \n"
   ]
  },
  {
   "cell_type": "code",
   "execution_count": 1147,
   "metadata": {},
   "outputs": [],
   "source": [
    "\n",
    "Employment_varData5= Employment_varData3[Employment_varData3['ClientId'].isin(LastEmployment_varData3['ClientId'])]\n"
   ]
  },
  {
   "cell_type": "code",
   "execution_count": 1149,
   "metadata": {},
   "outputs": [
    {
     "data": {
      "text/html": [
       "<div>\n",
       "<style scoped>\n",
       "    .dataframe tbody tr th:only-of-type {\n",
       "        vertical-align: middle;\n",
       "    }\n",
       "\n",
       "    .dataframe tbody tr th {\n",
       "        vertical-align: top;\n",
       "    }\n",
       "\n",
       "    .dataframe thead th {\n",
       "        text-align: right;\n",
       "    }\n",
       "</style>\n",
       "<table border=\"1\" class=\"dataframe\">\n",
       "  <thead>\n",
       "    <tr style=\"text-align: right;\">\n",
       "      <th></th>\n",
       "      <th>Unnamed: 0</th>\n",
       "      <th>ClientId</th>\n",
       "      <th>InterviewIntake</th>\n",
       "      <th>Gender</th>\n",
       "      <th>Ethnicity</th>\n",
       "      <th>Ethnorace</th>\n",
       "      <th>Veteran</th>\n",
       "      <th>D3EmploymentSituationId</th>\n",
       "      <th>AgeGroup</th>\n",
       "      <th>ServiceAmt sum</th>\n",
       "      <th>ServiceNum Total</th>\n",
       "      <th>treatments_x</th>\n",
       "      <th>treatments_y</th>\n",
       "    </tr>\n",
       "  </thead>\n",
       "  <tbody>\n",
       "    <tr>\n",
       "      <th>4</th>\n",
       "      <td>173.0</td>\n",
       "      <td>38047</td>\n",
       "      <td>Post</td>\n",
       "      <td>Female</td>\n",
       "      <td>Not Hispanic or Latino</td>\n",
       "      <td>White</td>\n",
       "      <td>unknwon</td>\n",
       "      <td>Unemployed, Not looking for work</td>\n",
       "      <td>Middle_aged</td>\n",
       "      <td>430.0</td>\n",
       "      <td>8.0</td>\n",
       "      <td>[Post, Intake]</td>\n",
       "      <td>[Post, Intake]</td>\n",
       "    </tr>\n",
       "    <tr>\n",
       "      <th>5</th>\n",
       "      <td>170.0</td>\n",
       "      <td>38047</td>\n",
       "      <td>Intake</td>\n",
       "      <td>Female</td>\n",
       "      <td>Not Hispanic or Latino</td>\n",
       "      <td>White</td>\n",
       "      <td>unknwon</td>\n",
       "      <td>Unemployed, Looking for work</td>\n",
       "      <td>Middle_aged</td>\n",
       "      <td>0.0</td>\n",
       "      <td>0.0</td>\n",
       "      <td>[Post, Intake]</td>\n",
       "      <td>[Post, Intake]</td>\n",
       "    </tr>\n",
       "    <tr>\n",
       "      <th>10</th>\n",
       "      <td>452.0</td>\n",
       "      <td>38520</td>\n",
       "      <td>Post</td>\n",
       "      <td>Female</td>\n",
       "      <td>Not Hispanic or Latino</td>\n",
       "      <td>White</td>\n",
       "      <td>unknwon</td>\n",
       "      <td>Unemployed, Not looking for work</td>\n",
       "      <td>Young</td>\n",
       "      <td>554.0</td>\n",
       "      <td>9.0</td>\n",
       "      <td>[Post, Intake]</td>\n",
       "      <td>[Post, Intake]</td>\n",
       "    </tr>\n",
       "    <tr>\n",
       "      <th>11</th>\n",
       "      <td>449.0</td>\n",
       "      <td>38520</td>\n",
       "      <td>Intake</td>\n",
       "      <td>Female</td>\n",
       "      <td>Not Hispanic or Latino</td>\n",
       "      <td>White</td>\n",
       "      <td>unknwon</td>\n",
       "      <td>Unemployed, Looking for work</td>\n",
       "      <td>Young</td>\n",
       "      <td>0.0</td>\n",
       "      <td>0.0</td>\n",
       "      <td>[Post, Intake]</td>\n",
       "      <td>[Post, Intake]</td>\n",
       "    </tr>\n",
       "    <tr>\n",
       "      <th>12</th>\n",
       "      <td>485.0</td>\n",
       "      <td>38595</td>\n",
       "      <td>Post</td>\n",
       "      <td>Female</td>\n",
       "      <td>Not Hispanic or Latino</td>\n",
       "      <td>Black or African American</td>\n",
       "      <td>unknwon</td>\n",
       "      <td>Unemployed, Not looking for work</td>\n",
       "      <td>Middle_aged</td>\n",
       "      <td>1351.0</td>\n",
       "      <td>33.0</td>\n",
       "      <td>[Post, Intake]</td>\n",
       "      <td>[Post, Intake]</td>\n",
       "    </tr>\n",
       "  </tbody>\n",
       "</table>\n",
       "</div>"
      ],
      "text/plain": [
       "    Unnamed: 0 ClientId InterviewIntake  Gender               Ethnicity  \\\n",
       "4        173.0    38047            Post  Female  Not Hispanic or Latino   \n",
       "5        170.0    38047          Intake  Female  Not Hispanic or Latino   \n",
       "10       452.0    38520            Post  Female  Not Hispanic or Latino   \n",
       "11       449.0    38520          Intake  Female  Not Hispanic or Latino   \n",
       "12       485.0    38595            Post  Female  Not Hispanic or Latino   \n",
       "\n",
       "                    Ethnorace  Veteran           D3EmploymentSituationId  \\\n",
       "4                       White  unknwon  Unemployed, Not looking for work   \n",
       "5                       White  unknwon      Unemployed, Looking for work   \n",
       "10                      White  unknwon  Unemployed, Not looking for work   \n",
       "11                      White  unknwon      Unemployed, Looking for work   \n",
       "12  Black or African American  unknwon  Unemployed, Not looking for work   \n",
       "\n",
       "       AgeGroup  ServiceAmt sum  ServiceNum Total    treatments_x  \\\n",
       "4   Middle_aged           430.0               8.0  [Post, Intake]   \n",
       "5   Middle_aged             0.0               0.0  [Post, Intake]   \n",
       "10        Young           554.0               9.0  [Post, Intake]   \n",
       "11        Young             0.0               0.0  [Post, Intake]   \n",
       "12  Middle_aged          1351.0              33.0  [Post, Intake]   \n",
       "\n",
       "      treatments_y  \n",
       "4   [Post, Intake]  \n",
       "5   [Post, Intake]  \n",
       "10  [Post, Intake]  \n",
       "11  [Post, Intake]  \n",
       "12  [Post, Intake]  "
      ]
     },
     "execution_count": 1149,
     "metadata": {},
     "output_type": "execute_result"
    }
   ],
   "source": [
    "Employment_varData5.head()"
   ]
  },
  {
   "cell_type": "code",
   "execution_count": 1151,
   "metadata": {},
   "outputs": [
    {
     "data": {
      "text/plain": [
       "9000000037582     2\n",
       "17000000031418    2\n",
       "3000000036918     2\n",
       "25000000044127    2\n",
       "17000000041054    2\n",
       "                 ..\n",
       "9000000048028     2\n",
       "17000000036457    2\n",
       "9000000030314     2\n",
       "17000000030547    2\n",
       "3000000034529     2\n",
       "Name: ClientId, Length: 3359, dtype: int64"
      ]
     },
     "execution_count": 1151,
     "metadata": {},
     "output_type": "execute_result"
    }
   ],
   "source": [
    "Employment_varData5['ClientId'].value_counts()"
   ]
  },
  {
   "cell_type": "code",
   "execution_count": 1126,
   "metadata": {
    "scrolled": true
   },
   "outputs": [
    {
     "data": {
      "text/html": [
       "<div>\n",
       "<style scoped>\n",
       "    .dataframe tbody tr th:only-of-type {\n",
       "        vertical-align: middle;\n",
       "    }\n",
       "\n",
       "    .dataframe tbody tr th {\n",
       "        vertical-align: top;\n",
       "    }\n",
       "\n",
       "    .dataframe thead th {\n",
       "        text-align: right;\n",
       "    }\n",
       "</style>\n",
       "<table border=\"1\" class=\"dataframe\">\n",
       "  <thead>\n",
       "    <tr style=\"text-align: right;\">\n",
       "      <th></th>\n",
       "      <th>ClientId</th>\n",
       "      <th>employmentStatusIntake</th>\n",
       "      <th>employmentStatusPost</th>\n",
       "      <th>ServiceAmt sum</th>\n",
       "      <th>Gender</th>\n",
       "      <th>Ethnicity</th>\n",
       "      <th>Ethnorace</th>\n",
       "      <th>Veteran</th>\n",
       "      <th>AgeGroup</th>\n",
       "    </tr>\n",
       "  </thead>\n",
       "  <tbody>\n",
       "    <tr>\n",
       "      <th>2</th>\n",
       "      <td>11000000030017</td>\n",
       "      <td>Unemployed, Looking for work</td>\n",
       "      <td>Employed</td>\n",
       "      <td>1101.0</td>\n",
       "      <td>Female</td>\n",
       "      <td>Not Hispanic or Latino</td>\n",
       "      <td>White</td>\n",
       "      <td>No</td>\n",
       "      <td>Old</td>\n",
       "    </tr>\n",
       "    <tr>\n",
       "      <th>5</th>\n",
       "      <td>11000000030032</td>\n",
       "      <td>Unemployed, Looking for work</td>\n",
       "      <td>Unemployed, Not looking for work</td>\n",
       "      <td>150.0</td>\n",
       "      <td>Female</td>\n",
       "      <td>Hispanic or Latino</td>\n",
       "      <td>unknwon</td>\n",
       "      <td>No</td>\n",
       "      <td>Middle_aged</td>\n",
       "    </tr>\n",
       "    <tr>\n",
       "      <th>6</th>\n",
       "      <td>11000000030033</td>\n",
       "      <td>Unemployed, Looking for work</td>\n",
       "      <td>Employed</td>\n",
       "      <td>1172.0</td>\n",
       "      <td>Female</td>\n",
       "      <td>Hispanic or Latino</td>\n",
       "      <td>unknwon</td>\n",
       "      <td>No</td>\n",
       "      <td>Middle_aged</td>\n",
       "    </tr>\n",
       "    <tr>\n",
       "      <th>7</th>\n",
       "      <td>11000000030039</td>\n",
       "      <td>Unemployed, Looking for work</td>\n",
       "      <td>Employed</td>\n",
       "      <td>395.0</td>\n",
       "      <td>Female</td>\n",
       "      <td>Hispanic or Latino</td>\n",
       "      <td>unknwon</td>\n",
       "      <td>No</td>\n",
       "      <td>Young</td>\n",
       "    </tr>\n",
       "    <tr>\n",
       "      <th>9</th>\n",
       "      <td>11000000030050</td>\n",
       "      <td>Unemployed, Looking for work</td>\n",
       "      <td>Unemployed, Looking for work</td>\n",
       "      <td>390.0</td>\n",
       "      <td>Female</td>\n",
       "      <td>Not Hispanic or Latino</td>\n",
       "      <td>White</td>\n",
       "      <td>No</td>\n",
       "      <td>Middle_aged</td>\n",
       "    </tr>\n",
       "  </tbody>\n",
       "</table>\n",
       "</div>"
      ],
      "text/plain": [
       "         ClientId        employmentStatusIntake  \\\n",
       "2  11000000030017  Unemployed, Looking for work   \n",
       "5  11000000030032  Unemployed, Looking for work   \n",
       "6  11000000030033  Unemployed, Looking for work   \n",
       "7  11000000030039  Unemployed, Looking for work   \n",
       "9  11000000030050  Unemployed, Looking for work   \n",
       "\n",
       "               employmentStatusPost  ServiceAmt sum  Gender  \\\n",
       "2                          Employed          1101.0  Female   \n",
       "5  Unemployed, Not looking for work           150.0  Female   \n",
       "6                          Employed          1172.0  Female   \n",
       "7                          Employed           395.0  Female   \n",
       "9      Unemployed, Looking for work           390.0  Female   \n",
       "\n",
       "                Ethnicity Ethnorace Veteran     AgeGroup  \n",
       "2  Not Hispanic or Latino     White      No          Old  \n",
       "5      Hispanic or Latino   unknwon      No  Middle_aged  \n",
       "6      Hispanic or Latino   unknwon      No  Middle_aged  \n",
       "7      Hispanic or Latino   unknwon      No        Young  \n",
       "9  Not Hispanic or Latino     White      No  Middle_aged  "
      ]
     },
     "execution_count": 1126,
     "metadata": {},
     "output_type": "execute_result"
    }
   ],
   "source": [
    "LastEmployment_varData3.head()"
   ]
  },
  {
   "cell_type": "code",
   "execution_count": 1150,
   "metadata": {},
   "outputs": [
    {
     "data": {
      "text/plain": [
       "9000000037582     1\n",
       "23000000047263    1\n",
       "3000000036305     1\n",
       "11000000034608    1\n",
       "17000000034545    1\n",
       "                 ..\n",
       "9000000034939     1\n",
       "16000000039260    1\n",
       "17000000036992    1\n",
       "17000000030990    1\n",
       "3000000042687     1\n",
       "Name: ClientId, Length: 3359, dtype: int64"
      ]
     },
     "execution_count": 1150,
     "metadata": {},
     "output_type": "execute_result"
    }
   ],
   "source": [
    "LastEmployment_varData3['ClientId'].value_counts()"
   ]
  },
  {
   "cell_type": "code",
   "execution_count": 1127,
   "metadata": {},
   "outputs": [],
   "source": [
    "LastEmployment_varData3.to_csv('Employment_varData4.csv')"
   ]
  },
  {
   "cell_type": "code",
   "execution_count": 1152,
   "metadata": {},
   "outputs": [],
   "source": [
    "Employment_varData5.to_csv('Employment_varData5.csv')"
   ]
  },
  {
   "cell_type": "code",
   "execution_count": 1103,
   "metadata": {},
   "outputs": [],
   "source": [
    "Employment_varData3.to_csv('Employment_varData2.csv')"
   ]
  },
  {
   "cell_type": "code",
   "execution_count": 1122,
   "metadata": {},
   "outputs": [],
   "source": [
    "NewEmployment_varData3.to_csv('Employment_varData3.csv')"
   ]
  },
  {
   "cell_type": "markdown",
   "metadata": {},
   "source": [
    "#  summary statistics "
   ]
  },
  {
   "cell_type": "code",
   "execution_count": 140,
   "metadata": {},
   "outputs": [
    {
     "ename": "ValueError",
     "evalue": "no results",
     "output_type": "error",
     "traceback": [
      "\u001b[1;31m---------------------------------------------------------------------------\u001b[0m",
      "\u001b[1;31mValueError\u001b[0m                                Traceback (most recent call last)",
      "\u001b[1;32m<ipython-input-140-d20e37f32f9f>\u001b[0m in \u001b[0;36m<module>\u001b[1;34m\u001b[0m\n\u001b[1;32m----> 1\u001b[1;33m AlL_ClientData.agg({'D2EducationLevelId': ['min', 'max', 'median', 'mean','sem'],'ServiceAmt sum': ['min', 'max', 'median', 'mean','sem'],\n\u001b[0m\u001b[0;32m      2\u001b[0m                    'ServiceNum Total': ['min', 'max', 'median', 'mean','sem'],'age': ['min', 'max', 'median', 'mean','sem']})\n",
      "\u001b[1;32mC:\\ProgramData\\Anaconda3\\lib\\site-packages\\pandas\\core\\frame.py\u001b[0m in \u001b[0;36maggregate\u001b[1;34m(self, func, axis, *args, **kwargs)\u001b[0m\n\u001b[0;32m   6704\u001b[0m         \u001b[0mresult\u001b[0m \u001b[1;33m=\u001b[0m \u001b[1;32mNone\u001b[0m\u001b[1;33m\u001b[0m\u001b[1;33m\u001b[0m\u001b[0m\n\u001b[0;32m   6705\u001b[0m         \u001b[1;32mtry\u001b[0m\u001b[1;33m:\u001b[0m\u001b[1;33m\u001b[0m\u001b[1;33m\u001b[0m\u001b[0m\n\u001b[1;32m-> 6706\u001b[1;33m             \u001b[0mresult\u001b[0m\u001b[1;33m,\u001b[0m \u001b[0mhow\u001b[0m \u001b[1;33m=\u001b[0m \u001b[0mself\u001b[0m\u001b[1;33m.\u001b[0m\u001b[0m_aggregate\u001b[0m\u001b[1;33m(\u001b[0m\u001b[0mfunc\u001b[0m\u001b[1;33m,\u001b[0m \u001b[0maxis\u001b[0m\u001b[1;33m=\u001b[0m\u001b[0maxis\u001b[0m\u001b[1;33m,\u001b[0m \u001b[1;33m*\u001b[0m\u001b[0margs\u001b[0m\u001b[1;33m,\u001b[0m \u001b[1;33m**\u001b[0m\u001b[0mkwargs\u001b[0m\u001b[1;33m)\u001b[0m\u001b[1;33m\u001b[0m\u001b[1;33m\u001b[0m\u001b[0m\n\u001b[0m\u001b[0;32m   6707\u001b[0m         \u001b[1;32mexcept\u001b[0m \u001b[0mTypeError\u001b[0m\u001b[1;33m:\u001b[0m\u001b[1;33m\u001b[0m\u001b[1;33m\u001b[0m\u001b[0m\n\u001b[0;32m   6708\u001b[0m             \u001b[1;32mpass\u001b[0m\u001b[1;33m\u001b[0m\u001b[1;33m\u001b[0m\u001b[0m\n",
      "\u001b[1;32mC:\\ProgramData\\Anaconda3\\lib\\site-packages\\pandas\\core\\frame.py\u001b[0m in \u001b[0;36m_aggregate\u001b[1;34m(self, arg, axis, *args, **kwargs)\u001b[0m\n\u001b[0;32m   6718\u001b[0m             \u001b[0mresult\u001b[0m \u001b[1;33m=\u001b[0m \u001b[0mresult\u001b[0m\u001b[1;33m.\u001b[0m\u001b[0mT\u001b[0m \u001b[1;32mif\u001b[0m \u001b[0mresult\u001b[0m \u001b[1;32mis\u001b[0m \u001b[1;32mnot\u001b[0m \u001b[1;32mNone\u001b[0m \u001b[1;32melse\u001b[0m \u001b[0mresult\u001b[0m\u001b[1;33m\u001b[0m\u001b[1;33m\u001b[0m\u001b[0m\n\u001b[0;32m   6719\u001b[0m             \u001b[1;32mreturn\u001b[0m \u001b[0mresult\u001b[0m\u001b[1;33m,\u001b[0m \u001b[0mhow\u001b[0m\u001b[1;33m\u001b[0m\u001b[1;33m\u001b[0m\u001b[0m\n\u001b[1;32m-> 6720\u001b[1;33m         \u001b[1;32mreturn\u001b[0m \u001b[0msuper\u001b[0m\u001b[1;33m(\u001b[0m\u001b[1;33m)\u001b[0m\u001b[1;33m.\u001b[0m\u001b[0m_aggregate\u001b[0m\u001b[1;33m(\u001b[0m\u001b[0marg\u001b[0m\u001b[1;33m,\u001b[0m \u001b[1;33m*\u001b[0m\u001b[0margs\u001b[0m\u001b[1;33m,\u001b[0m \u001b[1;33m**\u001b[0m\u001b[0mkwargs\u001b[0m\u001b[1;33m)\u001b[0m\u001b[1;33m\u001b[0m\u001b[1;33m\u001b[0m\u001b[0m\n\u001b[0m\u001b[0;32m   6721\u001b[0m \u001b[1;33m\u001b[0m\u001b[0m\n\u001b[0;32m   6722\u001b[0m     \u001b[0magg\u001b[0m \u001b[1;33m=\u001b[0m \u001b[0maggregate\u001b[0m\u001b[1;33m\u001b[0m\u001b[1;33m\u001b[0m\u001b[0m\n",
      "\u001b[1;32mC:\\ProgramData\\Anaconda3\\lib\\site-packages\\pandas\\core\\base.py\u001b[0m in \u001b[0;36m_aggregate\u001b[1;34m(self, arg, *args, **kwargs)\u001b[0m\n\u001b[0;32m    417\u001b[0m \u001b[1;33m\u001b[0m\u001b[0m\n\u001b[0;32m    418\u001b[0m                 \u001b[1;32mtry\u001b[0m\u001b[1;33m:\u001b[0m\u001b[1;33m\u001b[0m\u001b[1;33m\u001b[0m\u001b[0m\n\u001b[1;32m--> 419\u001b[1;33m                     \u001b[0mresult\u001b[0m \u001b[1;33m=\u001b[0m \u001b[0m_agg\u001b[0m\u001b[1;33m(\u001b[0m\u001b[0marg\u001b[0m\u001b[1;33m,\u001b[0m \u001b[0m_agg_1dim\u001b[0m\u001b[1;33m)\u001b[0m\u001b[1;33m\u001b[0m\u001b[1;33m\u001b[0m\u001b[0m\n\u001b[0m\u001b[0;32m    420\u001b[0m                 \u001b[1;32mexcept\u001b[0m \u001b[0mSpecificationError\u001b[0m\u001b[1;33m:\u001b[0m\u001b[1;33m\u001b[0m\u001b[1;33m\u001b[0m\u001b[0m\n\u001b[0;32m    421\u001b[0m \u001b[1;33m\u001b[0m\u001b[0m\n",
      "\u001b[1;32mC:\\ProgramData\\Anaconda3\\lib\\site-packages\\pandas\\core\\base.py\u001b[0m in \u001b[0;36m_agg\u001b[1;34m(arg, func)\u001b[0m\n\u001b[0;32m    384\u001b[0m                 \u001b[0mresult\u001b[0m \u001b[1;33m=\u001b[0m \u001b[1;33m{\u001b[0m\u001b[1;33m}\u001b[0m\u001b[1;33m\u001b[0m\u001b[1;33m\u001b[0m\u001b[0m\n\u001b[0;32m    385\u001b[0m                 \u001b[1;32mfor\u001b[0m \u001b[0mfname\u001b[0m\u001b[1;33m,\u001b[0m \u001b[0magg_how\u001b[0m \u001b[1;32min\u001b[0m \u001b[0marg\u001b[0m\u001b[1;33m.\u001b[0m\u001b[0mitems\u001b[0m\u001b[1;33m(\u001b[0m\u001b[1;33m)\u001b[0m\u001b[1;33m:\u001b[0m\u001b[1;33m\u001b[0m\u001b[1;33m\u001b[0m\u001b[0m\n\u001b[1;32m--> 386\u001b[1;33m                     \u001b[0mresult\u001b[0m\u001b[1;33m[\u001b[0m\u001b[0mfname\u001b[0m\u001b[1;33m]\u001b[0m \u001b[1;33m=\u001b[0m \u001b[0mfunc\u001b[0m\u001b[1;33m(\u001b[0m\u001b[0mfname\u001b[0m\u001b[1;33m,\u001b[0m \u001b[0magg_how\u001b[0m\u001b[1;33m)\u001b[0m\u001b[1;33m\u001b[0m\u001b[1;33m\u001b[0m\u001b[0m\n\u001b[0m\u001b[0;32m    387\u001b[0m                 \u001b[1;32mreturn\u001b[0m \u001b[0mresult\u001b[0m\u001b[1;33m\u001b[0m\u001b[1;33m\u001b[0m\u001b[0m\n\u001b[0;32m    388\u001b[0m \u001b[1;33m\u001b[0m\u001b[0m\n",
      "\u001b[1;32mC:\\ProgramData\\Anaconda3\\lib\\site-packages\\pandas\\core\\base.py\u001b[0m in \u001b[0;36m_agg_1dim\u001b[1;34m(name, how, subset)\u001b[0m\n\u001b[0;32m    368\u001b[0m                         \u001b[1;34m\"nested dictionary is ambiguous in aggregation\"\u001b[0m\u001b[1;33m\u001b[0m\u001b[1;33m\u001b[0m\u001b[0m\n\u001b[0;32m    369\u001b[0m                     )\n\u001b[1;32m--> 370\u001b[1;33m                 \u001b[1;32mreturn\u001b[0m \u001b[0mcolg\u001b[0m\u001b[1;33m.\u001b[0m\u001b[0maggregate\u001b[0m\u001b[1;33m(\u001b[0m\u001b[0mhow\u001b[0m\u001b[1;33m)\u001b[0m\u001b[1;33m\u001b[0m\u001b[1;33m\u001b[0m\u001b[0m\n\u001b[0m\u001b[0;32m    371\u001b[0m \u001b[1;33m\u001b[0m\u001b[0m\n\u001b[0;32m    372\u001b[0m             \u001b[1;32mdef\u001b[0m \u001b[0m_agg_2dim\u001b[0m\u001b[1;33m(\u001b[0m\u001b[0mname\u001b[0m\u001b[1;33m,\u001b[0m \u001b[0mhow\u001b[0m\u001b[1;33m)\u001b[0m\u001b[1;33m:\u001b[0m\u001b[1;33m\u001b[0m\u001b[1;33m\u001b[0m\u001b[0m\n",
      "\u001b[1;32mC:\\ProgramData\\Anaconda3\\lib\\site-packages\\pandas\\core\\series.py\u001b[0m in \u001b[0;36maggregate\u001b[1;34m(self, func, axis, *args, **kwargs)\u001b[0m\n\u001b[0;32m   3686\u001b[0m         \u001b[1;31m# Validate the axis parameter\u001b[0m\u001b[1;33m\u001b[0m\u001b[1;33m\u001b[0m\u001b[1;33m\u001b[0m\u001b[0m\n\u001b[0;32m   3687\u001b[0m         \u001b[0mself\u001b[0m\u001b[1;33m.\u001b[0m\u001b[0m_get_axis_number\u001b[0m\u001b[1;33m(\u001b[0m\u001b[0maxis\u001b[0m\u001b[1;33m)\u001b[0m\u001b[1;33m\u001b[0m\u001b[1;33m\u001b[0m\u001b[0m\n\u001b[1;32m-> 3688\u001b[1;33m         \u001b[0mresult\u001b[0m\u001b[1;33m,\u001b[0m \u001b[0mhow\u001b[0m \u001b[1;33m=\u001b[0m \u001b[0mself\u001b[0m\u001b[1;33m.\u001b[0m\u001b[0m_aggregate\u001b[0m\u001b[1;33m(\u001b[0m\u001b[0mfunc\u001b[0m\u001b[1;33m,\u001b[0m \u001b[1;33m*\u001b[0m\u001b[0margs\u001b[0m\u001b[1;33m,\u001b[0m \u001b[1;33m**\u001b[0m\u001b[0mkwargs\u001b[0m\u001b[1;33m)\u001b[0m\u001b[1;33m\u001b[0m\u001b[1;33m\u001b[0m\u001b[0m\n\u001b[0m\u001b[0;32m   3689\u001b[0m         \u001b[1;32mif\u001b[0m \u001b[0mresult\u001b[0m \u001b[1;32mis\u001b[0m \u001b[1;32mNone\u001b[0m\u001b[1;33m:\u001b[0m\u001b[1;33m\u001b[0m\u001b[1;33m\u001b[0m\u001b[0m\n\u001b[0;32m   3690\u001b[0m \u001b[1;33m\u001b[0m\u001b[0m\n",
      "\u001b[1;32mC:\\ProgramData\\Anaconda3\\lib\\site-packages\\pandas\\core\\base.py\u001b[0m in \u001b[0;36m_aggregate\u001b[1;34m(self, arg, *args, **kwargs)\u001b[0m\n\u001b[0;32m    475\u001b[0m         \u001b[1;32melif\u001b[0m \u001b[0mis_list_like\u001b[0m\u001b[1;33m(\u001b[0m\u001b[0marg\u001b[0m\u001b[1;33m)\u001b[0m\u001b[1;33m:\u001b[0m\u001b[1;33m\u001b[0m\u001b[1;33m\u001b[0m\u001b[0m\n\u001b[0;32m    476\u001b[0m             \u001b[1;31m# we require a list, but not an 'str'\u001b[0m\u001b[1;33m\u001b[0m\u001b[1;33m\u001b[0m\u001b[1;33m\u001b[0m\u001b[0m\n\u001b[1;32m--> 477\u001b[1;33m             \u001b[1;32mreturn\u001b[0m \u001b[0mself\u001b[0m\u001b[1;33m.\u001b[0m\u001b[0m_aggregate_multiple_funcs\u001b[0m\u001b[1;33m(\u001b[0m\u001b[0marg\u001b[0m\u001b[1;33m,\u001b[0m \u001b[0m_axis\u001b[0m\u001b[1;33m=\u001b[0m\u001b[0m_axis\u001b[0m\u001b[1;33m)\u001b[0m\u001b[1;33m,\u001b[0m \u001b[1;32mNone\u001b[0m\u001b[1;33m\u001b[0m\u001b[1;33m\u001b[0m\u001b[0m\n\u001b[0m\u001b[0;32m    478\u001b[0m         \u001b[1;32melse\u001b[0m\u001b[1;33m:\u001b[0m\u001b[1;33m\u001b[0m\u001b[1;33m\u001b[0m\u001b[0m\n\u001b[0;32m    479\u001b[0m             \u001b[0mresult\u001b[0m \u001b[1;33m=\u001b[0m \u001b[1;32mNone\u001b[0m\u001b[1;33m\u001b[0m\u001b[1;33m\u001b[0m\u001b[0m\n",
      "\u001b[1;32mC:\\ProgramData\\Anaconda3\\lib\\site-packages\\pandas\\core\\base.py\u001b[0m in \u001b[0;36m_aggregate_multiple_funcs\u001b[1;34m(self, arg, _axis)\u001b[0m\n\u001b[0;32m    540\u001b[0m         \u001b[1;31m# if we are empty\u001b[0m\u001b[1;33m\u001b[0m\u001b[1;33m\u001b[0m\u001b[1;33m\u001b[0m\u001b[0m\n\u001b[0;32m    541\u001b[0m         \u001b[1;32mif\u001b[0m \u001b[1;32mnot\u001b[0m \u001b[0mlen\u001b[0m\u001b[1;33m(\u001b[0m\u001b[0mresults\u001b[0m\u001b[1;33m)\u001b[0m\u001b[1;33m:\u001b[0m\u001b[1;33m\u001b[0m\u001b[1;33m\u001b[0m\u001b[0m\n\u001b[1;32m--> 542\u001b[1;33m             \u001b[1;32mraise\u001b[0m \u001b[0mValueError\u001b[0m\u001b[1;33m(\u001b[0m\u001b[1;34m\"no results\"\u001b[0m\u001b[1;33m)\u001b[0m\u001b[1;33m\u001b[0m\u001b[1;33m\u001b[0m\u001b[0m\n\u001b[0m\u001b[0;32m    543\u001b[0m \u001b[1;33m\u001b[0m\u001b[0m\n\u001b[0;32m    544\u001b[0m         \u001b[1;32mtry\u001b[0m\u001b[1;33m:\u001b[0m\u001b[1;33m\u001b[0m\u001b[1;33m\u001b[0m\u001b[0m\n",
      "\u001b[1;31mValueError\u001b[0m: no results"
     ]
    }
   ],
   "source": [
    "AlL_ClientData.agg({'D2EducationLevelId': ['min', 'max', 'median', 'mean','sem'],'ServiceAmt sum': ['min', 'max', 'median', 'mean','sem'],\n",
    "                   'ServiceNum Total': ['min', 'max', 'median', 'mean','sem'],'age': ['min', 'max', 'median', 'mean','sem']})"
   ]
  },
  {
   "cell_type": "code",
   "execution_count": null,
   "metadata": {},
   "outputs": [],
   "source": [
    "AlL_ClientData['Ethnorace'].value_counts()\n"
   ]
  },
  {
   "cell_type": "code",
   "execution_count": null,
   "metadata": {},
   "outputs": [],
   "source": [
    "AlL_ClientData['Veteran'].value_counts()\n"
   ]
  },
  {
   "cell_type": "code",
   "execution_count": null,
   "metadata": {},
   "outputs": [],
   "source": [
    "AlL_ClientData['Gender'].value_counts()\n"
   ]
  },
  {
   "cell_type": "code",
   "execution_count": null,
   "metadata": {},
   "outputs": [],
   "source": []
  },
  {
   "cell_type": "code",
   "execution_count": 141,
   "metadata": {},
   "outputs": [
    {
     "data": {
      "text/html": [
       "<div>\n",
       "<style scoped>\n",
       "    .dataframe tbody tr th:only-of-type {\n",
       "        vertical-align: middle;\n",
       "    }\n",
       "\n",
       "    .dataframe tbody tr th {\n",
       "        vertical-align: top;\n",
       "    }\n",
       "\n",
       "    .dataframe thead th {\n",
       "        text-align: right;\n",
       "    }\n",
       "</style>\n",
       "<table border=\"1\" class=\"dataframe\">\n",
       "  <thead>\n",
       "    <tr style=\"text-align: right;\">\n",
       "      <th></th>\n",
       "      <th>E4CommitedCrime</th>\n",
       "      <th>D3EmploymentSituationId</th>\n",
       "      <th>B1cIllegalDrugs</th>\n",
       "    </tr>\n",
       "  </thead>\n",
       "  <tbody>\n",
       "    <tr>\n",
       "      <th>max</th>\n",
       "      <td>400.000000</td>\n",
       "      <td>Unemployed, retired</td>\n",
       "      <td>30.000000</td>\n",
       "    </tr>\n",
       "    <tr>\n",
       "      <th>mean</th>\n",
       "      <td>2.122286</td>\n",
       "      <td>NaN</td>\n",
       "      <td>2.248430</td>\n",
       "    </tr>\n",
       "    <tr>\n",
       "      <th>median</th>\n",
       "      <td>0.000000</td>\n",
       "      <td>NaN</td>\n",
       "      <td>0.000000</td>\n",
       "    </tr>\n",
       "    <tr>\n",
       "      <th>min</th>\n",
       "      <td>0.000000</td>\n",
       "      <td>Employed full time</td>\n",
       "      <td>0.000000</td>\n",
       "    </tr>\n",
       "    <tr>\n",
       "      <th>sem</th>\n",
       "      <td>0.049014</td>\n",
       "      <td>NaN</td>\n",
       "      <td>0.045057</td>\n",
       "    </tr>\n",
       "  </tbody>\n",
       "</table>\n",
       "</div>"
      ],
      "text/plain": [
       "        E4CommitedCrime D3EmploymentSituationId  B1cIllegalDrugs\n",
       "max          400.000000     Unemployed, retired        30.000000\n",
       "mean           2.122286                     NaN         2.248430\n",
       "median         0.000000                     NaN         0.000000\n",
       "min            0.000000      Employed full time         0.000000\n",
       "sem            0.049014                     NaN         0.045057"
      ]
     },
     "execution_count": 141,
     "metadata": {},
     "output_type": "execute_result"
    }
   ],
   "source": [
    "final_SurveyData.agg({'E4CommitedCrime': ['min', 'max', 'median', 'mean','sem'],'D3EmploymentSituationId': ['min', 'max', 'median', 'mean','sem'],\n",
    "                   'B1cIllegalDrugs': ['min', 'max', 'median', 'mean','sem']})\n"
   ]
  },
  {
   "cell_type": "code",
   "execution_count": null,
   "metadata": {},
   "outputs": [],
   "source": []
  },
  {
   "cell_type": "code",
   "execution_count": null,
   "metadata": {},
   "outputs": [],
   "source": []
  },
  {
   "cell_type": "markdown",
   "metadata": {},
   "source": [
    "# # T test On Target Variebles"
   ]
  },
  {
   "cell_type": "code",
   "execution_count": 343,
   "metadata": {
    "scrolled": false
   },
   "outputs": [
    {
     "data": {
      "text/html": [
       "<div>\n",
       "<style scoped>\n",
       "    .dataframe tbody tr th:only-of-type {\n",
       "        vertical-align: middle;\n",
       "    }\n",
       "\n",
       "    .dataframe tbody tr th {\n",
       "        vertical-align: top;\n",
       "    }\n",
       "\n",
       "    .dataframe thead th {\n",
       "        text-align: right;\n",
       "    }\n",
       "</style>\n",
       "<table border=\"1\" class=\"dataframe\">\n",
       "  <thead>\n",
       "    <tr style=\"text-align: right;\">\n",
       "      <th></th>\n",
       "      <th>InterviewIntake</th>\n",
       "      <th>Gender</th>\n",
       "      <th>Ethnicity</th>\n",
       "      <th>Ethnorace</th>\n",
       "      <th>Veteran</th>\n",
       "      <th>C1LivingSituationId</th>\n",
       "      <th>D2EducationLevelId</th>\n",
       "      <th>D3EmploymentSituationId</th>\n",
       "      <th>B1aAlcohol</th>\n",
       "      <th>B1cIllegalDrugs</th>\n",
       "      <th>C2AddictionStressProblemId</th>\n",
       "      <th>C4AddictionEmotionalProblemId</th>\n",
       "      <th>E1TimesArrested</th>\n",
       "      <th>E4CommitedCrime</th>\n",
       "      <th>F5aDepression</th>\n",
       "      <th>F5bAnxiety</th>\n",
       "      <th>AgeGroup</th>\n",
       "      <th>ServiceAmt sum</th>\n",
       "      <th>ServiceNum Total</th>\n",
       "    </tr>\n",
       "  </thead>\n",
       "  <tbody>\n",
       "    <tr>\n",
       "      <th>0</th>\n",
       "      <td>Post</td>\n",
       "      <td>Female</td>\n",
       "      <td>Hispanic or Latino</td>\n",
       "      <td>Hispanic</td>\n",
       "      <td>unknwon</td>\n",
       "      <td>3</td>\n",
       "      <td>12</td>\n",
       "      <td>7</td>\n",
       "      <td>0</td>\n",
       "      <td>0</td>\n",
       "      <td>5</td>\n",
       "      <td>5</td>\n",
       "      <td>1</td>\n",
       "      <td>1</td>\n",
       "      <td>30</td>\n",
       "      <td>1</td>\n",
       "      <td>Young</td>\n",
       "      <td>NaN</td>\n",
       "      <td>NaN</td>\n",
       "    </tr>\n",
       "    <tr>\n",
       "      <th>1</th>\n",
       "      <td>Post</td>\n",
       "      <td>Female</td>\n",
       "      <td>Not Hispanic or Latino</td>\n",
       "      <td>White</td>\n",
       "      <td>unknwon</td>\n",
       "      <td>41</td>\n",
       "      <td>10</td>\n",
       "      <td>7</td>\n",
       "      <td>29</td>\n",
       "      <td>1</td>\n",
       "      <td>4</td>\n",
       "      <td>4</td>\n",
       "      <td>0</td>\n",
       "      <td>1</td>\n",
       "      <td>30</td>\n",
       "      <td>30</td>\n",
       "      <td>Middle_aged</td>\n",
       "      <td>NaN</td>\n",
       "      <td>NaN</td>\n",
       "    </tr>\n",
       "    <tr>\n",
       "      <th>2</th>\n",
       "      <td>Post</td>\n",
       "      <td>Female</td>\n",
       "      <td>Not Hispanic or Latino</td>\n",
       "      <td>White</td>\n",
       "      <td>unknwon</td>\n",
       "      <td>41</td>\n",
       "      <td>12</td>\n",
       "      <td>1</td>\n",
       "      <td>2</td>\n",
       "      <td>0</td>\n",
       "      <td>1</td>\n",
       "      <td>1</td>\n",
       "      <td>0</td>\n",
       "      <td>0</td>\n",
       "      <td>0</td>\n",
       "      <td>0</td>\n",
       "      <td>Middle_aged</td>\n",
       "      <td>NaN</td>\n",
       "      <td>NaN</td>\n",
       "    </tr>\n",
       "    <tr>\n",
       "      <th>3</th>\n",
       "      <td>Post</td>\n",
       "      <td>Male</td>\n",
       "      <td>Hispanic or Latino</td>\n",
       "      <td>unknwon</td>\n",
       "      <td>unknwon</td>\n",
       "      <td>41</td>\n",
       "      <td>12</td>\n",
       "      <td>7</td>\n",
       "      <td>0</td>\n",
       "      <td>0</td>\n",
       "      <td>5</td>\n",
       "      <td>5</td>\n",
       "      <td>0</td>\n",
       "      <td>0</td>\n",
       "      <td>6</td>\n",
       "      <td>14</td>\n",
       "      <td>Young</td>\n",
       "      <td>NaN</td>\n",
       "      <td>NaN</td>\n",
       "    </tr>\n",
       "    <tr>\n",
       "      <th>4</th>\n",
       "      <td>Post</td>\n",
       "      <td>Female</td>\n",
       "      <td>Hispanic or Latino</td>\n",
       "      <td>unknwon</td>\n",
       "      <td>unknwon</td>\n",
       "      <td>41</td>\n",
       "      <td>11</td>\n",
       "      <td>4</td>\n",
       "      <td>0</td>\n",
       "      <td>0</td>\n",
       "      <td>5</td>\n",
       "      <td>5</td>\n",
       "      <td>0</td>\n",
       "      <td>0</td>\n",
       "      <td>0</td>\n",
       "      <td>0</td>\n",
       "      <td>Old</td>\n",
       "      <td>NaN</td>\n",
       "      <td>NaN</td>\n",
       "    </tr>\n",
       "  </tbody>\n",
       "</table>\n",
       "</div>"
      ],
      "text/plain": [
       "  InterviewIntake  Gender               Ethnicity Ethnorace  Veteran  \\\n",
       "0            Post  Female      Hispanic or Latino  Hispanic  unknwon   \n",
       "1            Post  Female  Not Hispanic or Latino     White  unknwon   \n",
       "2            Post  Female  Not Hispanic or Latino     White  unknwon   \n",
       "3            Post    Male      Hispanic or Latino   unknwon  unknwon   \n",
       "4            Post  Female      Hispanic or Latino   unknwon  unknwon   \n",
       "\n",
       "  C1LivingSituationId D2EducationLevelId D3EmploymentSituationId B1aAlcohol  \\\n",
       "0                   3                 12                       7          0   \n",
       "1                  41                 10                       7         29   \n",
       "2                  41                 12                       1          2   \n",
       "3                  41                 12                       7          0   \n",
       "4                  41                 11                       4          0   \n",
       "\n",
       "  B1cIllegalDrugs C2AddictionStressProblemId C4AddictionEmotionalProblemId  \\\n",
       "0               0                          5                             5   \n",
       "1               1                          4                             4   \n",
       "2               0                          1                             1   \n",
       "3               0                          5                             5   \n",
       "4               0                          5                             5   \n",
       "\n",
       "  E1TimesArrested E4CommitedCrime F5aDepression F5bAnxiety     AgeGroup  \\\n",
       "0               1               1            30          1        Young   \n",
       "1               0               1            30         30  Middle_aged   \n",
       "2               0               0             0          0  Middle_aged   \n",
       "3               0               0             6         14        Young   \n",
       "4               0               0             0          0          Old   \n",
       "\n",
       "   ServiceAmt sum  ServiceNum Total  \n",
       "0             NaN               NaN  \n",
       "1             NaN               NaN  \n",
       "2             NaN               NaN  \n",
       "3             NaN               NaN  \n",
       "4             NaN               NaN  "
      ]
     },
     "execution_count": 343,
     "metadata": {},
     "output_type": "execute_result"
    }
   ],
   "source": [
    "final_SurveyData.head()"
   ]
  },
  {
   "cell_type": "markdown",
   "metadata": {},
   "source": [
    "### Getting mean,count,std of target variables"
   ]
  },
  {
   "cell_type": "code",
   "execution_count": 344,
   "metadata": {},
   "outputs": [],
   "source": [
    "final_SurveyData['B1cIllegalDrugs'] = final_SurveyData['B1cIllegalDrugs'].astype(float)\n"
   ]
  },
  {
   "cell_type": "code",
   "execution_count": 345,
   "metadata": {
    "scrolled": true
   },
   "outputs": [
    {
     "name": "stderr",
     "output_type": "stream",
     "text": [
      "C:\\Users\\shafa\\AppData\\Local\\Continuum\\anaconda3\\lib\\site-packages\\ipykernel_launcher.py:1: FutureWarning: using a dict on a Series for aggregation\n",
      "is deprecated and will be removed in a future version\n",
      "  \"\"\"Entry point for launching an IPython kernel.\n"
     ]
    },
    {
     "data": {
      "text/html": [
       "<div>\n",
       "<style scoped>\n",
       "    .dataframe tbody tr th:only-of-type {\n",
       "        vertical-align: middle;\n",
       "    }\n",
       "\n",
       "    .dataframe tbody tr th {\n",
       "        vertical-align: top;\n",
       "    }\n",
       "\n",
       "    .dataframe thead th {\n",
       "        text-align: right;\n",
       "    }\n",
       "</style>\n",
       "<table border=\"1\" class=\"dataframe\">\n",
       "  <thead>\n",
       "    <tr style=\"text-align: right;\">\n",
       "      <th></th>\n",
       "      <th>mean</th>\n",
       "      <th>count</th>\n",
       "      <th>stadard err</th>\n",
       "    </tr>\n",
       "    <tr>\n",
       "      <th>InterviewIntake</th>\n",
       "      <th></th>\n",
       "      <th></th>\n",
       "      <th></th>\n",
       "    </tr>\n",
       "  </thead>\n",
       "  <tbody>\n",
       "    <tr>\n",
       "      <th>Intake</th>\n",
       "      <td>3.200018</td>\n",
       "      <td>11384</td>\n",
       "      <td>0.07331</td>\n",
       "    </tr>\n",
       "    <tr>\n",
       "      <th>Post</th>\n",
       "      <td>1.255317</td>\n",
       "      <td>10908</td>\n",
       "      <td>0.04948</td>\n",
       "    </tr>\n",
       "  </tbody>\n",
       "</table>\n",
       "</div>"
      ],
      "text/plain": [
       "                     mean  count  stadard err\n",
       "InterviewIntake                              \n",
       "Intake           3.200018  11384      0.07331\n",
       "Post             1.255317  10908      0.04948"
      ]
     },
     "execution_count": 345,
     "metadata": {},
     "output_type": "execute_result"
    }
   ],
   "source": [
    "final_SurveyData.groupby('InterviewIntake').B1cIllegalDrugs.agg({'mean':'mean','count':'count','stadard err':'sem'})"
   ]
  },
  {
   "cell_type": "code",
   "execution_count": 346,
   "metadata": {},
   "outputs": [],
   "source": [
    "final_SurveyData['D3EmploymentSituationId'] = final_SurveyData['D3EmploymentSituationId'].astype(float)\n"
   ]
  },
  {
   "cell_type": "code",
   "execution_count": 347,
   "metadata": {},
   "outputs": [
    {
     "name": "stderr",
     "output_type": "stream",
     "text": [
      "C:\\Users\\shafa\\AppData\\Local\\Continuum\\anaconda3\\lib\\site-packages\\ipykernel_launcher.py:1: FutureWarning: using a dict on a Series for aggregation\n",
      "is deprecated and will be removed in a future version\n",
      "  \"\"\"Entry point for launching an IPython kernel.\n"
     ]
    },
    {
     "data": {
      "text/html": [
       "<div>\n",
       "<style scoped>\n",
       "    .dataframe tbody tr th:only-of-type {\n",
       "        vertical-align: middle;\n",
       "    }\n",
       "\n",
       "    .dataframe tbody tr th {\n",
       "        vertical-align: top;\n",
       "    }\n",
       "\n",
       "    .dataframe thead th {\n",
       "        text-align: right;\n",
       "    }\n",
       "</style>\n",
       "<table border=\"1\" class=\"dataframe\">\n",
       "  <thead>\n",
       "    <tr style=\"text-align: right;\">\n",
       "      <th></th>\n",
       "      <th>mean</th>\n",
       "      <th>count</th>\n",
       "      <th>stadard err</th>\n",
       "    </tr>\n",
       "    <tr>\n",
       "      <th>InterviewIntake</th>\n",
       "      <th></th>\n",
       "      <th></th>\n",
       "      <th></th>\n",
       "    </tr>\n",
       "  </thead>\n",
       "  <tbody>\n",
       "    <tr>\n",
       "      <th>Intake</th>\n",
       "      <td>2.792867</td>\n",
       "      <td>11384</td>\n",
       "      <td>0.015900</td>\n",
       "    </tr>\n",
       "    <tr>\n",
       "      <th>Post</th>\n",
       "      <td>2.670975</td>\n",
       "      <td>10908</td>\n",
       "      <td>0.017536</td>\n",
       "    </tr>\n",
       "  </tbody>\n",
       "</table>\n",
       "</div>"
      ],
      "text/plain": [
       "                     mean  count  stadard err\n",
       "InterviewIntake                              \n",
       "Intake           2.792867  11384     0.015900\n",
       "Post             2.670975  10908     0.017536"
      ]
     },
     "execution_count": 347,
     "metadata": {},
     "output_type": "execute_result"
    }
   ],
   "source": [
    "final_SurveyData.groupby('InterviewIntake').D3EmploymentSituationId.agg({'mean':'mean','count':'count','stadard err':'sem'})"
   ]
  },
  {
   "cell_type": "code",
   "execution_count": null,
   "metadata": {},
   "outputs": [],
   "source": []
  },
  {
   "cell_type": "code",
   "execution_count": 348,
   "metadata": {},
   "outputs": [],
   "source": [
    "final_SurveyData['E4CommitedCrime'] = final_SurveyData['E4CommitedCrime'].astype(float)\n"
   ]
  },
  {
   "cell_type": "code",
   "execution_count": 349,
   "metadata": {},
   "outputs": [
    {
     "name": "stderr",
     "output_type": "stream",
     "text": [
      "C:\\Users\\shafa\\AppData\\Local\\Continuum\\anaconda3\\lib\\site-packages\\ipykernel_launcher.py:1: FutureWarning: using a dict on a Series for aggregation\n",
      "is deprecated and will be removed in a future version\n",
      "  \"\"\"Entry point for launching an IPython kernel.\n"
     ]
    },
    {
     "data": {
      "text/html": [
       "<div>\n",
       "<style scoped>\n",
       "    .dataframe tbody tr th:only-of-type {\n",
       "        vertical-align: middle;\n",
       "    }\n",
       "\n",
       "    .dataframe tbody tr th {\n",
       "        vertical-align: top;\n",
       "    }\n",
       "\n",
       "    .dataframe thead th {\n",
       "        text-align: right;\n",
       "    }\n",
       "</style>\n",
       "<table border=\"1\" class=\"dataframe\">\n",
       "  <thead>\n",
       "    <tr style=\"text-align: right;\">\n",
       "      <th></th>\n",
       "      <th>mean</th>\n",
       "      <th>count</th>\n",
       "      <th>stadard err</th>\n",
       "    </tr>\n",
       "    <tr>\n",
       "      <th>InterviewIntake</th>\n",
       "      <th></th>\n",
       "      <th></th>\n",
       "      <th></th>\n",
       "    </tr>\n",
       "  </thead>\n",
       "  <tbody>\n",
       "    <tr>\n",
       "      <th>Intake</th>\n",
       "      <td>2.985506</td>\n",
       "      <td>11384</td>\n",
       "      <td>0.074198</td>\n",
       "    </tr>\n",
       "    <tr>\n",
       "      <th>Post</th>\n",
       "      <td>1.221397</td>\n",
       "      <td>10908</td>\n",
       "      <td>0.062386</td>\n",
       "    </tr>\n",
       "  </tbody>\n",
       "</table>\n",
       "</div>"
      ],
      "text/plain": [
       "                     mean  count  stadard err\n",
       "InterviewIntake                              \n",
       "Intake           2.985506  11384     0.074198\n",
       "Post             1.221397  10908     0.062386"
      ]
     },
     "execution_count": 349,
     "metadata": {},
     "output_type": "execute_result"
    }
   ],
   "source": [
    "final_SurveyData.groupby('InterviewIntake').E4CommitedCrime.agg({'mean':'mean','count':'count','stadard err':'sem'})"
   ]
  },
  {
   "cell_type": "code",
   "execution_count": 350,
   "metadata": {},
   "outputs": [
    {
     "data": {
      "text/plain": [
       "InterviewIntake\n",
       "Intake    11384\n",
       "Post      10908\n",
       "Name: E4CommitedCrime, dtype: int64"
      ]
     },
     "execution_count": 350,
     "metadata": {},
     "output_type": "execute_result"
    }
   ],
   "source": [
    "final_SurveyData.groupby([\"InterviewIntake\"])[\"E4CommitedCrime\"].count()\n"
   ]
  },
  {
   "cell_type": "code",
   "execution_count": 351,
   "metadata": {},
   "outputs": [],
   "source": [
    "drug_Used_Intake = final_SurveyData.loc[final_SurveyData['InterviewIntake'] == 'Intake', 'B1cIllegalDrugs']\n",
    "drug_Used_Post = final_SurveyData.loc[final_SurveyData['InterviewIntake'] == 'Post', 'B1cIllegalDrugs']\n",
    "\n",
    "EmploymentSituation_Intake = final_SurveyData.loc[final_SurveyData['InterviewIntake'] == 'Intake', 'D3EmploymentSituationId']\n",
    "EmploymentSituation_Post = final_SurveyData.loc[final_SurveyData['InterviewIntake'] == 'Post', 'D3EmploymentSituationId']\n",
    "\n",
    "CommitedCrime_Intake = final_SurveyData.loc[final_SurveyData['InterviewIntake'] == 'Intake', 'E4CommitedCrime']\n",
    "CommitedCrime_Post = final_SurveyData.loc[final_SurveyData['InterviewIntake'] == 'Post', 'E4CommitedCrime']\n"
   ]
  },
  {
   "cell_type": "markdown",
   "metadata": {},
   "source": [
    "### t test for drug use in 30 days"
   ]
  },
  {
   "cell_type": "code",
   "execution_count": 352,
   "metadata": {},
   "outputs": [],
   "source": [
    "from scipy import stats as st\n",
    "from statsmodels.stats.weightstats import ttest_ind"
   ]
  },
  {
   "cell_type": "code",
   "execution_count": null,
   "metadata": {},
   "outputs": [],
   "source": []
  },
  {
   "cell_type": "code",
   "execution_count": 353,
   "metadata": {},
   "outputs": [],
   "source": [
    "ttest1= ttest_ind(drug_Used_Intake,drug_Used_Post)"
   ]
  },
  {
   "cell_type": "code",
   "execution_count": 354,
   "metadata": {},
   "outputs": [
    {
     "data": {
      "text/plain": [
       "(21.80405591990353, 2.613033094265204e-104, 22290.0)"
      ]
     },
     "execution_count": 354,
     "metadata": {},
     "output_type": "execute_result"
    }
   ],
   "source": [
    "ttest1"
   ]
  },
  {
   "cell_type": "code",
   "execution_count": null,
   "metadata": {},
   "outputs": [],
   "source": []
  },
  {
   "cell_type": "markdown",
   "metadata": {},
   "source": [
    "### t test for employment Situation in 30 days"
   ]
  },
  {
   "cell_type": "code",
   "execution_count": 355,
   "metadata": {},
   "outputs": [],
   "source": [
    "ttest2= ttest_ind(EmploymentSituation_Intake,EmploymentSituation_Post)"
   ]
  },
  {
   "cell_type": "code",
   "execution_count": 356,
   "metadata": {},
   "outputs": [
    {
     "data": {
      "text/plain": [
       "(5.157732025121648, 2.520974112076615e-07, 22290.0)"
      ]
     },
     "execution_count": 356,
     "metadata": {},
     "output_type": "execute_result"
    }
   ],
   "source": [
    "ttest2"
   ]
  },
  {
   "cell_type": "code",
   "execution_count": null,
   "metadata": {},
   "outputs": [],
   "source": []
  },
  {
   "cell_type": "markdown",
   "metadata": {},
   "source": [
    "### t test for crime commited in 30 days"
   ]
  },
  {
   "cell_type": "code",
   "execution_count": 357,
   "metadata": {},
   "outputs": [],
   "source": [
    "ttest3= ttest_ind(CommitedCrime_Intake,CommitedCrime_Post)"
   ]
  },
  {
   "cell_type": "code",
   "execution_count": 358,
   "metadata": {},
   "outputs": [
    {
     "data": {
      "text/plain": [
       "(18.123448421525264, 6.948798930120578e-73, 22290.0)"
      ]
     },
     "execution_count": 358,
     "metadata": {},
     "output_type": "execute_result"
    }
   ],
   "source": [
    "ttest3"
   ]
  },
  {
   "cell_type": "code",
   "execution_count": null,
   "metadata": {},
   "outputs": [],
   "source": []
  },
  {
   "cell_type": "code",
   "execution_count": null,
   "metadata": {},
   "outputs": [],
   "source": []
  }
 ],
 "metadata": {
  "kernelspec": {
   "display_name": "Python 3",
   "language": "python",
   "name": "python3"
  },
  "language_info": {
   "codemirror_mode": {
    "name": "ipython",
    "version": 3
   },
   "file_extension": ".py",
   "mimetype": "text/x-python",
   "name": "python",
   "nbconvert_exporter": "python",
   "pygments_lexer": "ipython3",
   "version": "3.8.3"
  }
 },
 "nbformat": 4,
 "nbformat_minor": 2
}
