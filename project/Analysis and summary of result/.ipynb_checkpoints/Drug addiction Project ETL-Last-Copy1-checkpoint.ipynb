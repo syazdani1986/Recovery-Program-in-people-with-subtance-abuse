{
 "cells": [
  {
   "cell_type": "code",
   "execution_count": 490,
   "metadata": {},
   "outputs": [],
   "source": [
    "import pandas as pd\n",
    "import numpy as np\n",
    "import os"
   ]
  },
  {
   "cell_type": "code",
   "execution_count": 491,
   "metadata": {},
   "outputs": [],
   "source": [
    "os.chdir(\"C:\\\\freelancing project\\Falling colors project\\data and instruction\")"
   ]
  },
  {
   "cell_type": "code",
   "execution_count": 492,
   "metadata": {},
   "outputs": [
    {
     "data": {
      "text/plain": [
       "'C:\\\\freelancing project\\\\Falling colors project\\\\data and instruction'"
      ]
     },
     "execution_count": 492,
     "metadata": {},
     "output_type": "execute_result"
    }
   ],
   "source": [
    "os.getcwd()"
   ]
  },
  {
   "cell_type": "code",
   "execution_count": 493,
   "metadata": {},
   "outputs": [],
   "source": [
    "df_ClientData = pd.read_excel (r'C:\\freelancing project\\Falling colors project\\data and instruction\\Practical_ClientData.xlsx')\n",
    "df_ServiceData = pd.read_excel (r'C:\\freelancing project\\Falling colors project\\data and instruction\\Practical_ServiceData.xlsx')\n",
    "df_SurveyData = pd.read_excel (r'C:\\freelancing project\\Falling colors project\\data and instruction\\Practical_SurveyData.xlsx')"
   ]
  },
  {
   "cell_type": "code",
   "execution_count": null,
   "metadata": {},
   "outputs": [],
   "source": []
  },
  {
   "cell_type": "code",
   "execution_count": 494,
   "metadata": {},
   "outputs": [
    {
     "name": "stdout",
     "output_type": "stream",
     "text": [
      "<class 'pandas.core.frame.DataFrame'>\n",
      "Int64Index: 31647 entries, 12 to 47035\n",
      "Data columns (total 20 columns):\n",
      "ClientId                         31647 non-null object\n",
      "SurveyDate                       31647 non-null datetime64[ns]\n",
      "SurveyNumber                     31647 non-null int64\n",
      "InterviewIntake                  31647 non-null object\n",
      "DOB                              31647 non-null datetime64[ns]\n",
      "Gender                           31644 non-null object\n",
      "Ethnicity                        31499 non-null object\n",
      "Ethnorace                        22445 non-null object\n",
      "Veteran                          10031 non-null object\n",
      "C1LivingSituationId              31647 non-null object\n",
      "D2EducationLevelId               31647 non-null object\n",
      "D3EmploymentSituationId          31647 non-null object\n",
      "B1aAlcohol                       31647 non-null object\n",
      "B1cIllegalDrugs                  31647 non-null object\n",
      "C2AddictionStressProblemId       31647 non-null object\n",
      "C4AddictionEmotionalProblemId    31647 non-null object\n",
      "E1TimesArrested                  31647 non-null object\n",
      "E4CommitedCrime                  31647 non-null object\n",
      "F5aDepression                    31647 non-null object\n",
      "F5bAnxiety                       31647 non-null object\n",
      "dtypes: datetime64[ns](2), int64(1), object(17)\n",
      "memory usage: 5.1+ MB\n"
     ]
    }
   ],
   "source": [
    "df_SurveyData.info()"
   ]
  },
  {
   "cell_type": "markdown",
   "metadata": {},
   "source": [
    "# Checking for Missing Values"
   ]
  },
  {
   "cell_type": "code",
   "execution_count": 495,
   "metadata": {
    "scrolled": true
   },
   "outputs": [
    {
     "data": {
      "text/plain": [
       "True"
      ]
     },
     "execution_count": 495,
     "metadata": {},
     "output_type": "execute_result"
    }
   ],
   "source": [
    "df_ClientData.isnull().values.any()"
   ]
  },
  {
   "cell_type": "code",
   "execution_count": 496,
   "metadata": {},
   "outputs": [
    {
     "data": {
      "text/plain": [
       "ClientId       0\n",
       "City        6888\n",
       "State       6879\n",
       "Zip         6882\n",
       "dtype: int64"
      ]
     },
     "execution_count": 496,
     "metadata": {},
     "output_type": "execute_result"
    }
   ],
   "source": [
    "df_ClientData.isnull().sum()"
   ]
  },
  {
   "cell_type": "code",
   "execution_count": 497,
   "metadata": {},
   "outputs": [
    {
     "data": {
      "text/plain": [
       "False"
      ]
     },
     "execution_count": 497,
     "metadata": {},
     "output_type": "execute_result"
    }
   ],
   "source": [
    "df_ServiceData.isnull().values.any()"
   ]
  },
  {
   "cell_type": "code",
   "execution_count": 498,
   "metadata": {},
   "outputs": [
    {
     "data": {
      "text/plain": [
       "True"
      ]
     },
     "execution_count": 498,
     "metadata": {},
     "output_type": "execute_result"
    }
   ],
   "source": [
    "df_SurveyData.isnull().values.any()"
   ]
  },
  {
   "cell_type": "markdown",
   "metadata": {},
   "source": [
    "### Checking Missing values in target variables"
   ]
  },
  {
   "cell_type": "code",
   "execution_count": 499,
   "metadata": {},
   "outputs": [
    {
     "name": "stdout",
     "output_type": "stream",
     "text": [
      "12         12032\n",
      "13          3913\n",
      "14          3678\n",
      "11          3138\n",
      "10          1950\n",
      "16          1615\n",
      "9           1499\n",
      "15          1045\n",
      "8            792\n",
      "18           542\n",
      "6            393\n",
      "17           241\n",
      "7            229\n",
      "-7           159\n",
      "Missing      145\n",
      "-8           103\n",
      "5             59\n",
      "0             39\n",
      "4             34\n",
      "3             23\n",
      "2             12\n",
      "1              6\n",
      "Name: D2EducationLevelId, dtype: int64\n",
      "0          23818\n",
      "1           1605\n",
      "2           1211\n",
      "3            641\n",
      "5            604\n",
      "4            501\n",
      "30           479\n",
      "10           428\n",
      "15           404\n",
      "20           364\n",
      "7            233\n",
      "8            209\n",
      "6            186\n",
      "25           151\n",
      "12           114\n",
      "Missing      103\n",
      "14            82\n",
      "-7            78\n",
      "21            65\n",
      "-8            49\n",
      "28            46\n",
      "16            35\n",
      "9             27\n",
      "18            26\n",
      "23            26\n",
      "27            24\n",
      "13            20\n",
      "22            20\n",
      "24            20\n",
      "11            19\n",
      "19            16\n",
      "26            16\n",
      "17            14\n",
      "29            13\n",
      "Name: B1aAlcohol, dtype: int64\n",
      "0          29586\n",
      "1           1738\n",
      "Missing      145\n",
      "-7            68\n",
      "2             57\n",
      "-8            24\n",
      "3             17\n",
      "30             4\n",
      "9              2\n",
      "34             1\n",
      "14             1\n",
      "10             1\n",
      "7              1\n",
      "6              1\n",
      "4              1\n",
      "Name: E1TimesArrested, dtype: int64\n",
      "3          9545\n",
      "1          8089\n",
      "2          5459\n",
      "4          3761\n",
      "7          3143\n",
      "0           947\n",
      "6           300\n",
      "Missing     145\n",
      "5           134\n",
      "-7           75\n",
      "-8           49\n",
      "Name: D3EmploymentSituationId, dtype: int64\n",
      "0          26483\n",
      "1           1187\n",
      "30           846\n",
      "2            418\n",
      "15           315\n",
      "3            262\n",
      "5            262\n",
      "10           259\n",
      "20           233\n",
      "4            183\n",
      "Missing      145\n",
      "7            129\n",
      "25           112\n",
      "14            92\n",
      "-7            91\n",
      "6             86\n",
      "8             84\n",
      "-8            56\n",
      "21            52\n",
      "12            36\n",
      "16            36\n",
      "28            33\n",
      "23            27\n",
      "22            26\n",
      "29            19\n",
      "27            19\n",
      "18            18\n",
      "9             17\n",
      "26            16\n",
      "17            14\n",
      "24            12\n",
      "11            10\n",
      "19             9\n",
      "31             9\n",
      "40             9\n",
      "13             8\n",
      "60             7\n",
      "35             5\n",
      "32             4\n",
      "50             2\n",
      "45             2\n",
      "42             1\n",
      "400            1\n",
      "135            1\n",
      "130            1\n",
      "120            1\n",
      "90             1\n",
      "70             1\n",
      "85             1\n",
      "37             1\n",
      "34             1\n",
      "63             1\n",
      "61             1\n",
      "48             1\n",
      "46             1\n",
      "Name: E4CommitedCrime, dtype: int64\n",
      "0          20042\n",
      "30          2713\n",
      "15          1372\n",
      "10          1123\n",
      "5            936\n",
      "2            915\n",
      "20           729\n",
      "3            587\n",
      "1            496\n",
      "7            486\n",
      "4            467\n",
      "25           306\n",
      "14           256\n",
      "-8           221\n",
      "Missing      145\n",
      "8            134\n",
      "6            133\n",
      "12           110\n",
      "-7            96\n",
      "21            70\n",
      "28            54\n",
      "18            34\n",
      "9             28\n",
      "29            26\n",
      "16            23\n",
      "17            22\n",
      "22            21\n",
      "13            20\n",
      "23            18\n",
      "24            17\n",
      "11            16\n",
      "27            16\n",
      "26            11\n",
      "19             4\n",
      "Name: F5aDepression, dtype: int64\n",
      "0          17935\n",
      "30          4459\n",
      "15          1500\n",
      "10          1201\n",
      "5            953\n",
      "2            920\n",
      "20           840\n",
      "3            535\n",
      "1            510\n",
      "4            506\n",
      "7            487\n",
      "25           320\n",
      "-8           257\n",
      "14           224\n",
      "Missing      145\n",
      "8            135\n",
      "6            134\n",
      "12           121\n",
      "-7            96\n",
      "21            69\n",
      "28            44\n",
      "9             34\n",
      "16            31\n",
      "18            28\n",
      "29            28\n",
      "13            21\n",
      "17            20\n",
      "27            20\n",
      "23            17\n",
      "22            15\n",
      "11            14\n",
      "24            12\n",
      "26            11\n",
      "19             5\n",
      "Name: F5bAnxiety, dtype: int64\n",
      "5          21630\n",
      "1           4158\n",
      "2           2220\n",
      "4           1921\n",
      "3           1439\n",
      "Missing      129\n",
      "-7            83\n",
      "-8            67\n",
      "Name: C2AddictionStressProblemId, dtype: int64\n",
      "41         17109\n",
      "42          9438\n",
      "3           1353\n",
      "1           1141\n",
      "45           851\n",
      "43           533\n",
      "2            494\n",
      "44           436\n",
      "Missing      150\n",
      "-7            62\n",
      "46            53\n",
      "-8            27\n",
      "Name: C1LivingSituationId, dtype: int64\n",
      "0          26472\n",
      "30           943\n",
      "1            743\n",
      "2            448\n",
      "15           375\n",
      "5            307\n",
      "3            305\n",
      "10           286\n",
      "20           259\n",
      "4            189\n",
      "7            157\n",
      "-7           153\n",
      "25           132\n",
      "-8           131\n",
      "Missing      103\n",
      "14            97\n",
      "8             85\n",
      "6             82\n",
      "21            59\n",
      "12            48\n",
      "28            44\n",
      "16            34\n",
      "29            27\n",
      "23            26\n",
      "27            21\n",
      "22            19\n",
      "18            17\n",
      "9             16\n",
      "26            14\n",
      "24            14\n",
      "17            13\n",
      "19            10\n",
      "11             9\n",
      "13             9\n",
      "Name: B1cIllegalDrugs, dtype: int64\n"
     ]
    }
   ],
   "source": [
    "target_columns = ['D2EducationLevelId','B1aAlcohol','E1TimesArrested','D3EmploymentSituationId','E4CommitedCrime','F5aDepression','F5bAnxiety','C2AddictionStressProblemId', 'C1LivingSituationId','B1cIllegalDrugs']\n",
    "df_SurveyData[target_columns] = df_SurveyData[target_columns].fillna('missing')\n",
    "for target in target_columns:\n",
    "    print(df_SurveyData[target].value_counts())"
   ]
  },
  {
   "cell_type": "markdown",
   "metadata": {},
   "source": [
    "> The number of missing/NA columns are very small. At this point we remove them. But, in a rigorous study we might need to impute them since we might be having response bias."
   ]
  },
  {
   "cell_type": "code",
   "execution_count": 500,
   "metadata": {},
   "outputs": [],
   "source": [
    "# replacing non-applicables in Target variables\n",
    "not_applicables = [-1,-7, -8, -9, 'Missing']\n",
    "df_SurveyData.where((~df_SurveyData['E1TimesArrested'].isin(not_applicables)) &\n",
    "                    (~df_SurveyData['D2EducationLevelId'].isin(not_applicables)) &\n",
    "                    (~df_SurveyData['E4CommitedCrime'].isin(not_applicables))&\n",
    "                    (~df_SurveyData['F5aDepression'].isin(not_applicables))&\n",
    "                    (~df_SurveyData['F5bAnxiety'].isin(not_applicables))&\n",
    "                    (~df_SurveyData['C2AddictionStressProblemId'].isin(not_applicables))&\n",
    "                    (~df_SurveyData['C1LivingSituationId'].isin(not_applicables)) &\n",
    "                    (~df_SurveyData['B1cIllegalDrugs'].isin(not_applicables))&\n",
    "                   (~df_SurveyData['B1aAlcohol'].isin(not_applicables)) &\n",
    "                   (~df_SurveyData['D3EmploymentSituationId'].isin(not_applicables)),\n",
    "                   inplace=True)"
   ]
  },
  {
   "cell_type": "code",
   "execution_count": 501,
   "metadata": {},
   "outputs": [
    {
     "name": "stdout",
     "output_type": "stream",
     "text": [
      "12    11735\n",
      "13     3813\n",
      "14     3550\n",
      "11     3073\n",
      "10     1911\n",
      "16     1553\n",
      "9      1464\n",
      "15     1013\n",
      "8       774\n",
      "18      502\n",
      "6       388\n",
      "17      229\n",
      "7       223\n",
      "5        57\n",
      "4        31\n",
      "0        30\n",
      "3        23\n",
      "2        12\n",
      "1         6\n",
      "Name: D2EducationLevelId, dtype: int64\n",
      "0     23151\n",
      "1      1532\n",
      "2      1151\n",
      "3       610\n",
      "5       583\n",
      "4       477\n",
      "30      442\n",
      "10      409\n",
      "15      384\n",
      "20      338\n",
      "7       223\n",
      "8       199\n",
      "6       182\n",
      "25      149\n",
      "12      108\n",
      "14       77\n",
      "21       63\n",
      "28       44\n",
      "16       33\n",
      "23       26\n",
      "9        25\n",
      "18       25\n",
      "27       23\n",
      "24       20\n",
      "22       19\n",
      "13       19\n",
      "11       18\n",
      "26       16\n",
      "19       16\n",
      "17       14\n",
      "29       11\n",
      "Name: B1aAlcohol, dtype: int64\n",
      "0     28654\n",
      "1      1653\n",
      "2        52\n",
      "3        17\n",
      "30        4\n",
      "9         2\n",
      "34        1\n",
      "14        1\n",
      "10        1\n",
      "7         1\n",
      "6         1\n",
      "Name: E1TimesArrested, dtype: int64\n",
      "3    9235\n",
      "1    7911\n",
      "2    5297\n",
      "4    3590\n",
      "7    3025\n",
      "0     918\n",
      "6     283\n",
      "5     128\n",
      "Name: D3EmploymentSituationId, dtype: int64\n",
      "0      25719\n",
      "1       1138\n",
      "30       799\n",
      "2        401\n",
      "15       309\n",
      "10       255\n",
      "5        251\n",
      "3        247\n",
      "20       225\n",
      "4        175\n",
      "7        126\n",
      "25       109\n",
      "14        90\n",
      "6         82\n",
      "8         81\n",
      "21        49\n",
      "28        32\n",
      "12        32\n",
      "16        31\n",
      "22        25\n",
      "23        25\n",
      "29        18\n",
      "27        17\n",
      "9         17\n",
      "18        17\n",
      "26        15\n",
      "17        13\n",
      "24        12\n",
      "19         9\n",
      "31         9\n",
      "11         9\n",
      "40         9\n",
      "13         8\n",
      "60         7\n",
      "35         5\n",
      "32         3\n",
      "45         2\n",
      "50         2\n",
      "120        1\n",
      "90         1\n",
      "63         1\n",
      "130        1\n",
      "70         1\n",
      "85         1\n",
      "46         1\n",
      "61         1\n",
      "135        1\n",
      "48         1\n",
      "34         1\n",
      "37         1\n",
      "42         1\n",
      "400        1\n",
      "Name: E4CommitedCrime, dtype: int64\n",
      "0     19610\n",
      "30     2615\n",
      "15     1323\n",
      "10     1094\n",
      "5       912\n",
      "2       887\n",
      "20      713\n",
      "3       570\n",
      "1       482\n",
      "7       471\n",
      "4       449\n",
      "25      291\n",
      "14      241\n",
      "8       130\n",
      "6       128\n",
      "12      104\n",
      "21       68\n",
      "28       52\n",
      "18       32\n",
      "9        26\n",
      "29       26\n",
      "16       22\n",
      "17       22\n",
      "22       21\n",
      "13       20\n",
      "23       17\n",
      "27       16\n",
      "24       16\n",
      "11       15\n",
      "26       11\n",
      "19        3\n",
      "Name: F5aDepression, dtype: int64\n",
      "0     17623\n",
      "30     4306\n",
      "15     1457\n",
      "10     1162\n",
      "5       916\n",
      "2       889\n",
      "20      823\n",
      "3       519\n",
      "1       488\n",
      "4       487\n",
      "7       467\n",
      "25      309\n",
      "14      213\n",
      "8       129\n",
      "6       129\n",
      "12      118\n",
      "21       67\n",
      "28       44\n",
      "9        31\n",
      "16       30\n",
      "18       26\n",
      "29       25\n",
      "13       21\n",
      "27       18\n",
      "17       18\n",
      "23       16\n",
      "22       15\n",
      "11       14\n",
      "24       11\n",
      "26       11\n",
      "19        5\n",
      "Name: F5bAnxiety, dtype: int64\n",
      "5    21118\n",
      "1     3946\n",
      "2     2118\n",
      "4     1835\n",
      "3     1370\n",
      "Name: C2AddictionStressProblemId, dtype: int64\n",
      "41    16513\n",
      "42     9147\n",
      "3      1326\n",
      "1      1124\n",
      "45      829\n",
      "43      524\n",
      "2       458\n",
      "44      413\n",
      "46       53\n",
      "Name: C1LivingSituationId, dtype: int64\n",
      "0     25760\n",
      "30      907\n",
      "1       713\n",
      "2       437\n",
      "15      370\n",
      "5       294\n",
      "3       289\n",
      "10      281\n",
      "20      251\n",
      "4       186\n",
      "7       153\n",
      "25      129\n",
      "14       96\n",
      "8        83\n",
      "6        78\n",
      "21       56\n",
      "12       44\n",
      "28       42\n",
      "16       30\n",
      "29       26\n",
      "23       24\n",
      "27       19\n",
      "22       19\n",
      "18       17\n",
      "9        16\n",
      "26       14\n",
      "24       13\n",
      "17       12\n",
      "19       10\n",
      "13        9\n",
      "11        9\n",
      "Name: B1cIllegalDrugs, dtype: int64\n"
     ]
    }
   ],
   "source": [
    "target_columns = ['D2EducationLevelId','B1aAlcohol','E1TimesArrested','D3EmploymentSituationId','E4CommitedCrime','F5aDepression','F5bAnxiety','C2AddictionStressProblemId', 'C1LivingSituationId','B1cIllegalDrugs']\n",
    "for target in target_columns:\n",
    "    print(df_SurveyData[target].value_counts())"
   ]
  },
  {
   "cell_type": "code",
   "execution_count": 502,
   "metadata": {},
   "outputs": [
    {
     "data": {
      "text/plain": [
       "0     28654\n",
       "1      1653\n",
       "2        52\n",
       "3        17\n",
       "30        4\n",
       "9         2\n",
       "34        1\n",
       "14        1\n",
       "10        1\n",
       "7         1\n",
       "6         1\n",
       "Name: E1TimesArrested, dtype: int64"
      ]
     },
     "execution_count": 502,
     "metadata": {},
     "output_type": "execute_result"
    }
   ],
   "source": [
    "df_SurveyData['E1TimesArrested'].value_counts()"
   ]
  },
  {
   "cell_type": "markdown",
   "metadata": {},
   "source": [
    "### Checking missing values in independant variables"
   ]
  },
  {
   "cell_type": "code",
   "execution_count": 503,
   "metadata": {
    "scrolled": true
   },
   "outputs": [
    {
     "data": {
      "text/plain": [
       "ClientId                          1260\n",
       "SurveyDate                        1260\n",
       "SurveyNumber                      1260\n",
       "InterviewIntake                   1260\n",
       "DOB                               1260\n",
       "Gender                            1261\n",
       "Ethnicity                         1397\n",
       "Ethnorace                        10091\n",
       "Veteran                          21852\n",
       "C1LivingSituationId               1260\n",
       "D2EducationLevelId                1260\n",
       "D3EmploymentSituationId           1260\n",
       "B1aAlcohol                        1260\n",
       "B1cIllegalDrugs                   1260\n",
       "C2AddictionStressProblemId        1260\n",
       "C4AddictionEmotionalProblemId     1260\n",
       "E1TimesArrested                   1260\n",
       "E4CommitedCrime                   1260\n",
       "F5aDepression                     1260\n",
       "F5bAnxiety                        1260\n",
       "dtype: int64"
      ]
     },
     "execution_count": 503,
     "metadata": {},
     "output_type": "execute_result"
    }
   ],
   "source": [
    "df_SurveyData.isnull().sum()"
   ]
  },
  {
   "cell_type": "code",
   "execution_count": 504,
   "metadata": {
    "scrolled": true
   },
   "outputs": [
    {
     "name": "stderr",
     "output_type": "stream",
     "text": [
      "C:\\Users\\shafa\\AppData\\Local\\Continuum\\anaconda3\\lib\\site-packages\\ipykernel_launcher.py:4: FutureWarning: using a dict on a Series for aggregation\n",
      "is deprecated and will be removed in a future version\n",
      "  after removing the cwd from sys.path.\n"
     ]
    },
    {
     "data": {
      "text/html": [
       "<div>\n",
       "<style scoped>\n",
       "    .dataframe tbody tr th:only-of-type {\n",
       "        vertical-align: middle;\n",
       "    }\n",
       "\n",
       "    .dataframe tbody tr th {\n",
       "        vertical-align: top;\n",
       "    }\n",
       "\n",
       "    .dataframe thead th {\n",
       "        text-align: right;\n",
       "    }\n",
       "</style>\n",
       "<table border=\"1\" class=\"dataframe\">\n",
       "  <thead>\n",
       "    <tr style=\"text-align: right;\">\n",
       "      <th></th>\n",
       "      <th>mean</th>\n",
       "      <th>count</th>\n",
       "      <th>stadard err</th>\n",
       "    </tr>\n",
       "    <tr>\n",
       "      <th>Veteran_missing</th>\n",
       "      <th></th>\n",
       "      <th></th>\n",
       "      <th></th>\n",
       "    </tr>\n",
       "  </thead>\n",
       "  <tbody>\n",
       "    <tr>\n",
       "      <th>False</th>\n",
       "      <td>1.988668</td>\n",
       "      <td>9795</td>\n",
       "      <td>0.064463</td>\n",
       "    </tr>\n",
       "    <tr>\n",
       "      <th>True</th>\n",
       "      <td>1.936869</td>\n",
       "      <td>20592</td>\n",
       "      <td>0.043614</td>\n",
       "    </tr>\n",
       "  </tbody>\n",
       "</table>\n",
       "</div>"
      ],
      "text/plain": [
       "                     mean  count  stadard err\n",
       "Veteran_missing                              \n",
       "False            1.988668   9795     0.064463\n",
       "True             1.936869  20592     0.043614"
      ]
     },
     "execution_count": 504,
     "metadata": {},
     "output_type": "execute_result"
    }
   ],
   "source": [
    "eth = df_SurveyData[['Veteran','B1cIllegalDrugs']].copy()\n",
    "eth['Veteran_missing'] = eth['Veteran'].isnull()\n",
    "eth['B1cIllegalDrugs'] = eth['B1cIllegalDrugs'].astype(float)\n",
    "eth.groupby('Veteran_missing').B1cIllegalDrugs.agg({'mean':'mean','count':'count', 'stadard err':'sem'})"
   ]
  },
  {
   "cell_type": "code",
   "execution_count": null,
   "metadata": {},
   "outputs": [],
   "source": []
  },
  {
   "cell_type": "markdown",
   "metadata": {},
   "source": [
    "It seems missing values on veterans have some different charactereistics at least on one target variable of interest (though ttest might results in p>0.05 as the standard error is too big). We will keep it as an 'unknown' catergoy as it might help with our model later on and there is no explicit reason to drop these missing values as they are around 60% of total number of rows."
   ]
  },
  {
   "cell_type": "code",
   "execution_count": 505,
   "metadata": {},
   "outputs": [],
   "source": [
    "df_SurveyData['Veteran']= df_SurveyData['Veteran'].fillna('unknwon')"
   ]
  },
  {
   "cell_type": "code",
   "execution_count": 506,
   "metadata": {},
   "outputs": [
    {
     "name": "stderr",
     "output_type": "stream",
     "text": [
      "C:\\Users\\shafa\\AppData\\Local\\Continuum\\anaconda3\\lib\\site-packages\\ipykernel_launcher.py:4: FutureWarning: using a dict on a Series for aggregation\n",
      "is deprecated and will be removed in a future version\n",
      "  after removing the cwd from sys.path.\n"
     ]
    },
    {
     "data": {
      "text/html": [
       "<div>\n",
       "<style scoped>\n",
       "    .dataframe tbody tr th:only-of-type {\n",
       "        vertical-align: middle;\n",
       "    }\n",
       "\n",
       "    .dataframe tbody tr th {\n",
       "        vertical-align: top;\n",
       "    }\n",
       "\n",
       "    .dataframe thead th {\n",
       "        text-align: right;\n",
       "    }\n",
       "</style>\n",
       "<table border=\"1\" class=\"dataframe\">\n",
       "  <thead>\n",
       "    <tr style=\"text-align: right;\">\n",
       "      <th></th>\n",
       "      <th>mean</th>\n",
       "      <th>count</th>\n",
       "      <th>stadard err</th>\n",
       "    </tr>\n",
       "    <tr>\n",
       "      <th>Ethnorace_missing</th>\n",
       "      <th></th>\n",
       "      <th></th>\n",
       "      <th></th>\n",
       "    </tr>\n",
       "  </thead>\n",
       "  <tbody>\n",
       "    <tr>\n",
       "      <th>False</th>\n",
       "      <td>1.915662</td>\n",
       "      <td>21556</td>\n",
       "      <td>0.042399</td>\n",
       "    </tr>\n",
       "    <tr>\n",
       "      <th>True</th>\n",
       "      <td>2.046088</td>\n",
       "      <td>8831</td>\n",
       "      <td>0.068869</td>\n",
       "    </tr>\n",
       "  </tbody>\n",
       "</table>\n",
       "</div>"
      ],
      "text/plain": [
       "                       mean  count  stadard err\n",
       "Ethnorace_missing                              \n",
       "False              1.915662  21556     0.042399\n",
       "True               2.046088   8831     0.068869"
      ]
     },
     "execution_count": 506,
     "metadata": {},
     "output_type": "execute_result"
    }
   ],
   "source": [
    "eth = df_SurveyData[['Ethnorace','B1cIllegalDrugs']].copy()\n",
    "eth['Ethnorace_missing'] = eth['Ethnorace'].isnull()\n",
    "eth['B1cIllegalDrugs'] = eth['B1cIllegalDrugs'].astype(float)\n",
    "eth.groupby('Ethnorace_missing').B1cIllegalDrugs.agg({'mean':'mean','count':'count','stadard err':'sem'})"
   ]
  },
  {
   "cell_type": "markdown",
   "metadata": {},
   "source": [
    "Similarly we will keep this column missing values. But we will drop the rest of the columns missing value since their size is too small."
   ]
  },
  {
   "cell_type": "code",
   "execution_count": 507,
   "metadata": {},
   "outputs": [],
   "source": [
    "df_SurveyData['Ethnorace']= df_SurveyData['Ethnorace'].fillna('unknwon')"
   ]
  },
  {
   "cell_type": "code",
   "execution_count": 508,
   "metadata": {},
   "outputs": [
    {
     "data": {
      "text/plain": [
       "True"
      ]
     },
     "execution_count": 508,
     "metadata": {},
     "output_type": "execute_result"
    }
   ],
   "source": [
    "df_SurveyData.isnull().values.any()"
   ]
  },
  {
   "cell_type": "code",
   "execution_count": 509,
   "metadata": {},
   "outputs": [
    {
     "data": {
      "text/plain": [
       "ClientId                         1260\n",
       "SurveyDate                       1260\n",
       "SurveyNumber                     1260\n",
       "InterviewIntake                  1260\n",
       "DOB                              1260\n",
       "Gender                           1261\n",
       "Ethnicity                        1397\n",
       "Ethnorace                           0\n",
       "Veteran                             0\n",
       "C1LivingSituationId              1260\n",
       "D2EducationLevelId               1260\n",
       "D3EmploymentSituationId          1260\n",
       "B1aAlcohol                       1260\n",
       "B1cIllegalDrugs                  1260\n",
       "C2AddictionStressProblemId       1260\n",
       "C4AddictionEmotionalProblemId    1260\n",
       "E1TimesArrested                  1260\n",
       "E4CommitedCrime                  1260\n",
       "F5aDepression                    1260\n",
       "F5bAnxiety                       1260\n",
       "dtype: int64"
      ]
     },
     "execution_count": 509,
     "metadata": {},
     "output_type": "execute_result"
    }
   ],
   "source": [
    "df_SurveyData.isnull().sum()"
   ]
  },
  {
   "cell_type": "code",
   "execution_count": null,
   "metadata": {},
   "outputs": [],
   "source": []
  },
  {
   "cell_type": "markdown",
   "metadata": {},
   "source": [
    "# Making client demographic dataset \n",
    "### first I removed the non-demographic column in Surveydata and then merge the new dataframe with client data\n"
   ]
  },
  {
   "cell_type": "markdown",
   "metadata": {},
   "source": [
    "### Removing the duplicate row in Surveydata and then removing the non-demographic column"
   ]
  },
  {
   "cell_type": "code",
   "execution_count": 510,
   "metadata": {},
   "outputs": [],
   "source": [
    "df=df_SurveyData.drop(['SurveyDate','SurveyNumber','InterviewIntake','C1LivingSituationId', 'D3EmploymentSituationId', 'D3EmploymentSituationId','B1aAlcohol','B1cIllegalDrugs','C2AddictionStressProblemId','C4AddictionEmotionalProblemId','E1TimesArrested','E4CommitedCrime','F5aDepression','F5bAnxiety'], axis=1)"
   ]
  },
  {
   "cell_type": "code",
   "execution_count": 511,
   "metadata": {},
   "outputs": [],
   "source": [
    "df= df.drop_duplicates(subset=['ClientId'], keep='last')\n"
   ]
  },
  {
   "cell_type": "code",
   "execution_count": 512,
   "metadata": {},
   "outputs": [
    {
     "data": {
      "text/html": [
       "<div>\n",
       "<style scoped>\n",
       "    .dataframe tbody tr th:only-of-type {\n",
       "        vertical-align: middle;\n",
       "    }\n",
       "\n",
       "    .dataframe tbody tr th {\n",
       "        vertical-align: top;\n",
       "    }\n",
       "\n",
       "    .dataframe thead th {\n",
       "        text-align: right;\n",
       "    }\n",
       "</style>\n",
       "<table border=\"1\" class=\"dataframe\">\n",
       "  <thead>\n",
       "    <tr style=\"text-align: right;\">\n",
       "      <th></th>\n",
       "      <th>ClientId</th>\n",
       "      <th>DOB</th>\n",
       "      <th>Gender</th>\n",
       "      <th>Ethnicity</th>\n",
       "      <th>Ethnorace</th>\n",
       "      <th>Veteran</th>\n",
       "      <th>D2EducationLevelId</th>\n",
       "    </tr>\n",
       "  </thead>\n",
       "  <tbody>\n",
       "    <tr>\n",
       "      <th>13</th>\n",
       "      <td>37640</td>\n",
       "      <td>1992-01-14</td>\n",
       "      <td>Female</td>\n",
       "      <td>Hispanic or Latino</td>\n",
       "      <td>Hispanic</td>\n",
       "      <td>unknwon</td>\n",
       "      <td>12</td>\n",
       "    </tr>\n",
       "    <tr>\n",
       "      <th>17</th>\n",
       "      <td>37648</td>\n",
       "      <td>1984-12-15</td>\n",
       "      <td>Female</td>\n",
       "      <td>Not Hispanic or Latino</td>\n",
       "      <td>White</td>\n",
       "      <td>unknwon</td>\n",
       "      <td>10</td>\n",
       "    </tr>\n",
       "    <tr>\n",
       "      <th>19</th>\n",
       "      <td>37657</td>\n",
       "      <td>1970-01-14</td>\n",
       "      <td>Female</td>\n",
       "      <td>Not Hispanic or Latino</td>\n",
       "      <td>White</td>\n",
       "      <td>unknwon</td>\n",
       "      <td>12</td>\n",
       "    </tr>\n",
       "    <tr>\n",
       "      <th>29</th>\n",
       "      <td>37690</td>\n",
       "      <td>1992-07-15</td>\n",
       "      <td>Male</td>\n",
       "      <td>Hispanic or Latino</td>\n",
       "      <td>unknwon</td>\n",
       "      <td>unknwon</td>\n",
       "      <td>12</td>\n",
       "    </tr>\n",
       "    <tr>\n",
       "      <th>31</th>\n",
       "      <td>37692</td>\n",
       "      <td>1958-08-14</td>\n",
       "      <td>Female</td>\n",
       "      <td>Hispanic or Latino</td>\n",
       "      <td>unknwon</td>\n",
       "      <td>unknwon</td>\n",
       "      <td>11</td>\n",
       "    </tr>\n",
       "  </tbody>\n",
       "</table>\n",
       "</div>"
      ],
      "text/plain": [
       "   ClientId        DOB  Gender               Ethnicity Ethnorace  Veteran  \\\n",
       "13    37640 1992-01-14  Female      Hispanic or Latino  Hispanic  unknwon   \n",
       "17    37648 1984-12-15  Female  Not Hispanic or Latino     White  unknwon   \n",
       "19    37657 1970-01-14  Female  Not Hispanic or Latino     White  unknwon   \n",
       "29    37690 1992-07-15    Male      Hispanic or Latino   unknwon  unknwon   \n",
       "31    37692 1958-08-14  Female      Hispanic or Latino   unknwon  unknwon   \n",
       "\n",
       "   D2EducationLevelId  \n",
       "13                 12  \n",
       "17                 10  \n",
       "19                 12  \n",
       "29                 12  \n",
       "31                 11  "
      ]
     },
     "execution_count": 512,
     "metadata": {},
     "output_type": "execute_result"
    }
   ],
   "source": [
    "df.head()"
   ]
  },
  {
   "cell_type": "code",
   "execution_count": 513,
   "metadata": {},
   "outputs": [
    {
     "data": {
      "text/plain": [
       "11198"
      ]
     },
     "execution_count": 513,
     "metadata": {},
     "output_type": "execute_result"
    }
   ],
   "source": [
    "len(df['ClientId'])"
   ]
  },
  {
   "cell_type": "code",
   "execution_count": 514,
   "metadata": {},
   "outputs": [
    {
     "data": {
      "text/plain": [
       "47337"
      ]
     },
     "execution_count": 514,
     "metadata": {},
     "output_type": "execute_result"
    }
   ],
   "source": [
    "len(df_ClientData)"
   ]
  },
  {
   "cell_type": "markdown",
   "metadata": {},
   "source": [
    "### Merging Surveydata & Client data"
   ]
  },
  {
   "cell_type": "code",
   "execution_count": 515,
   "metadata": {},
   "outputs": [],
   "source": [
    "ClientDemographic_Data = pd.merge(df, df_ClientData, on=\"ClientId\",how='left')\n"
   ]
  },
  {
   "cell_type": "code",
   "execution_count": 516,
   "metadata": {},
   "outputs": [
    {
     "data": {
      "text/html": [
       "<div>\n",
       "<style scoped>\n",
       "    .dataframe tbody tr th:only-of-type {\n",
       "        vertical-align: middle;\n",
       "    }\n",
       "\n",
       "    .dataframe tbody tr th {\n",
       "        vertical-align: top;\n",
       "    }\n",
       "\n",
       "    .dataframe thead th {\n",
       "        text-align: right;\n",
       "    }\n",
       "</style>\n",
       "<table border=\"1\" class=\"dataframe\">\n",
       "  <thead>\n",
       "    <tr style=\"text-align: right;\">\n",
       "      <th></th>\n",
       "      <th>ClientId</th>\n",
       "      <th>DOB</th>\n",
       "      <th>Gender</th>\n",
       "      <th>Ethnicity</th>\n",
       "      <th>Ethnorace</th>\n",
       "      <th>Veteran</th>\n",
       "      <th>D2EducationLevelId</th>\n",
       "      <th>City</th>\n",
       "      <th>State</th>\n",
       "      <th>Zip</th>\n",
       "    </tr>\n",
       "  </thead>\n",
       "  <tbody>\n",
       "    <tr>\n",
       "      <th>0</th>\n",
       "      <td>37640</td>\n",
       "      <td>1992-01-14</td>\n",
       "      <td>Female</td>\n",
       "      <td>Hispanic or Latino</td>\n",
       "      <td>Hispanic</td>\n",
       "      <td>unknwon</td>\n",
       "      <td>12</td>\n",
       "      <td>Bloomfield</td>\n",
       "      <td>NM</td>\n",
       "      <td>87413</td>\n",
       "    </tr>\n",
       "    <tr>\n",
       "      <th>1</th>\n",
       "      <td>37648</td>\n",
       "      <td>1984-12-15</td>\n",
       "      <td>Female</td>\n",
       "      <td>Not Hispanic or Latino</td>\n",
       "      <td>White</td>\n",
       "      <td>unknwon</td>\n",
       "      <td>10</td>\n",
       "      <td>Aztec</td>\n",
       "      <td>NM</td>\n",
       "      <td>87410</td>\n",
       "    </tr>\n",
       "    <tr>\n",
       "      <th>2</th>\n",
       "      <td>37657</td>\n",
       "      <td>1970-01-14</td>\n",
       "      <td>Female</td>\n",
       "      <td>Not Hispanic or Latino</td>\n",
       "      <td>White</td>\n",
       "      <td>unknwon</td>\n",
       "      <td>12</td>\n",
       "      <td>Alamogordo</td>\n",
       "      <td>NM</td>\n",
       "      <td>88310</td>\n",
       "    </tr>\n",
       "    <tr>\n",
       "      <th>3</th>\n",
       "      <td>37690</td>\n",
       "      <td>1992-07-15</td>\n",
       "      <td>Male</td>\n",
       "      <td>Hispanic or Latino</td>\n",
       "      <td>unknwon</td>\n",
       "      <td>unknwon</td>\n",
       "      <td>12</td>\n",
       "      <td>Albuquerque</td>\n",
       "      <td>NM</td>\n",
       "      <td>87151</td>\n",
       "    </tr>\n",
       "    <tr>\n",
       "      <th>4</th>\n",
       "      <td>37692</td>\n",
       "      <td>1958-08-14</td>\n",
       "      <td>Female</td>\n",
       "      <td>Hispanic or Latino</td>\n",
       "      <td>unknwon</td>\n",
       "      <td>unknwon</td>\n",
       "      <td>11</td>\n",
       "      <td>Alamogordo</td>\n",
       "      <td>NM</td>\n",
       "      <td>88310</td>\n",
       "    </tr>\n",
       "  </tbody>\n",
       "</table>\n",
       "</div>"
      ],
      "text/plain": [
       "  ClientId        DOB  Gender               Ethnicity Ethnorace  Veteran  \\\n",
       "0    37640 1992-01-14  Female      Hispanic or Latino  Hispanic  unknwon   \n",
       "1    37648 1984-12-15  Female  Not Hispanic or Latino     White  unknwon   \n",
       "2    37657 1970-01-14  Female  Not Hispanic or Latino     White  unknwon   \n",
       "3    37690 1992-07-15    Male      Hispanic or Latino   unknwon  unknwon   \n",
       "4    37692 1958-08-14  Female      Hispanic or Latino   unknwon  unknwon   \n",
       "\n",
       "  D2EducationLevelId         City State    Zip  \n",
       "0                 12   Bloomfield    NM  87413  \n",
       "1                 10        Aztec    NM  87410  \n",
       "2                 12   Alamogordo    NM  88310  \n",
       "3                 12  Albuquerque    NM  87151  \n",
       "4                 11   Alamogordo    NM  88310  "
      ]
     },
     "execution_count": 516,
     "metadata": {},
     "output_type": "execute_result"
    }
   ],
   "source": [
    "ClientDemographic_Data.head()"
   ]
  },
  {
   "cell_type": "code",
   "execution_count": 517,
   "metadata": {},
   "outputs": [
    {
     "data": {
      "text/plain": [
       "11198"
      ]
     },
     "execution_count": 517,
     "metadata": {},
     "output_type": "execute_result"
    }
   ],
   "source": [
    "len(ClientDemographic_Data['ClientId'])"
   ]
  },
  {
   "cell_type": "markdown",
   "metadata": {},
   "source": [
    "# Cleaning Service dataset"
   ]
  },
  {
   "cell_type": "code",
   "execution_count": 518,
   "metadata": {
    "scrolled": true
   },
   "outputs": [
    {
     "data": {
      "text/html": [
       "<div>\n",
       "<style scoped>\n",
       "    .dataframe tbody tr th:only-of-type {\n",
       "        vertical-align: middle;\n",
       "    }\n",
       "\n",
       "    .dataframe tbody tr th {\n",
       "        vertical-align: top;\n",
       "    }\n",
       "\n",
       "    .dataframe thead th {\n",
       "        text-align: right;\n",
       "    }\n",
       "</style>\n",
       "<table border=\"1\" class=\"dataframe\">\n",
       "  <thead>\n",
       "    <tr style=\"text-align: right;\">\n",
       "      <th></th>\n",
       "      <th>ClientID</th>\n",
       "      <th>ProviderId</th>\n",
       "      <th>ServiceDt</th>\n",
       "      <th>ServiceAmt</th>\n",
       "      <th>Service</th>\n",
       "      <th>ServiceDesc</th>\n",
       "    </tr>\n",
       "  </thead>\n",
       "  <tbody>\n",
       "    <tr>\n",
       "      <th>1</th>\n",
       "      <td>38825</td>\n",
       "      <td>011P00000000000</td>\n",
       "      <td>2013-04-08</td>\n",
       "      <td>60.0</td>\n",
       "      <td>Massage</td>\n",
       "      <td>Massage, Shiatsu, Acupressure, Rolfing, Felden...</td>\n",
       "    </tr>\n",
       "    <tr>\n",
       "      <th>4</th>\n",
       "      <td>39852</td>\n",
       "      <td>017P00000000000</td>\n",
       "      <td>2013-06-11</td>\n",
       "      <td>3.0</td>\n",
       "      <td>Bus Pass Fee</td>\n",
       "      <td>Bus Pass - Fee</td>\n",
       "    </tr>\n",
       "    <tr>\n",
       "      <th>5</th>\n",
       "      <td>39852</td>\n",
       "      <td>017P00000000000</td>\n",
       "      <td>2013-06-11</td>\n",
       "      <td>10.0</td>\n",
       "      <td>Transportation - Bus pass</td>\n",
       "      <td>Providing means for individual to be transferr...</td>\n",
       "    </tr>\n",
       "    <tr>\n",
       "      <th>8</th>\n",
       "      <td>39852</td>\n",
       "      <td>017P00000000000</td>\n",
       "      <td>2013-06-14</td>\n",
       "      <td>60.0</td>\n",
       "      <td>Acupuncture</td>\n",
       "      <td>Acupuncture</td>\n",
       "    </tr>\n",
       "    <tr>\n",
       "      <th>10</th>\n",
       "      <td>39852</td>\n",
       "      <td>017P00000000000</td>\n",
       "      <td>2013-06-18</td>\n",
       "      <td>60.0</td>\n",
       "      <td>Acupuncture</td>\n",
       "      <td>Acupuncture</td>\n",
       "    </tr>\n",
       "  </tbody>\n",
       "</table>\n",
       "</div>"
      ],
      "text/plain": [
       "   ClientID       ProviderId  ServiceDt  ServiceAmt  \\\n",
       "1     38825  011P00000000000 2013-04-08        60.0   \n",
       "4     39852  017P00000000000 2013-06-11         3.0   \n",
       "5     39852  017P00000000000 2013-06-11        10.0   \n",
       "8     39852  017P00000000000 2013-06-14        60.0   \n",
       "10    39852  017P00000000000 2013-06-18        60.0   \n",
       "\n",
       "                      Service  \\\n",
       "1                     Massage   \n",
       "4                Bus Pass Fee   \n",
       "5   Transportation - Bus pass   \n",
       "8                 Acupuncture   \n",
       "10                Acupuncture   \n",
       "\n",
       "                                          ServiceDesc  \n",
       "1   Massage, Shiatsu, Acupressure, Rolfing, Felden...  \n",
       "4                                      Bus Pass - Fee  \n",
       "5   Providing means for individual to be transferr...  \n",
       "8                                         Acupuncture  \n",
       "10                                        Acupuncture  "
      ]
     },
     "execution_count": 518,
     "metadata": {},
     "output_type": "execute_result"
    }
   ],
   "source": [
    "df_ServiceData.head()"
   ]
  },
  {
   "cell_type": "code",
   "execution_count": 519,
   "metadata": {
    "scrolled": true
   },
   "outputs": [
    {
     "data": {
      "text/html": [
       "<div>\n",
       "<style scoped>\n",
       "    .dataframe tbody tr th:only-of-type {\n",
       "        vertical-align: middle;\n",
       "    }\n",
       "\n",
       "    .dataframe tbody tr th {\n",
       "        vertical-align: top;\n",
       "    }\n",
       "\n",
       "    .dataframe thead th {\n",
       "        text-align: right;\n",
       "    }\n",
       "</style>\n",
       "<table border=\"1\" class=\"dataframe\">\n",
       "  <thead>\n",
       "    <tr style=\"text-align: right;\">\n",
       "      <th></th>\n",
       "      <th>ClientID</th>\n",
       "      <th>ServiceAmt</th>\n",
       "      <th>Service</th>\n",
       "      <th>ServiceNum</th>\n",
       "    </tr>\n",
       "  </thead>\n",
       "  <tbody>\n",
       "    <tr>\n",
       "      <th>1</th>\n",
       "      <td>38825</td>\n",
       "      <td>60.0</td>\n",
       "      <td>Massage</td>\n",
       "      <td>1</td>\n",
       "    </tr>\n",
       "    <tr>\n",
       "      <th>4</th>\n",
       "      <td>39852</td>\n",
       "      <td>3.0</td>\n",
       "      <td>Bus Pass Fee</td>\n",
       "      <td>1</td>\n",
       "    </tr>\n",
       "    <tr>\n",
       "      <th>5</th>\n",
       "      <td>39852</td>\n",
       "      <td>10.0</td>\n",
       "      <td>Transportation - Bus pass</td>\n",
       "      <td>1</td>\n",
       "    </tr>\n",
       "    <tr>\n",
       "      <th>8</th>\n",
       "      <td>39852</td>\n",
       "      <td>60.0</td>\n",
       "      <td>Acupuncture</td>\n",
       "      <td>1</td>\n",
       "    </tr>\n",
       "    <tr>\n",
       "      <th>10</th>\n",
       "      <td>39852</td>\n",
       "      <td>60.0</td>\n",
       "      <td>Acupuncture</td>\n",
       "      <td>1</td>\n",
       "    </tr>\n",
       "  </tbody>\n",
       "</table>\n",
       "</div>"
      ],
      "text/plain": [
       "   ClientID  ServiceAmt                    Service  ServiceNum\n",
       "1     38825        60.0                    Massage           1\n",
       "4     39852         3.0               Bus Pass Fee           1\n",
       "5     39852        10.0  Transportation - Bus pass           1\n",
       "8     39852        60.0                Acupuncture           1\n",
       "10    39852        60.0                Acupuncture           1"
      ]
     },
     "execution_count": 519,
     "metadata": {},
     "output_type": "execute_result"
    }
   ],
   "source": [
    "newdf_ServiceData=df_ServiceData.drop(['ProviderId','ServiceDt','ServiceDesc'], axis=1)\n",
    "newdf_ServiceData = newdf_ServiceData.assign(ServiceNum=1)\n",
    "\n",
    "newdf_ServiceData.head()"
   ]
  },
  {
   "cell_type": "markdown",
   "metadata": {},
   "source": [
    "### Two new column, was created based on value of ServiceAmt, ServiceNum\n",
    "### Column ServiceAmt sum is the sum of Service Amount and the column ServiceNum Total is the total number of service"
   ]
  },
  {
   "cell_type": "code",
   "execution_count": 520,
   "metadata": {},
   "outputs": [],
   "source": [
    "newdf_ServiceData=newdf_ServiceData.groupby('ClientID').agg({'ServiceAmt': 'sum', 'ServiceNum':'count'}).reset_index().rename(columns={'ServiceAmt':'ServiceAmt sum', 'ServiceNum': 'ServiceNum Total'})"
   ]
  },
  {
   "cell_type": "code",
   "execution_count": 521,
   "metadata": {},
   "outputs": [
    {
     "data": {
      "text/plain": [
       "10987"
      ]
     },
     "execution_count": 521,
     "metadata": {},
     "output_type": "execute_result"
    }
   ],
   "source": [
    "len(newdf_ServiceData)"
   ]
  },
  {
   "cell_type": "code",
   "execution_count": 522,
   "metadata": {},
   "outputs": [
    {
     "data": {
      "text/html": [
       "<div>\n",
       "<style scoped>\n",
       "    .dataframe tbody tr th:only-of-type {\n",
       "        vertical-align: middle;\n",
       "    }\n",
       "\n",
       "    .dataframe tbody tr th {\n",
       "        vertical-align: top;\n",
       "    }\n",
       "\n",
       "    .dataframe thead th {\n",
       "        text-align: right;\n",
       "    }\n",
       "</style>\n",
       "<table border=\"1\" class=\"dataframe\">\n",
       "  <thead>\n",
       "    <tr style=\"text-align: right;\">\n",
       "      <th></th>\n",
       "      <th>ClientID</th>\n",
       "      <th>ServiceAmt sum</th>\n",
       "      <th>ServiceNum Total</th>\n",
       "    </tr>\n",
       "  </thead>\n",
       "  <tbody>\n",
       "    <tr>\n",
       "      <th>4818</th>\n",
       "      <td>12000000030161</td>\n",
       "      <td>3475.0</td>\n",
       "      <td>55</td>\n",
       "    </tr>\n",
       "    <tr>\n",
       "      <th>8955</th>\n",
       "      <td>23000000038072</td>\n",
       "      <td>2996.0</td>\n",
       "      <td>47</td>\n",
       "    </tr>\n",
       "    <tr>\n",
       "      <th>5031</th>\n",
       "      <td>12000000032072</td>\n",
       "      <td>2938.0</td>\n",
       "      <td>58</td>\n",
       "    </tr>\n",
       "    <tr>\n",
       "      <th>1302</th>\n",
       "      <td>3000000033079</td>\n",
       "      <td>2904.0</td>\n",
       "      <td>53</td>\n",
       "    </tr>\n",
       "    <tr>\n",
       "      <th>8999</th>\n",
       "      <td>23000000039608</td>\n",
       "      <td>2894.0</td>\n",
       "      <td>47</td>\n",
       "    </tr>\n",
       "  </tbody>\n",
       "</table>\n",
       "</div>"
      ],
      "text/plain": [
       "            ClientID  ServiceAmt sum  ServiceNum Total\n",
       "4818  12000000030161          3475.0                55\n",
       "8955  23000000038072          2996.0                47\n",
       "5031  12000000032072          2938.0                58\n",
       "1302   3000000033079          2904.0                53\n",
       "8999  23000000039608          2894.0                47"
      ]
     },
     "execution_count": 522,
     "metadata": {},
     "output_type": "execute_result"
    }
   ],
   "source": [
    "newdf_ServiceData.sort_values('ServiceAmt sum',ascending=False).head()"
   ]
  },
  {
   "cell_type": "code",
   "execution_count": 523,
   "metadata": {},
   "outputs": [],
   "source": [
    "newdf_ServiceData = newdf_ServiceData.rename(columns={\"ClientID\": \"ClientId\"})\n"
   ]
  },
  {
   "cell_type": "code",
   "execution_count": 524,
   "metadata": {},
   "outputs": [
    {
     "data": {
      "text/html": [
       "<div>\n",
       "<style scoped>\n",
       "    .dataframe tbody tr th:only-of-type {\n",
       "        vertical-align: middle;\n",
       "    }\n",
       "\n",
       "    .dataframe tbody tr th {\n",
       "        vertical-align: top;\n",
       "    }\n",
       "\n",
       "    .dataframe thead th {\n",
       "        text-align: right;\n",
       "    }\n",
       "</style>\n",
       "<table border=\"1\" class=\"dataframe\">\n",
       "  <thead>\n",
       "    <tr style=\"text-align: right;\">\n",
       "      <th></th>\n",
       "      <th>ClientId</th>\n",
       "      <th>ServiceAmt sum</th>\n",
       "      <th>ServiceNum Total</th>\n",
       "    </tr>\n",
       "  </thead>\n",
       "  <tbody>\n",
       "    <tr>\n",
       "      <th>0</th>\n",
       "      <td>37914</td>\n",
       "      <td>1857.0</td>\n",
       "      <td>38</td>\n",
       "    </tr>\n",
       "    <tr>\n",
       "      <th>1</th>\n",
       "      <td>38022</td>\n",
       "      <td>830.0</td>\n",
       "      <td>15</td>\n",
       "    </tr>\n",
       "    <tr>\n",
       "      <th>2</th>\n",
       "      <td>38047</td>\n",
       "      <td>430.0</td>\n",
       "      <td>8</td>\n",
       "    </tr>\n",
       "    <tr>\n",
       "      <th>3</th>\n",
       "      <td>38063</td>\n",
       "      <td>850.0</td>\n",
       "      <td>21</td>\n",
       "    </tr>\n",
       "    <tr>\n",
       "      <th>4</th>\n",
       "      <td>38410</td>\n",
       "      <td>1870.0</td>\n",
       "      <td>41</td>\n",
       "    </tr>\n",
       "  </tbody>\n",
       "</table>\n",
       "</div>"
      ],
      "text/plain": [
       "  ClientId  ServiceAmt sum  ServiceNum Total\n",
       "0    37914          1857.0                38\n",
       "1    38022           830.0                15\n",
       "2    38047           430.0                 8\n",
       "3    38063           850.0                21\n",
       "4    38410          1870.0                41"
      ]
     },
     "execution_count": 524,
     "metadata": {},
     "output_type": "execute_result"
    }
   ],
   "source": [
    "newdf_ServiceData.head()"
   ]
  },
  {
   "cell_type": "code",
   "execution_count": 525,
   "metadata": {},
   "outputs": [],
   "source": [
    "AlL_ClientData = pd.merge(ClientDemographic_Data, newdf_ServiceData, on=\"ClientId\",how='left')\n"
   ]
  },
  {
   "cell_type": "code",
   "execution_count": 526,
   "metadata": {},
   "outputs": [
    {
     "data": {
      "text/html": [
       "<div>\n",
       "<style scoped>\n",
       "    .dataframe tbody tr th:only-of-type {\n",
       "        vertical-align: middle;\n",
       "    }\n",
       "\n",
       "    .dataframe tbody tr th {\n",
       "        vertical-align: top;\n",
       "    }\n",
       "\n",
       "    .dataframe thead th {\n",
       "        text-align: right;\n",
       "    }\n",
       "</style>\n",
       "<table border=\"1\" class=\"dataframe\">\n",
       "  <thead>\n",
       "    <tr style=\"text-align: right;\">\n",
       "      <th></th>\n",
       "      <th>ClientId</th>\n",
       "      <th>DOB</th>\n",
       "      <th>Gender</th>\n",
       "      <th>Ethnicity</th>\n",
       "      <th>Ethnorace</th>\n",
       "      <th>Veteran</th>\n",
       "      <th>D2EducationLevelId</th>\n",
       "      <th>City</th>\n",
       "      <th>State</th>\n",
       "      <th>Zip</th>\n",
       "      <th>ServiceAmt sum</th>\n",
       "      <th>ServiceNum Total</th>\n",
       "    </tr>\n",
       "  </thead>\n",
       "  <tbody>\n",
       "    <tr>\n",
       "      <th>0</th>\n",
       "      <td>37640</td>\n",
       "      <td>1992-01-14</td>\n",
       "      <td>Female</td>\n",
       "      <td>Hispanic or Latino</td>\n",
       "      <td>Hispanic</td>\n",
       "      <td>unknwon</td>\n",
       "      <td>12</td>\n",
       "      <td>Bloomfield</td>\n",
       "      <td>NM</td>\n",
       "      <td>87413</td>\n",
       "      <td>NaN</td>\n",
       "      <td>NaN</td>\n",
       "    </tr>\n",
       "    <tr>\n",
       "      <th>1</th>\n",
       "      <td>37648</td>\n",
       "      <td>1984-12-15</td>\n",
       "      <td>Female</td>\n",
       "      <td>Not Hispanic or Latino</td>\n",
       "      <td>White</td>\n",
       "      <td>unknwon</td>\n",
       "      <td>10</td>\n",
       "      <td>Aztec</td>\n",
       "      <td>NM</td>\n",
       "      <td>87410</td>\n",
       "      <td>NaN</td>\n",
       "      <td>NaN</td>\n",
       "    </tr>\n",
       "    <tr>\n",
       "      <th>2</th>\n",
       "      <td>37657</td>\n",
       "      <td>1970-01-14</td>\n",
       "      <td>Female</td>\n",
       "      <td>Not Hispanic or Latino</td>\n",
       "      <td>White</td>\n",
       "      <td>unknwon</td>\n",
       "      <td>12</td>\n",
       "      <td>Alamogordo</td>\n",
       "      <td>NM</td>\n",
       "      <td>88310</td>\n",
       "      <td>NaN</td>\n",
       "      <td>NaN</td>\n",
       "    </tr>\n",
       "    <tr>\n",
       "      <th>3</th>\n",
       "      <td>37690</td>\n",
       "      <td>1992-07-15</td>\n",
       "      <td>Male</td>\n",
       "      <td>Hispanic or Latino</td>\n",
       "      <td>unknwon</td>\n",
       "      <td>unknwon</td>\n",
       "      <td>12</td>\n",
       "      <td>Albuquerque</td>\n",
       "      <td>NM</td>\n",
       "      <td>87151</td>\n",
       "      <td>NaN</td>\n",
       "      <td>NaN</td>\n",
       "    </tr>\n",
       "    <tr>\n",
       "      <th>4</th>\n",
       "      <td>37692</td>\n",
       "      <td>1958-08-14</td>\n",
       "      <td>Female</td>\n",
       "      <td>Hispanic or Latino</td>\n",
       "      <td>unknwon</td>\n",
       "      <td>unknwon</td>\n",
       "      <td>11</td>\n",
       "      <td>Alamogordo</td>\n",
       "      <td>NM</td>\n",
       "      <td>88310</td>\n",
       "      <td>NaN</td>\n",
       "      <td>NaN</td>\n",
       "    </tr>\n",
       "  </tbody>\n",
       "</table>\n",
       "</div>"
      ],
      "text/plain": [
       "  ClientId        DOB  Gender               Ethnicity Ethnorace  Veteran  \\\n",
       "0    37640 1992-01-14  Female      Hispanic or Latino  Hispanic  unknwon   \n",
       "1    37648 1984-12-15  Female  Not Hispanic or Latino     White  unknwon   \n",
       "2    37657 1970-01-14  Female  Not Hispanic or Latino     White  unknwon   \n",
       "3    37690 1992-07-15    Male      Hispanic or Latino   unknwon  unknwon   \n",
       "4    37692 1958-08-14  Female      Hispanic or Latino   unknwon  unknwon   \n",
       "\n",
       "  D2EducationLevelId         City State    Zip  ServiceAmt sum  \\\n",
       "0                 12   Bloomfield    NM  87413             NaN   \n",
       "1                 10        Aztec    NM  87410             NaN   \n",
       "2                 12   Alamogordo    NM  88310             NaN   \n",
       "3                 12  Albuquerque    NM  87151             NaN   \n",
       "4                 11   Alamogordo    NM  88310             NaN   \n",
       "\n",
       "   ServiceNum Total  \n",
       "0               NaN  \n",
       "1               NaN  \n",
       "2               NaN  \n",
       "3               NaN  \n",
       "4               NaN  "
      ]
     },
     "execution_count": 526,
     "metadata": {},
     "output_type": "execute_result"
    }
   ],
   "source": [
    "AlL_ClientData.head()"
   ]
  },
  {
   "cell_type": "code",
   "execution_count": 527,
   "metadata": {},
   "outputs": [
    {
     "data": {
      "text/plain": [
       "11198"
      ]
     },
     "execution_count": 527,
     "metadata": {},
     "output_type": "execute_result"
    }
   ],
   "source": [
    "len(AlL_ClientData)"
   ]
  },
  {
   "cell_type": "markdown",
   "metadata": {},
   "source": [
    "# # Export Data for further analysis"
   ]
  },
  {
   "cell_type": "code",
   "execution_count": null,
   "metadata": {},
   "outputs": [],
   "source": []
  },
  {
   "cell_type": "code",
   "execution_count": null,
   "metadata": {},
   "outputs": [],
   "source": []
  },
  {
   "cell_type": "markdown",
   "metadata": {},
   "source": [
    "### Creating age group"
   ]
  },
  {
   "cell_type": "code",
   "execution_count": 528,
   "metadata": {
    "scrolled": false
   },
   "outputs": [
    {
     "data": {
      "text/plain": [
       "count                   11197\n",
       "unique                    654\n",
       "top       1984-11-14 00:00:00\n",
       "freq                       51\n",
       "first     1920-07-15 00:00:00\n",
       "last      1999-12-15 00:00:00\n",
       "Name: DOB, dtype: object"
      ]
     },
     "execution_count": 528,
     "metadata": {},
     "output_type": "execute_result"
    }
   ],
   "source": [
    "AlL_ClientData['DOB'].describe()"
   ]
  },
  {
   "cell_type": "code",
   "execution_count": 529,
   "metadata": {},
   "outputs": [],
   "source": [
    "from datetime import date\n",
    "AlL_ClientData['Date'] = pd.to_datetime(AlL_ClientData.DOB)\n"
   ]
  },
  {
   "cell_type": "code",
   "execution_count": 530,
   "metadata": {},
   "outputs": [],
   "source": [
    "  \n",
    "def calculateAge(birthDate): \n",
    "    today = date.today() \n",
    "    age = today.year - birthDate.year - ((today.month, today.day) < (birthDate.month, birthDate.day)) \n",
    "    return age "
   ]
  },
  {
   "cell_type": "code",
   "execution_count": 531,
   "metadata": {},
   "outputs": [],
   "source": [
    "AlL_ClientData['age']= AlL_ClientData['Date'].apply(lambda x: calculateAge(x))\n"
   ]
  },
  {
   "cell_type": "code",
   "execution_count": null,
   "metadata": {},
   "outputs": [],
   "source": []
  },
  {
   "cell_type": "code",
   "execution_count": 532,
   "metadata": {},
   "outputs": [],
   "source": [
    "\n",
    "bins= [0,30,60,100]\n",
    "labels = ['Young','Middle_aged','Old']\n",
    "AlL_ClientData['AgeGroup'] = pd.cut(AlL_ClientData['age'], bins=bins, labels=labels, right=False)\n"
   ]
  },
  {
   "cell_type": "code",
   "execution_count": 533,
   "metadata": {},
   "outputs": [],
   "source": [
    "AlL_ClientData =  AlL_ClientData.drop(['DOB','Date'], axis=1)\n"
   ]
  },
  {
   "cell_type": "code",
   "execution_count": 534,
   "metadata": {},
   "outputs": [],
   "source": [
    "AlL_ClientData['D2EducationLevelId'] = AlL_ClientData['D2EducationLevelId'].astype(float)\n"
   ]
  },
  {
   "cell_type": "code",
   "execution_count": 535,
   "metadata": {
    "scrolled": true
   },
   "outputs": [
    {
     "data": {
      "text/html": [
       "<div>\n",
       "<style scoped>\n",
       "    .dataframe tbody tr th:only-of-type {\n",
       "        vertical-align: middle;\n",
       "    }\n",
       "\n",
       "    .dataframe tbody tr th {\n",
       "        vertical-align: top;\n",
       "    }\n",
       "\n",
       "    .dataframe thead th {\n",
       "        text-align: right;\n",
       "    }\n",
       "</style>\n",
       "<table border=\"1\" class=\"dataframe\">\n",
       "  <thead>\n",
       "    <tr style=\"text-align: right;\">\n",
       "      <th></th>\n",
       "      <th>ClientId</th>\n",
       "      <th>Gender</th>\n",
       "      <th>Ethnicity</th>\n",
       "      <th>Ethnorace</th>\n",
       "      <th>Veteran</th>\n",
       "      <th>D2EducationLevelId</th>\n",
       "      <th>City</th>\n",
       "      <th>State</th>\n",
       "      <th>Zip</th>\n",
       "      <th>ServiceAmt sum</th>\n",
       "      <th>ServiceNum Total</th>\n",
       "      <th>age</th>\n",
       "      <th>AgeGroup</th>\n",
       "    </tr>\n",
       "  </thead>\n",
       "  <tbody>\n",
       "    <tr>\n",
       "      <th>0</th>\n",
       "      <td>37640</td>\n",
       "      <td>Female</td>\n",
       "      <td>Hispanic or Latino</td>\n",
       "      <td>Hispanic</td>\n",
       "      <td>unknwon</td>\n",
       "      <td>12.0</td>\n",
       "      <td>Bloomfield</td>\n",
       "      <td>NM</td>\n",
       "      <td>87413</td>\n",
       "      <td>NaN</td>\n",
       "      <td>NaN</td>\n",
       "      <td>28.0</td>\n",
       "      <td>Young</td>\n",
       "    </tr>\n",
       "    <tr>\n",
       "      <th>1</th>\n",
       "      <td>37648</td>\n",
       "      <td>Female</td>\n",
       "      <td>Not Hispanic or Latino</td>\n",
       "      <td>White</td>\n",
       "      <td>unknwon</td>\n",
       "      <td>10.0</td>\n",
       "      <td>Aztec</td>\n",
       "      <td>NM</td>\n",
       "      <td>87410</td>\n",
       "      <td>NaN</td>\n",
       "      <td>NaN</td>\n",
       "      <td>35.0</td>\n",
       "      <td>Middle_aged</td>\n",
       "    </tr>\n",
       "    <tr>\n",
       "      <th>2</th>\n",
       "      <td>37657</td>\n",
       "      <td>Female</td>\n",
       "      <td>Not Hispanic or Latino</td>\n",
       "      <td>White</td>\n",
       "      <td>unknwon</td>\n",
       "      <td>12.0</td>\n",
       "      <td>Alamogordo</td>\n",
       "      <td>NM</td>\n",
       "      <td>88310</td>\n",
       "      <td>NaN</td>\n",
       "      <td>NaN</td>\n",
       "      <td>50.0</td>\n",
       "      <td>Middle_aged</td>\n",
       "    </tr>\n",
       "    <tr>\n",
       "      <th>3</th>\n",
       "      <td>37690</td>\n",
       "      <td>Male</td>\n",
       "      <td>Hispanic or Latino</td>\n",
       "      <td>unknwon</td>\n",
       "      <td>unknwon</td>\n",
       "      <td>12.0</td>\n",
       "      <td>Albuquerque</td>\n",
       "      <td>NM</td>\n",
       "      <td>87151</td>\n",
       "      <td>NaN</td>\n",
       "      <td>NaN</td>\n",
       "      <td>28.0</td>\n",
       "      <td>Young</td>\n",
       "    </tr>\n",
       "    <tr>\n",
       "      <th>4</th>\n",
       "      <td>37692</td>\n",
       "      <td>Female</td>\n",
       "      <td>Hispanic or Latino</td>\n",
       "      <td>unknwon</td>\n",
       "      <td>unknwon</td>\n",
       "      <td>11.0</td>\n",
       "      <td>Alamogordo</td>\n",
       "      <td>NM</td>\n",
       "      <td>88310</td>\n",
       "      <td>NaN</td>\n",
       "      <td>NaN</td>\n",
       "      <td>62.0</td>\n",
       "      <td>Old</td>\n",
       "    </tr>\n",
       "  </tbody>\n",
       "</table>\n",
       "</div>"
      ],
      "text/plain": [
       "  ClientId  Gender               Ethnicity Ethnorace  Veteran  \\\n",
       "0    37640  Female      Hispanic or Latino  Hispanic  unknwon   \n",
       "1    37648  Female  Not Hispanic or Latino     White  unknwon   \n",
       "2    37657  Female  Not Hispanic or Latino     White  unknwon   \n",
       "3    37690    Male      Hispanic or Latino   unknwon  unknwon   \n",
       "4    37692  Female      Hispanic or Latino   unknwon  unknwon   \n",
       "\n",
       "   D2EducationLevelId         City State    Zip  ServiceAmt sum  \\\n",
       "0                12.0   Bloomfield    NM  87413             NaN   \n",
       "1                10.0        Aztec    NM  87410             NaN   \n",
       "2                12.0   Alamogordo    NM  88310             NaN   \n",
       "3                12.0  Albuquerque    NM  87151             NaN   \n",
       "4                11.0   Alamogordo    NM  88310             NaN   \n",
       "\n",
       "   ServiceNum Total   age     AgeGroup  \n",
       "0               NaN  28.0        Young  \n",
       "1               NaN  35.0  Middle_aged  \n",
       "2               NaN  50.0  Middle_aged  \n",
       "3               NaN  28.0        Young  \n",
       "4               NaN  62.0          Old  "
      ]
     },
     "execution_count": 535,
     "metadata": {},
     "output_type": "execute_result"
    }
   ],
   "source": [
    "AlL_ClientData.head()"
   ]
  },
  {
   "cell_type": "code",
   "execution_count": null,
   "metadata": {},
   "outputs": [],
   "source": []
  },
  {
   "cell_type": "markdown",
   "metadata": {},
   "source": [
    "# Data Visualization\n"
   ]
  },
  {
   "cell_type": "code",
   "execution_count": 536,
   "metadata": {},
   "outputs": [],
   "source": [
    "import seaborn as sns\n",
    "import matplotlib.pyplot as plt\n",
    " "
   ]
  },
  {
   "cell_type": "code",
   "execution_count": null,
   "metadata": {},
   "outputs": [],
   "source": []
  },
  {
   "cell_type": "code",
   "execution_count": 537,
   "metadata": {},
   "outputs": [
    {
     "name": "stderr",
     "output_type": "stream",
     "text": [
      "C:\\Users\\shafa\\AppData\\Local\\Continuum\\anaconda3\\lib\\site-packages\\scipy\\stats\\stats.py:1713: FutureWarning: Using a non-tuple sequence for multidimensional indexing is deprecated; use `arr[tuple(seq)]` instead of `arr[seq]`. In the future this will be interpreted as an array index, `arr[np.array(seq)]`, which will result either in an error or a different result.\n",
      "  return np.add.reduce(sorted[indexer] * weights, axis=axis) / sumval\n"
     ]
    },
    {
     "data": {
      "text/plain": [
       "<seaborn.axisgrid.FacetGrid at 0x1be23e0d2e8>"
      ]
     },
     "execution_count": 537,
     "metadata": {},
     "output_type": "execute_result"
    },
    {
     "data": {
      "image/png": "[encoded data removed]",
      "text/plain": [
       "<Figure size 508.35x432 with 1 Axes>"
      ]
     },
     "metadata": {},
     "output_type": "display_data"
    }
   ],
   "source": [
    "sns.set(style=\"whitegrid\")\n",
    "\n",
    "g = sns.catplot(x=\"AgeGroup\", y=\"ServiceAmt sum\", hue=\"Gender\", data=AlL_ClientData,\n",
    "                height=6, kind=\"bar\", palette=\"muted\")\n",
    "g.despine(left=True)\n",
    "g.set_ylabels(\"Total Service Amount (min)\")\n",
    "g.set_xlabels(\"Age Group\")\n"
   ]
  },
  {
   "cell_type": "code",
   "execution_count": null,
   "metadata": {},
   "outputs": [],
   "source": []
  },
  {
   "cell_type": "code",
   "execution_count": 538,
   "metadata": {},
   "outputs": [
    {
     "name": "stderr",
     "output_type": "stream",
     "text": [
      "C:\\Users\\shafa\\AppData\\Local\\Continuum\\anaconda3\\lib\\site-packages\\scipy\\stats\\stats.py:1713: FutureWarning: Using a non-tuple sequence for multidimensional indexing is deprecated; use `arr[tuple(seq)]` instead of `arr[seq]`. In the future this will be interpreted as an array index, `arr[np.array(seq)]`, which will result either in an error or a different result.\n",
      "  return np.add.reduce(sorted[indexer] * weights, axis=axis) / sumval\n"
     ]
    },
    {
     "data": {
      "text/plain": [
       "<seaborn.axisgrid.FacetGrid at 0x1be10bd6588>"
      ]
     },
     "execution_count": 538,
     "metadata": {},
     "output_type": "execute_result"
    },
    {
     "data": {
      "image/png": "[encoded data removed]",
      "text/plain": [
       "<Figure size 508.35x432 with 1 Axes>"
      ]
     },
     "metadata": {},
     "output_type": "display_data"
    }
   ],
   "source": [
    "sns.set(style=\"whitegrid\")\n",
    "\n",
    "g = sns.catplot(x=\"AgeGroup\", y=\"ServiceNum Total\", hue=\"Gender\", data=AlL_ClientData,\n",
    "                height=6, kind=\"bar\", palette=\"muted\")\n",
    "g.despine(left=True)\n",
    "g.set_ylabels(\"Total Service Number\")\n",
    "g.set_xlabels(\"Age Group\")"
   ]
  },
  {
   "cell_type": "code",
   "execution_count": null,
   "metadata": {},
   "outputs": [],
   "source": []
  },
  {
   "cell_type": "code",
   "execution_count": 539,
   "metadata": {
    "scrolled": true
   },
   "outputs": [
    {
     "name": "stderr",
     "output_type": "stream",
     "text": [
      "C:\\Users\\shafa\\AppData\\Local\\Continuum\\anaconda3\\lib\\site-packages\\scipy\\stats\\stats.py:1713: FutureWarning: Using a non-tuple sequence for multidimensional indexing is deprecated; use `arr[tuple(seq)]` instead of `arr[seq]`. In the future this will be interpreted as an array index, `arr[np.array(seq)]`, which will result either in an error or a different result.\n",
      "  return np.add.reduce(sorted[indexer] * weights, axis=axis) / sumval\n"
     ]
    },
    {
     "data": {
      "text/plain": [
       "<seaborn.axisgrid.FacetGrid at 0x1be2c994400>"
      ]
     },
     "execution_count": 539,
     "metadata": {},
     "output_type": "execute_result"
    },
    {
     "data": {
      "image/png": "[encoded data removed]",
      "text/plain": [
       "<Figure size 534.85x432 with 1 Axes>"
      ]
     },
     "metadata": {},
     "output_type": "display_data"
    }
   ],
   "source": [
    "sns.set(style=\"whitegrid\")\n",
    "\n",
    "g = sns.catplot(x=\"Veteran\", y=\"ServiceAmt sum\", hue=\"AgeGroup\", data=AlL_ClientData,\n",
    "                height=6, kind=\"bar\", palette=\"muted\")\n",
    "g.despine(left=True)\n",
    "g.set_ylabels(\"Total Service Amount (min)\")\n",
    "g.set_xlabels(\"Veteran\")"
   ]
  },
  {
   "cell_type": "code",
   "execution_count": 540,
   "metadata": {},
   "outputs": [
    {
     "name": "stderr",
     "output_type": "stream",
     "text": [
      "C:\\Users\\shafa\\AppData\\Local\\Continuum\\anaconda3\\lib\\site-packages\\scipy\\stats\\stats.py:1713: FutureWarning: Using a non-tuple sequence for multidimensional indexing is deprecated; use `arr[tuple(seq)]` instead of `arr[seq]`. In the future this will be interpreted as an array index, `arr[np.array(seq)]`, which will result either in an error or a different result.\n",
      "  return np.add.reduce(sorted[indexer] * weights, axis=axis) / sumval\n"
     ]
    },
    {
     "data": {
      "text/plain": [
       "<seaborn.axisgrid.FacetGrid at 0x1be30087fd0>"
      ]
     },
     "execution_count": 540,
     "metadata": {},
     "output_type": "execute_result"
    },
    {
     "data": {
      "image/png": "[encoded data removed]",
      "text/plain": [
       "<Figure size 1372.35x432 with 1 Axes>"
      ]
     },
     "metadata": {},
     "output_type": "display_data"
    }
   ],
   "source": [
    "sns.set(style=\"whitegrid\")\n",
    "\n",
    "g = sns.catplot(x=\"Ethnorace\", y=\"ServiceAmt sum\", hue=\"Gender\", data=AlL_ClientData,\n",
    "                height=6, aspect=3, kind=\"bar\", palette=\"muted\")\n",
    "g.despine(left=True)\n",
    "g.set_ylabels(\"Total Service Amount (min)\")\n",
    "g.set_xlabels(\"Ethnorace\")"
   ]
  },
  {
   "cell_type": "code",
   "execution_count": 541,
   "metadata": {},
   "outputs": [],
   "source": [
    "SurveyData_plotData = df_SurveyData.drop(['DOB','ClientId','SurveyDate','SurveyNumber','InterviewIntake','Gender','Ethnicity','Ethnorace','Veteran'], axis=1)\n"
   ]
  },
  {
   "cell_type": "code",
   "execution_count": 542,
   "metadata": {
    "scrolled": true
   },
   "outputs": [
    {
     "data": {
      "text/html": [
       "<div>\n",
       "<style scoped>\n",
       "    .dataframe tbody tr th:only-of-type {\n",
       "        vertical-align: middle;\n",
       "    }\n",
       "\n",
       "    .dataframe tbody tr th {\n",
       "        vertical-align: top;\n",
       "    }\n",
       "\n",
       "    .dataframe thead th {\n",
       "        text-align: right;\n",
       "    }\n",
       "</style>\n",
       "<table border=\"1\" class=\"dataframe\">\n",
       "  <thead>\n",
       "    <tr style=\"text-align: right;\">\n",
       "      <th></th>\n",
       "      <th>C1LivingSituationId</th>\n",
       "      <th>D2EducationLevelId</th>\n",
       "      <th>D3EmploymentSituationId</th>\n",
       "      <th>B1aAlcohol</th>\n",
       "      <th>B1cIllegalDrugs</th>\n",
       "      <th>C2AddictionStressProblemId</th>\n",
       "      <th>C4AddictionEmotionalProblemId</th>\n",
       "      <th>E1TimesArrested</th>\n",
       "      <th>E4CommitedCrime</th>\n",
       "      <th>F5aDepression</th>\n",
       "      <th>F5bAnxiety</th>\n",
       "    </tr>\n",
       "  </thead>\n",
       "  <tbody>\n",
       "    <tr>\n",
       "      <th>12</th>\n",
       "      <td>41</td>\n",
       "      <td>12</td>\n",
       "      <td>3</td>\n",
       "      <td>0</td>\n",
       "      <td>0</td>\n",
       "      <td>5</td>\n",
       "      <td>5</td>\n",
       "      <td>0</td>\n",
       "      <td>0</td>\n",
       "      <td>5</td>\n",
       "      <td>5</td>\n",
       "    </tr>\n",
       "    <tr>\n",
       "      <th>13</th>\n",
       "      <td>3</td>\n",
       "      <td>12</td>\n",
       "      <td>7</td>\n",
       "      <td>0</td>\n",
       "      <td>0</td>\n",
       "      <td>5</td>\n",
       "      <td>5</td>\n",
       "      <td>1</td>\n",
       "      <td>1</td>\n",
       "      <td>30</td>\n",
       "      <td>1</td>\n",
       "    </tr>\n",
       "    <tr>\n",
       "      <th>16</th>\n",
       "      <td>41</td>\n",
       "      <td>10</td>\n",
       "      <td>3</td>\n",
       "      <td>0</td>\n",
       "      <td>0</td>\n",
       "      <td>5</td>\n",
       "      <td>5</td>\n",
       "      <td>0</td>\n",
       "      <td>0</td>\n",
       "      <td>0</td>\n",
       "      <td>0</td>\n",
       "    </tr>\n",
       "    <tr>\n",
       "      <th>17</th>\n",
       "      <td>41</td>\n",
       "      <td>10</td>\n",
       "      <td>7</td>\n",
       "      <td>29</td>\n",
       "      <td>1</td>\n",
       "      <td>4</td>\n",
       "      <td>4</td>\n",
       "      <td>0</td>\n",
       "      <td>1</td>\n",
       "      <td>30</td>\n",
       "      <td>30</td>\n",
       "    </tr>\n",
       "    <tr>\n",
       "      <th>18</th>\n",
       "      <td>NaN</td>\n",
       "      <td>NaN</td>\n",
       "      <td>NaN</td>\n",
       "      <td>NaN</td>\n",
       "      <td>NaN</td>\n",
       "      <td>NaN</td>\n",
       "      <td>NaN</td>\n",
       "      <td>NaN</td>\n",
       "      <td>NaN</td>\n",
       "      <td>NaN</td>\n",
       "      <td>NaN</td>\n",
       "    </tr>\n",
       "  </tbody>\n",
       "</table>\n",
       "</div>"
      ],
      "text/plain": [
       "   C1LivingSituationId D2EducationLevelId D3EmploymentSituationId B1aAlcohol  \\\n",
       "12                  41                 12                       3          0   \n",
       "13                   3                 12                       7          0   \n",
       "16                  41                 10                       3          0   \n",
       "17                  41                 10                       7         29   \n",
       "18                 NaN                NaN                     NaN        NaN   \n",
       "\n",
       "   B1cIllegalDrugs C2AddictionStressProblemId C4AddictionEmotionalProblemId  \\\n",
       "12               0                          5                             5   \n",
       "13               0                          5                             5   \n",
       "16               0                          5                             5   \n",
       "17               1                          4                             4   \n",
       "18             NaN                        NaN                           NaN   \n",
       "\n",
       "   E1TimesArrested E4CommitedCrime F5aDepression F5bAnxiety  \n",
       "12               0               0             5          5  \n",
       "13               1               1            30          1  \n",
       "16               0               0             0          0  \n",
       "17               0               1            30         30  \n",
       "18             NaN             NaN           NaN        NaN  "
      ]
     },
     "execution_count": 542,
     "metadata": {},
     "output_type": "execute_result"
    }
   ],
   "source": [
    "SurveyData_plotData.head()"
   ]
  },
  {
   "cell_type": "code",
   "execution_count": 543,
   "metadata": {},
   "outputs": [],
   "source": [
    "SurveyData_plotData = SurveyData_plotData.astype(float) \n"
   ]
  },
  {
   "cell_type": "code",
   "execution_count": 544,
   "metadata": {},
   "outputs": [],
   "source": [
    "SurveyData_plotData = SurveyData_plotData.dropna()"
   ]
  },
  {
   "cell_type": "code",
   "execution_count": 546,
   "metadata": {},
   "outputs": [
    {
     "data": {
      "text/plain": [
       "<seaborn.axisgrid.PairGrid at 0x1be065fb3c8>"
      ]
     },
     "execution_count": 546,
     "metadata": {},
     "output_type": "execute_result"
    },
    {
     "data": {
      "image/png": "[encoded data removed]",
      "text/plain": [
       "<Figure size 540x540 with 12 Axes>"
      ]
     },
     "metadata": {},
     "output_type": "display_data"
    }
   ],
   "source": [
    "sns.set(style=\"ticks\", color_codes=True)\n",
    "sns.pairplot(SurveyData_plotData,vars=[\"B1cIllegalDrugs\", \"D3EmploymentSituationId\",'E4CommitedCrime'])"
   ]
  },
  {
   "cell_type": "code",
   "execution_count": null,
   "metadata": {
    "scrolled": true
   },
   "outputs": [],
   "source": []
  },
  {
   "cell_type": "code",
   "execution_count": 456,
   "metadata": {
    "scrolled": true
   },
   "outputs": [
    {
     "data": {
      "text/plain": [
       "array([[<matplotlib.axes._subplots.AxesSubplot object at 0x000001BE10846E80>,\n",
       "        <matplotlib.axes._subplots.AxesSubplot object at 0x000001BE0F3530F0>],\n",
       "       [<matplotlib.axes._subplots.AxesSubplot object at 0x000001BE0F366A58>,\n",
       "        <matplotlib.axes._subplots.AxesSubplot object at 0x000001BE09FD1518>]],\n",
       "      dtype=object)"
      ]
     },
     "execution_count": 456,
     "metadata": {},
     "output_type": "execute_result"
    },
    {
     "data": {
      "image/png": "[encoded data removed]",
      "text/plain": [
       "<Figure size 1008x1008 with 4 Axes>"
      ]
     },
     "metadata": {},
     "output_type": "display_data"
    }
   ],
   "source": [
    "AlL_ClientData.hist(figsize = (14,14))\n"
   ]
  },
  {
   "cell_type": "code",
   "execution_count": 457,
   "metadata": {},
   "outputs": [
    {
     "data": {
      "text/plain": [
       "<Figure size 1440x1152 with 0 Axes>"
      ]
     },
     "execution_count": 457,
     "metadata": {},
     "output_type": "execute_result"
    },
    {
     "data": {
      "text/plain": [
       "<Figure size 1440x1152 with 0 Axes>"
      ]
     },
     "metadata": {},
     "output_type": "display_data"
    }
   ],
   "source": [
    "sns.set(style=\"ticks\", color_codes=True)\n",
    "plt.figure(figsize=(20,16))\n"
   ]
  },
  {
   "cell_type": "code",
   "execution_count": 458,
   "metadata": {},
   "outputs": [
    {
     "data": {
      "image/png": "[encoded data removed]",
      "text/plain": [
       "<Figure size 1296x432 with 1 Axes>"
      ]
     },
     "metadata": {},
     "output_type": "display_data"
    }
   ],
   "source": [
    "sns.catplot(x=\"Ethnorace\", y=\"D2EducationLevelId\", kind=\"box\",data=AlL_ClientData,height=6, aspect=3);\n"
   ]
  },
  {
   "cell_type": "code",
   "execution_count": null,
   "metadata": {},
   "outputs": [],
   "source": []
  },
  {
   "cell_type": "markdown",
   "metadata": {},
   "source": [
    "## Export Data for ML modling "
   ]
  },
  {
   "cell_type": "code",
   "execution_count": 229,
   "metadata": {},
   "outputs": [],
   "source": [
    "AlL_ClientData.to_csv('AlL_ClientData.csv')"
   ]
  },
  {
   "cell_type": "code",
   "execution_count": null,
   "metadata": {},
   "outputs": [],
   "source": []
  },
  {
   "cell_type": "code",
   "execution_count": 230,
   "metadata": {
    "scrolled": true
   },
   "outputs": [
    {
     "data": {
      "text/html": [
       "<div>\n",
       "<style scoped>\n",
       "    .dataframe tbody tr th:only-of-type {\n",
       "        vertical-align: middle;\n",
       "    }\n",
       "\n",
       "    .dataframe tbody tr th {\n",
       "        vertical-align: top;\n",
       "    }\n",
       "\n",
       "    .dataframe thead th {\n",
       "        text-align: right;\n",
       "    }\n",
       "</style>\n",
       "<table border=\"1\" class=\"dataframe\">\n",
       "  <thead>\n",
       "    <tr style=\"text-align: right;\">\n",
       "      <th></th>\n",
       "      <th>ClientId</th>\n",
       "      <th>SurveyDate</th>\n",
       "      <th>SurveyNumber</th>\n",
       "      <th>InterviewIntake</th>\n",
       "      <th>DOB</th>\n",
       "      <th>Gender</th>\n",
       "      <th>Ethnicity</th>\n",
       "      <th>Ethnorace</th>\n",
       "      <th>Veteran</th>\n",
       "      <th>C1LivingSituationId</th>\n",
       "      <th>D2EducationLevelId</th>\n",
       "      <th>D3EmploymentSituationId</th>\n",
       "      <th>B1aAlcohol</th>\n",
       "      <th>B1cIllegalDrugs</th>\n",
       "      <th>C2AddictionStressProblemId</th>\n",
       "      <th>C4AddictionEmotionalProblemId</th>\n",
       "      <th>E1TimesArrested</th>\n",
       "      <th>E4CommitedCrime</th>\n",
       "      <th>F5aDepression</th>\n",
       "      <th>F5bAnxiety</th>\n",
       "    </tr>\n",
       "  </thead>\n",
       "  <tbody>\n",
       "    <tr>\n",
       "      <th>12</th>\n",
       "      <td>37640</td>\n",
       "      <td>2013-01-14</td>\n",
       "      <td>1.0</td>\n",
       "      <td>Intake</td>\n",
       "      <td>1992-01-14</td>\n",
       "      <td>Female</td>\n",
       "      <td>Hispanic or Latino</td>\n",
       "      <td>Hispanic</td>\n",
       "      <td>unknwon</td>\n",
       "      <td>41</td>\n",
       "      <td>12</td>\n",
       "      <td>3</td>\n",
       "      <td>0</td>\n",
       "      <td>0</td>\n",
       "      <td>5</td>\n",
       "      <td>5</td>\n",
       "      <td>0</td>\n",
       "      <td>0</td>\n",
       "      <td>5</td>\n",
       "      <td>5</td>\n",
       "    </tr>\n",
       "    <tr>\n",
       "      <th>13</th>\n",
       "      <td>37640</td>\n",
       "      <td>2014-10-28</td>\n",
       "      <td>2.0</td>\n",
       "      <td>Post</td>\n",
       "      <td>1992-01-14</td>\n",
       "      <td>Female</td>\n",
       "      <td>Hispanic or Latino</td>\n",
       "      <td>Hispanic</td>\n",
       "      <td>unknwon</td>\n",
       "      <td>3</td>\n",
       "      <td>12</td>\n",
       "      <td>7</td>\n",
       "      <td>0</td>\n",
       "      <td>0</td>\n",
       "      <td>5</td>\n",
       "      <td>5</td>\n",
       "      <td>1</td>\n",
       "      <td>1</td>\n",
       "      <td>30</td>\n",
       "      <td>1</td>\n",
       "    </tr>\n",
       "    <tr>\n",
       "      <th>16</th>\n",
       "      <td>37648</td>\n",
       "      <td>2013-01-14</td>\n",
       "      <td>1.0</td>\n",
       "      <td>Intake</td>\n",
       "      <td>1984-12-15</td>\n",
       "      <td>Female</td>\n",
       "      <td>Not Hispanic or Latino</td>\n",
       "      <td>White</td>\n",
       "      <td>unknwon</td>\n",
       "      <td>41</td>\n",
       "      <td>10</td>\n",
       "      <td>3</td>\n",
       "      <td>0</td>\n",
       "      <td>0</td>\n",
       "      <td>5</td>\n",
       "      <td>5</td>\n",
       "      <td>0</td>\n",
       "      <td>0</td>\n",
       "      <td>0</td>\n",
       "      <td>0</td>\n",
       "    </tr>\n",
       "    <tr>\n",
       "      <th>17</th>\n",
       "      <td>37648</td>\n",
       "      <td>2014-08-04</td>\n",
       "      <td>2.0</td>\n",
       "      <td>Post</td>\n",
       "      <td>1984-12-15</td>\n",
       "      <td>Female</td>\n",
       "      <td>Not Hispanic or Latino</td>\n",
       "      <td>White</td>\n",
       "      <td>unknwon</td>\n",
       "      <td>41</td>\n",
       "      <td>10</td>\n",
       "      <td>7</td>\n",
       "      <td>29</td>\n",
       "      <td>1</td>\n",
       "      <td>4</td>\n",
       "      <td>4</td>\n",
       "      <td>0</td>\n",
       "      <td>1</td>\n",
       "      <td>30</td>\n",
       "      <td>30</td>\n",
       "    </tr>\n",
       "    <tr>\n",
       "      <th>18</th>\n",
       "      <td>NaN</td>\n",
       "      <td>NaT</td>\n",
       "      <td>NaN</td>\n",
       "      <td>NaN</td>\n",
       "      <td>NaT</td>\n",
       "      <td>NaN</td>\n",
       "      <td>NaN</td>\n",
       "      <td>unknwon</td>\n",
       "      <td>unknwon</td>\n",
       "      <td>NaN</td>\n",
       "      <td>NaN</td>\n",
       "      <td>NaN</td>\n",
       "      <td>NaN</td>\n",
       "      <td>NaN</td>\n",
       "      <td>NaN</td>\n",
       "      <td>NaN</td>\n",
       "      <td>NaN</td>\n",
       "      <td>NaN</td>\n",
       "      <td>NaN</td>\n",
       "      <td>NaN</td>\n",
       "    </tr>\n",
       "  </tbody>\n",
       "</table>\n",
       "</div>"
      ],
      "text/plain": [
       "   ClientId SurveyDate  SurveyNumber InterviewIntake        DOB  Gender  \\\n",
       "12    37640 2013-01-14           1.0          Intake 1992-01-14  Female   \n",
       "13    37640 2014-10-28           2.0            Post 1992-01-14  Female   \n",
       "16    37648 2013-01-14           1.0          Intake 1984-12-15  Female   \n",
       "17    37648 2014-08-04           2.0            Post 1984-12-15  Female   \n",
       "18      NaN        NaT           NaN             NaN        NaT     NaN   \n",
       "\n",
       "                 Ethnicity Ethnorace  Veteran C1LivingSituationId  \\\n",
       "12      Hispanic or Latino  Hispanic  unknwon                  41   \n",
       "13      Hispanic or Latino  Hispanic  unknwon                   3   \n",
       "16  Not Hispanic or Latino     White  unknwon                  41   \n",
       "17  Not Hispanic or Latino     White  unknwon                  41   \n",
       "18                     NaN   unknwon  unknwon                 NaN   \n",
       "\n",
       "   D2EducationLevelId D3EmploymentSituationId B1aAlcohol B1cIllegalDrugs  \\\n",
       "12                 12                       3          0               0   \n",
       "13                 12                       7          0               0   \n",
       "16                 10                       3          0               0   \n",
       "17                 10                       7         29               1   \n",
       "18                NaN                     NaN        NaN             NaN   \n",
       "\n",
       "   C2AddictionStressProblemId C4AddictionEmotionalProblemId E1TimesArrested  \\\n",
       "12                          5                             5               0   \n",
       "13                          5                             5               1   \n",
       "16                          5                             5               0   \n",
       "17                          4                             4               0   \n",
       "18                        NaN                           NaN             NaN   \n",
       "\n",
       "   E4CommitedCrime F5aDepression F5bAnxiety  \n",
       "12               0             5          5  \n",
       "13               1            30          1  \n",
       "16               0             0          0  \n",
       "17               1            30         30  \n",
       "18             NaN           NaN        NaN  "
      ]
     },
     "execution_count": 230,
     "metadata": {},
     "output_type": "execute_result"
    }
   ],
   "source": [
    "df_SurveyData.head()"
   ]
  },
  {
   "cell_type": "code",
   "execution_count": null,
   "metadata": {},
   "outputs": [],
   "source": []
  },
  {
   "cell_type": "code",
   "execution_count": 231,
   "metadata": {},
   "outputs": [],
   "source": [
    "from datetime import date\n",
    "df_SurveyData['Date'] = pd.to_datetime(df_SurveyData.DOB)\n",
    "def calculateAge(birthDate): \n",
    "    today = date.today() \n",
    "    age = today.year - birthDate.year - ((today.month, today.day) < (birthDate.month, birthDate.day)) \n",
    "    return age\n",
    "\n",
    "df_SurveyData['age']= df_SurveyData['Date'].apply(lambda x: calculateAge(x))\n"
   ]
  },
  {
   "cell_type": "code",
   "execution_count": 232,
   "metadata": {},
   "outputs": [],
   "source": [
    "bins= [0,30,60,100]\n",
    "labels = ['Young','Middle_aged','Old']\n",
    "df_SurveyData['AgeGroup'] = pd.cut(df_SurveyData['age'], bins=bins, labels=labels, right=False)"
   ]
  },
  {
   "cell_type": "code",
   "execution_count": 233,
   "metadata": {},
   "outputs": [],
   "source": [
    "df_SurveyData = df_SurveyData.dropna()\n"
   ]
  },
  {
   "cell_type": "code",
   "execution_count": 234,
   "metadata": {
    "scrolled": false
   },
   "outputs": [
    {
     "data": {
      "text/plain": [
       "41    16427\n",
       "42     9117\n",
       "3      1316\n",
       "1      1118\n",
       "45      827\n",
       "43      522\n",
       "2       454\n",
       "44      413\n",
       "46       53\n",
       "Name: C1LivingSituationId, dtype: int64"
      ]
     },
     "execution_count": 234,
     "metadata": {},
     "output_type": "execute_result"
    }
   ],
   "source": [
    "df_SurveyData['C1LivingSituationId'].value_counts()"
   ]
  },
  {
   "cell_type": "code",
   "execution_count": null,
   "metadata": {},
   "outputs": [],
   "source": []
  },
  {
   "cell_type": "code",
   "execution_count": 235,
   "metadata": {},
   "outputs": [],
   "source": [
    "New2_SurveyData= df_SurveyData.drop_duplicates(subset=['ClientId'], keep='first')\n"
   ]
  },
  {
   "cell_type": "code",
   "execution_count": 236,
   "metadata": {},
   "outputs": [],
   "source": [
    "New1_SurveyData= df_SurveyData.drop_duplicates(subset=['ClientId'], keep='last')\n"
   ]
  },
  {
   "cell_type": "code",
   "execution_count": 237,
   "metadata": {},
   "outputs": [
    {
     "data": {
      "text/plain": [
       "count     11146\n",
       "unique        2\n",
       "top        Post\n",
       "freq      10626\n",
       "Name: InterviewIntake, dtype: object"
      ]
     },
     "execution_count": 237,
     "metadata": {},
     "output_type": "execute_result"
    }
   ],
   "source": [
    "New1_SurveyData.InterviewIntake.describe()"
   ]
  },
  {
   "cell_type": "code",
   "execution_count": 238,
   "metadata": {},
   "outputs": [
    {
     "data": {
      "text/plain": [
       "11146"
      ]
     },
     "execution_count": 238,
     "metadata": {},
     "output_type": "execute_result"
    }
   ],
   "source": [
    "len(New1_SurveyData)"
   ]
  },
  {
   "cell_type": "code",
   "execution_count": 239,
   "metadata": {},
   "outputs": [],
   "source": [
    "frames = [New1_SurveyData, New2_SurveyData]\n",
    "\n",
    "New_SurveyData = pd.concat(frames)"
   ]
  },
  {
   "cell_type": "code",
   "execution_count": 240,
   "metadata": {},
   "outputs": [
    {
     "data": {
      "text/html": [
       "<div>\n",
       "<style scoped>\n",
       "    .dataframe tbody tr th:only-of-type {\n",
       "        vertical-align: middle;\n",
       "    }\n",
       "\n",
       "    .dataframe tbody tr th {\n",
       "        vertical-align: top;\n",
       "    }\n",
       "\n",
       "    .dataframe thead th {\n",
       "        text-align: right;\n",
       "    }\n",
       "</style>\n",
       "<table border=\"1\" class=\"dataframe\">\n",
       "  <thead>\n",
       "    <tr style=\"text-align: right;\">\n",
       "      <th></th>\n",
       "      <th>ClientId</th>\n",
       "      <th>SurveyDate</th>\n",
       "      <th>SurveyNumber</th>\n",
       "      <th>InterviewIntake</th>\n",
       "      <th>DOB</th>\n",
       "      <th>Gender</th>\n",
       "      <th>Ethnicity</th>\n",
       "      <th>Ethnorace</th>\n",
       "      <th>Veteran</th>\n",
       "      <th>C1LivingSituationId</th>\n",
       "      <th>...</th>\n",
       "      <th>B1cIllegalDrugs</th>\n",
       "      <th>C2AddictionStressProblemId</th>\n",
       "      <th>C4AddictionEmotionalProblemId</th>\n",
       "      <th>E1TimesArrested</th>\n",
       "      <th>E4CommitedCrime</th>\n",
       "      <th>F5aDepression</th>\n",
       "      <th>F5bAnxiety</th>\n",
       "      <th>Date</th>\n",
       "      <th>age</th>\n",
       "      <th>AgeGroup</th>\n",
       "    </tr>\n",
       "  </thead>\n",
       "  <tbody>\n",
       "    <tr>\n",
       "      <th>29</th>\n",
       "      <td>37690</td>\n",
       "      <td>2018-02-14</td>\n",
       "      <td>4.0</td>\n",
       "      <td>Post</td>\n",
       "      <td>1992-07-15</td>\n",
       "      <td>Male</td>\n",
       "      <td>Hispanic or Latino</td>\n",
       "      <td>unknwon</td>\n",
       "      <td>unknwon</td>\n",
       "      <td>41</td>\n",
       "      <td>...</td>\n",
       "      <td>0</td>\n",
       "      <td>5</td>\n",
       "      <td>5</td>\n",
       "      <td>0</td>\n",
       "      <td>0</td>\n",
       "      <td>6</td>\n",
       "      <td>14</td>\n",
       "      <td>1992-07-15</td>\n",
       "      <td>28.0</td>\n",
       "      <td>Young</td>\n",
       "    </tr>\n",
       "    <tr>\n",
       "      <th>26</th>\n",
       "      <td>37690</td>\n",
       "      <td>2013-01-16</td>\n",
       "      <td>1.0</td>\n",
       "      <td>Intake</td>\n",
       "      <td>1992-07-15</td>\n",
       "      <td>Male</td>\n",
       "      <td>Hispanic or Latino</td>\n",
       "      <td>unknwon</td>\n",
       "      <td>unknwon</td>\n",
       "      <td>42</td>\n",
       "      <td>...</td>\n",
       "      <td>4</td>\n",
       "      <td>1</td>\n",
       "      <td>1</td>\n",
       "      <td>0</td>\n",
       "      <td>4</td>\n",
       "      <td>30</td>\n",
       "      <td>30</td>\n",
       "      <td>1992-07-15</td>\n",
       "      <td>28.0</td>\n",
       "      <td>Young</td>\n",
       "    </tr>\n",
       "  </tbody>\n",
       "</table>\n",
       "<p>2 rows × 23 columns</p>\n",
       "</div>"
      ],
      "text/plain": [
       "   ClientId SurveyDate  SurveyNumber InterviewIntake        DOB Gender  \\\n",
       "29    37690 2018-02-14           4.0            Post 1992-07-15   Male   \n",
       "26    37690 2013-01-16           1.0          Intake 1992-07-15   Male   \n",
       "\n",
       "             Ethnicity Ethnorace  Veteran C1LivingSituationId   ...     \\\n",
       "29  Hispanic or Latino   unknwon  unknwon                  41   ...      \n",
       "26  Hispanic or Latino   unknwon  unknwon                  42   ...      \n",
       "\n",
       "   B1cIllegalDrugs C2AddictionStressProblemId C4AddictionEmotionalProblemId  \\\n",
       "29               0                          5                             5   \n",
       "26               4                          1                             1   \n",
       "\n",
       "   E1TimesArrested E4CommitedCrime F5aDepression F5bAnxiety       Date   age  \\\n",
       "29               0               0             6         14 1992-07-15  28.0   \n",
       "26               0               4            30         30 1992-07-15  28.0   \n",
       "\n",
       "   AgeGroup  \n",
       "29    Young  \n",
       "26    Young  \n",
       "\n",
       "[2 rows x 23 columns]"
      ]
     },
     "execution_count": 240,
     "metadata": {},
     "output_type": "execute_result"
    }
   ],
   "source": [
    "New_SurveyData.loc[New_SurveyData['ClientId'] == 37690]\n"
   ]
  },
  {
   "cell_type": "code",
   "execution_count": 241,
   "metadata": {},
   "outputs": [
    {
     "data": {
      "text/plain": [
       "2.0"
      ]
     },
     "execution_count": 241,
     "metadata": {},
     "output_type": "execute_result"
    }
   ],
   "source": [
    "New_SurveyData['ClientId'].value_counts().mean()"
   ]
  },
  {
   "cell_type": "code",
   "execution_count": 293,
   "metadata": {},
   "outputs": [],
   "source": [
    "newdf_ServiceData['InterviewIntake']='Post'"
   ]
  },
  {
   "cell_type": "code",
   "execution_count": 295,
   "metadata": {},
   "outputs": [
    {
     "data": {
      "text/html": [
       "<div>\n",
       "<style scoped>\n",
       "    .dataframe tbody tr th:only-of-type {\n",
       "        vertical-align: middle;\n",
       "    }\n",
       "\n",
       "    .dataframe tbody tr th {\n",
       "        vertical-align: top;\n",
       "    }\n",
       "\n",
       "    .dataframe thead th {\n",
       "        text-align: right;\n",
       "    }\n",
       "</style>\n",
       "<table border=\"1\" class=\"dataframe\">\n",
       "  <thead>\n",
       "    <tr style=\"text-align: right;\">\n",
       "      <th></th>\n",
       "      <th>ClientId</th>\n",
       "      <th>ServiceAmt sum</th>\n",
       "      <th>ServiceNum Total</th>\n",
       "      <th>InterviewIntake</th>\n",
       "    </tr>\n",
       "  </thead>\n",
       "  <tbody>\n",
       "    <tr>\n",
       "      <th>0</th>\n",
       "      <td>37914</td>\n",
       "      <td>1857.0</td>\n",
       "      <td>38</td>\n",
       "      <td>Post</td>\n",
       "    </tr>\n",
       "    <tr>\n",
       "      <th>1</th>\n",
       "      <td>38022</td>\n",
       "      <td>830.0</td>\n",
       "      <td>15</td>\n",
       "      <td>Post</td>\n",
       "    </tr>\n",
       "    <tr>\n",
       "      <th>2</th>\n",
       "      <td>38047</td>\n",
       "      <td>430.0</td>\n",
       "      <td>8</td>\n",
       "      <td>Post</td>\n",
       "    </tr>\n",
       "    <tr>\n",
       "      <th>3</th>\n",
       "      <td>38063</td>\n",
       "      <td>850.0</td>\n",
       "      <td>21</td>\n",
       "      <td>Post</td>\n",
       "    </tr>\n",
       "    <tr>\n",
       "      <th>4</th>\n",
       "      <td>38410</td>\n",
       "      <td>1870.0</td>\n",
       "      <td>41</td>\n",
       "      <td>Post</td>\n",
       "    </tr>\n",
       "  </tbody>\n",
       "</table>\n",
       "</div>"
      ],
      "text/plain": [
       "  ClientId  ServiceAmt sum  ServiceNum Total InterviewIntake\n",
       "0    37914          1857.0                38            Post\n",
       "1    38022           830.0                15            Post\n",
       "2    38047           430.0                 8            Post\n",
       "3    38063           850.0                21            Post\n",
       "4    38410          1870.0                41            Post"
      ]
     },
     "execution_count": 295,
     "metadata": {},
     "output_type": "execute_result"
    }
   ],
   "source": [
    "newdf_ServiceData.head()"
   ]
  },
  {
   "cell_type": "code",
   "execution_count": 296,
   "metadata": {},
   "outputs": [],
   "source": [
    "New_SurveyData_update = pd.merge(New_SurveyData, newdf_ServiceData, on=['ClientId','InterviewIntake'],how='left')\n"
   ]
  },
  {
   "cell_type": "code",
   "execution_count": 314,
   "metadata": {},
   "outputs": [],
   "source": [
    "New_SurveyData_update.loc[New_SurveyData_update['InterviewIntake'] == 'Intake', 'ServiceNum Total'] = 0.0\n",
    "New_SurveyData_update.loc[New_SurveyData_update['InterviewIntake'] == 'Intake', 'ServiceAmt sum'] = 0.0"
   ]
  },
  {
   "cell_type": "code",
   "execution_count": 312,
   "metadata": {},
   "outputs": [
    {
     "data": {
      "text/plain": [
       "9        0.0\n",
       "13       0.0\n",
       "23       0.0\n",
       "45       0.0\n",
       "59       0.0\n",
       "62       0.0\n",
       "73       0.0\n",
       "74       0.0\n",
       "142      0.0\n",
       "188      0.0\n",
       "201      0.0\n",
       "242      0.0\n",
       "276      0.0\n",
       "287      0.0\n",
       "300      0.0\n",
       "332      0.0\n",
       "361      0.0\n",
       "432      0.0\n",
       "434      0.0\n",
       "448      0.0\n",
       "464      0.0\n",
       "494      0.0\n",
       "590      0.0\n",
       "664      0.0\n",
       "678      0.0\n",
       "687      0.0\n",
       "720      0.0\n",
       "740      0.0\n",
       "759      0.0\n",
       "763      0.0\n",
       "        ... \n",
       "22261    0.0\n",
       "22262    0.0\n",
       "22263    0.0\n",
       "22264    0.0\n",
       "22265    0.0\n",
       "22266    0.0\n",
       "22267    0.0\n",
       "22268    0.0\n",
       "22269    0.0\n",
       "22270    0.0\n",
       "22271    0.0\n",
       "22272    0.0\n",
       "22273    0.0\n",
       "22274    0.0\n",
       "22275    0.0\n",
       "22276    0.0\n",
       "22277    0.0\n",
       "22278    0.0\n",
       "22279    0.0\n",
       "22280    0.0\n",
       "22281    0.0\n",
       "22282    0.0\n",
       "22283    0.0\n",
       "22284    0.0\n",
       "22285    0.0\n",
       "22286    0.0\n",
       "22287    0.0\n",
       "22288    0.0\n",
       "22289    0.0\n",
       "22291    0.0\n",
       "Name: ServiceNum Total, Length: 11384, dtype: float64"
      ]
     },
     "execution_count": 312,
     "metadata": {},
     "output_type": "execute_result"
    }
   ],
   "source": [
    "New_SurveyData_update.loc[New_SurveyData_update['InterviewIntake'] == 'Intake', 'ServiceNum Total']"
   ]
  },
  {
   "cell_type": "code",
   "execution_count": 329,
   "metadata": {},
   "outputs": [
    {
     "data": {
      "text/plain": [
       "2383"
      ]
     },
     "execution_count": 329,
     "metadata": {},
     "output_type": "execute_result"
    }
   ],
   "source": [
    "New_SurveyData_update['ServiceAmt sum'].isnull().sum()"
   ]
  },
  {
   "cell_type": "code",
   "execution_count": 330,
   "metadata": {},
   "outputs": [
    {
     "data": {
      "text/plain": [
       "2383"
      ]
     },
     "execution_count": 330,
     "metadata": {},
     "output_type": "execute_result"
    }
   ],
   "source": [
    "New_SurveyData_update['ServiceNum Total'].isnull().sum()"
   ]
  },
  {
   "cell_type": "code",
   "execution_count": 316,
   "metadata": {},
   "outputs": [
    {
     "data": {
      "text/plain": [
       "22292"
      ]
     },
     "execution_count": 316,
     "metadata": {},
     "output_type": "execute_result"
    }
   ],
   "source": [
    "len(New_SurveyData_update)"
   ]
  },
  {
   "cell_type": "code",
   "execution_count": 331,
   "metadata": {},
   "outputs": [],
   "source": [
    "final_SurveyData = New_SurveyData_update.drop(['DOB','SurveyDate','SurveyNumber','age','Date','ClientId'], axis=1)\n"
   ]
  },
  {
   "cell_type": "code",
   "execution_count": 332,
   "metadata": {
    "scrolled": false
   },
   "outputs": [
    {
     "data": {
      "text/html": [
       "<div>\n",
       "<style scoped>\n",
       "    .dataframe tbody tr th:only-of-type {\n",
       "        vertical-align: middle;\n",
       "    }\n",
       "\n",
       "    .dataframe tbody tr th {\n",
       "        vertical-align: top;\n",
       "    }\n",
       "\n",
       "    .dataframe thead th {\n",
       "        text-align: right;\n",
       "    }\n",
       "</style>\n",
       "<table border=\"1\" class=\"dataframe\">\n",
       "  <thead>\n",
       "    <tr style=\"text-align: right;\">\n",
       "      <th></th>\n",
       "      <th>InterviewIntake</th>\n",
       "      <th>Gender</th>\n",
       "      <th>Ethnicity</th>\n",
       "      <th>Ethnorace</th>\n",
       "      <th>Veteran</th>\n",
       "      <th>C1LivingSituationId</th>\n",
       "      <th>D2EducationLevelId</th>\n",
       "      <th>D3EmploymentSituationId</th>\n",
       "      <th>B1aAlcohol</th>\n",
       "      <th>B1cIllegalDrugs</th>\n",
       "      <th>C2AddictionStressProblemId</th>\n",
       "      <th>C4AddictionEmotionalProblemId</th>\n",
       "      <th>E1TimesArrested</th>\n",
       "      <th>E4CommitedCrime</th>\n",
       "      <th>F5aDepression</th>\n",
       "      <th>F5bAnxiety</th>\n",
       "      <th>AgeGroup</th>\n",
       "      <th>ServiceAmt sum</th>\n",
       "      <th>ServiceNum Total</th>\n",
       "    </tr>\n",
       "  </thead>\n",
       "  <tbody>\n",
       "    <tr>\n",
       "      <th>0</th>\n",
       "      <td>Post</td>\n",
       "      <td>Female</td>\n",
       "      <td>Hispanic or Latino</td>\n",
       "      <td>Hispanic</td>\n",
       "      <td>unknwon</td>\n",
       "      <td>3</td>\n",
       "      <td>12</td>\n",
       "      <td>7</td>\n",
       "      <td>0</td>\n",
       "      <td>0</td>\n",
       "      <td>5</td>\n",
       "      <td>5</td>\n",
       "      <td>1</td>\n",
       "      <td>1</td>\n",
       "      <td>30</td>\n",
       "      <td>1</td>\n",
       "      <td>Young</td>\n",
       "      <td>NaN</td>\n",
       "      <td>NaN</td>\n",
       "    </tr>\n",
       "    <tr>\n",
       "      <th>1</th>\n",
       "      <td>Post</td>\n",
       "      <td>Female</td>\n",
       "      <td>Not Hispanic or Latino</td>\n",
       "      <td>White</td>\n",
       "      <td>unknwon</td>\n",
       "      <td>41</td>\n",
       "      <td>10</td>\n",
       "      <td>7</td>\n",
       "      <td>29</td>\n",
       "      <td>1</td>\n",
       "      <td>4</td>\n",
       "      <td>4</td>\n",
       "      <td>0</td>\n",
       "      <td>1</td>\n",
       "      <td>30</td>\n",
       "      <td>30</td>\n",
       "      <td>Middle_aged</td>\n",
       "      <td>NaN</td>\n",
       "      <td>NaN</td>\n",
       "    </tr>\n",
       "    <tr>\n",
       "      <th>2</th>\n",
       "      <td>Post</td>\n",
       "      <td>Female</td>\n",
       "      <td>Not Hispanic or Latino</td>\n",
       "      <td>White</td>\n",
       "      <td>unknwon</td>\n",
       "      <td>41</td>\n",
       "      <td>12</td>\n",
       "      <td>1</td>\n",
       "      <td>2</td>\n",
       "      <td>0</td>\n",
       "      <td>1</td>\n",
       "      <td>1</td>\n",
       "      <td>0</td>\n",
       "      <td>0</td>\n",
       "      <td>0</td>\n",
       "      <td>0</td>\n",
       "      <td>Middle_aged</td>\n",
       "      <td>NaN</td>\n",
       "      <td>NaN</td>\n",
       "    </tr>\n",
       "    <tr>\n",
       "      <th>3</th>\n",
       "      <td>Post</td>\n",
       "      <td>Male</td>\n",
       "      <td>Hispanic or Latino</td>\n",
       "      <td>unknwon</td>\n",
       "      <td>unknwon</td>\n",
       "      <td>41</td>\n",
       "      <td>12</td>\n",
       "      <td>7</td>\n",
       "      <td>0</td>\n",
       "      <td>0</td>\n",
       "      <td>5</td>\n",
       "      <td>5</td>\n",
       "      <td>0</td>\n",
       "      <td>0</td>\n",
       "      <td>6</td>\n",
       "      <td>14</td>\n",
       "      <td>Young</td>\n",
       "      <td>NaN</td>\n",
       "      <td>NaN</td>\n",
       "    </tr>\n",
       "    <tr>\n",
       "      <th>4</th>\n",
       "      <td>Post</td>\n",
       "      <td>Female</td>\n",
       "      <td>Hispanic or Latino</td>\n",
       "      <td>unknwon</td>\n",
       "      <td>unknwon</td>\n",
       "      <td>41</td>\n",
       "      <td>11</td>\n",
       "      <td>4</td>\n",
       "      <td>0</td>\n",
       "      <td>0</td>\n",
       "      <td>5</td>\n",
       "      <td>5</td>\n",
       "      <td>0</td>\n",
       "      <td>0</td>\n",
       "      <td>0</td>\n",
       "      <td>0</td>\n",
       "      <td>Old</td>\n",
       "      <td>NaN</td>\n",
       "      <td>NaN</td>\n",
       "    </tr>\n",
       "  </tbody>\n",
       "</table>\n",
       "</div>"
      ],
      "text/plain": [
       "  InterviewIntake  Gender               Ethnicity Ethnorace  Veteran  \\\n",
       "0            Post  Female      Hispanic or Latino  Hispanic  unknwon   \n",
       "1            Post  Female  Not Hispanic or Latino     White  unknwon   \n",
       "2            Post  Female  Not Hispanic or Latino     White  unknwon   \n",
       "3            Post    Male      Hispanic or Latino   unknwon  unknwon   \n",
       "4            Post  Female      Hispanic or Latino   unknwon  unknwon   \n",
       "\n",
       "  C1LivingSituationId D2EducationLevelId D3EmploymentSituationId B1aAlcohol  \\\n",
       "0                   3                 12                       7          0   \n",
       "1                  41                 10                       7         29   \n",
       "2                  41                 12                       1          2   \n",
       "3                  41                 12                       7          0   \n",
       "4                  41                 11                       4          0   \n",
       "\n",
       "  B1cIllegalDrugs C2AddictionStressProblemId C4AddictionEmotionalProblemId  \\\n",
       "0               0                          5                             5   \n",
       "1               1                          4                             4   \n",
       "2               0                          1                             1   \n",
       "3               0                          5                             5   \n",
       "4               0                          5                             5   \n",
       "\n",
       "  E1TimesArrested E4CommitedCrime F5aDepression F5bAnxiety     AgeGroup  \\\n",
       "0               1               1            30          1        Young   \n",
       "1               0               1            30         30  Middle_aged   \n",
       "2               0               0             0          0  Middle_aged   \n",
       "3               0               0             6         14        Young   \n",
       "4               0               0             0          0          Old   \n",
       "\n",
       "   ServiceAmt sum  ServiceNum Total  \n",
       "0             NaN               NaN  \n",
       "1             NaN               NaN  \n",
       "2             NaN               NaN  \n",
       "3             NaN               NaN  \n",
       "4             NaN               NaN  "
      ]
     },
     "execution_count": 332,
     "metadata": {},
     "output_type": "execute_result"
    }
   ],
   "source": [
    "final_SurveyData.head()"
   ]
  },
  {
   "cell_type": "code",
   "execution_count": 333,
   "metadata": {
    "scrolled": true
   },
   "outputs": [],
   "source": [
    "final_SurveyData.to_csv('final_SurveyData.csv')"
   ]
  },
  {
   "cell_type": "code",
   "execution_count": 334,
   "metadata": {},
   "outputs": [],
   "source": [
    "Crime_varData =  final_SurveyData.drop(['C1LivingSituationId','D2EducationLevelId','D3EmploymentSituationId','B1aAlcohol','B1cIllegalDrugs','C2AddictionStressProblemId', 'C4AddictionEmotionalProblemId','E1TimesArrested','F5aDepression','F5bAnxiety'], axis=1)"
   ]
  },
  {
   "cell_type": "code",
   "execution_count": 359,
   "metadata": {},
   "outputs": [],
   "source": [
    "Crime_varData.dropna(subset = [\"ServiceAmt sum\"], inplace=True)\n",
    "Crime_varData.dropna(subset = [\"ServiceNum Total\"], inplace=True)\n"
   ]
  },
  {
   "cell_type": "code",
   "execution_count": 360,
   "metadata": {
    "scrolled": true
   },
   "outputs": [
    {
     "data": {
      "text/html": [
       "<div>\n",
       "<style scoped>\n",
       "    .dataframe tbody tr th:only-of-type {\n",
       "        vertical-align: middle;\n",
       "    }\n",
       "\n",
       "    .dataframe tbody tr th {\n",
       "        vertical-align: top;\n",
       "    }\n",
       "\n",
       "    .dataframe thead th {\n",
       "        text-align: right;\n",
       "    }\n",
       "</style>\n",
       "<table border=\"1\" class=\"dataframe\">\n",
       "  <thead>\n",
       "    <tr style=\"text-align: right;\">\n",
       "      <th></th>\n",
       "      <th>InterviewIntake</th>\n",
       "      <th>Gender</th>\n",
       "      <th>Ethnicity</th>\n",
       "      <th>Ethnorace</th>\n",
       "      <th>Veteran</th>\n",
       "      <th>E4CommitedCrime</th>\n",
       "      <th>AgeGroup</th>\n",
       "      <th>ServiceAmt sum</th>\n",
       "      <th>ServiceNum Total</th>\n",
       "    </tr>\n",
       "  </thead>\n",
       "  <tbody>\n",
       "    <tr>\n",
       "      <th>9</th>\n",
       "      <td>Intake</td>\n",
       "      <td>Female</td>\n",
       "      <td>Hispanic or Latino</td>\n",
       "      <td>Hispanic</td>\n",
       "      <td>unknwon</td>\n",
       "      <td>0</td>\n",
       "      <td>Middle_aged</td>\n",
       "      <td>0.0</td>\n",
       "      <td>0.0</td>\n",
       "    </tr>\n",
       "    <tr>\n",
       "      <th>13</th>\n",
       "      <td>Intake</td>\n",
       "      <td>Female</td>\n",
       "      <td>Not Hispanic or Latino</td>\n",
       "      <td>White</td>\n",
       "      <td>unknwon</td>\n",
       "      <td>0</td>\n",
       "      <td>Old</td>\n",
       "      <td>0.0</td>\n",
       "      <td>0.0</td>\n",
       "    </tr>\n",
       "    <tr>\n",
       "      <th>14</th>\n",
       "      <td>Post</td>\n",
       "      <td>Female</td>\n",
       "      <td>Not Hispanic or Latino</td>\n",
       "      <td>White</td>\n",
       "      <td>unknwon</td>\n",
       "      <td>0</td>\n",
       "      <td>Middle_aged</td>\n",
       "      <td>1857.0</td>\n",
       "      <td>38.0</td>\n",
       "    </tr>\n",
       "    <tr>\n",
       "      <th>20</th>\n",
       "      <td>Post</td>\n",
       "      <td>Female</td>\n",
       "      <td>Not Hispanic or Latino</td>\n",
       "      <td>White</td>\n",
       "      <td>unknwon</td>\n",
       "      <td>0</td>\n",
       "      <td>Middle_aged</td>\n",
       "      <td>830.0</td>\n",
       "      <td>15.0</td>\n",
       "    </tr>\n",
       "    <tr>\n",
       "      <th>22</th>\n",
       "      <td>Post</td>\n",
       "      <td>Female</td>\n",
       "      <td>Not Hispanic or Latino</td>\n",
       "      <td>White</td>\n",
       "      <td>unknwon</td>\n",
       "      <td>0</td>\n",
       "      <td>Middle_aged</td>\n",
       "      <td>430.0</td>\n",
       "      <td>8.0</td>\n",
       "    </tr>\n",
       "  </tbody>\n",
       "</table>\n",
       "</div>"
      ],
      "text/plain": [
       "   InterviewIntake  Gender               Ethnicity Ethnorace  Veteran  \\\n",
       "9           Intake  Female      Hispanic or Latino  Hispanic  unknwon   \n",
       "13          Intake  Female  Not Hispanic or Latino     White  unknwon   \n",
       "14            Post  Female  Not Hispanic or Latino     White  unknwon   \n",
       "20            Post  Female  Not Hispanic or Latino     White  unknwon   \n",
       "22            Post  Female  Not Hispanic or Latino     White  unknwon   \n",
       "\n",
       "   E4CommitedCrime     AgeGroup  ServiceAmt sum  ServiceNum Total  \n",
       "9                0  Middle_aged             0.0               0.0  \n",
       "13               0          Old             0.0               0.0  \n",
       "14               0  Middle_aged          1857.0              38.0  \n",
       "20               0  Middle_aged           830.0              15.0  \n",
       "22               0  Middle_aged           430.0               8.0  "
      ]
     },
     "execution_count": 360,
     "metadata": {},
     "output_type": "execute_result"
    }
   ],
   "source": [
    "Crime_varData.head()"
   ]
  },
  {
   "cell_type": "code",
   "execution_count": 362,
   "metadata": {},
   "outputs": [],
   "source": [
    "Crime_varData.to_csv('Crime_varData.csv')"
   ]
  },
  {
   "cell_type": "code",
   "execution_count": 363,
   "metadata": {},
   "outputs": [],
   "source": [
    "Employment_varData =  final_SurveyData.drop(['C1LivingSituationId','D2EducationLevelId','E4CommitedCrime','B1aAlcohol','B1cIllegalDrugs','C2AddictionStressProblemId', 'C4AddictionEmotionalProblemId','E1TimesArrested','F5aDepression','F5bAnxiety'], axis=1)"
   ]
  },
  {
   "cell_type": "code",
   "execution_count": 364,
   "metadata": {},
   "outputs": [],
   "source": [
    "Employment_varData.dropna(subset = [\"ServiceAmt sum\"], inplace=True)\n",
    "Employment_varData.dropna(subset = [\"ServiceNum Total\"], inplace=True)"
   ]
  },
  {
   "cell_type": "code",
   "execution_count": 365,
   "metadata": {
    "scrolled": false
   },
   "outputs": [
    {
     "data": {
      "text/html": [
       "<div>\n",
       "<style scoped>\n",
       "    .dataframe tbody tr th:only-of-type {\n",
       "        vertical-align: middle;\n",
       "    }\n",
       "\n",
       "    .dataframe tbody tr th {\n",
       "        vertical-align: top;\n",
       "    }\n",
       "\n",
       "    .dataframe thead th {\n",
       "        text-align: right;\n",
       "    }\n",
       "</style>\n",
       "<table border=\"1\" class=\"dataframe\">\n",
       "  <thead>\n",
       "    <tr style=\"text-align: right;\">\n",
       "      <th></th>\n",
       "      <th>InterviewIntake</th>\n",
       "      <th>Gender</th>\n",
       "      <th>Ethnicity</th>\n",
       "      <th>Ethnorace</th>\n",
       "      <th>Veteran</th>\n",
       "      <th>D3EmploymentSituationId</th>\n",
       "      <th>AgeGroup</th>\n",
       "      <th>ServiceAmt sum</th>\n",
       "      <th>ServiceNum Total</th>\n",
       "    </tr>\n",
       "  </thead>\n",
       "  <tbody>\n",
       "    <tr>\n",
       "      <th>9</th>\n",
       "      <td>Intake</td>\n",
       "      <td>Female</td>\n",
       "      <td>Hispanic or Latino</td>\n",
       "      <td>Hispanic</td>\n",
       "      <td>unknwon</td>\n",
       "      <td>3.0</td>\n",
       "      <td>Middle_aged</td>\n",
       "      <td>0.0</td>\n",
       "      <td>0.0</td>\n",
       "    </tr>\n",
       "    <tr>\n",
       "      <th>13</th>\n",
       "      <td>Intake</td>\n",
       "      <td>Female</td>\n",
       "      <td>Not Hispanic or Latino</td>\n",
       "      <td>White</td>\n",
       "      <td>unknwon</td>\n",
       "      <td>7.0</td>\n",
       "      <td>Old</td>\n",
       "      <td>0.0</td>\n",
       "      <td>0.0</td>\n",
       "    </tr>\n",
       "    <tr>\n",
       "      <th>14</th>\n",
       "      <td>Post</td>\n",
       "      <td>Female</td>\n",
       "      <td>Not Hispanic or Latino</td>\n",
       "      <td>White</td>\n",
       "      <td>unknwon</td>\n",
       "      <td>2.0</td>\n",
       "      <td>Middle_aged</td>\n",
       "      <td>1857.0</td>\n",
       "      <td>38.0</td>\n",
       "    </tr>\n",
       "    <tr>\n",
       "      <th>20</th>\n",
       "      <td>Post</td>\n",
       "      <td>Female</td>\n",
       "      <td>Not Hispanic or Latino</td>\n",
       "      <td>White</td>\n",
       "      <td>unknwon</td>\n",
       "      <td>2.0</td>\n",
       "      <td>Middle_aged</td>\n",
       "      <td>830.0</td>\n",
       "      <td>15.0</td>\n",
       "    </tr>\n",
       "    <tr>\n",
       "      <th>22</th>\n",
       "      <td>Post</td>\n",
       "      <td>Female</td>\n",
       "      <td>Not Hispanic or Latino</td>\n",
       "      <td>White</td>\n",
       "      <td>unknwon</td>\n",
       "      <td>4.0</td>\n",
       "      <td>Middle_aged</td>\n",
       "      <td>430.0</td>\n",
       "      <td>8.0</td>\n",
       "    </tr>\n",
       "  </tbody>\n",
       "</table>\n",
       "</div>"
      ],
      "text/plain": [
       "   InterviewIntake  Gender               Ethnicity Ethnorace  Veteran  \\\n",
       "9           Intake  Female      Hispanic or Latino  Hispanic  unknwon   \n",
       "13          Intake  Female  Not Hispanic or Latino     White  unknwon   \n",
       "14            Post  Female  Not Hispanic or Latino     White  unknwon   \n",
       "20            Post  Female  Not Hispanic or Latino     White  unknwon   \n",
       "22            Post  Female  Not Hispanic or Latino     White  unknwon   \n",
       "\n",
       "    D3EmploymentSituationId     AgeGroup  ServiceAmt sum  ServiceNum Total  \n",
       "9                       3.0  Middle_aged             0.0               0.0  \n",
       "13                      7.0          Old             0.0               0.0  \n",
       "14                      2.0  Middle_aged          1857.0              38.0  \n",
       "20                      2.0  Middle_aged           830.0              15.0  \n",
       "22                      4.0  Middle_aged           430.0               8.0  "
      ]
     },
     "execution_count": 365,
     "metadata": {},
     "output_type": "execute_result"
    }
   ],
   "source": [
    "Employment_varData.head()"
   ]
  },
  {
   "cell_type": "code",
   "execution_count": 366,
   "metadata": {},
   "outputs": [],
   "source": [
    "Employment_varData.to_csv('Employment_varData.csv')"
   ]
  },
  {
   "cell_type": "code",
   "execution_count": 367,
   "metadata": {},
   "outputs": [],
   "source": [
    "DrugUse_varData =  final_SurveyData.drop(['C1LivingSituationId','D2EducationLevelId','E4CommitedCrime','B1aAlcohol','D3EmploymentSituationId','C2AddictionStressProblemId', 'C4AddictionEmotionalProblemId','E1TimesArrested','F5aDepression','F5bAnxiety'], axis=1)"
   ]
  },
  {
   "cell_type": "code",
   "execution_count": 369,
   "metadata": {},
   "outputs": [],
   "source": [
    "DrugUse_varData.dropna(subset = [\"ServiceAmt sum\"], inplace=True)\n",
    "DrugUse_varData.dropna(subset = [\"ServiceNum Total\"], inplace=True)"
   ]
  },
  {
   "cell_type": "code",
   "execution_count": 370,
   "metadata": {},
   "outputs": [
    {
     "data": {
      "text/html": [
       "<div>\n",
       "<style scoped>\n",
       "    .dataframe tbody tr th:only-of-type {\n",
       "        vertical-align: middle;\n",
       "    }\n",
       "\n",
       "    .dataframe tbody tr th {\n",
       "        vertical-align: top;\n",
       "    }\n",
       "\n",
       "    .dataframe thead th {\n",
       "        text-align: right;\n",
       "    }\n",
       "</style>\n",
       "<table border=\"1\" class=\"dataframe\">\n",
       "  <thead>\n",
       "    <tr style=\"text-align: right;\">\n",
       "      <th></th>\n",
       "      <th>InterviewIntake</th>\n",
       "      <th>Gender</th>\n",
       "      <th>Ethnicity</th>\n",
       "      <th>Ethnorace</th>\n",
       "      <th>Veteran</th>\n",
       "      <th>B1cIllegalDrugs</th>\n",
       "      <th>AgeGroup</th>\n",
       "      <th>ServiceAmt sum</th>\n",
       "      <th>ServiceNum Total</th>\n",
       "    </tr>\n",
       "  </thead>\n",
       "  <tbody>\n",
       "    <tr>\n",
       "      <th>9</th>\n",
       "      <td>Intake</td>\n",
       "      <td>Female</td>\n",
       "      <td>Hispanic or Latino</td>\n",
       "      <td>Hispanic</td>\n",
       "      <td>unknwon</td>\n",
       "      <td>0.0</td>\n",
       "      <td>Middle_aged</td>\n",
       "      <td>0.0</td>\n",
       "      <td>0.0</td>\n",
       "    </tr>\n",
       "    <tr>\n",
       "      <th>13</th>\n",
       "      <td>Intake</td>\n",
       "      <td>Female</td>\n",
       "      <td>Not Hispanic or Latino</td>\n",
       "      <td>White</td>\n",
       "      <td>unknwon</td>\n",
       "      <td>0.0</td>\n",
       "      <td>Old</td>\n",
       "      <td>0.0</td>\n",
       "      <td>0.0</td>\n",
       "    </tr>\n",
       "    <tr>\n",
       "      <th>14</th>\n",
       "      <td>Post</td>\n",
       "      <td>Female</td>\n",
       "      <td>Not Hispanic or Latino</td>\n",
       "      <td>White</td>\n",
       "      <td>unknwon</td>\n",
       "      <td>0.0</td>\n",
       "      <td>Middle_aged</td>\n",
       "      <td>1857.0</td>\n",
       "      <td>38.0</td>\n",
       "    </tr>\n",
       "    <tr>\n",
       "      <th>20</th>\n",
       "      <td>Post</td>\n",
       "      <td>Female</td>\n",
       "      <td>Not Hispanic or Latino</td>\n",
       "      <td>White</td>\n",
       "      <td>unknwon</td>\n",
       "      <td>0.0</td>\n",
       "      <td>Middle_aged</td>\n",
       "      <td>830.0</td>\n",
       "      <td>15.0</td>\n",
       "    </tr>\n",
       "    <tr>\n",
       "      <th>22</th>\n",
       "      <td>Post</td>\n",
       "      <td>Female</td>\n",
       "      <td>Not Hispanic or Latino</td>\n",
       "      <td>White</td>\n",
       "      <td>unknwon</td>\n",
       "      <td>0.0</td>\n",
       "      <td>Middle_aged</td>\n",
       "      <td>430.0</td>\n",
       "      <td>8.0</td>\n",
       "    </tr>\n",
       "  </tbody>\n",
       "</table>\n",
       "</div>"
      ],
      "text/plain": [
       "   InterviewIntake  Gender               Ethnicity Ethnorace  Veteran  \\\n",
       "9           Intake  Female      Hispanic or Latino  Hispanic  unknwon   \n",
       "13          Intake  Female  Not Hispanic or Latino     White  unknwon   \n",
       "14            Post  Female  Not Hispanic or Latino     White  unknwon   \n",
       "20            Post  Female  Not Hispanic or Latino     White  unknwon   \n",
       "22            Post  Female  Not Hispanic or Latino     White  unknwon   \n",
       "\n",
       "    B1cIllegalDrugs     AgeGroup  ServiceAmt sum  ServiceNum Total  \n",
       "9               0.0  Middle_aged             0.0               0.0  \n",
       "13              0.0          Old             0.0               0.0  \n",
       "14              0.0  Middle_aged          1857.0              38.0  \n",
       "20              0.0  Middle_aged           830.0              15.0  \n",
       "22              0.0  Middle_aged           430.0               8.0  "
      ]
     },
     "execution_count": 370,
     "metadata": {},
     "output_type": "execute_result"
    }
   ],
   "source": [
    "DrugUse_varData.head()"
   ]
  },
  {
   "cell_type": "code",
   "execution_count": 371,
   "metadata": {},
   "outputs": [],
   "source": [
    "DrugUse_varData.to_csv('DrugUse_varData.csv')"
   ]
  },
  {
   "cell_type": "markdown",
   "metadata": {},
   "source": [
    "#  summary statistics "
   ]
  },
  {
   "cell_type": "code",
   "execution_count": 380,
   "metadata": {},
   "outputs": [
    {
     "data": {
      "text/html": [
       "<div>\n",
       "<style scoped>\n",
       "    .dataframe tbody tr th:only-of-type {\n",
       "        vertical-align: middle;\n",
       "    }\n",
       "\n",
       "    .dataframe tbody tr th {\n",
       "        vertical-align: top;\n",
       "    }\n",
       "\n",
       "    .dataframe thead th {\n",
       "        text-align: right;\n",
       "    }\n",
       "</style>\n",
       "<table border=\"1\" class=\"dataframe\">\n",
       "  <thead>\n",
       "    <tr style=\"text-align: right;\">\n",
       "      <th></th>\n",
       "      <th>D2EducationLevelId</th>\n",
       "      <th>ServiceAmt sum</th>\n",
       "      <th>ServiceNum Total</th>\n",
       "      <th>age</th>\n",
       "    </tr>\n",
       "  </thead>\n",
       "  <tbody>\n",
       "    <tr>\n",
       "      <th>min</th>\n",
       "      <td>0.000000</td>\n",
       "      <td>0.000000</td>\n",
       "      <td>1.000000</td>\n",
       "      <td>20.000000</td>\n",
       "    </tr>\n",
       "    <tr>\n",
       "      <th>max</th>\n",
       "      <td>18.000000</td>\n",
       "      <td>3475.000000</td>\n",
       "      <td>74.000000</td>\n",
       "      <td>100.000000</td>\n",
       "    </tr>\n",
       "    <tr>\n",
       "      <th>median</th>\n",
       "      <td>12.000000</td>\n",
       "      <td>806.500000</td>\n",
       "      <td>16.000000</td>\n",
       "      <td>40.000000</td>\n",
       "    </tr>\n",
       "    <tr>\n",
       "      <th>mean</th>\n",
       "      <td>12.211842</td>\n",
       "      <td>862.935313</td>\n",
       "      <td>17.350011</td>\n",
       "      <td>42.431633</td>\n",
       "    </tr>\n",
       "    <tr>\n",
       "      <th>sem</th>\n",
       "      <td>0.020441</td>\n",
       "      <td>6.122404</td>\n",
       "      <td>0.119356</td>\n",
       "      <td>0.109915</td>\n",
       "    </tr>\n",
       "  </tbody>\n",
       "</table>\n",
       "</div>"
      ],
      "text/plain": [
       "        D2EducationLevelId  ServiceAmt sum  ServiceNum Total         age\n",
       "min               0.000000        0.000000          1.000000   20.000000\n",
       "max              18.000000     3475.000000         74.000000  100.000000\n",
       "median           12.000000      806.500000         16.000000   40.000000\n",
       "mean             12.211842      862.935313         17.350011   42.431633\n",
       "sem               0.020441        6.122404          0.119356    0.109915"
      ]
     },
     "execution_count": 380,
     "metadata": {},
     "output_type": "execute_result"
    }
   ],
   "source": [
    "AlL_ClientData.agg({'D2EducationLevelId': ['min', 'max', 'median', 'mean','sem'],'ServiceAmt sum': ['min', 'max', 'median', 'mean','sem'],\n",
    "                   'ServiceNum Total': ['min', 'max', 'median', 'mean','sem'],'age': ['min', 'max', 'median', 'mean','sem']})"
   ]
  },
  {
   "cell_type": "code",
   "execution_count": null,
   "metadata": {},
   "outputs": [],
   "source": [
    "AlL_ClientData['Ethnorace'].value_counts()\n"
   ]
  },
  {
   "cell_type": "code",
   "execution_count": null,
   "metadata": {},
   "outputs": [],
   "source": [
    "AlL_ClientData['Veteran'].value_counts()\n"
   ]
  },
  {
   "cell_type": "code",
   "execution_count": null,
   "metadata": {},
   "outputs": [],
   "source": [
    "AlL_ClientData['Gender'].value_counts()\n"
   ]
  },
  {
   "cell_type": "code",
   "execution_count": null,
   "metadata": {},
   "outputs": [],
   "source": []
  },
  {
   "cell_type": "code",
   "execution_count": 383,
   "metadata": {},
   "outputs": [
    {
     "data": {
      "text/html": [
       "<div>\n",
       "<style scoped>\n",
       "    .dataframe tbody tr th:only-of-type {\n",
       "        vertical-align: middle;\n",
       "    }\n",
       "\n",
       "    .dataframe tbody tr th {\n",
       "        vertical-align: top;\n",
       "    }\n",
       "\n",
       "    .dataframe thead th {\n",
       "        text-align: right;\n",
       "    }\n",
       "</style>\n",
       "<table border=\"1\" class=\"dataframe\">\n",
       "  <thead>\n",
       "    <tr style=\"text-align: right;\">\n",
       "      <th></th>\n",
       "      <th>E4CommitedCrime</th>\n",
       "      <th>D3EmploymentSituationId</th>\n",
       "      <th>B1cIllegalDrugs</th>\n",
       "    </tr>\n",
       "  </thead>\n",
       "  <tbody>\n",
       "    <tr>\n",
       "      <th>min</th>\n",
       "      <td>0.000000</td>\n",
       "      <td>0.000000</td>\n",
       "      <td>0.000000</td>\n",
       "    </tr>\n",
       "    <tr>\n",
       "      <th>max</th>\n",
       "      <td>400.000000</td>\n",
       "      <td>7.000000</td>\n",
       "      <td>30.000000</td>\n",
       "    </tr>\n",
       "    <tr>\n",
       "      <th>median</th>\n",
       "      <td>0.000000</td>\n",
       "      <td>3.000000</td>\n",
       "      <td>0.000000</td>\n",
       "    </tr>\n",
       "    <tr>\n",
       "      <th>mean</th>\n",
       "      <td>2.122286</td>\n",
       "      <td>2.733223</td>\n",
       "      <td>2.248430</td>\n",
       "    </tr>\n",
       "    <tr>\n",
       "      <th>sem</th>\n",
       "      <td>0.049014</td>\n",
       "      <td>0.011820</td>\n",
       "      <td>0.045057</td>\n",
       "    </tr>\n",
       "  </tbody>\n",
       "</table>\n",
       "</div>"
      ],
      "text/plain": [
       "        E4CommitedCrime  D3EmploymentSituationId  B1cIllegalDrugs\n",
       "min            0.000000                 0.000000         0.000000\n",
       "max          400.000000                 7.000000        30.000000\n",
       "median         0.000000                 3.000000         0.000000\n",
       "mean           2.122286                 2.733223         2.248430\n",
       "sem            0.049014                 0.011820         0.045057"
      ]
     },
     "execution_count": 383,
     "metadata": {},
     "output_type": "execute_result"
    }
   ],
   "source": [
    "final_SurveyData.agg({'E4CommitedCrime': ['min', 'max', 'median', 'mean','sem'],'D3EmploymentSituationId': ['min', 'max', 'median', 'mean','sem'],\n",
    "                   'B1cIllegalDrugs': ['min', 'max', 'median', 'mean','sem']})\n"
   ]
  },
  {
   "cell_type": "code",
   "execution_count": null,
   "metadata": {},
   "outputs": [],
   "source": []
  },
  {
   "cell_type": "code",
   "execution_count": null,
   "metadata": {},
   "outputs": [],
   "source": []
  },
  {
   "cell_type": "markdown",
   "metadata": {},
   "source": [
    "# # T test On Target Variebles"
   ]
  },
  {
   "cell_type": "code",
   "execution_count": 343,
   "metadata": {
    "scrolled": false
   },
   "outputs": [
    {
     "data": {
      "text/html": [
       "<div>\n",
       "<style scoped>\n",
       "    .dataframe tbody tr th:only-of-type {\n",
       "        vertical-align: middle;\n",
       "    }\n",
       "\n",
       "    .dataframe tbody tr th {\n",
       "        vertical-align: top;\n",
       "    }\n",
       "\n",
       "    .dataframe thead th {\n",
       "        text-align: right;\n",
       "    }\n",
       "</style>\n",
       "<table border=\"1\" class=\"dataframe\">\n",
       "  <thead>\n",
       "    <tr style=\"text-align: right;\">\n",
       "      <th></th>\n",
       "      <th>InterviewIntake</th>\n",
       "      <th>Gender</th>\n",
       "      <th>Ethnicity</th>\n",
       "      <th>Ethnorace</th>\n",
       "      <th>Veteran</th>\n",
       "      <th>C1LivingSituationId</th>\n",
       "      <th>D2EducationLevelId</th>\n",
       "      <th>D3EmploymentSituationId</th>\n",
       "      <th>B1aAlcohol</th>\n",
       "      <th>B1cIllegalDrugs</th>\n",
       "      <th>C2AddictionStressProblemId</th>\n",
       "      <th>C4AddictionEmotionalProblemId</th>\n",
       "      <th>E1TimesArrested</th>\n",
       "      <th>E4CommitedCrime</th>\n",
       "      <th>F5aDepression</th>\n",
       "      <th>F5bAnxiety</th>\n",
       "      <th>AgeGroup</th>\n",
       "      <th>ServiceAmt sum</th>\n",
       "      <th>ServiceNum Total</th>\n",
       "    </tr>\n",
       "  </thead>\n",
       "  <tbody>\n",
       "    <tr>\n",
       "      <th>0</th>\n",
       "      <td>Post</td>\n",
       "      <td>Female</td>\n",
       "      <td>Hispanic or Latino</td>\n",
       "      <td>Hispanic</td>\n",
       "      <td>unknwon</td>\n",
       "      <td>3</td>\n",
       "      <td>12</td>\n",
       "      <td>7</td>\n",
       "      <td>0</td>\n",
       "      <td>0</td>\n",
       "      <td>5</td>\n",
       "      <td>5</td>\n",
       "      <td>1</td>\n",
       "      <td>1</td>\n",
       "      <td>30</td>\n",
       "      <td>1</td>\n",
       "      <td>Young</td>\n",
       "      <td>NaN</td>\n",
       "      <td>NaN</td>\n",
       "    </tr>\n",
       "    <tr>\n",
       "      <th>1</th>\n",
       "      <td>Post</td>\n",
       "      <td>Female</td>\n",
       "      <td>Not Hispanic or Latino</td>\n",
       "      <td>White</td>\n",
       "      <td>unknwon</td>\n",
       "      <td>41</td>\n",
       "      <td>10</td>\n",
       "      <td>7</td>\n",
       "      <td>29</td>\n",
       "      <td>1</td>\n",
       "      <td>4</td>\n",
       "      <td>4</td>\n",
       "      <td>0</td>\n",
       "      <td>1</td>\n",
       "      <td>30</td>\n",
       "      <td>30</td>\n",
       "      <td>Middle_aged</td>\n",
       "      <td>NaN</td>\n",
       "      <td>NaN</td>\n",
       "    </tr>\n",
       "    <tr>\n",
       "      <th>2</th>\n",
       "      <td>Post</td>\n",
       "      <td>Female</td>\n",
       "      <td>Not Hispanic or Latino</td>\n",
       "      <td>White</td>\n",
       "      <td>unknwon</td>\n",
       "      <td>41</td>\n",
       "      <td>12</td>\n",
       "      <td>1</td>\n",
       "      <td>2</td>\n",
       "      <td>0</td>\n",
       "      <td>1</td>\n",
       "      <td>1</td>\n",
       "      <td>0</td>\n",
       "      <td>0</td>\n",
       "      <td>0</td>\n",
       "      <td>0</td>\n",
       "      <td>Middle_aged</td>\n",
       "      <td>NaN</td>\n",
       "      <td>NaN</td>\n",
       "    </tr>\n",
       "    <tr>\n",
       "      <th>3</th>\n",
       "      <td>Post</td>\n",
       "      <td>Male</td>\n",
       "      <td>Hispanic or Latino</td>\n",
       "      <td>unknwon</td>\n",
       "      <td>unknwon</td>\n",
       "      <td>41</td>\n",
       "      <td>12</td>\n",
       "      <td>7</td>\n",
       "      <td>0</td>\n",
       "      <td>0</td>\n",
       "      <td>5</td>\n",
       "      <td>5</td>\n",
       "      <td>0</td>\n",
       "      <td>0</td>\n",
       "      <td>6</td>\n",
       "      <td>14</td>\n",
       "      <td>Young</td>\n",
       "      <td>NaN</td>\n",
       "      <td>NaN</td>\n",
       "    </tr>\n",
       "    <tr>\n",
       "      <th>4</th>\n",
       "      <td>Post</td>\n",
       "      <td>Female</td>\n",
       "      <td>Hispanic or Latino</td>\n",
       "      <td>unknwon</td>\n",
       "      <td>unknwon</td>\n",
       "      <td>41</td>\n",
       "      <td>11</td>\n",
       "      <td>4</td>\n",
       "      <td>0</td>\n",
       "      <td>0</td>\n",
       "      <td>5</td>\n",
       "      <td>5</td>\n",
       "      <td>0</td>\n",
       "      <td>0</td>\n",
       "      <td>0</td>\n",
       "      <td>0</td>\n",
       "      <td>Old</td>\n",
       "      <td>NaN</td>\n",
       "      <td>NaN</td>\n",
       "    </tr>\n",
       "  </tbody>\n",
       "</table>\n",
       "</div>"
      ],
      "text/plain": [
       "  InterviewIntake  Gender               Ethnicity Ethnorace  Veteran  \\\n",
       "0            Post  Female      Hispanic or Latino  Hispanic  unknwon   \n",
       "1            Post  Female  Not Hispanic or Latino     White  unknwon   \n",
       "2            Post  Female  Not Hispanic or Latino     White  unknwon   \n",
       "3            Post    Male      Hispanic or Latino   unknwon  unknwon   \n",
       "4            Post  Female      Hispanic or Latino   unknwon  unknwon   \n",
       "\n",
       "  C1LivingSituationId D2EducationLevelId D3EmploymentSituationId B1aAlcohol  \\\n",
       "0                   3                 12                       7          0   \n",
       "1                  41                 10                       7         29   \n",
       "2                  41                 12                       1          2   \n",
       "3                  41                 12                       7          0   \n",
       "4                  41                 11                       4          0   \n",
       "\n",
       "  B1cIllegalDrugs C2AddictionStressProblemId C4AddictionEmotionalProblemId  \\\n",
       "0               0                          5                             5   \n",
       "1               1                          4                             4   \n",
       "2               0                          1                             1   \n",
       "3               0                          5                             5   \n",
       "4               0                          5                             5   \n",
       "\n",
       "  E1TimesArrested E4CommitedCrime F5aDepression F5bAnxiety     AgeGroup  \\\n",
       "0               1               1            30          1        Young   \n",
       "1               0               1            30         30  Middle_aged   \n",
       "2               0               0             0          0  Middle_aged   \n",
       "3               0               0             6         14        Young   \n",
       "4               0               0             0          0          Old   \n",
       "\n",
       "   ServiceAmt sum  ServiceNum Total  \n",
       "0             NaN               NaN  \n",
       "1             NaN               NaN  \n",
       "2             NaN               NaN  \n",
       "3             NaN               NaN  \n",
       "4             NaN               NaN  "
      ]
     },
     "execution_count": 343,
     "metadata": {},
     "output_type": "execute_result"
    }
   ],
   "source": [
    "final_SurveyData.head()"
   ]
  },
  {
   "cell_type": "markdown",
   "metadata": {},
   "source": [
    "### Getting mean,count,std of target variables"
   ]
  },
  {
   "cell_type": "code",
   "execution_count": 344,
   "metadata": {},
   "outputs": [],
   "source": [
    "final_SurveyData['B1cIllegalDrugs'] = final_SurveyData['B1cIllegalDrugs'].astype(float)\n"
   ]
  },
  {
   "cell_type": "code",
   "execution_count": 345,
   "metadata": {
    "scrolled": true
   },
   "outputs": [
    {
     "name": "stderr",
     "output_type": "stream",
     "text": [
      "C:\\Users\\shafa\\AppData\\Local\\Continuum\\anaconda3\\lib\\site-packages\\ipykernel_launcher.py:1: FutureWarning: using a dict on a Series for aggregation\n",
      "is deprecated and will be removed in a future version\n",
      "  \"\"\"Entry point for launching an IPython kernel.\n"
     ]
    },
    {
     "data": {
      "text/html": [
       "<div>\n",
       "<style scoped>\n",
       "    .dataframe tbody tr th:only-of-type {\n",
       "        vertical-align: middle;\n",
       "    }\n",
       "\n",
       "    .dataframe tbody tr th {\n",
       "        vertical-align: top;\n",
       "    }\n",
       "\n",
       "    .dataframe thead th {\n",
       "        text-align: right;\n",
       "    }\n",
       "</style>\n",
       "<table border=\"1\" class=\"dataframe\">\n",
       "  <thead>\n",
       "    <tr style=\"text-align: right;\">\n",
       "      <th></th>\n",
       "      <th>mean</th>\n",
       "      <th>count</th>\n",
       "      <th>stadard err</th>\n",
       "    </tr>\n",
       "    <tr>\n",
       "      <th>InterviewIntake</th>\n",
       "      <th></th>\n",
       "      <th></th>\n",
       "      <th></th>\n",
       "    </tr>\n",
       "  </thead>\n",
       "  <tbody>\n",
       "    <tr>\n",
       "      <th>Intake</th>\n",
       "      <td>3.200018</td>\n",
       "      <td>11384</td>\n",
       "      <td>0.07331</td>\n",
       "    </tr>\n",
       "    <tr>\n",
       "      <th>Post</th>\n",
       "      <td>1.255317</td>\n",
       "      <td>10908</td>\n",
       "      <td>0.04948</td>\n",
       "    </tr>\n",
       "  </tbody>\n",
       "</table>\n",
       "</div>"
      ],
      "text/plain": [
       "                     mean  count  stadard err\n",
       "InterviewIntake                              \n",
       "Intake           3.200018  11384      0.07331\n",
       "Post             1.255317  10908      0.04948"
      ]
     },
     "execution_count": 345,
     "metadata": {},
     "output_type": "execute_result"
    }
   ],
   "source": [
    "final_SurveyData.groupby('InterviewIntake').B1cIllegalDrugs.agg({'mean':'mean','count':'count','stadard err':'sem'})"
   ]
  },
  {
   "cell_type": "code",
   "execution_count": 346,
   "metadata": {},
   "outputs": [],
   "source": [
    "final_SurveyData['D3EmploymentSituationId'] = final_SurveyData['D3EmploymentSituationId'].astype(float)\n"
   ]
  },
  {
   "cell_type": "code",
   "execution_count": 347,
   "metadata": {},
   "outputs": [
    {
     "name": "stderr",
     "output_type": "stream",
     "text": [
      "C:\\Users\\shafa\\AppData\\Local\\Continuum\\anaconda3\\lib\\site-packages\\ipykernel_launcher.py:1: FutureWarning: using a dict on a Series for aggregation\n",
      "is deprecated and will be removed in a future version\n",
      "  \"\"\"Entry point for launching an IPython kernel.\n"
     ]
    },
    {
     "data": {
      "text/html": [
       "<div>\n",
       "<style scoped>\n",
       "    .dataframe tbody tr th:only-of-type {\n",
       "        vertical-align: middle;\n",
       "    }\n",
       "\n",
       "    .dataframe tbody tr th {\n",
       "        vertical-align: top;\n",
       "    }\n",
       "\n",
       "    .dataframe thead th {\n",
       "        text-align: right;\n",
       "    }\n",
       "</style>\n",
       "<table border=\"1\" class=\"dataframe\">\n",
       "  <thead>\n",
       "    <tr style=\"text-align: right;\">\n",
       "      <th></th>\n",
       "      <th>mean</th>\n",
       "      <th>count</th>\n",
       "      <th>stadard err</th>\n",
       "    </tr>\n",
       "    <tr>\n",
       "      <th>InterviewIntake</th>\n",
       "      <th></th>\n",
       "      <th></th>\n",
       "      <th></th>\n",
       "    </tr>\n",
       "  </thead>\n",
       "  <tbody>\n",
       "    <tr>\n",
       "      <th>Intake</th>\n",
       "      <td>2.792867</td>\n",
       "      <td>11384</td>\n",
       "      <td>0.015900</td>\n",
       "    </tr>\n",
       "    <tr>\n",
       "      <th>Post</th>\n",
       "      <td>2.670975</td>\n",
       "      <td>10908</td>\n",
       "      <td>0.017536</td>\n",
       "    </tr>\n",
       "  </tbody>\n",
       "</table>\n",
       "</div>"
      ],
      "text/plain": [
       "                     mean  count  stadard err\n",
       "InterviewIntake                              \n",
       "Intake           2.792867  11384     0.015900\n",
       "Post             2.670975  10908     0.017536"
      ]
     },
     "execution_count": 347,
     "metadata": {},
     "output_type": "execute_result"
    }
   ],
   "source": [
    "final_SurveyData.groupby('InterviewIntake').D3EmploymentSituationId.agg({'mean':'mean','count':'count','stadard err':'sem'})"
   ]
  },
  {
   "cell_type": "code",
   "execution_count": null,
   "metadata": {},
   "outputs": [],
   "source": []
  },
  {
   "cell_type": "code",
   "execution_count": 348,
   "metadata": {},
   "outputs": [],
   "source": [
    "final_SurveyData['E4CommitedCrime'] = final_SurveyData['E4CommitedCrime'].astype(float)\n"
   ]
  },
  {
   "cell_type": "code",
   "execution_count": 349,
   "metadata": {},
   "outputs": [
    {
     "name": "stderr",
     "output_type": "stream",
     "text": [
      "C:\\Users\\shafa\\AppData\\Local\\Continuum\\anaconda3\\lib\\site-packages\\ipykernel_launcher.py:1: FutureWarning: using a dict on a Series for aggregation\n",
      "is deprecated and will be removed in a future version\n",
      "  \"\"\"Entry point for launching an IPython kernel.\n"
     ]
    },
    {
     "data": {
      "text/html": [
       "<div>\n",
       "<style scoped>\n",
       "    .dataframe tbody tr th:only-of-type {\n",
       "        vertical-align: middle;\n",
       "    }\n",
       "\n",
       "    .dataframe tbody tr th {\n",
       "        vertical-align: top;\n",
       "    }\n",
       "\n",
       "    .dataframe thead th {\n",
       "        text-align: right;\n",
       "    }\n",
       "</style>\n",
       "<table border=\"1\" class=\"dataframe\">\n",
       "  <thead>\n",
       "    <tr style=\"text-align: right;\">\n",
       "      <th></th>\n",
       "      <th>mean</th>\n",
       "      <th>count</th>\n",
       "      <th>stadard err</th>\n",
       "    </tr>\n",
       "    <tr>\n",
       "      <th>InterviewIntake</th>\n",
       "      <th></th>\n",
       "      <th></th>\n",
       "      <th></th>\n",
       "    </tr>\n",
       "  </thead>\n",
       "  <tbody>\n",
       "    <tr>\n",
       "      <th>Intake</th>\n",
       "      <td>2.985506</td>\n",
       "      <td>11384</td>\n",
       "      <td>0.074198</td>\n",
       "    </tr>\n",
       "    <tr>\n",
       "      <th>Post</th>\n",
       "      <td>1.221397</td>\n",
       "      <td>10908</td>\n",
       "      <td>0.062386</td>\n",
       "    </tr>\n",
       "  </tbody>\n",
       "</table>\n",
       "</div>"
      ],
      "text/plain": [
       "                     mean  count  stadard err\n",
       "InterviewIntake                              \n",
       "Intake           2.985506  11384     0.074198\n",
       "Post             1.221397  10908     0.062386"
      ]
     },
     "execution_count": 349,
     "metadata": {},
     "output_type": "execute_result"
    }
   ],
   "source": [
    "final_SurveyData.groupby('InterviewIntake').E4CommitedCrime.agg({'mean':'mean','count':'count','stadard err':'sem'})"
   ]
  },
  {
   "cell_type": "code",
   "execution_count": 350,
   "metadata": {},
   "outputs": [
    {
     "data": {
      "text/plain": [
       "InterviewIntake\n",
       "Intake    11384\n",
       "Post      10908\n",
       "Name: E4CommitedCrime, dtype: int64"
      ]
     },
     "execution_count": 350,
     "metadata": {},
     "output_type": "execute_result"
    }
   ],
   "source": [
    "final_SurveyData.groupby([\"InterviewIntake\"])[\"E4CommitedCrime\"].count()\n"
   ]
  },
  {
   "cell_type": "code",
   "execution_count": 351,
   "metadata": {},
   "outputs": [],
   "source": [
    "drug_Used_Intake = final_SurveyData.loc[final_SurveyData['InterviewIntake'] == 'Intake', 'B1cIllegalDrugs']\n",
    "drug_Used_Post = final_SurveyData.loc[final_SurveyData['InterviewIntake'] == 'Post', 'B1cIllegalDrugs']\n",
    "\n",
    "EmploymentSituation_Intake = final_SurveyData.loc[final_SurveyData['InterviewIntake'] == 'Intake', 'D3EmploymentSituationId']\n",
    "EmploymentSituation_Post = final_SurveyData.loc[final_SurveyData['InterviewIntake'] == 'Post', 'D3EmploymentSituationId']\n",
    "\n",
    "CommitedCrime_Intake = final_SurveyData.loc[final_SurveyData['InterviewIntake'] == 'Intake', 'E4CommitedCrime']\n",
    "CommitedCrime_Post = final_SurveyData.loc[final_SurveyData['InterviewIntake'] == 'Post', 'E4CommitedCrime']\n"
   ]
  },
  {
   "cell_type": "markdown",
   "metadata": {},
   "source": [
    "### t test for drug use in 30 days"
   ]
  },
  {
   "cell_type": "code",
   "execution_count": 352,
   "metadata": {},
   "outputs": [],
   "source": [
    "from scipy import stats as st\n",
    "from statsmodels.stats.weightstats import ttest_ind"
   ]
  },
  {
   "cell_type": "code",
   "execution_count": null,
   "metadata": {},
   "outputs": [],
   "source": []
  },
  {
   "cell_type": "code",
   "execution_count": 353,
   "metadata": {},
   "outputs": [],
   "source": [
    "ttest1= ttest_ind(drug_Used_Intake,drug_Used_Post)"
   ]
  },
  {
   "cell_type": "code",
   "execution_count": 354,
   "metadata": {},
   "outputs": [
    {
     "data": {
      "text/plain": [
       "(21.80405591990353, 2.613033094265204e-104, 22290.0)"
      ]
     },
     "execution_count": 354,
     "metadata": {},
     "output_type": "execute_result"
    }
   ],
   "source": [
    "ttest1"
   ]
  },
  {
   "cell_type": "code",
   "execution_count": null,
   "metadata": {},
   "outputs": [],
   "source": []
  },
  {
   "cell_type": "markdown",
   "metadata": {},
   "source": [
    "### t test for employment Situation in 30 days"
   ]
  },
  {
   "cell_type": "code",
   "execution_count": 355,
   "metadata": {},
   "outputs": [],
   "source": [
    "ttest2= ttest_ind(EmploymentSituation_Intake,EmploymentSituation_Post)"
   ]
  },
  {
   "cell_type": "code",
   "execution_count": 356,
   "metadata": {},
   "outputs": [
    {
     "data": {
      "text/plain": [
       "(5.157732025121648, 2.520974112076615e-07, 22290.0)"
      ]
     },
     "execution_count": 356,
     "metadata": {},
     "output_type": "execute_result"
    }
   ],
   "source": [
    "ttest2"
   ]
  },
  {
   "cell_type": "code",
   "execution_count": null,
   "metadata": {},
   "outputs": [],
   "source": []
  },
  {
   "cell_type": "markdown",
   "metadata": {},
   "source": [
    "### t test for crime commited in 30 days"
   ]
  },
  {
   "cell_type": "code",
   "execution_count": 357,
   "metadata": {},
   "outputs": [],
   "source": [
    "ttest3= ttest_ind(CommitedCrime_Intake,CommitedCrime_Post)"
   ]
  },
  {
   "cell_type": "code",
   "execution_count": 358,
   "metadata": {},
   "outputs": [
    {
     "data": {
      "text/plain": [
       "(18.123448421525264, 6.948798930120578e-73, 22290.0)"
      ]
     },
     "execution_count": 358,
     "metadata": {},
     "output_type": "execute_result"
    }
   ],
   "source": [
    "ttest3"
   ]
  },
  {
   "cell_type": "code",
   "execution_count": null,
   "metadata": {},
   "outputs": [],
   "source": []
  },
  {
   "cell_type": "code",
   "execution_count": null,
   "metadata": {},
   "outputs": [],
   "source": []
  }
 ],
 "metadata": {
  "kernelspec": {
   "display_name": "Python 3",
   "language": "python",
   "name": "python3"
  },
  "language_info": {
   "codemirror_mode": {
    "name": "ipython",
    "version": 3
   },
   "file_extension": ".py",
   "mimetype": "text/x-python",
   "name": "python",
   "nbconvert_exporter": "python",
   "pygments_lexer": "ipython3",
   "version": "3.7.0"
  }
 },
 "nbformat": 4,
 "nbformat_minor": 2
}
